{
 "cells": [
  {
   "cell_type": "markdown",
   "id": "fd2b1168",
   "metadata": {
    "toc": true
   },
   "source": [
    "<h1>Table of Contents<span class=\"tocSkip\"></span></h1>\n",
    "<div class=\"toc\"><ul class=\"toc-item\"><li><span><a href=\"#Chapter-4---Elements-of-Algebraic-Graph-Theory\" data-toc-modified-id=\"Chapter-4---Elements-of-Algebraic-Graph-Theory-1\">Chapter 4 - Elements of Algebraic Graph Theory</a></span></li><li><span><a href=\"#4.1-The-adjacency-matrix\" data-toc-modified-id=\"4.1-The-adjacency-matrix-2\">4.1 The adjacency matrix</a></span><ul class=\"toc-item\"><li><ul class=\"toc-item\"><li><span><a href=\"#Basic-Graphs,-their-Adjacency-Matrix-and-Spectrum-(Table-4.1)\" data-toc-modified-id=\"Basic-Graphs,-their-Adjacency-Matrix-and-Spectrum-(Table-4.1)-2.0.1\">Basic Graphs, their Adjacency Matrix and Spectrum (Table 4.1)</a></span></li></ul></li><li><span><a href=\"#4.3.2-Connectivity-and-adjacency-powers\" data-toc-modified-id=\"4.3.2-Connectivity-and-adjacency-powers-2.1\">4.3.2 Connectivity and adjacency powers</a></span></li><li><span><a href=\"#4.4.-Graph-theoretical-characterization-of-primitive-matrices\" data-toc-modified-id=\"4.4.-Graph-theoretical-characterization-of-primitive-matrices-2.2\">4.4. Graph theoretical characterization of primitive matrices</a></span></li></ul></li></ul></div>"
   ]
  },
  {
   "cell_type": "code",
   "execution_count": 1,
   "id": "dfe65cd4",
   "metadata": {},
   "outputs": [],
   "source": [
    "%matplotlib widget\n",
    "\n",
    "# Import packages\n",
    "import numpy as np\n",
    "import matplotlib.pyplot as plt\n",
    "import networkx as nx\n",
    "import sys, os\n",
    "from matplotlib.colors import ListedColormap\n",
    "# For interactive graphs\n",
    "import ipywidgets as widgets\n",
    "\n",
    "# Import self defined functions\n",
    "#import ch1_lib  # Chapter 1 specific library\n",
    "sys.path.insert(1, os.path.join(sys.path[0], '..'))  # Need to call this for importing library from parent folder\n",
    "import lib  # General library\n",
    "\n",
    "# Settings\n",
    "custom_figsize= (6, 4) # Might need to change this value to fit the figures to your screen\n",
    "custom_figsize_square = (5, 5) "
   ]
  },
  {
   "cell_type": "markdown",
   "id": "dc9cf440",
   "metadata": {},
   "source": [
    "Chapter 4:\n",
    "- Figure 4.5: code to generate the adjacency matrix of a grid graph and compute its spectral radius\n",
    "- simulate/visualize the evolution of the Leslie population model in E4.14"
   ]
  },
  {
   "cell_type": "markdown",
   "id": "6b9bebd2",
   "metadata": {},
   "source": [
    "# Chapter 4 - Elements of Algebraic Graph Theory\n",
    "These Jupyter Notebook scripts contain some examples, visualization and supplements accompanying the book \"Lectures on Network Systems\" by Francesco Bullo http://motion.me.ucsb.edu/book-lns/. These scripts are published with the MIT license. **Make sure to run the first cell above to import all necessary packages and functions and adapt settings in case.** In this script it is necessary to execute cell by cell chronologically due to reocurring examples (Tip: Use the shortcut Shift+Enter to execute each cell). Most of the functions are kept in separate files to keep this script neat."
   ]
  },
  {
   "cell_type": "markdown",
   "id": "50060a77",
   "metadata": {},
   "source": [
    "# 4.1 The adjacency matrix\n",
    "First it is shown how to access the weighted adjacency matrix for the example in the script, when the graph is already created in NetworkX:"
   ]
  },
  {
   "cell_type": "code",
   "execution_count": 2,
   "id": "36db0bcb",
   "metadata": {},
   "outputs": [
    {
     "data": {
      "application/vnd.jupyter.widget-view+json": {
       "model_id": "6dd3a5b14867451aaac9be1db59d10e8",
       "version_major": 2,
       "version_minor": 0
      },
      "text/plain": [
       "Canvas(toolbar=Toolbar(toolitems=[('Home', 'Reset original view', 'home', 'home'), ('Back', 'Back to previous …"
      ]
     },
     "metadata": {},
     "output_type": "display_data"
    },
    {
     "name": "stdout",
     "output_type": "stream",
     "text": [
      "Adjacency Matrix determined by Networkx:\n",
      "|    0  3.7  2.6    0    0  |\n",
      "|  8.9    0    0  1.2    0  |\n",
      "|    0    0    0  1.9  2.3  |\n",
      "|    0    0    0    0    0  |\n",
      "|  4.4    0    0  2.7  4.4  |\n"
     ]
    }
   ],
   "source": [
    "# Digraph Example from section 3.5 with weights, self_loops etc.\n",
    "G_di = nx.DiGraph()\n",
    "edges = [(1,2), (2,1), (2,4), (1,3), (3,5), (5,1), (5,5), (3,4), (5,4)]\n",
    "weights = [3.7, 8.9, 1.2, 2.6, 2.3, 4.4, 4.4, 1.9, 2.7]\n",
    "for edge, weight in zip(edges, weights):\n",
    "    G_di.add_edge(*edge, weight=weight)\n",
    "pos_di = {1:[0.1,0.2],2:[.4,.5],3:[.5,.2],4:[.8,.5], 5:[.9,.2]}  # Define position of nodes in digraph plot\n",
    "\n",
    "# Plot first digraph again with weights visualization from section 3.5\n",
    "fig, ax41 = plt.subplots(figsize=custom_figsize)\n",
    "nx.draw_networkx(G_di, node_size=100, ax=ax41, pos=pos_di, connectionstyle='arc3, rad = 0.1')\n",
    "labels = nx.get_edge_attributes(G_di,'weight')\n",
    "nx.draw_networkx_edge_labels(G_di,pos=pos_di,edge_labels=labels, label_pos=0.2)\n",
    "\n",
    "# This will always result in a sparse matrix, nodelist argument important to keep order of nodes\n",
    "A_di = nx.linalg.graphmatrix.adjacency_matrix(G_di, nodelist=range(1, G_di.number_of_nodes()+1)).toarray()\n",
    "print(\"Adjacency Matrix determined by Networkx:\")\n",
    "lib.matprint(A_di)"
   ]
  },
  {
   "cell_type": "markdown",
   "id": "58d1da3b",
   "metadata": {},
   "source": [
    "### Basic Graphs, their Adjacency Matrix and Spectrum (Table 4.1)\n",
    "\n",
    "Below are further basic graphs and their adjacency matrix and their positive matrix entries in a binary representation similar to Figure 4.2. Further on, the spectrum is plotted an can be compared with the given formula in Table 4.1."
   ]
  },
  {
   "cell_type": "code",
   "execution_count": 3,
   "id": "522e3d5a",
   "metadata": {},
   "outputs": [],
   "source": [
    "n = 6\n",
    "# Path Graph\n",
    "G_path = nx.path_graph(n)\n",
    "# Cycle Graph\n",
    "G_cycle = nx.cycle_graph(n)\n",
    "# Star Graph\n",
    "G_star = nx.star_graph(n-1)\n",
    "# Complete Graph\n",
    "G_complete = nx.complete_graph(n)\n",
    "# Complete bipartite Graph\n",
    "G_bipartite = nx.complete_bipartite_graph(n//2, n//2)\n",
    "\n",
    "all_basic_graphs = {\n",
    "    \"Path Graph\": G_path,\n",
    "    \"Cycle Graph\": G_cycle,\n",
    "    \"Star Graph\":G_star,\n",
    "    \"Complete Graph\": G_complete,\n",
    "    \"Complete bipartite Graph\": G_bipartite,\n",
    "    }\n",
    "spectrums = [\"$\\{2 cos(\\pi i/(n + 1)) | i ∈ \\{1, . . . , n\\}\\}$\",\n",
    "             \"$\\{2 cos(2\\pi i/n)) | i ∈ \\{1, . . . , n\\}\\}$\",\n",
    "             \"$\\{ \\sqrt{n − 1}, 0, . . . , 0, − \\sqrt{n − 1}\\}$\",\n",
    "             \"$\\{(n − 1), −1, . . . , −1\\}$\",\n",
    "             \"$\\{\\sqrt{nm}, 0, . . . , 0, − \\sqrt{nm}\\}$\"]\n",
    "\n",
    "def plot_matrix_binary(M, ax, name=''):\n",
    "    blue_map = ListedColormap([\"blue\", \"white\"])\n",
    "    zeros =  M == 0\n",
    "    im = ax.imshow(zeros, cmap=blue_map)\n",
    "    ax.set_xticks([])\n",
    "    ax.set_yticks([])"
   ]
  },
  {
   "cell_type": "code",
   "execution_count": 4,
   "id": "678be351",
   "metadata": {},
   "outputs": [
    {
     "data": {
      "application/vnd.jupyter.widget-view+json": {
       "model_id": "7eff5abaf57a445c9539202bc42df9d1",
       "version_major": 2,
       "version_minor": 0
      },
      "text/plain": [
       "Canvas(toolbar=Toolbar(toolitems=[('Home', 'Reset original view', 'home', 'home'), ('Back', 'Back to previous …"
      ]
     },
     "metadata": {},
     "output_type": "display_data"
    }
   ],
   "source": [
    "# Plotting the graph itself, the binary adjacency matrix visualization with the actual values written inside\n",
    "fig, axs412 = plt.subplots(len(all_basic_graphs), 3, figsize=(custom_figsize[0]*1.2, custom_figsize[1]*3))\n",
    "for count, (key, graph) in enumerate(all_basic_graphs.items()):\n",
    "    if key == \"Complete bipartite Graph\":\n",
    "        nx.draw_networkx(graph, node_size=100, ax=axs412[count, 0], pos=nx.drawing.layout.bipartite_layout(graph, list(range(0, n//2))))\n",
    "    else:\n",
    "        nx.draw_networkx(graph, node_size=100, ax=axs412[count, 0], connectionstyle='arc3, rad = 0.1')\n",
    "    A = nx.linalg.graphmatrix.adjacency_matrix(graph, nodelist=range(0, graph.number_of_nodes())).toarray()\n",
    "    plot_matrix_binary(A, axs412[count, 1])\n",
    "    axs412[count, 0].set_xlabel(key)\n",
    "    lib.plot_spectrum(A, axs412[count, 2]);\n",
    "    axs412[count, 2].set(title=spectrums[count])\n",
    "fig.subplots_adjust(hspace=0.5)"
   ]
  },
  {
   "cell_type": "markdown",
   "id": "dc63668d",
   "metadata": {},
   "source": [
    "## 4.3.2 Connectivity and adjacency powers\n",
    "In this little example we want to see Lemma 4.4 for the given graph in numbers. The graph is already defined in this Jupyter Notebook script at section 4.1. Since Node 4 of $G$ is globally reachable, we expect the 4th column of the sum of matrix powers $\\sum_{k=0}^{n-1} A^k$ to be positive."
   ]
  },
  {
   "cell_type": "code",
   "execution_count": 5,
   "id": "9ce50439",
   "metadata": {},
   "outputs": [],
   "source": [
    "def sum_of_powers(M, n):\n",
    "    \"\"\"Returns the sum of the [0,n) powers of M\"\"\"\n",
    "    result = np.zeros(M.shape)\n",
    "    for i in range(n):\n",
    "        result += np.linalg.matrix_power(M, i)\n",
    "    return result\n",
    "\n",
    "def is_irreducible(M):\n",
    "    \"\"\"Returns whether or not given square, positive matrix is irreducible\"\"\"\n",
    "    Mk = sum_of_powers(M, M.shape[0])\n",
    "    return not np.any(Mk == 0)\n",
    "\n",
    "def is_node_globally_reachable(M, i):\n",
    "    \"\"\"Returns whether or not given node in given square, positive matrix is globally reachable\"\"\"\n",
    "    power_sum = sum_of_powers(M, M.shape[0])\n",
    "    return not np.any(power_sum[:,i] == 0) \n",
    "\n",
    "def is_primitive(M):\n",
    "    \"\"\"\n",
    "    Returns whether of not a given square is primitive\n",
    "    \n",
    "    Corollary 8.5.8 in Horn & Johnson, Matrix Analysis:\n",
    "    Let A be an n×n non-negative matrix. Then A is primitive if and only if A^(n2−2n+2) has only positive entries.\n",
    "    \"\"\"\n",
    "    n = M.shape[0]\n",
    "    return not np.any(np.linalg.matrix_power(M, n**2-2*n+2) == 0)\n",
    "\n",
    "def draw_adj_matrix(A, ax):\n",
    "    G = nx.DiGraph()\n",
    "    for i in range(len(A)):\n",
    "        for j in range(len(A[i])):\n",
    "            if(A[i,j]):\n",
    "                G.add_edge(i,j)\n",
    "    nx.draw_networkx(G, node_size=100, ax=ax, connectionstyle='arc3, rad = 0.1')\n"
   ]
  },
  {
   "cell_type": "code",
   "execution_count": 6,
   "id": "78376f60",
   "metadata": {},
   "outputs": [
    {
     "name": "stdout",
     "output_type": "stream",
     "text": [
      "4th column is positive, since it is the only globally reachable node:\n",
      "|   60.242  125.541  88.218   25.526   32.292  |\n",
      "|  301.977    33.93   23.14   84.682   53.222  |\n",
      "|   54.648   37.444  27.312   35.434   56.948  |\n",
      "|        0        0       0        1        0  |\n",
      "|  253.836   87.912  61.776  108.124  136.256  |\n"
     ]
    }
   ],
   "source": [
    "n = np.size(A_di, 1)\n",
    "p = 1.0/3\n",
    "A_di_sum_of_powers = sum_of_powers(A_di, n-1)\n",
    "print(\"4th column is positive, since it is the only globally reachable node:\")\n",
    "lib.matprint(A_di_sum_of_powers)"
   ]
  },
  {
   "cell_type": "markdown",
   "id": "b1447473",
   "metadata": {},
   "source": [
    "## 4.4. Graph theoretical characterization of primitive matrices\n",
    "\n",
    "In this section we want to show pixel pictures of different matrix powers similar to figure 4.3. Remember, that (i) $G$ is strongly connected and aperiodic and (ii) $A$ is primitive are equivilant statements. We generate random examples by building the adjacency matrix first."
   ]
  },
  {
   "cell_type": "code",
   "execution_count": 16,
   "id": "d3ce6775",
   "metadata": {},
   "outputs": [],
   "source": [
    "# Choose size of matrices here\n",
    "n = 6\n",
    "\n",
    "def plot_graph_and_matrix_powers(A, npwr=None):\n",
    "    \"\"\" Function to visualize graph and matrix power of given matrix A only used in this Jupyter Notebook\"\"\"\n",
    "    if npwr is None:\n",
    "        npwr = A.shape[0]\n",
    "    fig, ax = plt.subplots(figsize=custom_figsize)\n",
    "    fig, axs = plt.subplots(1, npwr, figsize=(custom_figsize[0]*1.5, custom_figsize[1]/2))\n",
    "\n",
    "    draw_adj_matrix(A, ax)\n",
    "\n",
    "    for i in range(npwr):\n",
    "        plot_matrix_binary(np.linalg.matrix_power(A, i+1), ax=axs[i])\n",
    "        axs[i].set(title='${}^{{{}}}$'.format(\"M\", i+1))"
   ]
  },
  {
   "cell_type": "markdown",
   "id": "75035852",
   "metadata": {},
   "source": [
    "**Random Primitive Adjacency Matrix Example**"
   ]
  },
  {
   "cell_type": "code",
   "execution_count": 17,
   "id": "9052b441",
   "metadata": {},
   "outputs": [],
   "source": [
    "# Randomly generate primitive matrix\n",
    "A_rand_prim = np.zeros((n, n))\n",
    "while(not is_primitive(A_rand_prim)):\n",
    "    A_rand_prim = np.random.choice([0, 1], size=(n,n), p=[1-p, p])"
   ]
  },
  {
   "cell_type": "code",
   "execution_count": 18,
   "id": "701b1496",
   "metadata": {},
   "outputs": [
    {
     "data": {
      "application/vnd.jupyter.widget-view+json": {
       "model_id": "1cb26b0b63c143d4b37bf5aaa53c2cc1",
       "version_major": 2,
       "version_minor": 0
      },
      "text/plain": [
       "Canvas(toolbar=Toolbar(toolitems=[('Home', 'Reset original view', 'home', 'home'), ('Back', 'Back to previous …"
      ]
     },
     "metadata": {},
     "output_type": "display_data"
    },
    {
     "data": {
      "application/vnd.jupyter.widget-view+json": {
       "model_id": "afa771333504410abafbdd1b0bf10de9",
       "version_major": 2,
       "version_minor": 0
      },
      "text/plain": [
       "Canvas(toolbar=Toolbar(toolitems=[('Home', 'Reset original view', 'home', 'home'), ('Back', 'Back to previous …"
      ]
     },
     "metadata": {},
     "output_type": "display_data"
    }
   ],
   "source": [
    "plot_graph_and_matrix_powers(A_rand_prim, npwr=n)"
   ]
  },
  {
   "cell_type": "markdown",
   "id": "dfe7cd49",
   "metadata": {},
   "source": [
    "**Random Irreducible  not Primitive Adjacency Matrix Example**\n",
    "\n",
    "Note: Sometimes can take some time to generate a irreducible, but not positive matrix!"
   ]
  },
  {
   "cell_type": "code",
   "execution_count": 19,
   "id": "9d9ea80e",
   "metadata": {},
   "outputs": [],
   "source": [
    "# Randomly generate irreducible, but not positive, matrix\n",
    "A_rand_irr = np.zeros((n, n))\n",
    "while(not is_irreducible(A_rand_irr) or is_primitive(A_rand_irr)):\n",
    "    A_rand_irr = np.random.choice([0, 1], size=(n,n), p=[1-p, p])"
   ]
  },
  {
   "cell_type": "code",
   "execution_count": 20,
   "id": "dd2da387",
   "metadata": {},
   "outputs": [
    {
     "data": {
      "application/vnd.jupyter.widget-view+json": {
       "model_id": "34f6ede3c7a845b4b5c7894d43052c38",
       "version_major": 2,
       "version_minor": 0
      },
      "text/plain": [
       "Canvas(toolbar=Toolbar(toolitems=[('Home', 'Reset original view', 'home', 'home'), ('Back', 'Back to previous …"
      ]
     },
     "metadata": {},
     "output_type": "display_data"
    },
    {
     "data": {
      "application/vnd.jupyter.widget-view+json": {
       "model_id": "6dfd90071f5d41d49d0fa88bb568baeb",
       "version_major": 2,
       "version_minor": 0
      },
      "text/plain": [
       "Canvas(toolbar=Toolbar(toolitems=[('Home', 'Reset original view', 'home', 'home'), ('Back', 'Back to previous …"
      ]
     },
     "metadata": {},
     "output_type": "display_data"
    }
   ],
   "source": [
    "plot_graph_and_matrix_powers(A_rand_irr, npwr=2*n)"
   ]
  },
  {
   "cell_type": "markdown",
   "id": "3fcf9619",
   "metadata": {},
   "source": [
    "**Random Reducible Matrix Example**"
   ]
  },
  {
   "cell_type": "code",
   "execution_count": 21,
   "id": "5f5b34ee",
   "metadata": {},
   "outputs": [],
   "source": [
    "# Randomly generate reducible adjacency matrix\n",
    "A_rand_red = np.random.choice([0, 1], size=(n,n), p=[1-p, p])\n",
    "while(is_irreducible(A_rand_red)):\n",
    "    A_rand_red = np.random.choice([0, 1], size=(n,n), p=[1-p, p])"
   ]
  },
  {
   "cell_type": "code",
   "execution_count": 22,
   "id": "5eff3509",
   "metadata": {},
   "outputs": [
    {
     "data": {
      "application/vnd.jupyter.widget-view+json": {
       "model_id": "f21bcf5cd08e44eabd735b64d6589d58",
       "version_major": 2,
       "version_minor": 0
      },
      "text/plain": [
       "Canvas(toolbar=Toolbar(toolitems=[('Home', 'Reset original view', 'home', 'home'), ('Back', 'Back to previous …"
      ]
     },
     "metadata": {},
     "output_type": "display_data"
    },
    {
     "data": {
      "application/vnd.jupyter.widget-view+json": {
       "model_id": "d820f449021644c9bfbbabca01f0ab12",
       "version_major": 2,
       "version_minor": 0
      },
      "text/plain": [
       "Canvas(toolbar=Toolbar(toolitems=[('Home', 'Reset original view', 'home', 'home'), ('Back', 'Back to previous …"
      ]
     },
     "metadata": {},
     "output_type": "display_data"
    }
   ],
   "source": [
    "plot_graph_and_matrix_powers(A_rand_red, npwr=2*n)"
   ]
  },
  {
   "cell_type": "code",
   "execution_count": null,
   "id": "bdf741ef",
   "metadata": {},
   "outputs": [],
   "source": []
  }
 ],
 "metadata": {
  "kernelspec": {
   "display_name": "Python 3 (ipykernel)",
   "language": "python",
   "name": "python3"
  },
  "language_info": {
   "codemirror_mode": {
    "name": "ipython",
    "version": 3
   },
   "file_extension": ".py",
   "mimetype": "text/x-python",
   "name": "python",
   "nbconvert_exporter": "python",
   "pygments_lexer": "ipython3",
   "version": "3.8.11"
  },
  "toc": {
   "base_numbering": 1,
   "nav_menu": {},
   "number_sections": false,
   "sideBar": true,
   "skip_h1_title": false,
   "title_cell": "Table of Contents",
   "title_sidebar": "Contents",
   "toc_cell": true,
   "toc_position": {},
   "toc_section_display": true,
   "toc_window_display": false
  }
 },
 "nbformat": 4,
 "nbformat_minor": 5
}
