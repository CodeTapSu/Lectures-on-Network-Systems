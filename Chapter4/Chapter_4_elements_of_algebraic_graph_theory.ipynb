{
 "cells": [
  {
   "cell_type": "code",
   "execution_count": 19,
   "id": "aa6c94c2",
   "metadata": {},
   "outputs": [],
   "source": [
    "import numpy as np\n",
    "\n",
    "def matprint(mat, fmt=\"g\"):\n",
    "    col_maxes = [max([len((\"{:\"+fmt+\"}\").format(x)) for x in col]) for col in mat.T]\n",
    "    for x in mat:\n",
    "        for i, y in enumerate(x):\n",
    "            print((\"{:\"+str(col_maxes[i])+fmt+\"}\").format(y), end=\"  \")\n",
    "        print(\"\")"
   ]
  },
  {
   "cell_type": "code",
   "execution_count": 20,
   "id": "2cc10af0",
   "metadata": {},
   "outputs": [],
   "source": [
    "A = np.array(\n",
    "    [\n",
    "        [0.0, 3.7, 2.6, 0.0, 0.0],\n",
    "        [8.9, 0.0, 0.0, 1.2, 0.0],\n",
    "        [0.0, 0.0, 0.0, 1.9, 2.3],\n",
    "        [0.0, 0.0, 0.0, 0.0, 0.0],\n",
    "        [4.4, 0.0, 0.0, 2.7, 4.4]\n",
    "    ]\n",
    ")\n",
    "\n",
    "k = 2\n",
    "n = np.size(A, 1)"
   ]
  },
  {
   "cell_type": "code",
   "execution_count": 21,
   "id": "1d232591",
   "metadata": {},
   "outputs": [
    {
     "data": {
      "text/plain": [
       "array([[32.93,  0.  ,  0.  ,  9.38,  5.98],\n",
       "       [ 0.  , 32.93, 23.14,  0.  ,  0.  ],\n",
       "       [10.12,  0.  ,  0.  ,  6.21, 10.12],\n",
       "       [ 0.  ,  0.  ,  0.  ,  0.  ,  0.  ],\n",
       "       [19.36, 16.28, 11.44, 11.88, 19.36]])"
      ]
     },
     "execution_count": 21,
     "metadata": {},
     "output_type": "execute_result"
    }
   ],
   "source": [
    "np.linalg.matrix_power(A, 2)"
   ]
  },
  {
   "cell_type": "code",
   "execution_count": 22,
   "id": "14a75fc7",
   "metadata": {},
   "outputs": [
    {
     "name": "stdout",
     "output_type": "stream",
     "text": [
      " 1260.4  222.895  156.629  405.452  344.986  \n",
      "536.154  1118.31   785.14  228.381  287.399  \n",
      "583.823  202.198  143.085  250.585  313.389  \n",
      "      0        0        0        1        0  \n",
      "1381.94  939.193  659.974   590.76  742.611  \n"
     ]
    }
   ],
   "source": [
    "matrix_pwr_sum = np.zeros((5,5))\n",
    "for ii in range(n):\n",
    "    matrix_pwr_sum += np.linalg.matrix_power(A, ii)\n",
    "matprint(matrix_pwr_sum)"
   ]
  },
  {
   "cell_type": "code",
   "execution_count": 13,
   "id": "701b1496",
   "metadata": {},
   "outputs": [
    {
     "data": {
      "text/plain": [
       "5"
      ]
     },
     "execution_count": 13,
     "metadata": {},
     "output_type": "execute_result"
    }
   ],
   "source": [
    "n"
   ]
  },
  {
   "cell_type": "code",
   "execution_count": null,
   "id": "8e42d2e8",
   "metadata": {},
   "outputs": [],
   "source": []
  }
 ],
 "metadata": {
  "kernelspec": {
   "display_name": "Python 3 (ipykernel)",
   "language": "python",
   "name": "python3"
  },
  "language_info": {
   "codemirror_mode": {
    "name": "ipython",
    "version": 3
   },
   "file_extension": ".py",
   "mimetype": "text/x-python",
   "name": "python",
   "nbconvert_exporter": "python",
   "pygments_lexer": "ipython3",
   "version": "3.8.11"
  }
 },
 "nbformat": 4,
 "nbformat_minor": 5
}
