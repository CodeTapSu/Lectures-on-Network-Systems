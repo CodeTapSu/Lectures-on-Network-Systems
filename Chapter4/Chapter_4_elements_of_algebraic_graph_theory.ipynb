{
 "cells": [
  {
   "cell_type": "markdown",
   "id": "fd2b1168",
   "metadata": {
    "toc": true
   },
   "source": [
    "<h1>Table of Contents<span class=\"tocSkip\"></span></h1>\n",
    "<div class=\"toc\"><ul class=\"toc-item\"><li><span><a href=\"#Chapter-4---Elements-of-Algebraic-Graph-Theory\" data-toc-modified-id=\"Chapter-4---Elements-of-Algebraic-Graph-Theory-1\">Chapter 4 - Elements of Algebraic Graph Theory</a></span></li><li><span><a href=\"#4.1-The-adjacency-matrix\" data-toc-modified-id=\"4.1-The-adjacency-matrix-2\">4.1 The adjacency matrix</a></span></li></ul></div>"
   ]
  },
  {
   "cell_type": "code",
   "execution_count": 2,
   "id": "dfe65cd4",
   "metadata": {},
   "outputs": [],
   "source": [
    "%matplotlib widget\n",
    "\n",
    "# Import packages\n",
    "import numpy as np\n",
    "import matplotlib.pyplot as plt\n",
    "import networkx as nx\n",
    "import sys, os\n",
    "# For interactive graphs\n",
    "import ipywidgets as widgets\n",
    "\n",
    "# Import self defined functions\n",
    "#import ch1_lib  # Chapter 1 specific library\n",
    "sys.path.insert(1, os.path.join(sys.path[0], '..'))  # Need to call this for importing library from parent folder\n",
    "import lib  # General library\n",
    "\n",
    "# Settings\n",
    "custom_figsize= (6, 4) # Might need to change this value to fit the figures to your screen\n",
    "custom_figsize_square = (5, 5) "
   ]
  },
  {
   "cell_type": "markdown",
   "id": "dc9cf440",
   "metadata": {},
   "source": [
    "Chapter 4:\n",
    "- visualize a graph based on various rules:\n",
    "  on a circle, on a hierarchical structure, using force-based rules,\n",
    "  as a pixel picture of a matrix\n",
    "- Table 4.1: generate the basic adjacency matrices and verify the formulas\n",
    "- Figure 4.3: randomly generate a matrix that looks like the one in figure\n",
    "  and code to generate images that look like those \n",
    "  (maybe some other numerical experiments with other randomly generated\n",
    "  matrices to see how many powers need to be taken)\n",
    "- Figure 4.5: code to generate the adjacency matrix of a grid graph and compute its spectral radius\n",
    "- simulate/visualize the evolution of the Leslie population model in E4.14"
   ]
  },
  {
   "cell_type": "markdown",
   "id": "6b9bebd2",
   "metadata": {},
   "source": [
    "# Chapter 4 - Elements of Algebraic Graph Theory\n",
    "These Jupyter Notebook scripts contain some examples, visualization and supplements accompanying the book \"Lectures on Network Systems\" by Francesco Bullo http://motion.me.ucsb.edu/book-lns/. These scripts are published with the MIT license. **Make sure to run the first cell above to import all necessary packages and functions and adapt settings in case.** In this script it is necessary to execute cell by cell chronologically due to reocurring examples (Tip: Use the shortcut Shift+Enter to execute each cell). Most of the functions are kept in separate files to keep this script neat."
   ]
  },
  {
   "cell_type": "markdown",
   "id": "50060a77",
   "metadata": {},
   "source": [
    "# 4.1 The adjacency matrix\n",
    "First it is shown how to access the weighted adjacency matrix for the example in the script, when the graph is already created in NetworkX:"
   ]
  },
  {
   "cell_type": "code",
   "execution_count": 19,
   "id": "36db0bcb",
   "metadata": {},
   "outputs": [
    {
     "data": {
      "application/vnd.jupyter.widget-view+json": {
       "model_id": "60b674aaa514408994bbf1414e5202dd",
       "version_major": 2,
       "version_minor": 0
      },
      "text/plain": [
       "Canvas(toolbar=Toolbar(toolitems=[('Home', 'Reset original view', 'home', 'home'), ('Back', 'Back to previous …"
      ]
     },
     "metadata": {},
     "output_type": "display_data"
    },
    {
     "name": "stdout",
     "output_type": "stream",
     "text": [
      "Adjacency Matrix determined bei Networkx:\n",
      "|    0  3.7  2.6    0    0  |\n",
      "|  8.9    0    0  1.2    0  |\n",
      "|    0    0    0  1.9  2.3  |\n",
      "|    0    0    0    0    0  |\n",
      "|  4.4    0    0  2.7  4.4  |\n"
     ]
    }
   ],
   "source": [
    "# Digraph Example from section 3.5 with weights, self_loops etc.\n",
    "G_di = nx.DiGraph()\n",
    "edges = [(1,2), (2,1), (2,4), (1,3), (3,5), (5,1), (5,5), (3,4), (5,4)]\n",
    "weights = [3.7, 8.9, 1.2, 2.6, 2.3, 4.4, 4.4, 1.9, 2.7]\n",
    "for edge, weight in zip(edges, weights):\n",
    "    G_di.add_edge(*edge, weight=weight)\n",
    "pos_di = {1:[0.1,0.2],2:[.4,.5],3:[.5,.2],4:[.8,.5], 5:[.9,.2]}  # Define position of nodes in digraph plot\n",
    "\n",
    "# Plot first digraph again with weights visualization from section 3.5\n",
    "fig, ax41 = plt.subplots(figsize=custom_figsize)\n",
    "nx.draw_networkx(G_di, node_size=100, ax=ax41, pos=pos_di, connectionstyle='arc3, rad = 0.1')\n",
    "labels = nx.get_edge_attributes(G_di,'weight')\n",
    "nx.draw_networkx_edge_labels(G_di,pos=pos_di,edge_labels=labels, label_pos=0.2)\n",
    "\n",
    "# This will always result in a sparse matrix, nodelist argument important to keep order of nodes\n",
    "A_di = nx.linalg.graphmatrix.adjacency_matrix(G_di, nodelist=range(1, 6))\n",
    "print(\"Adjacency Matrix determined bei Networkx:\")\n",
    "lib.matprint(A_di.toarray())"
   ]
  },
  {
   "cell_type": "markdown",
   "id": "58d1da3b",
   "metadata": {},
   "source": [
    "Below are further basic graphs , their adjacency matrix and their positive matrix entries in a binary representation."
   ]
  },
  {
   "cell_type": "code",
   "execution_count": 20,
   "id": "522e3d5a",
   "metadata": {},
   "outputs": [],
   "source": [
    "n = 6\n",
    "# Path Graph\n",
    "G_path = nx.path_graph(n)\n",
    "# Cycle Graph\n",
    "G_cycle = nx.cycle_graph(n)\n",
    "# Star Graph\n",
    "G_star = nx.star_graph(n-1)\n",
    "# Complete Graph\n",
    "G_complete = nx.complete_graph(n)\n",
    "# Complete bipartite Graph\n",
    "G_bipartite = nx.complete_bipartite_graph(n//2, n//2)\n",
    "\n",
    "all_basic_graphs = {\n",
    "    \"Path Graph\": G_path,\n",
    "    \"Cycle Graph\": G_cycle,\n",
    "    \"Star Graph\":G_star,\n",
    "    \"Complete Graph\": G_complete,\n",
    "    \"Complete bipartite Graph\": G_bipartite,\n",
    "    }"
   ]
  },
  {
   "cell_type": "code",
   "execution_count": 21,
   "id": "678be351",
   "metadata": {},
   "outputs": [],
   "source": [
    "# Plotting the graph itself, the binary adjacency matrix visualization with the actual values written inside"
   ]
  },
  {
   "cell_type": "code",
   "execution_count": 22,
   "id": "c8b0f172",
   "metadata": {},
   "outputs": [],
   "source": [
    "# for loop für 1,2 suplots, darunter dann die adjacency matrix und https://stackoverflow.com/questions/33828780/matplotlib-display-array-values-with-imshow"
   ]
  },
  {
   "cell_type": "code",
   "execution_count": null,
   "id": "09b74492",
   "metadata": {},
   "outputs": [],
   "source": []
  },
  {
   "cell_type": "code",
   "execution_count": null,
   "id": "fd64dacd",
   "metadata": {},
   "outputs": [],
   "source": []
  },
  {
   "cell_type": "code",
   "execution_count": null,
   "id": "2acd0a8b",
   "metadata": {},
   "outputs": [],
   "source": []
  },
  {
   "cell_type": "code",
   "execution_count": null,
   "id": "9ce50439",
   "metadata": {},
   "outputs": [],
   "source": []
  },
  {
   "cell_type": "code",
   "execution_count": null,
   "id": "78376f60",
   "metadata": {},
   "outputs": [],
   "source": []
  },
  {
   "cell_type": "code",
   "execution_count": 19,
   "id": "aa6c94c2",
   "metadata": {},
   "outputs": [],
   "source": [
    "import numpy as np\n",
    "\n",
    "def matprint(mat, fmt=\"g\"):\n",
    "    col_maxes = [max([len((\"{:\"+fmt+\"}\").format(x)) for x in col]) for col in mat.T]\n",
    "    for x in mat:\n",
    "        for i, y in enumerate(x):\n",
    "            print((\"{:\"+str(col_maxes[i])+fmt+\"}\").format(y), end=\"  \")\n",
    "        print(\"\")"
   ]
  },
  {
   "cell_type": "code",
   "execution_count": 20,
   "id": "2cc10af0",
   "metadata": {},
   "outputs": [],
   "source": [
    "A = np.array(\n",
    "    [\n",
    "        [0.0, 3.7, 2.6, 0.0, 0.0],\n",
    "        [8.9, 0.0, 0.0, 1.2, 0.0],\n",
    "        [0.0, 0.0, 0.0, 1.9, 2.3],\n",
    "        [0.0, 0.0, 0.0, 0.0, 0.0],\n",
    "        [4.4, 0.0, 0.0, 2.7, 4.4]\n",
    "    ]\n",
    ")\n",
    "\n",
    "k = 2\n",
    "n = np.size(A, 1)"
   ]
  },
  {
   "cell_type": "code",
   "execution_count": 21,
   "id": "1d232591",
   "metadata": {},
   "outputs": [
    {
     "data": {
      "text/plain": [
       "array([[32.93,  0.  ,  0.  ,  9.38,  5.98],\n",
       "       [ 0.  , 32.93, 23.14,  0.  ,  0.  ],\n",
       "       [10.12,  0.  ,  0.  ,  6.21, 10.12],\n",
       "       [ 0.  ,  0.  ,  0.  ,  0.  ,  0.  ],\n",
       "       [19.36, 16.28, 11.44, 11.88, 19.36]])"
      ]
     },
     "execution_count": 21,
     "metadata": {},
     "output_type": "execute_result"
    }
   ],
   "source": [
    "np.linalg.matrix_power(A, 2)"
   ]
  },
  {
   "cell_type": "code",
   "execution_count": 22,
   "id": "14a75fc7",
   "metadata": {},
   "outputs": [
    {
     "name": "stdout",
     "output_type": "stream",
     "text": [
      " 1260.4  222.895  156.629  405.452  344.986  \n",
      "536.154  1118.31   785.14  228.381  287.399  \n",
      "583.823  202.198  143.085  250.585  313.389  \n",
      "      0        0        0        1        0  \n",
      "1381.94  939.193  659.974   590.76  742.611  \n"
     ]
    }
   ],
   "source": [
    "matrix_pwr_sum = np.zeros((5,5))\n",
    "for ii in range(n):\n",
    "    matrix_pwr_sum += np.linalg.matrix_power(A, ii)\n",
    "matprint(matrix_pwr_sum)"
   ]
  },
  {
   "cell_type": "code",
   "execution_count": 13,
   "id": "701b1496",
   "metadata": {},
   "outputs": [
    {
     "data": {
      "text/plain": [
       "5"
      ]
     },
     "execution_count": 13,
     "metadata": {},
     "output_type": "execute_result"
    }
   ],
   "source": [
    "n"
   ]
  },
  {
   "cell_type": "code",
   "execution_count": null,
   "id": "8e42d2e8",
   "metadata": {},
   "outputs": [],
   "source": []
  }
 ],
 "metadata": {
  "kernelspec": {
   "display_name": "Python 3 (ipykernel)",
   "language": "python",
   "name": "python3"
  },
  "language_info": {
   "codemirror_mode": {
    "name": "ipython",
    "version": 3
   },
   "file_extension": ".py",
   "mimetype": "text/x-python",
   "name": "python",
   "nbconvert_exporter": "python",
   "pygments_lexer": "ipython3",
   "version": "3.8.11"
  },
  "toc": {
   "base_numbering": 1,
   "nav_menu": {},
   "number_sections": false,
   "sideBar": true,
   "skip_h1_title": false,
   "title_cell": "Table of Contents",
   "title_sidebar": "Contents",
   "toc_cell": true,
   "toc_position": {},
   "toc_section_display": true,
   "toc_window_display": true
  }
 },
 "nbformat": 4,
 "nbformat_minor": 5
}
