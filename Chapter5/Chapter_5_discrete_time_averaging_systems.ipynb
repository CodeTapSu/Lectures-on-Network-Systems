{
 "cells": [
  {
   "cell_type": "markdown",
   "id": "c8c6c8bb",
   "metadata": {
    "toc": true
   },
   "source": [
    "<h1>Table of Contents<span class=\"tocSkip\"></span></h1>\n",
    "<div class=\"toc\"><ul class=\"toc-item\"><li><span><a href=\"#Chapter-5---Discrete-time-Averaging-Systems\" data-toc-modified-id=\"Chapter-5---Discrete-time-Averaging-Systems-1\">Chapter 5 - Discrete-time Averaging Systems</a></span><ul class=\"toc-item\"><li><span><a href=\"#Averaging-systems-achieving-consensus\" data-toc-modified-id=\"Averaging-systems-achieving-consensus-1.1\">Averaging systems achieving consensus</a></span></li><li><span><a href=\"#5.2-Averaging-system-reaching-asymptotic-disagreement\" data-toc-modified-id=\"5.2-Averaging-system-reaching-asymptotic-disagreement-1.2\">5.2 Averaging system reaching asymptotic disagreement</a></span></li><li><span><a href=\"#Apendix-5.5-Design-and-computation-of-centrality-measures\" data-toc-modified-id=\"Apendix-5.5-Design-and-computation-of-centrality-measures-1.3\">Apendix 5.5 Design and computation of centrality measures</a></span></li></ul></li></ul></div>"
   ]
  },
  {
   "cell_type": "code",
   "execution_count": 1,
   "id": "50ac1eb2",
   "metadata": {},
   "outputs": [],
   "source": [
    "%matplotlib widget\n",
    "\n",
    "# Import packages\n",
    "import numpy as np\n",
    "import matplotlib.pyplot as plt\n",
    "import networkx as nx\n",
    "import sys, os\n",
    "\n",
    "# For interactive graphs\n",
    "import ipywidgets as widgets\n",
    "\n",
    "# Import self defined functions\n",
    "sys.path.insert(1, os.path.join(sys.path[0], '..'))  # Need to call this for importing library from parent folder\n",
    "import lib  # General library\n",
    "\n",
    "# Settings\n",
    "custom_figsize= (6, 4) # Might need to change this value to fit the figures to your screen\n",
    "custom_figsize_square = (5, 5) "
   ]
  },
  {
   "cell_type": "markdown",
   "id": "e444bc32",
   "metadata": {},
   "source": [
    "# Chapter 5 - Discrete-time Averaging Systems\n",
    "\n",
    "These Jupyter Notebook scripts contain some examples, visualization and supplements accompanying the book \"Lectures on Network Systems\" by Francesco Bullo http://motion.me.ucsb.edu/book-lns/. These scripts are published with the MIT license. **Make sure to run the first cell above to import all necessary packages and functions and adapt settings in case.** In this script it is necessary to execute cell by cell chronologically due to reocurring examples (Tip: Use the shortcut Shift+Enter to execute each cell). Most of the functions are kept in separate files to keep this script neat."
   ]
  },
  {
   "cell_type": "markdown",
   "id": "6476113b",
   "metadata": {},
   "source": [
    "## Averaging systems achieving consensus\n",
    "\n",
    "In this section the three examples of the book are presented again to verify the results obtained and which lead as an introduction to Theorem 5.1 .\n",
    "\n",
    "**First Example**\n",
    "\n",
    "The first example is again the wireless network system from Chapter 1.2. First, we create some plots that include tha graph, binary matrix representation, spectrum and the network simulation. "
   ]
  },
  {
   "cell_type": "code",
   "execution_count": 2,
   "id": "1e38e2fd",
   "metadata": {},
   "outputs": [
    {
     "data": {
      "application/vnd.jupyter.widget-view+json": {
       "model_id": "cc9ac6eb78904ae88adfd3483178e1ee",
       "version_major": 2,
       "version_minor": 0
      },
      "text/plain": [
       "Canvas(toolbar=Toolbar(toolitems=[('Home', 'Reset original view', 'home', 'home'), ('Back', 'Back to previous …"
      ]
     },
     "metadata": {},
     "output_type": "display_data"
    }
   ],
   "source": [
    "# Creating the Network System example as in Chapter 1.2 and as first example in chapter 5.1\n",
    "G = nx.DiGraph()\n",
    "G.add_edges_from([(0,1), (1,0), (0,0), (2,2), (1,2), (2,1), (2,3), (3,2), (1,3), (3,1), (3,3)])\n",
    "\n",
    "# Define position of nodes in graph plot\n",
    "pos = {0:[0.2,0.2],1:[.4,.2],2:[.4,.6],3:[.7,.6]}\n",
    "\n",
    "# Define the adjacency matrix A\n",
    "A = np.array([[0.5,0.5, 0., 0.],\n",
    "              [1/4, 1/4, 1/4, 1/4],\n",
    "              [0., 1/3, 1/3, 1/3],\n",
    "              [0., 1/3, 1/3, 1/3]\n",
    "])\n",
    "\n",
    "fig, axs51 = plt.subplots(2, 2, figsize = (custom_figsize[0]*1.2, custom_figsize[1]*1.5))  # Init figure\n",
    "\n",
    "# Draw network\n",
    "nx.draw_networkx(G, pos, node_size=200, ax = axs51[0, 0], connectionstyle='arc3, rad = 0.1')\n",
    "axs51[0, 0].margins(0.05) # Zooming out for better visualization\n",
    "\n",
    "# Draw binary matrix representation\n",
    "lib.plot_matrix_binary(A, axs51[1, 0])\n",
    "\n",
    "# Draw spectrum\n",
    "lib.plot_spectrum(A, axs51[0, 1]);\n",
    "\n",
    "# Draw simulation results\n",
    "x_0 = np.array([0.9, 0.3, 0.8, 0.6])\n",
    "# Choosing the range of time step\n",
    "t = 15\n",
    "states = lib.simulate_network(A,x_0, t)  # Simulate network and save states for each time step in a t*n np.array\n",
    "lib.plot_node_val_2D(states, x_0, t, axs51[1, 1])  # Visualize states in a 2D Graph\n",
    "axs51[1, 1].set_title(\"Simulation of Network\")\n",
    "axs51[1,1].legend(loc=4, ncol=2)\n",
    "fig.subplots_adjust(hspace=0.5)\n"
   ]
  },
  {
   "cell_type": "markdown",
   "id": "6197f89e",
   "metadata": {},
   "source": [
    "As expected, we do not reach average consensus, since $A$ is not doubly-stochastic. However, we can calculate the consensus value by $w^T x(0)$, where $w$ is the left dominant eigenvector normed to 1 as demonstrated in the book."
   ]
  },
  {
   "cell_type": "code",
   "execution_count": 3,
   "id": "f5173e97",
   "metadata": {},
   "outputs": [
    {
     "name": "stdout",
     "output_type": "stream",
     "text": [
      "Left dominant eigenvector w:\n",
      "|  0.166667  |\n",
      "|  0.333333  |\n",
      "|      0.25  |\n",
      "|      0.25  |\n",
      "\n",
      "Final consensus value w^T x(0):\n",
      "0.6\n"
     ]
    }
   ],
   "source": [
    "# Left dominant eigenvectors\n",
    "lambdas, eigv = np.linalg.eig(A.T)\n",
    "left_dom = eigv[:, 0] / sum(eigv[:, 0])  # With Norm1 = 1\n",
    "\n",
    "print(\"Left dominant eigenvector w:\")\n",
    "lib.matprint(left_dom)\n",
    "\n",
    "print(\"\\nFinal consensus value w^T x(0):\")\n",
    "print(left_dom.T @ x_0)"
   ]
  },
  {
   "cell_type": "markdown",
   "id": "e8149ac5",
   "metadata": {},
   "source": [
    "**Second Example**\n",
    "\n",
    "The second example is the robotic cyclic pursuit from section 1.6 of the book. Here we show, how average consensus is achieved."
   ]
  },
  {
   "cell_type": "code",
   "execution_count": null,
   "id": "c32daaf9",
   "metadata": {},
   "outputs": [],
   "source": [
    "# Creating the Network System example as in Chapter 1.2 and as first example in chapter 5.1\n",
    "G2 = nx.DiGraph()\n",
    "G2.add_edges_from([(0,0), (0,1), (1,1), (1,2), (2,2), (2,3), (3,3), (3,4), (4,4), (4,5), (5,5), (5,0)])\n",
    "\n",
    "# Define position of nodes in graph plot\n",
    "pos2 = {0:[0.3,0.2],1:[.2,.5],2:[.3,.8],3:[.7,.8], 4:[.8,.5], 5:[0.7,0.2]}\n",
    "\n",
    "# Define the adjacency matrix A\n",
    "A2 = np.array([[1/2,1/2, 0., 0., 0., 0.],\n",
    "               [0, 1/2, 1/2, 0., 0., 0.],\n",
    "               [0., 0., 1/2, 1/2, 0., 0.],\n",
    "               [0., 0., 0., 1/2, 1/2, 0.],\n",
    "               [0., 0., 0., 0., 1/2, 1/2],\n",
    "               [1/2, 0., 0., 0., 0., 1/2]\n",
    "])\n",
    "\n",
    "fig, axs512 = plt.subplots(2, 2, figsize = (custom_figsize[0]*1.2, custom_figsize[1]*1.5))  # Init figure\n",
    "\n",
    "# Draw network\n",
    "nx.draw_networkx(G2, pos2, node_size=200, ax = axs512[0, 0], connectionstyle='arc3, rad = 0.1')\n",
    "axs512[0, 0].margins(0.05) # Zooming out for better visualization\n",
    "\n",
    "# Draw binary matrix representation\n",
    "lib.plot_matrix_binary(A2, axs512[1, 0])\n",
    "\n",
    "# Draw spectrum\n",
    "lib.plot_spectrum(A2, axs512[0, 1]);\n",
    "\n",
    "# Draw simulation results\n",
    "x_0_2 = np.array([0.1, 0.3, 0.4, 0.5, 0.6, 0.8])\n",
    "# Choosing the range of time step\n",
    "t = 50\n",
    "states2 = lib.simulate_network(A2,x_0_2, t)  # Simulate network and save states for each time step in a t*n np.array\n",
    "lib.plot_node_val_2D(states2, x_0_2, t, axs512[1, 1])  # Visualize states in a 2D Graph\n",
    "axs512[1, 1].set_title(\"Simulation of Network\")\n",
    "axs512[1,1].legend(loc=4, ncol=3)\n",
    "fig.subplots_adjust(hspace=0.5)\n",
    "\n",
    "print(\"\\nFinal average consensus value avg(x(0)):\")\n",
    "print(np.mean(x_0_2))"
   ]
  },
  {
   "cell_type": "markdown",
   "id": "94d236da",
   "metadata": {},
   "source": [
    "**Third Example**\n",
    "\n",
    "In this example a not strongly connected matrix with its assciated digraph is shown. As mentioned in the book, we call such row-stochastic matrices indecomposable, since we still achieve consensus."
   ]
  },
  {
   "cell_type": "code",
   "execution_count": null,
   "id": "af7ea02d",
   "metadata": {},
   "outputs": [],
   "source": [
    "# Creating the Network System example as in Chapter 1.2 and as first example in chapter 5.1\n",
    "G3 = nx.DiGraph()\n",
    "G3.add_edges_from([(0,1), (0,2), (1,4), (1,8), (2,4), (2,6), (2,7), (3,1), (3,6), (3,7), (4,1), (5,4), (6,2), (6,9), (7,0), (7,6), (8,0), (9,0), (9,2)])\n",
    "\n",
    "# Define positon for nodes by layout\n",
    "pos3 = nx.drawing.layout.spring_layout(G3)\n",
    "# Extract Adjacency Matrix here and make it row stochastic\n",
    "A3 = nx.linalg.graphmatrix.adjacency_matrix(G3, nodelist=range(0, G3.number_of_nodes())).toarray()\n",
    "A3 = A3 / np.sum(A3, axis=1)[:, None]\n",
    "\n",
    "fig, axs513 = plt.subplots(2, 2, figsize = (custom_figsize[0]*1.2, custom_figsize[1]*1.5))  # Init figure\n",
    "\n",
    "# Draw network\n",
    "nx.draw_networkx(G3, pos3, node_size=200, ax = axs513[0, 0], connectionstyle='arc3, rad = 0.1')\n",
    "axs513[0, 0].margins(0.05) # Zooming out for better visualization\n",
    "\n",
    "# Draw binary matrix representation\n",
    "lib.plot_matrix_binary(A3, axs513[1, 0])\n",
    "\n",
    "# Draw spectrum\n",
    "lib.plot_spectrum(A3, axs513[0, 1]);\n",
    "\n",
    "# Draw simulation results\n",
    "x_0_3 = np.random.rand(10)\n",
    "# Choosing the range of time step\n",
    "t = 20\n",
    "states3 = lib.simulate_network(A3,x_0_3, t)  # Simulate network and save states for each time step in a t*n np.array\n",
    "lib.plot_node_val_2D(states3, x_0_3, t, axs513[1, 1])  # Visualize states in a 2D Graph\n",
    "axs513[1, 1].set_title(\"Simulation of Network\")\n",
    "axs513[1,1].get_legend().remove()\n",
    "fig.subplots_adjust(hspace=0.5)\n"
   ]
  },
  {
   "cell_type": "markdown",
   "id": "5cfd90c9",
   "metadata": {},
   "source": [
    "## 5.2 Averaging system reaching asymptotic disagreement\n",
    "\n",
    "In this section a minimum example for averaging systems reaching asymptotic disagreement is given. See in the plot, how different nodes reach different states, based on if the node belongs to a sink our which sink it senses. Below, it is even presented in an interactive environment."
   ]
  },
  {
   "cell_type": "code",
   "execution_count": null,
   "id": "b5ff2331",
   "metadata": {},
   "outputs": [],
   "source": [
    "# Creating the Network System example as in Chapter 1.2 and as first example in chapter 5.1\n",
    "G4 = nx.DiGraph()\n",
    "G4.add_edges_from([(0,1), (0,3), (1,3), (1,2), (2,1), (2,3), (3,1), (3,2), (4,3), (4,5), (5,6), (6,5), (5,7), (7,6)])\n",
    "\n",
    "# Define position of nodes in graph plot\n",
    "pos4 = {0:[0.4,0.8],1:[.3,.5],2:[.4,.2],3:[.5,.5], 4:[.7,.8], 5:[0.7,0.5], 6:[0.8,0.4], 7:[0.7,0.3]}\n",
    "\n",
    "# Extract Adjacency Matrix here and make it row stochastic\n",
    "A4 = nx.linalg.graphmatrix.adjacency_matrix(G4, nodelist=range(0, G4.number_of_nodes())).toarray()\n",
    "A4 = A4 / np.sum(A4, axis=1)[:, None]\n",
    "\n",
    "fig, axs52 = plt.subplots(3, 1, figsize = (custom_figsize[0]*1.0, custom_figsize[1]*1.8))  # Init figure\n",
    "\n",
    "# Draw network\n",
    "nx.draw_networkx(G4, pos4, node_size=200, ax = axs52[0], connectionstyle='arc3, rad = 0.1')\n",
    "axs52[0].margins(0.05) # Zooming out for better visualization\n",
    "\n",
    "# Draw binary matrix representation\n",
    "lib.plot_matrix_binary(A4, axs52[1])\n",
    "\n",
    "# Draw spectrum\n",
    "lib.plot_spectrum(A4, axs52[2]);\n",
    "\n",
    "fig.subplots_adjust(hspace=0.5)\n",
    "\n",
    "\n",
    "\n",
    "fig, ax521 = plt.subplots(figsize = (custom_figsize[0]*1.2, custom_figsize[1]*1.2))  # Init figure\n",
    "\n",
    "# Draw simulation results\n",
    "x_0_4 = np.random.rand(8)\n",
    "# Choosing the range of time step\n",
    "t4 = 20\n",
    "states4 = lib.simulate_network(A4,x_0_4, t4)  # Simulate network and save states for each time step in a t*n np.array\n",
    "lib.plot_node_val_2D(states4, x_0_4, t4, ax521)  # Visualize states in a 2D Graph\n",
    "ax521.set_title(\"Simulation of Network\")\n",
    "ax521.legend(loc=4, ncol=3);\n"
   ]
  },
  {
   "cell_type": "code",
   "execution_count": null,
   "id": "f0f6b401",
   "metadata": {},
   "outputs": [],
   "source": [
    "fig, ax523 = plt.subplots(figsize=custom_figsize)\n",
    "fig, v_bound, pos4 = lib.init_network_sim_plot(G4, states4, fig, pos=pos4)\n",
    "\n",
    "def inter(timestep):\n",
    "    lib.update_network(timestep['new'], G=G4, states_m=states4, ax=ax523, vbound=v_bound, pos=pos4)\n",
    "    #ax3.margins(0.20) # Zooming out for better visualization\n",
    "    return None\n",
    "\n",
    "# Plot initial configuration\n",
    "lib.update_network(0, G=G4, states_m=states4, ax=ax523, vbound=v_bound, pos=pos4)\n",
    "\n",
    "\n",
    "# Widget\n",
    "# If this cell is executed twice we are making sure in the following, that the previous widget instances are all closed\n",
    "try:\n",
    "    [c.close() for c in widget52.children]  # Note: close_all() does also affect plot, thus list compr.\n",
    "except NameError:  # Only want to except not defined variable error\n",
    "    pass\n",
    "\n",
    "widget52 = lib.create_widgets_play_slider(fnc=inter, minv=0, maxv=t4-1, step=1, play_speed=1000)\n",
    "\n",
    "display(widget52)"
   ]
  },
  {
   "cell_type": "markdown",
   "id": "afd64cf4",
   "metadata": {},
   "source": [
    "## Apendix 5.5 Design and computation of centrality measures\n",
    "\n",
    "The results from 5.13 are visualized again here:"
   ]
  },
  {
   "cell_type": "code",
   "execution_count": null,
   "id": "e944aee5",
   "metadata": {},
   "outputs": [],
   "source": [
    "# define graph\n",
    "G55 = nx.Graph(); \n",
    "G55.add_nodes_from(range(0,10));  \n",
    "G55.add_edges_from([(0,1), (1,5), (1,6), (1,2), (2,3), (2,7), (6,7), (7,8), (3,8), (8,9), (9,4), (9,10)])\n",
    "pos55 = {0:[0.1,0.8],1:[.2,.8],2:[.3,.8],3:[.4,.8], 4:[.5,.8], 5:[0.1,0.4], 6:[0.2,0.4], 7:[0.3,0.4], 8:[0.4,0.4], 9:[0.5,0.4], 10:[0.6,0.4]}\n",
    "\n",
    "# Node 2 has the highest degree centrality\n",
    "degree_centrality = nx.degree_centrality(G55)\n",
    "\n",
    "# Node 3 has the highest eigenvector centrality\n",
    "eigenvector_centrality = nx.eigenvector_centrality_numpy(G55)\n",
    "\n",
    "# Node 8 has highest closeness centrality\n",
    "closeness_centrality = nx.closeness_centrality(G55)\n",
    "\n",
    "# Node 9 has highest closeness centrality\n",
    "betweenness_centrality = nx.betweenness_centrality(G55)"
   ]
  },
  {
   "cell_type": "code",
   "execution_count": null,
   "id": "2101c816",
   "metadata": {},
   "outputs": [],
   "source": [
    "deg_cen = np.array(list(degree_centrality.values()))[None, :]\n",
    "eig_cen = np.array(list(eigenvector_centrality.values()))[None, :]\n",
    "clo_cen = np.array(list(closeness_centrality.values()))[None, :]\n",
    "bet_cen = np.array(list(betweenness_centrality.values()))[None, :]\n",
    "\n",
    "all_cen = np.vstack((deg_cen, eig_cen, clo_cen, bet_cen))\n",
    "\n",
    "lib.matprint(all_cen)\n",
    "\n",
    "titles = [\"Degree Centrality\", \"Eigenvector Centrality\", \"Closeness Centrality\", \"Betweenness Centrality\"]"
   ]
  },
  {
   "cell_type": "code",
   "execution_count": null,
   "id": "a0b531e6",
   "metadata": {},
   "outputs": [],
   "source": [
    "for i in range(len(titles)):\n",
    "    fig, ax55 = plt.subplots(figsize=custom_figsize)\n",
    "    fig, v_bound, pos55 = lib.init_network_sim_plot(G55, all_cen[i, :][None, :], fig, pos=pos55)\n",
    "    lib.update_network(0, G55, all_cen[i, :][None, :], ax55, v_bound, pos55, labels=False)\n",
    "    ax55.set_title(titles[i])"
   ]
  },
  {
   "cell_type": "code",
   "execution_count": null,
   "id": "bc543276",
   "metadata": {},
   "outputs": [],
   "source": []
  }
 ],
 "metadata": {
  "kernelspec": {
   "display_name": "Python 3 (ipykernel)",
   "language": "python",
   "name": "python3"
  },
  "language_info": {
   "codemirror_mode": {
    "name": "ipython",
    "version": 3
   },
   "file_extension": ".py",
   "mimetype": "text/x-python",
   "name": "python",
   "nbconvert_exporter": "python",
   "pygments_lexer": "ipython3",
   "version": "3.8.11"
  },
  "toc": {
   "base_numbering": 1,
   "nav_menu": {},
   "number_sections": false,
   "sideBar": true,
   "skip_h1_title": false,
   "title_cell": "Table of Contents",
   "title_sidebar": "Contents",
   "toc_cell": true,
   "toc_position": {},
   "toc_section_display": true,
   "toc_window_display": false
  }
 },
 "nbformat": 4,
 "nbformat_minor": 5
}
