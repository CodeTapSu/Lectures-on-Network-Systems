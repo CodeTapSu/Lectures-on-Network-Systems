{
 "cells": [
  {
   "cell_type": "markdown",
   "id": "fd2b1168",
   "metadata": {
    "toc": true
   },
   "source": [
    "<h1>Table of Contents<span class=\"tocSkip\"></span></h1>\n",
    "<div class=\"toc\"><ul class=\"toc-item\"><li><span><a href=\"#Chapter-4---Elements-of-Algebraic-Graph-Theory\" data-toc-modified-id=\"Chapter-4---Elements-of-Algebraic-Graph-Theory-1\">Chapter 4 - Elements of Algebraic Graph Theory</a></span><ul class=\"toc-item\"><li><span><a href=\"#4.1-The-adjacency-matrix\" data-toc-modified-id=\"4.1-The-adjacency-matrix-1.1\">4.1 The adjacency matrix</a></span><ul class=\"toc-item\"><li><span><a href=\"#Basic-Graphs,-their-Adjacency-Matrix-and-Spectrum-(Table-4.1)\" data-toc-modified-id=\"Basic-Graphs,-their-Adjacency-Matrix-and-Spectrum-(Table-4.1)-1.1.1\">Basic Graphs, their Adjacency Matrix and Spectrum (Table 4.1)</a></span></li></ul></li><li><span><a href=\"#4.3.2-Connectivity-and-adjacency-powers\" data-toc-modified-id=\"4.3.2-Connectivity-and-adjacency-powers-1.2\">4.3.2 Connectivity and adjacency powers</a></span></li><li><span><a href=\"#4.4.-Graph-theoretical-characterization-of-primitive-matrices\" data-toc-modified-id=\"4.4.-Graph-theoretical-characterization-of-primitive-matrices-1.3\">4.4. Graph theoretical characterization of primitive matrices</a></span></li><li><span><a href=\"#4.5-Elements-of-Spectral-Graph-Theory\" data-toc-modified-id=\"4.5-Elements-of-Spectral-Graph-Theory-1.4\">4.5 Elements of Spectral Graph Theory</a></span></li><li><span><a href=\"#Exercise-4.19-Leslie-Population-Model\" data-toc-modified-id=\"Exercise-4.19-Leslie-Population-Model-1.5\">Exercise 4.19 Leslie Population Model</a></span></li></ul></li></ul></div>"
   ]
  },
  {
   "cell_type": "code",
   "execution_count": null,
   "id": "dfe65cd4",
   "metadata": {},
   "outputs": [],
   "source": [
    "%matplotlib widget\n",
    "\n",
    "# Import packages\n",
    "import numpy as np\n",
    "import matplotlib.pyplot as plt\n",
    "import networkx as nx\n",
    "from pylab import MaxNLocator\n",
    "\n",
    "# For interactive graphs\n",
    "import ipywidgets as widgets\n",
    "\n",
    "# Import self defined functions\n",
    "import lib  # General library\n",
    "\n",
    "# Settings\n",
    "custom_figsize= (6, 4) # Might need to change this value to fit the figures to your screen\n",
    "custom_figsize_square = (5, 5) "
   ]
  },
  {
   "cell_type": "markdown",
   "id": "6b9bebd2",
   "metadata": {},
   "source": [
    "# Chapter 4 - Elements of Algebraic Graph Theory\n",
    "These Jupyter Notebook scripts contain some examples, visualization and supplements accompanying the book \"Lectures on Network Systems\" by Francesco Bullo http://motion.me.ucsb.edu/book-lns/. These scripts are published with the MIT license. **Make sure to run the first cell above to import all necessary packages and functions and adapt settings in case.** In this script it is necessary to execute cell by cell chronologically due to reocurring examples (Tip: Use the shortcut Shift+Enter to execute each cell). Most of the functions are kept in separate files to keep this script neat."
   ]
  },
  {
   "cell_type": "markdown",
   "id": "50060a77",
   "metadata": {},
   "source": [
    "## 4.1 The adjacency matrix\n",
    "First it is shown how to access the weighted adjacency matrix for the example in the script, when the graph is already created in NetworkX:"
   ]
  },
  {
   "cell_type": "code",
   "execution_count": null,
   "id": "36db0bcb",
   "metadata": {},
   "outputs": [],
   "source": [
    "# Digraph Example from section 3.5 with weights, self_loops etc.\n",
    "G_di = nx.DiGraph()\n",
    "edges = [(1,2), (2,1), (2,4), (1,3), (3,5), (5,1), (5,5), (3,4), (5,4)]\n",
    "weights = [3.7, 8.9, 1.2, 2.6, 2.3, 4.4, 4.4, 1.9, 2.7]\n",
    "for edge, weight in zip(edges, weights):\n",
    "    G_di.add_edge(*edge, weight=weight)\n",
    "pos_di = {1:[0.1,0.2],2:[.4,.5],3:[.5,.2],4:[.8,.5], 5:[.9,.2]}  # Define position of nodes in digraph plot\n",
    "\n",
    "# Plot first digraph again with weights visualization from section 3.5\n",
    "fig, ax41 = plt.subplots(figsize=custom_figsize)\n",
    "nx.draw_networkx(G_di, node_size=100, ax=ax41, pos=pos_di, connectionstyle='arc3, rad = 0.1')\n",
    "labels = nx.get_edge_attributes(G_di,'weight')\n",
    "nx.draw_networkx_edge_labels(G_di,pos=pos_di,edge_labels=labels, label_pos=0.2)\n",
    "\n",
    "# This will always result in a sparse matrix, nodelist argument important to keep order of nodes\n",
    "A_di = nx.linalg.graphmatrix.adjacency_matrix(G_di, nodelist=range(1, G_di.number_of_nodes()+1)).toarray()\n",
    "print(\"Adjacency Matrix determined by Networkx:\")\n",
    "lib.matprint(A_di)"
   ]
  },
  {
   "cell_type": "markdown",
   "id": "58d1da3b",
   "metadata": {},
   "source": [
    "### Basic Graphs, their Adjacency Matrix and Spectrum (Table 4.1)\n",
    "\n",
    "Below are further basic graphs and their adjacency matrix and their positive matrix entries in a binary representation similar to Figure 4.2. Further on, the spectrum is plotted and can be compared with the given formula in Table 4.1."
   ]
  },
  {
   "cell_type": "code",
   "execution_count": null,
   "id": "522e3d5a",
   "metadata": {},
   "outputs": [],
   "source": [
    "n_m = 6  # Can change this value\n",
    "# Path Graph\n",
    "G_path = nx.path_graph(n_m)\n",
    "# Cycle Graph\n",
    "G_cycle = nx.cycle_graph(n_m)\n",
    "# Star Graph\n",
    "G_star = nx.star_graph(n_m-1)\n",
    "# Complete Graph\n",
    "G_complete = nx.complete_graph(n_m)\n",
    "# Complete bipartite Graph\n",
    "G_bipartite = nx.complete_bipartite_graph(n_m//2, n_m//2)\n",
    "\n",
    "all_basic_graphs = {\n",
    "    \"Path Graph\": G_path,\n",
    "    \"Cycle Graph\": G_cycle,\n",
    "    \"Star Graph\":G_star,\n",
    "    \"Complete Graph\": G_complete,\n",
    "    \"Complete bipartite Graph\": G_bipartite,\n",
    "    }\n",
    "spectrums = [\"$\\{2 cos(\\pi i/(n + 1)) | i ∈ \\{1, . . . , n\\}\\}$\",\n",
    "             \"$\\{2 cos(2\\pi i/n)) | i ∈ \\{1, . . . , n\\}\\}$\",\n",
    "             \"$\\{ \\sqrt{n − 1}, 0, . . . , 0, − \\sqrt{n − 1}\\}$\",\n",
    "             \"$\\{(n − 1), −1, . . . , −1\\}$\",\n",
    "             \"$\\{\\sqrt{nm}, 0, . . . , 0, − \\sqrt{nm}\\}$\"]"
   ]
  },
  {
   "cell_type": "code",
   "execution_count": null,
   "id": "678be351",
   "metadata": {},
   "outputs": [],
   "source": [
    "# Plotting the graph itself, the binary adjacency matrix visualization with the actual values written inside\n",
    "fig, axs412 = plt.subplots(len(all_basic_graphs), 3, figsize=(custom_figsize[0]*1.2, custom_figsize[1]*3))\n",
    "for count, (key, graph) in enumerate(all_basic_graphs.items()):\n",
    "    if key == \"Complete bipartite Graph\":\n",
    "        nx.draw_networkx(graph, node_size=100, ax=axs412[count, 0], pos=nx.drawing.layout.bipartite_layout(graph, list(range(0, n_m//2))))\n",
    "    else:\n",
    "        nx.draw_networkx(graph, node_size=100, ax=axs412[count, 0], connectionstyle='arc3, rad = 0.1')\n",
    "    A = nx.linalg.graphmatrix.adjacency_matrix(graph, nodelist=range(0, graph.number_of_nodes())).toarray()\n",
    "    lib.plot_matrix_binary(A, axs412[count, 1])\n",
    "    axs412[count, 0].set_xlabel(key)\n",
    "    lib.plot_spectrum(A, axs412[count, 2]);\n",
    "    axs412[count, 2].set(title=spectrums[count])\n",
    "fig.subplots_adjust(hspace=0.5)"
   ]
  },
  {
   "cell_type": "markdown",
   "id": "dc63668d",
   "metadata": {},
   "source": [
    "## 4.3.2 Connectivity and adjacency powers\n",
    "In this little example we want to see Lemma 4.4 for the given graph in numbers. The graph is already defined in this Jupyter Notebook script at section 4.1. Since Node 4 of $G$ is globally reachable, we expect the 4th column of the sum of matrix powers $\\sum_{k=0}^{n-1} A^k$ to be positive."
   ]
  },
  {
   "cell_type": "code",
   "execution_count": null,
   "id": "78376f60",
   "metadata": {},
   "outputs": [],
   "source": [
    "n = np.size(A_di, 1)\n",
    "p = 1.0/3\n",
    "A_di_sum_of_powers = lib.sum_of_powers(A_di, n-1)\n",
    "print(\"4th column is positive, since it is the only globally reachable node:\")\n",
    "lib.matprint(A_di_sum_of_powers)"
   ]
  },
  {
   "cell_type": "markdown",
   "id": "b1447473",
   "metadata": {},
   "source": [
    "## 4.4. Graph theoretical characterization of primitive matrices\n",
    "\n",
    "In this section we want to show pixel pictures of different matrix powers similar to figure 4.3. Remember, that (i) $G$ is strongly connected and aperiodic and (ii) $A$ is primitive are equivilant statements. We generate random examples by building the adjacency matrix first."
   ]
  },
  {
   "cell_type": "code",
   "execution_count": null,
   "id": "d3ce6775",
   "metadata": {},
   "outputs": [],
   "source": [
    "# Choose size of matrices here\n",
    "n = 4\n",
    "# Set random seed here\n",
    "np.random.seed(2)\n",
    "\n",
    "def plot_graph_and_matrix_powers(A, npwr=None):\n",
    "    \"\"\" Function to visualize graph and matrix power of given matrix A only used in this Jupyter Notebook\"\"\"\n",
    "    if npwr is None:\n",
    "        npwr = A.shape[0]\n",
    "    fig, ax = plt.subplots(figsize=(4,4))\n",
    "    fig, axs = plt.subplots(1, npwr, figsize=(custom_figsize[0]*1.5, custom_figsize[1]/2))\n",
    "\n",
    "    lib.draw_adj_matrix(A, ax)\n",
    "\n",
    "    for i in range(npwr):\n",
    "        lib.plot_matrix_binary(np.linalg.matrix_power(A, i+1), ax=axs[i])\n",
    "        axs[i].set(title='${}^{{{}}}$'.format(\"M\", i+1))"
   ]
  },
  {
   "cell_type": "markdown",
   "id": "75035852",
   "metadata": {},
   "source": [
    "**Random Primitive Adjacency Matrix Example**"
   ]
  },
  {
   "cell_type": "code",
   "execution_count": null,
   "id": "9052b441",
   "metadata": {},
   "outputs": [],
   "source": [
    "# Randomly generate primitive matrix\n",
    "A_rand_prim = np.zeros((n, n))\n",
    "while(not lib.is_primitive(A_rand_prim)):\n",
    "    A_rand_prim = np.random.choice([0, 1], size=(n,n), p=[1-p, p])"
   ]
  },
  {
   "cell_type": "code",
   "execution_count": null,
   "id": "701b1496",
   "metadata": {},
   "outputs": [],
   "source": [
    "plot_graph_and_matrix_powers(A_rand_prim, npwr=n)"
   ]
  },
  {
   "cell_type": "markdown",
   "id": "dfe7cd49",
   "metadata": {},
   "source": [
    "**Random Irreducible  not Primitive Adjacency Matrix Example**\n",
    "\n",
    "Note: Sometimes can take some time to generate a irreducible, but not positive matrix!"
   ]
  },
  {
   "cell_type": "code",
   "execution_count": null,
   "id": "9d9ea80e",
   "metadata": {},
   "outputs": [],
   "source": [
    "# Randomly generate irreducible, but not positive, matrix\n",
    "A_rand_irr = np.zeros((n, n))\n",
    "while(not lib.is_irreducible(A_rand_irr) or lib.is_primitive(A_rand_irr)):\n",
    "    A_rand_irr = np.random.choice([0, 1], size=(n,n), p=[1-p, p])"
   ]
  },
  {
   "cell_type": "code",
   "execution_count": null,
   "id": "dd2da387",
   "metadata": {},
   "outputs": [],
   "source": [
    "plot_graph_and_matrix_powers(A_rand_irr, npwr=2*n)"
   ]
  },
  {
   "cell_type": "markdown",
   "id": "3fcf9619",
   "metadata": {},
   "source": [
    "**Random Reducible Matrix Example**"
   ]
  },
  {
   "cell_type": "code",
   "execution_count": null,
   "id": "5f5b34ee",
   "metadata": {},
   "outputs": [],
   "source": [
    "# Randomly generate reducible adjacency matrix\n",
    "A_rand_red = np.random.choice([0, 1], size=(n,n), p=[1-p, p])\n",
    "while(lib.is_irreducible(A_rand_red)):\n",
    "    A_rand_red = np.random.choice([0, 1], size=(n,n), p=[1-p, p])"
   ]
  },
  {
   "cell_type": "code",
   "execution_count": null,
   "id": "5eff3509",
   "metadata": {},
   "outputs": [],
   "source": [
    "plot_graph_and_matrix_powers(A_rand_red, npwr=2*n)"
   ]
  },
  {
   "cell_type": "markdown",
   "id": "026fe59b",
   "metadata": {},
   "source": [
    "## 4.5 Elements of Spectral Graph Theory\n",
    "\n",
    "As in Figure 4.5, an illustration of the Theorem 4.11 Bounds on the spectral radius of non-negative matrices, II. We visualize the examples from the book as a graph and plot the corresponding spectrum next to it. By Theorem 4.11, the bounds are given in the spectrum plot title."
   ]
  },
  {
   "cell_type": "code",
   "execution_count": null,
   "id": "9f283f88",
   "metadata": {},
   "outputs": [],
   "source": [
    "# Two dimensional grid graph\n",
    "G_grid = nx.generators.lattice.grid_2d_graph(7, 4)\n",
    "# Extract the necessary adjacency matrices\n",
    "A_grid = nx.linalg.graphmatrix.adjacency_matrix(G_grid).toarray()\n",
    "A_bipartite = nx.linalg.graphmatrix.adjacency_matrix(G_bipartite, nodelist=range(0, G_bipartite.number_of_nodes())).toarray()\n",
    "\n",
    "# Drawing the two graphs\n",
    "fig, axs45 = plt.subplots(2, 2, figsize=(custom_figsize[0]*1., custom_figsize[1]*1.5))\n",
    "nx.draw_networkx(G_bipartite, node_size=100, ax=axs45[0, 0], pos=nx.drawing.layout.bipartite_layout(graph, list(range(0, n_m//2))))\n",
    "pos_grid = {(x,y):(y,-x) for x,y in G_grid.nodes()}  # Smooth way of extracting coordinates of created grid graph\n",
    "nx.draw_networkx(G_grid, pos= pos_grid, node_size=100, ax=axs45[1, 0], with_labels=False)\n",
    "\n",
    "# Plot spectrums and add titels\n",
    "lib.plot_spectrum(A_bipartite, axs45[0,1]);\n",
    "lib.plot_spectrum(A_grid, axs45[1,1]);\n",
    "axs45[0, 1].set(title='$\\\\rho(A_{bipartite}) = 3$')\n",
    "axs45[1, 1].set(title=\"$2 < \\\\rho(A_{grid}) < 4$\")\n",
    "\n",
    "# Add vertical space between plots\n",
    "fig.subplots_adjust(hspace=0.5)"
   ]
  },
  {
   "cell_type": "markdown",
   "id": "684d614b",
   "metadata": {},
   "source": [
    "## Exercise 4.19 Leslie Population Model\n",
    "\n",
    "In this section the opportunity is given to verify the results obtained from Exercise 4.19 in a simulation. In the cell below the parameters $\\alpha_1 ... \\alpha_n$ and $\\beta_1 ... \\beta_{n-1}$ can be changed for a given Leslie Population Model Matrix of size $n=5$, meaning we have 5 age classes $i$."
   ]
  },
  {
   "cell_type": "code",
   "execution_count": null,
   "id": "520702d0",
   "metadata": {},
   "outputs": [],
   "source": [
    "# Define the parameters here!\n",
    "alpha = np.array([0.01, 0.2, 0.4, 0.2, 0.05])\n",
    "beta = np.array([0.99, 0.95, 0.7, 0.5])\n",
    "n_dt = 20  # Number of time simulation steps\n",
    "\n",
    "\n",
    "# Building the Leslie Population Matrix\n",
    "A_leslie = np.vstack((alpha[None, :], np.hstack((np.diag(beta), np.zeros(4)[:, None]))))\n",
    "print(\"Leslie Population Model:\")\n",
    "lib.matprint(A_leslie)\n",
    "# Initialize random population Distribution\n",
    "x = np.random.randint(low=1, high=100, size=5)\n",
    "\n",
    "# Simulate for n_dt timesteps and plot result\n",
    "fig, ax419 = plt.subplots(figsize=custom_figsize)\n",
    "states_complete = lib.simulate_network(A_leslie, x, n_dt)  # Simulate network and save states for each time step in a t*n np.array\n",
    "lib.plot_node_val_2D(states_complete, x, n_dt, ax419, avg=False)  # Visualize states in a 2D Graph\n",
    "ax419.get_xaxis().set_major_locator(MaxNLocator(integer=True))\n",
    "ax419.grid('on')"
   ]
  },
  {
   "cell_type": "code",
   "execution_count": null,
   "id": "1bc48312",
   "metadata": {},
   "outputs": [],
   "source": []
  }
 ],
 "metadata": {
  "kernelspec": {
   "display_name": "Python 3 (ipykernel)",
   "language": "python",
   "name": "python3"
  },
  "language_info": {
   "codemirror_mode": {
    "name": "ipython",
    "version": 3
   },
   "file_extension": ".py",
   "mimetype": "text/x-python",
   "name": "python",
   "nbconvert_exporter": "python",
   "pygments_lexer": "ipython3",
   "version": "3.8.11"
  },
  "toc": {
   "base_numbering": 1,
   "nav_menu": {},
   "number_sections": false,
   "sideBar": true,
   "skip_h1_title": false,
   "title_cell": "Table of Contents",
   "title_sidebar": "Contents",
   "toc_cell": true,
   "toc_position": {},
   "toc_section_display": true,
   "toc_window_display": false
  }
 },
 "nbformat": 4,
 "nbformat_minor": 5
}
