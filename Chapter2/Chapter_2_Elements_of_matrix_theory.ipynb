{
 "cells": [
  {
   "cell_type": "markdown",
   "metadata": {
    "toc": true
   },
   "source": [
    "<h1>Table of Contents<span class=\"tocSkip\"></span></h1>\n",
    "<div class=\"toc\"><ul class=\"toc-item\"><li><span><a href=\"#Chapter-2---Elements-of-Matrix-Theory\" data-toc-modified-id=\"Chapter-2---Elements-of-Matrix-Theory-1\">Chapter 2 - Elements of Matrix Theory</a></span><ul class=\"toc-item\"><li><span><a href=\"#2.1.2-The-Jordan-Normal-Form\" data-toc-modified-id=\"2.1.2-The-Jordan-Normal-Form-1.1\">2.1.2 The Jordan Normal Form</a></span><ul class=\"toc-item\"><li><span><a href=\"#Example-2.5-Revisiting-the-wireless-sensor-network-example\" data-toc-modified-id=\"Example-2.5-Revisiting-the-wireless-sensor-network-example-1.1.1\">Example 2.5 Revisiting the wireless sensor network example</a></span></li><li><span><a href=\"#NumPy/-SciPy-approach\" data-toc-modified-id=\"NumPy/-SciPy-approach-1.1.2\">NumPy/ SciPy approach</a></span></li><li><span><a href=\"#SymPy-approach\" data-toc-modified-id=\"SymPy-approach-1.1.3\">SymPy approach</a></span></li></ul></li><li><span><a href=\"#2.1.3-Semi-convergence-and-convergence-for-discrete-time-linear-systems\" data-toc-modified-id=\"2.1.3-Semi-convergence-and-convergence-for-discrete-time-linear-systems-1.2\">2.1.3 Semi-convergence and convergence for discrete-time linear systems</a></span><ul class=\"toc-item\"><li><span><a href=\"#Definition-2.6-(Spectrum-and-spectral-radius-of-a-matrix)\" data-toc-modified-id=\"Definition-2.6-(Spectrum-and-spectral-radius-of-a-matrix)-1.2.1\">Definition 2.6 (Spectrum and spectral radius of a matrix)</a></span></li></ul></li><li><span><a href=\"#2.2.1-The-spectral-radius-for-row-stochastic-matrices\" data-toc-modified-id=\"2.2.1-The-spectral-radius-for-row-stochastic-matrices-1.3\">2.2.1 The spectral radius for row-stochastic matrices</a></span><ul class=\"toc-item\"><li><span><a href=\"#Theorem-2.8-(Geršgorin-Disks-Theorem)\" data-toc-modified-id=\"Theorem-2.8-(Geršgorin-Disks-Theorem)-1.3.1\">Theorem 2.8 (Geršgorin Disks Theorem)</a></span></li></ul></li><li><span><a href=\"#2.3.3-Applications-to-matrix-powers-and-averaging-systems\" data-toc-modified-id=\"2.3.3-Applications-to-matrix-powers-and-averaging-systems-1.4\">2.3.3 Applications to matrix powers and averaging systems</a></span><ul class=\"toc-item\"><li><span><a href=\"#Theorem-2.13-(Powers-of-non-negative-matrices-with-a-simple-and-strictly-dominant-eigenvalue)\" data-toc-modified-id=\"Theorem-2.13-(Powers-of-non-negative-matrices-with-a-simple-and-strictly-dominant-eigenvalue)-1.4.1\">Theorem 2.13 (Powers of non-negative matrices with a simple and strictly dominant eigenvalue)</a></span><ul class=\"toc-item\"><li><span><a href=\"#Example-2.14-Wireless-sensor-network\" data-toc-modified-id=\"Example-2.14-Wireless-sensor-network-1.4.1.1\">Example 2.14 Wireless sensor network</a></span></li></ul></li></ul></li><li><span><a href=\"#Exercises-2.18\" data-toc-modified-id=\"Exercises-2.18-1.5\">Exercises 2.18</a></span></li></ul></li></ul></div>"
   ]
  },
  {
   "cell_type": "code",
   "execution_count": 1,
   "metadata": {},
   "outputs": [],
   "source": [
    "%matplotlib widget\n",
    "\n",
    "# Import packages\n",
    "import scipy.linalg as spla\n",
    "import numpy as np\n",
    "import matplotlib.pyplot as plt\n",
    "import matplotlib as mpl\n",
    "import networkx as nx\n",
    "from sympy import Matrix\n",
    "import sys, os\n",
    "# For interactive graphs\n",
    "import ipywidgets as widgets\n",
    "\n",
    "# Import self defined functions\n",
    "#import ch1_lib  # Chapter 1 specific library\n",
    "sys.path.insert(1, os.path.join(sys.path[0], '..'))  # Need to call this for importing library from parent folder\n",
    "import lib  # General library\n",
    "\n",
    "# Settings\n",
    "custom_figsize= (6, 4) # Might need to change this value to fit the figures to your screen\n",
    "custom_figsize_square = (5, 5)  "
   ]
  },
  {
   "cell_type": "code",
   "execution_count": 2,
   "metadata": {},
   "outputs": [],
   "source": [
    "def matprint(mat, fmt=\"g\"):\n",
    "    \"\"\"\n",
    "    Own defined function to beautiful print matrices in the output.\n",
    "    \"\"\"\n",
    "    # Handling 1d-arrays\n",
    "    if np.ndim(mat) == 1:\n",
    "        mat = mat.reshape(mat.shape[0], 1)\n",
    "    # Handling column spaces\n",
    "    col_maxes = [max([len((\"{:\"+fmt+\"}\").format(x)) for x in col]) for col in mat.T]\n",
    "\n",
    "    for x in mat:\n",
    "        for i, y in enumerate(x):\n",
    "            if i == 0:\n",
    "                print((\"|  {:\"+str(col_maxes[i])+fmt+\"}\").format(y), end=\"  \")\n",
    "            else:                    \n",
    "                print((\"{:\"+str(col_maxes[i])+fmt+\"}\").format(y), end=\"  \")\n",
    "        print(\"|\")\n",
    "\n",
    "\n",
    "def plot_spectrum(M, ax):\n",
    "    \"\"\"\n",
    "    Scatter plot of eigs in complex plane overlayed by radius circle\n",
    "    \"\"\"\n",
    "    eigvals = spla.eig(M)[0]  # Extract only eigenvalues\n",
    "    \n",
    "    ax.scatter(eigvals.real, eigvals.imag)\n",
    "    ax.set_xlim(-1.05,1.05)\n",
    "    ax.set_ylim(-1.05,1.05)\n",
    "    \n",
    "    r = max(abs(eigvals))  # Note: abs() automatically calculated the magnitude of complex values\n",
    "    circle=mpl.patches.Circle((0,0),radius=r,alpha=.2,ec='black')\n",
    "    ax.add_patch(circle)\n",
    "    ax.axhline(0, color='black', ls='--', linewidth=1)\n",
    "    ax.axvline(0, color='black', ls='--', linewidth=1)\n",
    "    return eigvals, ax\n",
    "\n",
    "\n",
    "def plot_gersgorin_disks(M, ax):\n",
    "    \"\"\"\n",
    "    Scatter plot of eigenvalues overlayed with gersgorin disks (marked with green edges)\n",
    "    \"\"\"\n",
    "    eigvals, ax = plot_spectrum(M, ax)\n",
    "    \n",
    "    row_sums = M.sum(axis=1)\n",
    "    for i in range(M.shape[0]):\n",
    "        ax.add_patch(mpl.patches.Circle((M[i,i],0),radius=row_sums[i]-M[i,i],\n",
    "                                    alpha=.6/M.shape[0], ec='green'))"
   ]
  },
  {
   "cell_type": "markdown",
   "metadata": {},
   "source": [
    "**TODO:**\n",
    "\n",
    "Chapter 2:\n",
    "- randomly generate a matrix, compute Jordan form, plot spectrum  -- DONE\n",
    "- randomly generate a matrix and plot the Gersgorin disks -- DONE\n",
    "- compute powers of a primitive row-stochastic matrix and show it converges to rank 1 -- DONE\n",
    "- illustrate dynamics of algorithms 2.18 and 2.19"
   ]
  },
  {
   "cell_type": "markdown",
   "metadata": {},
   "source": [
    "# Chapter 2 - Elements of Matrix Theory\n",
    "These Jupyter Notebook scripts contain some examples, visualization and supplements accompanying the book \"Lectures on Network Systems\" by Francesco Bullo http://motion.me.ucsb.edu/book-lns/. These scripts are published with the MIT license. **Make sure to run the first cell above to import all necessary packages and functions and adapt settings in case.** In this script it is necessary to execute cell by cell chronologically due to reocurring examples. (Tip: Use the shortcut Shift+Enter to execute each cell). Most of the functions are kept in separate files to keep this script neat."
   ]
  },
  {
   "cell_type": "markdown",
   "metadata": {},
   "source": [
    "## 2.1.2 The Jordan Normal Form\n",
    "### Example 2.5 Revisiting the wireless sensor network example\n",
    "The following cells are showing the computation of the Jordan Normal Form $J$, the invertible transformation matrix $T$ and some of its dependencies. "
   ]
  },
  {
   "cell_type": "code",
   "execution_count": 3,
   "metadata": {},
   "outputs": [],
   "source": [
    "# Defining the A matrix again\n",
    "A = np.array([[1/2, 1/2, 0., 0.],\n",
    "              [1/4, 1/4, 1/4, 1/4],\n",
    "              [0., 1/3, 1/3, 1/3],\n",
    "              [0., 1/3, 1/3, 1/3]\n",
    "])"
   ]
  },
  {
   "cell_type": "markdown",
   "metadata": {},
   "source": [
    "There is the possibility to calculate the Jordan Normal Form directly with the package SymPy https://docs.sympy.org/latest/index.html. However, we are determining the Jordan Normal Form via determining the generalized eigenvectors (read more for literature recommendations about generalized eigenvectors in the book) with the SciPy package first to discuss some possibilities and problems with non symbolic toolboxes.\n",
    "\n",
    "### NumPy/ SciPy approach\n",
    "\n",
    "From the documentation of scipy.linalg.eig: *'Solve an ordinary or generalized eigenvalue problem of a square matrix.'*"
   ]
  },
  {
   "cell_type": "code",
   "execution_count": 4,
   "metadata": {},
   "outputs": [],
   "source": [
    "# Right eigenvectors\n",
    "lambdas, eigv = spla.eig(A)\n",
    "\n",
    "# Left eigenvectors\n",
    "lambdas2, eigw = spla.eig(A.T)"
   ]
  },
  {
   "cell_type": "markdown",
   "metadata": {},
   "source": [
    "Due to numerical instabilities, the zero values are not reflected and it can be seen, how the expected eigenvalue of 1 is not precise. The zeros can be fixed with:"
   ]
  },
  {
   "cell_type": "code",
   "execution_count": 5,
   "metadata": {},
   "outputs": [
    {
     "name": "stdout",
     "output_type": "stream",
     "text": [
      "Right eigenvectors:\n",
      "|  -0.5  0.855025   0.555542          0  |\n",
      "|  -0.5  0.110013  -0.719612          0  |\n",
      "|  -0.5  -0.35835   0.294561  -0.707107  |\n",
      "|  -0.5  -0.35835   0.294561   0.707107  |\n",
      "\n",
      "\n",
      "Left eigenvectors:\n",
      "|  0.324443  -0.733894  -0.333766          0  |\n",
      "|  0.648886  -0.188856   0.864677          0  |\n",
      "|  0.486664   0.461375  -0.265456  -0.707107  |\n",
      "|  0.486664   0.461375  -0.265456   0.707107  |\n",
      "\n",
      "\n",
      "Eigenvalues (right):\n",
      "|          1+0j  |\n",
      "|   0.564333+0j  |\n",
      "|  -0.147667+0j  |\n",
      "|          0+0j  |\n",
      "\n",
      "\n",
      "Eigenvalues (left) for matching later:\n",
      "|          1+0j  |\n",
      "|   0.564333+0j  |\n",
      "|  -0.147667+0j  |\n",
      "|          0+0j  |\n"
     ]
    }
   ],
   "source": [
    "def correct_close_to_zero(M, tol=1e-12):\n",
    "    M.real[abs(M.real) < tol] = 0.0\n",
    "    if M.imag.any():\n",
    "        M.imag[abs(M.imag) < tol] = 0.0\n",
    "    return M\n",
    "\n",
    "eigv_cor = correct_close_to_zero(eigv)\n",
    "eigw_cor = correct_close_to_zero(eigw)\n",
    "lambdas_cor = correct_close_to_zero(lambdas)\n",
    "lambdas2_cor = correct_close_to_zero(lambdas2)\n",
    "\n",
    "print(\"Right eigenvectors:\")\n",
    "matprint(eigv_cor)\n",
    "print(\"\\n\")\n",
    "print(\"Left eigenvectors:\")\n",
    "matprint(eigw_cor)\n",
    "print(\"\\n\")\n",
    "print(\"Eigenvalues (right):\")\n",
    "matprint(lambdas_cor)\n",
    "print(\"\\n\")\n",
    "print(\"Eigenvalues (left) for matching later:\")\n",
    "matprint(lambdas2_cor)"
   ]
  },
  {
   "cell_type": "markdown",
   "metadata": {},
   "source": [
    "There are two options now for $T^{-1}$: Taking the inverse of the right eigenvectors (which contains again numerical instabilities) or building it from the left eigenvectors, what would include some sorting to match the eigenvalue order from the  right eigenvector (often it is the case, that they are already aligned since calling scipy.linalg.eig twice on a matrix with the same eigenvalues)."
   ]
  },
  {
   "cell_type": "code",
   "execution_count": 6,
   "metadata": {},
   "outputs": [],
   "source": [
    "T = eigv_cor.copy()*-1  # Rescale the eigenvectors to match eigenvalues later\n",
    "# Sorting if necessary, remember to use transpose, since in T^-1 the rows represent the left eigenvectors.\n",
    "Tinv = eigw_cor.T.copy()"
   ]
  },
  {
   "cell_type": "markdown",
   "metadata": {},
   "source": [
    "Now we can simply compute J, when compared, is fairly close to the solution in the book, however, due to numerical intabilities not precise. Further on, the order of the eigenvalues might be different than the on from the book."
   ]
  },
  {
   "cell_type": "code",
   "execution_count": 7,
   "metadata": {},
   "outputs": [
    {
     "name": "stdout",
     "output_type": "stream",
     "text": [
      "Jordan Normal Form via SciPy/Numpy:\n",
      "|  0.973329        0          0  0  |\n",
      "|         0  0.55245          0  0  |\n",
      "|         0        0  -0.142357  0  |\n",
      "|         0        0          0  0  |\n"
     ]
    }
   ],
   "source": [
    "J = correct_close_to_zero(Tinv@A@T)\n",
    "print(\"Jordan Normal Form via SciPy/Numpy:\")\n",
    "matprint(J)"
   ]
  },
  {
   "cell_type": "markdown",
   "metadata": {},
   "source": [
    "### SymPy approach\n",
    "\n",
    "Now we use a symbolic toolbox package SymPy from python as a blackbox. Note, that also here the order of the eigenvalues might be different!"
   ]
  },
  {
   "cell_type": "code",
   "execution_count": 8,
   "metadata": {},
   "outputs": [],
   "source": [
    "Asym = Matrix(A) # Sympy Matrix toolbox object\n",
    "Tsym, Jsym = Asym.jordan_form()"
   ]
  },
  {
   "cell_type": "markdown",
   "metadata": {},
   "source": [
    "Here we can compare them with our previous results:"
   ]
  },
  {
   "cell_type": "code",
   "execution_count": 9,
   "metadata": {},
   "outputs": [
    {
     "name": "stdout",
     "output_type": "stream",
     "text": [
      "Jordan Normal Form SymPy:\n",
      "|  0  0          0         0  |\n",
      "|  0  1          0         0  |\n",
      "|  0  0  -0.147667         0  |\n",
      "|  0  0          0  0.564333  |\n",
      "Jordan Normal Form SciPy:\n",
      "|  0.973329        0          0  0  |\n",
      "|         0  0.55245          0  0  |\n",
      "|         0        0  -0.142357  0  |\n",
      "|         0        0          0  0  |\n"
     ]
    }
   ],
   "source": [
    "print(\"Jordan Normal Form SymPy:\")\n",
    "matprint(np.array(Jsym).astype(np.float64))\n",
    "print(\"Jordan Normal Form SciPy:\")\n",
    "matprint(J)"
   ]
  },
  {
   "cell_type": "markdown",
   "metadata": {},
   "source": [
    "## 2.1.3 Semi-convergence and convergence for discrete-time linear systems\n"
   ]
  },
  {
   "cell_type": "markdown",
   "metadata": {},
   "source": [
    "### Definition 2.6 (Spectrum and spectral radius of a matrix)\n",
    "We display the spectrum of the previous A matrix with the spectrum radius for visualization purpose. Additionally, we also show how the spectrum of a randomly generated matrix."
   ]
  },
  {
   "cell_type": "code",
   "execution_count": 10,
   "metadata": {},
   "outputs": [
    {
     "data": {
      "application/vnd.jupyter.widget-view+json": {
       "model_id": "9814fb35abc947c18516abf32a74e36a",
       "version_major": 2,
       "version_minor": 0
      },
      "text/plain": [
       "Canvas(toolbar=Toolbar(toolitems=[('Home', 'Reset original view', 'home', 'home'), ('Back', 'Back to previous …"
      ]
     },
     "metadata": {},
     "output_type": "display_data"
    }
   ],
   "source": [
    "fig, ax213 = plt.subplots(figsize=custom_figsize_square)\n",
    "plot_spectrum(A, ax213);"
   ]
  },
  {
   "cell_type": "code",
   "execution_count": 11,
   "metadata": {},
   "outputs": [
    {
     "data": {
      "application/vnd.jupyter.widget-view+json": {
       "model_id": "fc6c31276df04f3587cbce9afb27a93b",
       "version_major": 2,
       "version_minor": 0
      },
      "text/plain": [
       "Canvas(toolbar=Toolbar(toolitems=[('Home', 'Reset original view', 'home', 'home'), ('Back', 'Back to previous …"
      ]
     },
     "metadata": {},
     "output_type": "display_data"
    }
   ],
   "source": [
    "n_M1=8\n",
    "\n",
    "# A unifornmly distributed, positive, row stochastic matrix vs not row stochastic\n",
    "M1 = np.random.uniform(0, 1,(n_M1,n_M1))\n",
    "M1 = M1 / M1.sum(axis=1, keepdims=1) # Row-stochastic\n",
    "M2 = M1 - 0.05 # Not row-stochastic\n",
    "\n",
    "fig, (ax2131, ax2132) = plt.subplots(1,2, figsize=(custom_figsize_square[0]*2, custom_figsize_square[1]))\n",
    "plot_spectrum(M1, ax2131);\n",
    "plot_spectrum(M2, ax2132);"
   ]
  },
  {
   "cell_type": "markdown",
   "metadata": {},
   "source": [
    "## 2.2.1 The spectral radius for row-stochastic matrices\n",
    "### Theorem 2.8 (Geršgorin Disks Theorem)\n",
    "\n",
    "Similar to before, the Geršgorin Disks are now visualized for a row-stochastic matrix and another matrix."
   ]
  },
  {
   "cell_type": "code",
   "execution_count": 12,
   "metadata": {},
   "outputs": [
    {
     "data": {
      "application/vnd.jupyter.widget-view+json": {
       "model_id": "11440c4724244837a1ef918ab60c6b64",
       "version_major": 2,
       "version_minor": 0
      },
      "text/plain": [
       "Canvas(toolbar=Toolbar(toolitems=[('Home', 'Reset original view', 'home', 'home'), ('Back', 'Back to previous …"
      ]
     },
     "metadata": {},
     "output_type": "display_data"
    }
   ],
   "source": [
    "fig, (ax2211, ax2212) = plt.subplots(1,2, figsize=(custom_figsize_square[0]*2, custom_figsize_square[1]))\n",
    "plot_gersgorin_disks(M1, ax2211)\n",
    "plot_gersgorin_disks(M2, ax2212)"
   ]
  },
  {
   "cell_type": "markdown",
   "metadata": {},
   "source": [
    "## 2.3.3 Applications to matrix powers and averaging systems\n",
    "\n",
    "### Theorem 2.13 (Powers of non-negative matrices with a simple and strictly dominant eigenvalue)\n",
    "\n",
    "Here is an example for Theorem 2.13, which shows, how the powers of primitive, row-stochastic matrices converges to rank 1. This is also done for the wireless sensor network example.\n",
    "\n",
    "#### Example 2.14 Wireless sensor network\n",
    "In the book it is shown, that the wireless sensor network matrix is primitive. Here, the eigenvectors and eigenvalues are printed again and compared for the semi convergence result $\\lim_{k \\to \\infty} A^k = \\mathbb{1}_n w^T$ to demonstrate Theorem 2.13 for a row-stochastic matrix. "
   ]
  },
  {
   "cell_type": "code",
   "execution_count": 13,
   "metadata": {},
   "outputs": [
    {
     "name": "stdout",
     "output_type": "stream",
     "text": [
      "Left eigenvectors of A:\n",
      "|  0.324443  -0.733894  -0.333766          0  |\n",
      "|  0.648886  -0.188856   0.864677          0  |\n",
      "|  0.486664   0.461375  -0.265456  -0.707107  |\n",
      "|  0.486664   0.461375  -0.265456   0.707107  |\n",
      "\n",
      "\n",
      "Eigenvalues (left) of A:\n",
      "|          1+0j  |\n",
      "|   0.564333+0j  |\n",
      "|  -0.147667+0j  |\n",
      "|          0+0j  |\n",
      "\n",
      "\n",
      "Normalizing dominant eigenvector:\n",
      "|  0.166667  |\n",
      "|  0.333333  |\n",
      "|      0.25  |\n",
      "|      0.25  |\n",
      "\n",
      "\n",
      "Convergence result of A:\n",
      "|  0.166667  0.333333  0.25  0.25  |\n",
      "|  0.166667  0.333333  0.25  0.25  |\n",
      "|  0.166667  0.333333  0.25  0.25  |\n",
      "|  0.166667  0.333333  0.25  0.25  |\n",
      "\n",
      "\n",
      "equals 1n*w^T\n",
      "|  0.166667  0.333333  0.25  0.25  |\n",
      "|  0.166667  0.333333  0.25  0.25  |\n",
      "|  0.166667  0.333333  0.25  0.25  |\n",
      "|  0.166667  0.333333  0.25  0.25  |\n"
     ]
    }
   ],
   "source": [
    "print(\"Left eigenvectors of A:\")\n",
    "matprint(eigw_cor)\n",
    "print(\"\\n\")\n",
    "\n",
    "print(\"Eigenvalues (left) of A:\")\n",
    "matprint(lambdas2_cor)\n",
    "print(\"\\n\")\n",
    "\n",
    "print(\"Normalizing dominant eigenvector:\")\n",
    "dom_eigv = eigw_cor[:, 0] / sum(eigw_cor[:, 0])\n",
    "matprint(dom_eigv)\n",
    "print(\"\\n\")\n",
    "\n",
    "print(\"Convergence result of A:\")\n",
    "matprint(np.linalg.matrix_power(A, 50))\n",
    "print(\"\\n\")\n",
    "\n",
    "print(\"equals 1n*w^T\")\n",
    "matprint(np.ones((4,1))@dom_eigv[:, None].T)"
   ]
  },
  {
   "cell_type": "markdown",
   "metadata": {},
   "source": [
    "Below is a randomly generated example to show, that primitive, row-stochastic matrices always converge to rank 1. *Note: The code is not robust for semisimple eigenvalue of 1*"
   ]
  },
  {
   "cell_type": "code",
   "execution_count": 14,
   "metadata": {},
   "outputs": [
    {
     "name": "stdout",
     "output_type": "stream",
     "text": [
      "Random matrix M:\n",
      "|  0.0996755  0.256674   0.433941  0.109456  0.100254  |\n",
      "|   0.243224  0.258228  0.0224174  0.229752  0.246379  |\n",
      "|  0.0481518   0.16604   0.206573  0.261977  0.317258  |\n",
      "|   0.245418  0.249716   0.108696  0.206788  0.189382  |\n",
      "|   0.241137   0.22566   0.167584  0.199628  0.165991  |\n",
      "\n",
      "\n",
      "Left eigenvectors of M:\n",
      "|  -0.406023+0j  -0.197261+0.474913j  -0.197261-0.474913j  -0.283914+0j   0.0782096+0j  |\n",
      "|  -0.518969+0j   0.129516+0.172062j   0.129516-0.172062j   -0.73846+0j    0.455553+0j  |\n",
      "|  -0.394544+0j          0.569211+0j          0.569211+0j   0.287624+0j  -0.0722244+0j  |\n",
      "|   -0.45107+0j  -0.256574-0.200861j  -0.256574+0.200861j   0.470845+0j   -0.811557+0j  |\n",
      "|  -0.454629+0j  -0.244892-0.446114j  -0.244892+0.446114j   0.263906+0j    0.350019+0j  |\n",
      "\n",
      "\n",
      "Eigenvalues (left) of M:\n",
      "|                 1+0j  |\n",
      "|  -0.0598045+0.19913j  |\n",
      "|  -0.0598045-0.19913j  |\n",
      "|         0.0523745+0j  |\n",
      "|        0.00448867+0j  |\n",
      "\n",
      "\n",
      "Normalizing dominant eigenvector:\n",
      "|  0.182463-0j  |\n",
      "|   0.23322-0j  |\n",
      "|  0.177305-0j  |\n",
      "|  0.202707-0j  |\n",
      "|  0.204306-0j  |\n",
      "\n",
      "\n",
      "Convergence result of M:\n",
      "|  0.182463  0.23322  0.177305  0.202707  0.204306  |\n",
      "|  0.182463  0.23322  0.177305  0.202707  0.204306  |\n",
      "|  0.182463  0.23322  0.177305  0.202707  0.204306  |\n",
      "|  0.182463  0.23322  0.177305  0.202707  0.204306  |\n",
      "|  0.182463  0.23322  0.177305  0.202707  0.204306  |\n",
      "\n",
      "\n",
      "equals 1n*w^T\n",
      "|  0.182463+0j  0.23322+0j  0.177305+0j  0.202707+0j  0.204306+0j  |\n",
      "|  0.182463+0j  0.23322+0j  0.177305+0j  0.202707+0j  0.204306+0j  |\n",
      "|  0.182463+0j  0.23322+0j  0.177305+0j  0.202707+0j  0.204306+0j  |\n",
      "|  0.182463+0j  0.23322+0j  0.177305+0j  0.202707+0j  0.204306+0j  |\n",
      "|  0.182463+0j  0.23322+0j  0.177305+0j  0.202707+0j  0.204306+0j  |\n"
     ]
    }
   ],
   "source": [
    "# Creating a new random primitive (positiv), row stochastic matrix here\n",
    "n_M11=5\n",
    "M11 = np.random.uniform(0, 1,(n_M11,n_M11))\n",
    "M11 = M11 / M11.sum(axis=1, keepdims=1) # Row-stochastic\n",
    "print(\"Random primitive row-stochastic matrix M:\")\n",
    "matprint(M11)\n",
    "print(\"\\n\")\n",
    "\n",
    "print(\"Left eigenvectors of M:\")\n",
    "l_M, m_eigv = spla.eig(M11.T)\n",
    "m_eigv = correct_close_to_zero(m_eigv)\n",
    "l_M = correct_close_to_zero(l_M)\n",
    "matprint(m_eigv)\n",
    "print(\"\\n\")\n",
    "\n",
    "print(\"Eigenvalues (left) of M:\")\n",
    "matprint(l_M)\n",
    "print(\"\\n\")\n",
    "\n",
    "# Here we check the position with numerical unprecision of the eigenvalue 1\n",
    "print(\"Normalizing dominant eigenvector:\")\n",
    "idx_dom = np.where(abs(l_M - 1) < 0.005)[0][0]\n",
    "dom_eigv_M = m_eigv[:, 0] / sum(m_eigv[:, 0])\n",
    "matprint(dom_eigv_M)\n",
    "print(\"\\n\")\n",
    "\n",
    "print(\"Convergence result of M:\")\n",
    "matprint(np.linalg.matrix_power(M11, 500))\n",
    "print(\"\\n\")\n",
    "\n",
    "print(\"equals 1n*w^T\")\n",
    "matprint(np.ones((n_M11,1))@dom_eigv_M[:, None].T)"
   ]
  },
  {
   "cell_type": "markdown",
   "metadata": {},
   "source": [
    "## Exercises 2.18\n",
    "\n",
    "This is similar to exercise 1.4, however, here we actually visualize the graph and its node values. Additionally, we show that the values converge to the initial values multiplied b the dominant left eigenvector as presented in Theorem 2.13 for row stochastic matrices.\n",
    "\n",
    "First, we define the graphs and their adjacency Matrix A and simulate the results."
   ]
  },
  {
   "cell_type": "code",
   "execution_count": 8,
   "metadata": {},
   "outputs": [],
   "source": [
    "# Define x_0\n",
    "xinitial = np.array([1., -1., 1., -1., 1.])\n",
    "\n",
    "# Defining the 3 different systems.\n",
    "# Complete graph\n",
    "A_complete = np.ones((5,5)) / 5\n",
    "\n",
    "# Cycle graph\n",
    "A_cycle = np.array([\n",
    "    [1/3, 1/3, 0, 0, 1/3],\n",
    "    [1/3, 1/3, 1/3, 0, 0],\n",
    "    [0, 1/3, 1/3, 1/3, 0],\n",
    "    [0, 0, 1/3, 1/3, 1/3],\n",
    "    [1/3, 0, 0, 1/3,  1/3] ]  )\n",
    "\n",
    "\n",
    "# Star topology. center = node 1\n",
    "A_star = np.array([\n",
    "    [1/5, 1/5, 1/5, 1/5, 1/5],\n",
    "    [1/2, 1/2, 0, 0, 0], \n",
    "    [1/2, 0, 1/2, 0, 0],\n",
    "    [1/2, 0, 0, 1/2, 0],\n",
    "    [1/2, 0, 0, 0, 1/2]   ])\n",
    "\n",
    "# Defining simulation time\n",
    "ts = 15\n",
    "\n",
    "# Defining graphs for plotting later\n",
    "n = 5\n",
    "G_star = nx.star_graph(n-1)\n",
    "pos_star = {0:[0.5,0.8], 1:[0.2,0.6],2:[.4,.2],3:[.6,.2],4:[.8,.6]}\n",
    "G_cycle = nx.cycle_graph(n)\n",
    "pos_cycle = {0:[0.5,0.8], 1:[0.35,0.6],2:[.4,.3],3:[.6,.3],4:[.65,.6]}\n",
    "G_complete = nx.complete_graph(n)\n",
    "pos_complete = pos_cycle.copy()\n",
    "\n",
    "# Simulating and saving each network\n",
    "states_complete = lib.simulate_network(A_complete,xinitial, ts)\n",
    "states_star = lib.simulate_network(A_star,xinitial, ts)\n",
    "states_cycle = lib.simulate_network(A_cycle,xinitial, ts)"
   ]
  },
  {
   "cell_type": "markdown",
   "metadata": {},
   "source": [
    "**Complete graph**\n",
    "\n",
    "Showing complete graph interactive simulation and Theorem 2.13"
   ]
  },
  {
   "cell_type": "code",
   "execution_count": 23,
   "metadata": {},
   "outputs": [
    {
     "data": {
      "application/vnd.jupyter.widget-view+json": {
       "model_id": "be9f23a4e4014a63ab0e7b5aaafdf17a",
       "version_major": 2,
       "version_minor": 0
      },
      "text/plain": [
       "Canvas(toolbar=Toolbar(toolitems=[('Home', 'Reset original view', 'home', 'home'), ('Back', 'Back to previous …"
      ]
     },
     "metadata": {},
     "output_type": "display_data"
    },
    {
     "data": {
      "application/vnd.jupyter.widget-view+json": {
       "model_id": "63a16f8ccee240efaf09928170eea37b",
       "version_major": 2,
       "version_minor": 0
      },
      "text/plain": [
       "VBox(children=(Play(value=0, interval=1000, max=14), IntSlider(value=0, max=14)))"
      ]
     },
     "metadata": {},
     "output_type": "display_data"
    },
    {
     "name": "stdout",
     "output_type": "stream",
     "text": [
      "Showing Theorem 2.13 for the complete graph\n",
      "Dominant eigenvector: \n",
      " [0.2 0.2 0.2 0.2 0.2]\n",
      "Final values : \n",
      " [0.2 0.2 0.2 0.2 0.2]\n"
     ]
    }
   ],
   "source": [
    "fig, ax2181 = plt.subplots(figsize=custom_figsize)\n",
    "\n",
    "# Putting some simulations parts into custom functions\n",
    "def interactive_network_plot(G, states, pos, t, fig, ax):\n",
    "    fig, v_bound, pos = lib.init_network_sim_plot(G, states, fig, pos=pos)\n",
    "\n",
    "    def inter(timestep):\n",
    "        lib.update_network(timestep['new'], G=G, states_m=states, ax=ax, vbound=v_bound, pos=pos)\n",
    "        return None\n",
    "\n",
    "    # Plot initial configuration\n",
    "    lib.update_network(0, G=G, states_m=states, ax=ax, vbound=v_bound, pos=pos)\n",
    "\n",
    "    widget = lib.create_widgets_play_slider(fnc=inter, minv=0, maxv=t-1, step=1, play_speed=1000)\n",
    "\n",
    "    return widget\n",
    "\n",
    "# If this cell is executed twice we are making sure in the following, that the previous widget instances are all closed\n",
    "try:\n",
    "    [c.close() for c in widget2181.children]  # Note: close_all() does also affect plot, thus list compr.\n",
    "except NameError:  # Only want to except not defined variable error\n",
    "    pass\n",
    "\n",
    "widget2181 = interactive_network_plot(G_complete, states_complete, pos_complete, ts, fig, ax2181)\n",
    "\n",
    "display(widget2181)\n",
    "\n",
    "# Verifying the results\n",
    "eigval, eigvec = np.linalg.eig(A_complete.transpose())\n",
    "idx_dom = np.argmax(eigval)\n",
    "dom_eigvec = eigvec[0:5,idx_dom]/eigvec[0:5,idx_dom].sum()\n",
    "print(\"Showing Theorem 2.13 for the complete graph\")\n",
    "print(\"Dominant eigenvector: \\n\", dom_eigvec)\n",
    "print(\"Final values : \\n\", xinitial@dom_eigvec*np.ones(5))"
   ]
  },
  {
   "cell_type": "markdown",
   "metadata": {},
   "source": [
    "**Star graph**\n",
    "\n",
    "Showing star graph interactive simulation and Theorem 2.13"
   ]
  },
  {
   "cell_type": "code",
   "execution_count": 24,
   "metadata": {},
   "outputs": [
    {
     "data": {
      "application/vnd.jupyter.widget-view+json": {
       "model_id": "41e79135963f408e9b97b91c55f1adce",
       "version_major": 2,
       "version_minor": 0
      },
      "text/plain": [
       "Canvas(toolbar=Toolbar(toolitems=[('Home', 'Reset original view', 'home', 'home'), ('Back', 'Back to previous …"
      ]
     },
     "metadata": {},
     "output_type": "display_data"
    },
    {
     "data": {
      "application/vnd.jupyter.widget-view+json": {
       "model_id": "0a3142b27142474689d5b7875b77bb70",
       "version_major": 2,
       "version_minor": 0
      },
      "text/plain": [
       "VBox(children=(Play(value=0, interval=1000, max=14), IntSlider(value=0, max=14)))"
      ]
     },
     "metadata": {},
     "output_type": "display_data"
    },
    {
     "name": "stdout",
     "output_type": "stream",
     "text": [
      "Showing Theorem 2.13 for the star graph\n",
      "Dominant eigenvector: \n",
      " [0.38461538 0.15384615 0.15384615 0.15384615 0.15384615]\n",
      "Final values : \n",
      " [0.38461538 0.38461538 0.38461538 0.38461538 0.38461538]\n"
     ]
    }
   ],
   "source": [
    "fig, ax2182 = plt.subplots(figsize=custom_figsize)\n",
    "\n",
    "# If this cell is executed twice we are making sure in the following, that the previous widget instances are all closed\n",
    "try:\n",
    "    [c.close() for c in widget2182.children]  # Note: close_all() does also affect plot, thus list compr.\n",
    "except NameError:  # Only want to except not defined variable error\n",
    "    pass\n",
    "\n",
    "widget2182 = interactive_network_plot(G_star, states_star, pos_star, ts, fig, ax2182)\n",
    "\n",
    "display(widget2182)\n",
    "\n",
    "# Verifying the results\n",
    "eigval, eigvec = np.linalg.eig(A_star.transpose() )\n",
    "idx_dom = np.argmax(eigval)\n",
    "dom_eigvec = eigvec[0:5,idx_dom]/eigvec[0:5,idx_dom].sum()\n",
    "print(\"Showing Theorem 2.13 for the star graph\")\n",
    "print(\"Dominant eigenvector: \\n\", dom_eigvec)\n",
    "print(\"Final values : \\n\", xinitial@dom_eigvec*np.ones(5))"
   ]
  },
  {
   "cell_type": "markdown",
   "metadata": {},
   "source": [
    "**Cycle graph**\n",
    "\n",
    "Showing cycle graph interactive simulation and Theorem 2.13"
   ]
  },
  {
   "cell_type": "code",
   "execution_count": 27,
   "metadata": {},
   "outputs": [
    {
     "data": {
      "application/vnd.jupyter.widget-view+json": {
       "model_id": "6f711342d8ae49c090a716d9c7d28f5c",
       "version_major": 2,
       "version_minor": 0
      },
      "text/plain": [
       "Canvas(toolbar=Toolbar(toolitems=[('Home', 'Reset original view', 'home', 'home'), ('Back', 'Back to previous …"
      ]
     },
     "metadata": {},
     "output_type": "display_data"
    },
    {
     "data": {
      "application/vnd.jupyter.widget-view+json": {
       "model_id": "8f50077ea5824e13b8692af9f8042a9f",
       "version_major": 2,
       "version_minor": 0
      },
      "text/plain": [
       "VBox(children=(Play(value=0, interval=1000, max=14), IntSlider(value=0, max=14)))"
      ]
     },
     "metadata": {},
     "output_type": "display_data"
    },
    {
     "name": "stdout",
     "output_type": "stream",
     "text": [
      "Showing Theorem 2.13 for the cycle graph\n",
      "Dominant eigenvector: \n",
      " [0.2 0.2 0.2 0.2 0.2]\n",
      "Final values : \n",
      " [0.2 0.2 0.2 0.2 0.2]\n"
     ]
    }
   ],
   "source": [
    "fig, ax2183 = plt.subplots(figsize=custom_figsize)\n",
    "\n",
    "# If this cell is executed twice we are making sure in the following, that the previous widget instances are all closed\n",
    "try:\n",
    "    [c.close() for c in widget2183.children]  # Note: close_all() does also affect plot, thus list compr.\n",
    "except NameError:  # Only want to except not defined variable error\n",
    "    pass\n",
    "\n",
    "widget2183 = interactive_network_plot(G_cycle, states_cycle, pos_cycle, ts, fig, ax2183)\n",
    "\n",
    "display(widget2183)\n",
    "\n",
    "# Verifying the results\n",
    "eigval, eigvec = np.linalg.eig(A_cycle.transpose())\n",
    "idx_dom = np.argmax(eigval)\n",
    "dom_eigvec = eigvec[0:5,idx_dom]/eigvec[0:5,idx_dom].sum()\n",
    "print(\"Showing Theorem 2.13 for the cycle graph\")\n",
    "print(\"Dominant eigenvector: \\n\", dom_eigvec)\n",
    "print(\"Final values : \\n\", xinitial@dom_eigvec*np.ones(5))"
   ]
  },
  {
   "cell_type": "code",
   "execution_count": null,
   "metadata": {},
   "outputs": [],
   "source": []
  }
 ],
 "metadata": {
  "kernelspec": {
   "display_name": "Python 3 (ipykernel)",
   "language": "python",
   "name": "python3"
  },
  "language_info": {
   "codemirror_mode": {
    "name": "ipython",
    "version": 3
   },
   "file_extension": ".py",
   "mimetype": "text/x-python",
   "name": "python",
   "nbconvert_exporter": "python",
   "pygments_lexer": "ipython3",
   "version": "3.8.11"
  },
  "toc": {
   "base_numbering": 1,
   "nav_menu": {},
   "number_sections": false,
   "sideBar": true,
   "skip_h1_title": false,
   "title_cell": "Table of Contents",
   "title_sidebar": "Contents",
   "toc_cell": true,
   "toc_position": {},
   "toc_section_display": true,
   "toc_window_display": false
  }
 },
 "nbformat": 4,
 "nbformat_minor": 4
}
