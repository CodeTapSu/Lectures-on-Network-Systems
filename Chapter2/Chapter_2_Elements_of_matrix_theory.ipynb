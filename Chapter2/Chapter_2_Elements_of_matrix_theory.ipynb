{
 "cells": [
  {
   "cell_type": "markdown",
   "metadata": {
    "toc": true
   },
   "source": [
    "<h1>Table of Contents<span class=\"tocSkip\"></span></h1>\n",
    "<div class=\"toc\"><ul class=\"toc-item\"><li><span><a href=\"#Chapter-2---Elements-of-Matrix-Theory\" data-toc-modified-id=\"Chapter-2---Elements-of-Matrix-Theory-1\">Chapter 2 - Elements of Matrix Theory</a></span><ul class=\"toc-item\"><li><span><a href=\"#2.1.2-The-Jordan-Normal-Form\" data-toc-modified-id=\"2.1.2-The-Jordan-Normal-Form-1.1\">2.1.2 The Jordan Normal Form</a></span><ul class=\"toc-item\"><li><span><a href=\"#Example-2.5-Revisiting-the-wireless-sensor-network-example\" data-toc-modified-id=\"Example-2.5-Revisiting-the-wireless-sensor-network-example-1.1.1\">Example 2.5 Revisiting the wireless sensor network example</a></span></li><li><span><a href=\"#NumPy/-SciPy-approach\" data-toc-modified-id=\"NumPy/-SciPy-approach-1.1.2\">NumPy/ SciPy approach</a></span></li><li><span><a href=\"#SymPy-approach\" data-toc-modified-id=\"SymPy-approach-1.1.3\">SymPy approach</a></span></li></ul></li><li><span><a href=\"#2.1.3-Semi-convergence-and-convergence-for-discrete-time-linear-systems\" data-toc-modified-id=\"2.1.3-Semi-convergence-and-convergence-for-discrete-time-linear-systems-1.2\">2.1.3 Semi-convergence and convergence for discrete-time linear systems</a></span><ul class=\"toc-item\"><li><span><a href=\"#Definition-2.6-(Spectrum-and-spectral-radius-of-a-matrix)\" data-toc-modified-id=\"Definition-2.6-(Spectrum-and-spectral-radius-of-a-matrix)-1.2.1\">Definition 2.6 (Spectrum and spectral radius of a matrix)</a></span></li></ul></li><li><span><a href=\"#2.2.1-The-spectral-radius-for-row-stochastic-matrices\" data-toc-modified-id=\"2.2.1-The-spectral-radius-for-row-stochastic-matrices-1.3\">2.2.1 The spectral radius for row-stochastic matrices</a></span><ul class=\"toc-item\"><li><span><a href=\"#Theorem-2.8-(Geršgorin-Disks-Theorem)\" data-toc-modified-id=\"Theorem-2.8-(Geršgorin-Disks-Theorem)-1.3.1\">Theorem 2.8 (Geršgorin Disks Theorem)</a></span></li></ul></li><li><span><a href=\"#2.3.3-Applications-to-matrix-powers-and-averaging-systems\" data-toc-modified-id=\"2.3.3-Applications-to-matrix-powers-and-averaging-systems-1.4\">2.3.3 Applications to matrix powers and averaging systems</a></span><ul class=\"toc-item\"><li><span><a href=\"#Theorem-2.13-(Powers-of-non-negative-matrices-with-a-simple-and-strictly-dominant-eigenvalue)\" data-toc-modified-id=\"Theorem-2.13-(Powers-of-non-negative-matrices-with-a-simple-and-strictly-dominant-eigenvalue)-1.4.1\">Theorem 2.13 (Powers of non-negative matrices with a simple and strictly dominant eigenvalue)</a></span><ul class=\"toc-item\"><li><span><a href=\"#Example-2.14-Wireless-sensor-network\" data-toc-modified-id=\"Example-2.14-Wireless-sensor-network-1.4.1.1\">Example 2.14 Wireless sensor network</a></span></li></ul></li></ul></li><li><span><a href=\"#Exercises-2.17-and-2.18\" data-toc-modified-id=\"Exercises-2.17-and-2.18-1.5\">Exercises 2.17 and 2.18</a></span></li></ul></li></ul></div>"
   ]
  },
  {
   "cell_type": "code",
   "execution_count": 1,
   "metadata": {},
   "outputs": [],
   "source": [
    "%matplotlib widget\n",
    "\n",
    "# Import packages\n",
    "import scipy.linalg as spla\n",
    "import numpy as np\n",
    "import matplotlib.pyplot as plt\n",
    "import matplotlib as mpl\n",
    "from sympy import Matrix\n",
    "# For interactive graphs\n",
    "import ipywidgets as widgets\n",
    "\n",
    "# Settings\n",
    "custom_figsize= (6, 4) # Might need to change this value to fit the figures to your screen\n",
    "custom_figsize_square = (5, 5)  "
   ]
  },
  {
   "cell_type": "code",
   "execution_count": 52,
   "metadata": {},
   "outputs": [],
   "source": [
    "def matprint(mat, fmt=\"g\"):\n",
    "    \"\"\"\n",
    "    Own defined function to beautiful print matrices in the output.\n",
    "    \"\"\"\n",
    "    # Handling 1d-arrays\n",
    "    if np.ndim(mat) == 1:\n",
    "        mat = mat.reshape(mat.shape[0], 1)\n",
    "    # Handling column spaces\n",
    "    col_maxes = [max([len((\"{:\"+fmt+\"}\").format(x)) for x in col]) for col in mat.T]\n",
    "\n",
    "    for x in mat:\n",
    "        for i, y in enumerate(x):\n",
    "            if i == 0:\n",
    "                print((\"|  {:\"+str(col_maxes[i])+fmt+\"}\").format(y), end=\"  \")\n",
    "            else:                    \n",
    "                print((\"{:\"+str(col_maxes[i])+fmt+\"}\").format(y), end=\"  \")\n",
    "        print(\"|\")\n",
    "\n",
    "\n",
    "def plot_spectrum(M, ax):\n",
    "    \"\"\"\n",
    "    Scatter plot of eigs in complex plane overlayed by radius circle\n",
    "    \"\"\"\n",
    "    eigvals = spla.eig(M)[0]  # Extract only eigenvalues\n",
    "    \n",
    "    ax.scatter(eigvals.real, eigvals.imag)\n",
    "    ax.set_xlim(-1.05,1.05)\n",
    "    ax.set_ylim(-1.05,1.05)\n",
    "    \n",
    "    r = max(abs(eigvals))  # Note: abs() automatically calculated the magnitude of complex values\n",
    "    circle=mpl.patches.Circle((0,0),radius=r,alpha=.2,ec='black')\n",
    "    ax.add_patch(circle)\n",
    "    ax.axhline(0, color='black', ls='--', linewidth=1)\n",
    "    ax.axvline(0, color='black', ls='--', linewidth=1)\n",
    "    return eigvals, ax\n",
    "\n",
    "\n",
    "def plot_gersgorin_disks(M, ax):\n",
    "    \"\"\"\n",
    "    Scatter plot of eigenvalues overlayed with gersgorin disks (marked with green edges)\n",
    "    \"\"\"\n",
    "    eigvals, ax = plot_spectrum(M, ax)\n",
    "    \n",
    "    row_sums = M.sum(axis=1)\n",
    "    for i in range(M.shape[0]):\n",
    "        ax.add_patch(mpl.patches.Circle((M[i,i],0),radius=row_sums[i]-M[i,i],\n",
    "                                    alpha=.6/M.shape[0], ec='green'))"
   ]
  },
  {
   "cell_type": "markdown",
   "metadata": {},
   "source": [
    "**TODO:**\n",
    "\n",
    "Chapter 2:\n",
    "- randomly generate a matrix, compute Jordan form, plot spectrum  -- DONE\n",
    "- randomly generate a matrix and plot the Gersgorin disks -- DONE\n",
    "- compute powers of a primitive row-stochastic matrix and show it converges to rank 1 -- DONE\n",
    "- illustrate dynamics of algorithms 2.17 and 2.18"
   ]
  },
  {
   "cell_type": "markdown",
   "metadata": {},
   "source": [
    "# Chapter 2 - Elements of Matrix Theory\n",
    "These Jupyter Notebook scripts contain some examples, visualization and supplements accompanying the book \"Lectures on Network Systems\" by Francesco Bullo http://motion.me.ucsb.edu/book-lns/. These scripts are published with the MIT license. **Make sure to run the first cell above to import all necessary packages and functions and adapt settings in case.** In this script it is necessary to execute cell by cell chronologically due to reocurring examples. (Tip: Use the shortcut Shift+Enter to execute each cell). Most of the functions are kept in separate files to keep this script neat."
   ]
  },
  {
   "cell_type": "markdown",
   "metadata": {},
   "source": [
    "## 2.1.2 The Jordan Normal Form\n",
    "### Example 2.5 Revisiting the wireless sensor network example\n",
    "The following cells are showing the computation of the Jordan Normal Form $J$, the invertible transformation matrix $T$ and some of its dependencies. "
   ]
  },
  {
   "cell_type": "code",
   "execution_count": 3,
   "metadata": {},
   "outputs": [],
   "source": [
    "# Defining the A matrix again\n",
    "A = np.array([[1/2, 1/2, 0., 0.],\n",
    "              [1/4, 1/4, 1/4, 1/4],\n",
    "              [0., 1/3, 1/3, 1/3],\n",
    "              [0., 1/3, 1/3, 1/3]\n",
    "])"
   ]
  },
  {
   "cell_type": "markdown",
   "metadata": {},
   "source": [
    "There is the possibility to calculate the Jordan Normal Form directly with the package SymPy https://docs.sympy.org/latest/index.html. However, we are determining the Jordan Normal Form via determining the generalized eigenvectors (read more for literature recommendations about generalized eigenvectors in the book) with the SciPy package first to discuss some possibilities and problems with non symbolic toolboxes.\n",
    "\n",
    "### NumPy/ SciPy approach\n",
    "\n",
    "From the documentation of scipy.linalg.eig: *'Solve an ordinary or generalized eigenvalue problem of a square matrix.'*"
   ]
  },
  {
   "cell_type": "code",
   "execution_count": 4,
   "metadata": {},
   "outputs": [],
   "source": [
    "# Right eigenvectors\n",
    "lambdas, eigv = spla.eig(A)\n",
    "\n",
    "# Left eigenvectors\n",
    "lambdas2, eigw = spla.eig(A.T)"
   ]
  },
  {
   "cell_type": "markdown",
   "metadata": {},
   "source": [
    "Due to numerical instabilities, the zero values are not reflected and it can be seen, how the expected eigenvalue of 1 is not precise. The zeros can be fixed with:"
   ]
  },
  {
   "cell_type": "code",
   "execution_count": 5,
   "metadata": {},
   "outputs": [
    {
     "name": "stdout",
     "output_type": "stream",
     "text": [
      "Right eigenvectors:\n",
      "|  -0.5  0.855025   0.555542          0  |\n",
      "|  -0.5  0.110013  -0.719612          0  |\n",
      "|  -0.5  -0.35835   0.294561  -0.707107  |\n",
      "|  -0.5  -0.35835   0.294561   0.707107  |\n",
      "\n",
      "\n",
      "Left eigenvectors:\n",
      "|  0.324443  -0.733894  -0.333766          0  |\n",
      "|  0.648886  -0.188856   0.864677          0  |\n",
      "|  0.486664   0.461375  -0.265456  -0.707107  |\n",
      "|  0.486664   0.461375  -0.265456   0.707107  |\n",
      "\n",
      "\n",
      "Eigenvalues (right):\n",
      "|          1+0j  |\n",
      "|   0.564333+0j  |\n",
      "|  -0.147667+0j  |\n",
      "|          0+0j  |\n",
      "\n",
      "\n",
      "Eigenvalues (left) for matching later:\n",
      "|          1+0j  |\n",
      "|   0.564333+0j  |\n",
      "|  -0.147667+0j  |\n",
      "|          0+0j  |\n"
     ]
    }
   ],
   "source": [
    "def correct_close_to_zero(M, tol=1e-12):\n",
    "    M.real[abs(M.real) < tol] = 0.0\n",
    "    if M.imag.any():\n",
    "        M.imag[abs(M.imag) < tol] = 0.0\n",
    "    return M\n",
    "\n",
    "eigv_cor = correct_close_to_zero(eigv)\n",
    "eigw_cor = correct_close_to_zero(eigw)\n",
    "lambdas_cor = correct_close_to_zero(lambdas)\n",
    "lambdas2_cor = correct_close_to_zero(lambdas2)\n",
    "\n",
    "print(\"Right eigenvectors:\")\n",
    "matprint(eigv_cor)\n",
    "print(\"\\n\")\n",
    "print(\"Left eigenvectors:\")\n",
    "matprint(eigw_cor)\n",
    "print(\"\\n\")\n",
    "print(\"Eigenvalues (right):\")\n",
    "matprint(lambdas_cor)\n",
    "print(\"\\n\")\n",
    "print(\"Eigenvalues (left) for matching later:\")\n",
    "matprint(lambdas2_cor)"
   ]
  },
  {
   "cell_type": "markdown",
   "metadata": {},
   "source": [
    "There are two options now for $T^{-1}$: Taking the inverse of the right eigenvectors (which contains again numerical instabilities) or building it from the left eigenvectors, what would include some sorting to match the eigenvalue order from the  right eigenvector (often it is the case, that they are already aligned since calling scipy.linalg.eig twice on a matrix with the same eigenvalues)."
   ]
  },
  {
   "cell_type": "code",
   "execution_count": 6,
   "metadata": {},
   "outputs": [],
   "source": [
    "T = eigv_cor.copy()*-1  # Rescale the eigenvectors to match eigenvalues later\n",
    "# Sorting if necessary, remember to use transpose, since in T^-1 the rows represent the left eigenvectors.\n",
    "Tinv = eigw_cor.T.copy()"
   ]
  },
  {
   "cell_type": "markdown",
   "metadata": {},
   "source": [
    "Now we can simply compute J, when compared, is fairly close to the solution in the book, however, due to numerical intabilities not precise. Further on, the order of the eigenvalues might be different than the on from the book."
   ]
  },
  {
   "cell_type": "code",
   "execution_count": 7,
   "metadata": {},
   "outputs": [
    {
     "name": "stdout",
     "output_type": "stream",
     "text": [
      "Jordan Normal Form via SciPy/Numpy:\n",
      "|  0.973329        0          0  0  |\n",
      "|         0  0.55245          0  0  |\n",
      "|         0        0  -0.142357  0  |\n",
      "|         0        0          0  0  |\n"
     ]
    }
   ],
   "source": [
    "J = correct_close_to_zero(Tinv@A@T)\n",
    "print(\"Jordan Normal Form via SciPy/Numpy:\")\n",
    "matprint(J)"
   ]
  },
  {
   "cell_type": "markdown",
   "metadata": {},
   "source": [
    "### SymPy approach\n",
    "\n",
    "Now we use a symbolic toolbox package SymPy from python as a blackbox. Note, that also here the order of the eigenvalues might be different!"
   ]
  },
  {
   "cell_type": "code",
   "execution_count": 8,
   "metadata": {},
   "outputs": [],
   "source": [
    "Asym = Matrix(A) # Sympy Matrix toolbox object\n",
    "Tsym, Jsym = Asym.jordan_form()"
   ]
  },
  {
   "cell_type": "markdown",
   "metadata": {},
   "source": [
    "Here we can compare them with our previous results:"
   ]
  },
  {
   "cell_type": "code",
   "execution_count": 9,
   "metadata": {},
   "outputs": [
    {
     "name": "stdout",
     "output_type": "stream",
     "text": [
      "Jordan Normal Form SymPy:\n",
      "|  0  0          0         0  |\n",
      "|  0  1          0         0  |\n",
      "|  0  0  -0.147667         0  |\n",
      "|  0  0          0  0.564333  |\n",
      "Jordan Normal Form SciPy:\n",
      "|  0.973329        0          0  0  |\n",
      "|         0  0.55245          0  0  |\n",
      "|         0        0  -0.142357  0  |\n",
      "|         0        0          0  0  |\n"
     ]
    }
   ],
   "source": [
    "print(\"Jordan Normal Form SymPy:\")\n",
    "matprint(np.array(Jsym).astype(np.float64))\n",
    "print(\"Jordan Normal Form SciPy:\")\n",
    "matprint(J)"
   ]
  },
  {
   "cell_type": "markdown",
   "metadata": {},
   "source": [
    "## 2.1.3 Semi-convergence and convergence for discrete-time linear systems\n"
   ]
  },
  {
   "cell_type": "markdown",
   "metadata": {},
   "source": [
    "### Definition 2.6 (Spectrum and spectral radius of a matrix)\n",
    "We display the spectrum of the previous A matrix with the spectrum radius for visualization purpose. Additionally, we also show how the spectrum of a randomly generated matrix."
   ]
  },
  {
   "cell_type": "code",
   "execution_count": 53,
   "metadata": {},
   "outputs": [
    {
     "data": {
      "application/vnd.jupyter.widget-view+json": {
       "model_id": "2ecb730665274c0388cf5159817f18f3",
       "version_major": 2,
       "version_minor": 0
      },
      "text/plain": [
       "Canvas(toolbar=Toolbar(toolitems=[('Home', 'Reset original view', 'home', 'home'), ('Back', 'Back to previous …"
      ]
     },
     "metadata": {},
     "output_type": "display_data"
    }
   ],
   "source": [
    "fig, ax213 = plt.subplots(figsize=custom_figsize_square)\n",
    "plot_spectrum(A, ax213);"
   ]
  },
  {
   "cell_type": "code",
   "execution_count": 54,
   "metadata": {},
   "outputs": [
    {
     "data": {
      "application/vnd.jupyter.widget-view+json": {
       "model_id": "fdea26bcbed44da48e9dad7bcf08944a",
       "version_major": 2,
       "version_minor": 0
      },
      "text/plain": [
       "Canvas(toolbar=Toolbar(toolitems=[('Home', 'Reset original view', 'home', 'home'), ('Back', 'Back to previous …"
      ]
     },
     "metadata": {},
     "output_type": "display_data"
    }
   ],
   "source": [
    "n_M1=8\n",
    "\n",
    "# A unifornmly distributed, positive, row stochastic matrix vs not row stochastic\n",
    "M1 = np.random.uniform(0, 1,(n_M1,n_M1))\n",
    "M1 = M1 / M1.sum(axis=1, keepdims=1) # Row-stochastic\n",
    "M2 = M1 - 0.05 # Not row-stochastic\n",
    "\n",
    "fig, (ax2131, ax2132) = plt.subplots(1,2, figsize=(custom_figsize_square[0]*2, custom_figsize_square[1]))\n",
    "plot_spectrum(M1, ax2131);\n",
    "plot_spectrum(M2, ax2132);"
   ]
  },
  {
   "cell_type": "markdown",
   "metadata": {},
   "source": [
    "## 2.2.1 The spectral radius for row-stochastic matrices\n",
    "### Theorem 2.8 (Geršgorin Disks Theorem)\n",
    "\n",
    "Similar to before, the Geršgorin Disks are now visualized for a row-stochastic matrix and another matrix."
   ]
  },
  {
   "cell_type": "code",
   "execution_count": 55,
   "metadata": {},
   "outputs": [
    {
     "data": {
      "application/vnd.jupyter.widget-view+json": {
       "model_id": "8ad334608c5541ffbf42bc72907ad9cf",
       "version_major": 2,
       "version_minor": 0
      },
      "text/plain": [
       "Canvas(toolbar=Toolbar(toolitems=[('Home', 'Reset original view', 'home', 'home'), ('Back', 'Back to previous …"
      ]
     },
     "metadata": {},
     "output_type": "display_data"
    }
   ],
   "source": [
    "fig, (ax2211, ax2212) = plt.subplots(1,2, figsize=(custom_figsize_square[0]*2, custom_figsize_square[1]))\n",
    "plot_gersgorin_disks(M1, ax2211)\n",
    "plot_gersgorin_disks(M2, ax2212)"
   ]
  },
  {
   "cell_type": "markdown",
   "metadata": {},
   "source": [
    "## 2.3.3 Applications to matrix powers and averaging systems\n",
    "\n",
    "### Theorem 2.13 (Powers of non-negative matrices with a simple and strictly dominant eigenvalue)\n",
    "\n",
    "Here is an example for Theorem 2.13, which shows, how the powers of primitive, row-stochastic matrices converges to rank 1. This is also done for the wireless sensor network example.\n",
    "\n",
    "#### Example 2.14 Wireless sensor network\n",
    "In the book it is shown, that the wireless sensor network matrix is primitive. Here, the eigenvectors and eigenvalues are printed again and compared for the semi convergence result $\\lim_{k \\to \\infty} A^k = \\mathbb{1}_n w^T$ to demonstrate Theorem 2.13 for a row-stochastic matrix. "
   ]
  },
  {
   "cell_type": "code",
   "execution_count": 112,
   "metadata": {},
   "outputs": [
    {
     "name": "stdout",
     "output_type": "stream",
     "text": [
      "Left eigenvectors of A:\n",
      "|  0.324443  -0.733894  -0.333766          0  |\n",
      "|  0.648886  -0.188856   0.864677          0  |\n",
      "|  0.486664   0.461375  -0.265456  -0.707107  |\n",
      "|  0.486664   0.461375  -0.265456   0.707107  |\n",
      "\n",
      "\n",
      "Eigenvalues (left) of A:\n",
      "|          1+0j  |\n",
      "|   0.564333+0j  |\n",
      "|  -0.147667+0j  |\n",
      "|          0+0j  |\n",
      "\n",
      "\n",
      "Normalizing dominant eigenvector:\n",
      "|  0.166667  |\n",
      "|  0.333333  |\n",
      "|      0.25  |\n",
      "|      0.25  |\n",
      "\n",
      "\n",
      "Convergence result of A:\n",
      "|  0.166667  0.333333  0.25  0.25  |\n",
      "|  0.166667  0.333333  0.25  0.25  |\n",
      "|  0.166667  0.333333  0.25  0.25  |\n",
      "|  0.166667  0.333333  0.25  0.25  |\n",
      "\n",
      "\n",
      "equals 1n*w^T\n",
      "|  0.166667  0.333333  0.25  0.25  |\n",
      "|  0.166667  0.333333  0.25  0.25  |\n",
      "|  0.166667  0.333333  0.25  0.25  |\n",
      "|  0.166667  0.333333  0.25  0.25  |\n"
     ]
    }
   ],
   "source": [
    "print(\"Left eigenvectors of A:\")\n",
    "matprint(eigw_cor)\n",
    "print(\"\\n\")\n",
    "\n",
    "print(\"Eigenvalues (left) of A:\")\n",
    "matprint(lambdas2_cor)\n",
    "print(\"\\n\")\n",
    "\n",
    "print(\"Normalizing dominant eigenvector:\")\n",
    "dom_eigv = eigw_cor[:, 0] / sum(eigw_cor[:, 0])\n",
    "matprint(dom_eigv)\n",
    "print(\"\\n\")\n",
    "\n",
    "print(\"Convergence result of A:\")\n",
    "matprint(np.linalg.matrix_power(A, 50))\n",
    "print(\"\\n\")\n",
    "\n",
    "print(\"equals 1n*w^T\")\n",
    "matprint(np.ones((4,1))@dom_eigv[:, None].T)"
   ]
  },
  {
   "cell_type": "markdown",
   "metadata": {},
   "source": [
    "Below is a randomly generated example to show, that primitive, row-stochastic matrices always converge to rank 1. *Note: The code is not robust for semisimple eigenvalue of 1*"
   ]
  },
  {
   "cell_type": "code",
   "execution_count": 140,
   "metadata": {},
   "outputs": [
    {
     "name": "stdout",
     "output_type": "stream",
     "text": [
      "Random matrix M:\n",
      "|  0.0909095  0.168988  0.210201   0.225077   0.304824  |\n",
      "|   0.553929  0.157486  0.112857   0.140981  0.0347468  |\n",
      "|   0.150733  0.301491  0.183454     0.2867  0.0776224  |\n",
      "|  0.0973755  0.319085  0.187092   0.274636   0.121812  |\n",
      "|   0.206725  0.369428  0.259951  0.0766552  0.0872401  |\n",
      "\n",
      "\n",
      "Left eigenvectors of M:\n",
      "|  0.509948+0j         -0.664106+0j         -0.664106+0j    0.165715+0.0484966j    0.165715-0.0484966j  |\n",
      "|  0.541953+0j    0.104622-0.44723j    0.104622+0.44723j  -0.0990081+0.0127006j  -0.0990081-0.0127006j  |\n",
      "|  0.400592+0j   0.177359-0.112735j   0.177359+0.112735j     0.484873-0.148978j     0.484873+0.148978j  |\n",
      "|  0.452055+0j  0.0310776+0.173079j  0.0310776-0.173079j           -0.796895+0j           -0.796895+0j  |\n",
      "|  0.285328+0j   0.351047+0.386887j   0.351047-0.386887j    0.245316+0.0877811j    0.245316-0.0877811j  |\n",
      "\n",
      "\n",
      "Eigenvalues (left) of M:\n",
      "|                 1+0j  |\n",
      "|  -0.150443+0.252812j  |\n",
      "|  -0.150443-0.252812j  |\n",
      "|  0.047306+0.0292098j  |\n",
      "|  0.047306-0.0292098j  |\n",
      "\n",
      "\n",
      "Normalizing dominant eigenvector:\n",
      "|  0.232866+0j  |\n",
      "|  0.247481+0j  |\n",
      "|  0.182929+0j  |\n",
      "|  0.206429+0j  |\n",
      "|  0.130294+0j  |\n",
      "\n",
      "\n",
      "Convergence result of M:\n",
      "|  0.232866  0.247481  0.182929  0.206429  0.130294  |\n",
      "|  0.232866  0.247481  0.182929  0.206429  0.130294  |\n",
      "|  0.232866  0.247481  0.182929  0.206429  0.130294  |\n",
      "|  0.232866  0.247481  0.182929  0.206429  0.130294  |\n",
      "|  0.232866  0.247481  0.182929  0.206429  0.130294  |\n",
      "\n",
      "\n",
      "equals 1n*w^T\n",
      "|  0.232866+0j  0.247481+0j  0.182929+0j  0.206429+0j  0.130294+0j  |\n",
      "|  0.232866+0j  0.247481+0j  0.182929+0j  0.206429+0j  0.130294+0j  |\n",
      "|  0.232866+0j  0.247481+0j  0.182929+0j  0.206429+0j  0.130294+0j  |\n",
      "|  0.232866+0j  0.247481+0j  0.182929+0j  0.206429+0j  0.130294+0j  |\n",
      "|  0.232866+0j  0.247481+0j  0.182929+0j  0.206429+0j  0.130294+0j  |\n"
     ]
    }
   ],
   "source": [
    "# Creating a new random primitive (positiv), row stochastic matrix here\n",
    "n_M11=5\n",
    "M11 = np.random.uniform(0, 1,(n_M11,n_M11))\n",
    "M11 = M11 / M11.sum(axis=1, keepdims=1) # Row-stochastic\n",
    "print(\"Random matrix M:\")\n",
    "matprint(M11)\n",
    "print(\"\\n\")\n",
    "\n",
    "print(\"Left eigenvectors of M:\")\n",
    "l_M, m_eigv = spla.eig(M11.T)\n",
    "m_eigv = correct_close_to_zero(m_eigv)\n",
    "l_M = correct_close_to_zero(l_M)\n",
    "matprint(m_eigv)\n",
    "print(\"\\n\")\n",
    "\n",
    "print(\"Eigenvalues (left) of M:\")\n",
    "matprint(l_M)\n",
    "print(\"\\n\")\n",
    "\n",
    "# Here we check the position with numerical unprecision of the eigenvalue 1\n",
    "print(\"Normalizing dominant eigenvector:\")\n",
    "idx_dom = np.where(abs(l_M - 1) < 0.005)[0][0]\n",
    "dom_eigv_M = m_eigv[:, 0] / sum(m_eigv[:, 0])\n",
    "matprint(dom_eigv_M)\n",
    "print(\"\\n\")\n",
    "\n",
    "print(\"Convergence result of M:\")\n",
    "matprint(np.linalg.matrix_power(M11, 500))\n",
    "print(\"\\n\")\n",
    "\n",
    "print(\"equals 1n*w^T\")\n",
    "matprint(np.ones((n_M11,1))@dom_eigv_M[:, None].T)"
   ]
  },
  {
   "cell_type": "markdown",
   "metadata": {},
   "source": [
    "## Exercises 2.17 and 2.18"
   ]
  },
  {
   "cell_type": "code",
   "execution_count": 106,
   "metadata": {},
   "outputs": [
    {
     "data": {
      "text/plain": [
       "array([[1.],\n",
       "       [1.],\n",
       "       [1.],\n",
       "       [1.]])"
      ]
     },
     "execution_count": 106,
     "metadata": {},
     "output_type": "execute_result"
    }
   ],
   "source": [
    "np.ones((4,1))"
   ]
  },
  {
   "cell_type": "code",
   "execution_count": null,
   "metadata": {},
   "outputs": [],
   "source": []
  }
 ],
 "metadata": {
  "kernelspec": {
   "display_name": "Python 3 (ipykernel)",
   "language": "python",
   "name": "python3"
  },
  "language_info": {
   "codemirror_mode": {
    "name": "ipython",
    "version": 3
   },
   "file_extension": ".py",
   "mimetype": "text/x-python",
   "name": "python",
   "nbconvert_exporter": "python",
   "pygments_lexer": "ipython3",
   "version": "3.8.11"
  },
  "toc": {
   "base_numbering": 1,
   "nav_menu": {},
   "number_sections": false,
   "sideBar": true,
   "skip_h1_title": false,
   "title_cell": "Table of Contents",
   "title_sidebar": "Contents",
   "toc_cell": true,
   "toc_position": {},
   "toc_section_display": true,
   "toc_window_display": false
  }
 },
 "nbformat": 4,
 "nbformat_minor": 4
}
