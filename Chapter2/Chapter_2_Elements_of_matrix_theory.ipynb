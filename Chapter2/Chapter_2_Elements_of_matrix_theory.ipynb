{
 "cells": [
  {
   "cell_type": "markdown",
   "metadata": {
    "toc": true
   },
   "source": [
    "<h1>Table of Contents<span class=\"tocSkip\"></span></h1>\n",
    "<div class=\"toc\"><ul class=\"toc-item\"><li><span><a href=\"#Chapter-2\" data-toc-modified-id=\"Chapter-2-1\">Chapter 2</a></span></li><li><span><a href=\"#Elements-of-Matrix-Theory\" data-toc-modified-id=\"Elements-of-Matrix-Theory-2\">Elements of Matrix Theory</a></span><ul class=\"toc-item\"><li><span><a href=\"#Linear-Systems-and-Jordan-Normal-Form\" data-toc-modified-id=\"Linear-Systems-and-Jordan-Normal-Form-2.1\">Linear Systems and Jordan Normal Form</a></span><ul class=\"toc-item\"><li><span><a href=\"#Modal-Decomposition\" data-toc-modified-id=\"Modal-Decomposition-2.1.1\">Modal Decomposition</a></span></li></ul></li></ul></li></ul></div>"
   ]
  },
  {
   "cell_type": "markdown",
   "metadata": {},
   "source": [
    "# Chapter 2\n",
    "# Elements of Matrix Theory\n",
    "\n",
    "These Jupyter Notebook scripts contain some examples, visualization and supplements accompanying the book \"Lectures on Network Systems\" by Francesco Bullo http://motion.me.ucsb.edu/book-lns/. These scripts are published with the MIT license. Make sure to run the first cell above to import all necessary packages and functions and adapt settings in case. After that, you can jump to each example and follow the description there to execute cell by cell. Most of the functions are kept in a separate file to keep this script neat."
   ]
  },
  {
   "cell_type": "markdown",
   "metadata": {},
   "source": [
    "## Linear Systems and Jordan Normal Form\n",
    "### Modal Decomposition"
   ]
  },
  {
   "cell_type": "code",
   "execution_count": null,
   "metadata": {},
   "outputs": [],
   "source": []
  }
 ],
 "metadata": {
  "kernelspec": {
   "display_name": "Python 3 (ipykernel)",
   "language": "python",
   "name": "python3"
  },
  "language_info": {
   "codemirror_mode": {
    "name": "ipython",
    "version": 3
   },
   "file_extension": ".py",
   "mimetype": "text/x-python",
   "name": "python",
   "nbconvert_exporter": "python",
   "pygments_lexer": "ipython3",
   "version": "3.8.11"
  },
  "toc": {
   "base_numbering": 1,
   "nav_menu": {},
   "number_sections": false,
   "sideBar": true,
   "skip_h1_title": false,
   "title_cell": "Table of Contents",
   "title_sidebar": "Contents",
   "toc_cell": true,
   "toc_position": {},
   "toc_section_display": true,
   "toc_window_display": false
  }
 },
 "nbformat": 4,
 "nbformat_minor": 4
}
