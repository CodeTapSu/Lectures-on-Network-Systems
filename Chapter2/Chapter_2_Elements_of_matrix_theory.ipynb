{
 "cells": [
  {
   "cell_type": "markdown",
   "metadata": {
    "toc": true
   },
   "source": [
    "<h1>Table of Contents<span class=\"tocSkip\"></span></h1>\n",
    "<div class=\"toc\"><ul class=\"toc-item\"><li><span><a href=\"#Chapter-2---Elements-of-Matrix-Theory\" data-toc-modified-id=\"Chapter-2---Elements-of-Matrix-Theory-1\">Chapter 2 - Elements of Matrix Theory</a></span><ul class=\"toc-item\"><li><span><a href=\"#2.1.2-The-Jordan-Normal-Form\" data-toc-modified-id=\"2.1.2-The-Jordan-Normal-Form-1.1\">2.1.2 The Jordan Normal Form</a></span><ul class=\"toc-item\"><li><span><a href=\"#Example-2.5-Revisiting-the-wireless-sensor-network-example\" data-toc-modified-id=\"Example-2.5-Revisiting-the-wireless-sensor-network-example-1.1.1\">Example 2.5 Revisiting the wireless sensor network example</a></span></li><li><span><a href=\"#NumPy/-SciPy-approach\" data-toc-modified-id=\"NumPy/-SciPy-approach-1.1.2\">NumPy/ SciPy approach</a></span></li></ul></li></ul></li></ul></div>"
   ]
  },
  {
   "cell_type": "code",
   "execution_count": 1,
   "metadata": {},
   "outputs": [],
   "source": [
    "%matplotlib widget\n",
    "\n",
    "# Import packages\n",
    "import scipy.linalg as spla\n",
    "import numpy as np\n",
    "import matplotlib.pyplot as plt\n",
    "\n",
    "\n",
    "# For interactive graphs\n",
    "import ipywidgets as widgets\n",
    "\n",
    "# Settings\n",
    "custom_figsize = (6, 4)  # Might need to change this value to fit the figures to your screen"
   ]
  },
  {
   "cell_type": "code",
   "execution_count": 14,
   "metadata": {},
   "outputs": [],
   "source": [
    "def matprint(mat, fmt=\"g\"):\n",
    "    \"\"\"\n",
    "    Own defined function to beautiful print matrices in the output.\n",
    "    \"\"\"\n",
    "    # Handling 1d-arrays\n",
    "    if np.ndim(mat) == 1:\n",
    "        mat = mat.reshape(mat.shape[0], 1)\n",
    "    # Handling column spaces\n",
    "    col_maxes = [max([len((\"{:\"+fmt+\"}\").format(x)) for x in col]) for col in mat.T]\n",
    "\n",
    "    for x in mat:\n",
    "        for i, y in enumerate(x):\n",
    "            if i == 0:\n",
    "                print((\"|  {:\"+str(col_maxes[i])+fmt+\"}\").format(y), end=\"  \")\n",
    "            else:                    \n",
    "                print((\"{:\"+str(col_maxes[i])+fmt+\"}\").format(y), end=\"  \")\n",
    "        print(\"|\")\n",
    "        \n",
    "\n",
    "def plot_spectrum(M):\n",
    "    \"\"\"\n",
    "    Scatter plot of eigs in complex plane overalyed over unit circle\n",
    "    \"\"\"\n",
    "    eigvals = np.linalg.eig(M)[0]\n",
    "    reals = [i.real for i in eigvals]\n",
    "    imags = [i.imag for i in eigvals]\n",
    "    \n",
    "    fig, ax = plt.subplots(figsize=(4,4))\n",
    "    plt.scatter(reals, imags)\n",
    "    plt.xlim(-1,1)\n",
    "    plt.ylim(-1,1)\n",
    "    \n",
    "    circle=patches.Circle((0,0),radius=1,alpha=.1)\n",
    "    ax.add_patch(circle)\n",
    "    return eigvals, fig, ax"
   ]
  },
  {
   "cell_type": "markdown",
   "metadata": {},
   "source": [
    "**TODO:**\n",
    "\n",
    "Chapter 2:\n",
    "- randomly generate a matrix, compute Jordan form, plot spectrum\n",
    "- randomly generate a matrix and plot the Gersgorin disks\n",
    "- compute powers of a primitive row-stochastic matrix and show it converges to rank 1\n",
    "- illustrate dynamics of algorithms 2.17 and 2.18"
   ]
  },
  {
   "cell_type": "markdown",
   "metadata": {},
   "source": [
    "# Chapter 2 - Elements of Matrix Theory\n",
    "These Jupyter Notebook scripts contain some examples, visualization and supplements accompanying the book \"Lectures on Network Systems\" by Francesco Bullo http://motion.me.ucsb.edu/book-lns/. These scripts are published with the MIT license. **Make sure to run the first cell above to import all necessary packages and functions and adapt settings in case.** After that, you can jump to each example and follow the description there to execute cell by cell (Tip: Use the shortcut Shift+Enter to execute each cell). Most of the functions are kept in separate files to keep this script neat."
   ]
  },
  {
   "cell_type": "markdown",
   "metadata": {},
   "source": [
    "## 2.1.2 The Jordan Normal Form\n",
    "### Example 2.5 Revisiting the wireless sensor network example\n",
    "The following cells are showing the computation of the Jordan Normal Form $J$, the invertible transformation matrix $T$ and some of its dependencies. "
   ]
  },
  {
   "cell_type": "code",
   "execution_count": 3,
   "metadata": {},
   "outputs": [],
   "source": [
    "# Defining the A matrix again\n",
    "A = np.array([[1/2, 1/2, 0., 0.],\n",
    "              [1/4, 1/4, 1/4, 1/4],\n",
    "              [0., 1/3, 1/3, 1/3],\n",
    "              [0., 1/3, 1/3, 1/3]\n",
    "])"
   ]
  },
  {
   "cell_type": "markdown",
   "metadata": {},
   "source": [
    "There is the possibility to calculate the Jordan Normal Form directly with the package SymPy https://simpy.readthedocs.io/en/latest/. However, we are determining the Jordan Normal Form via determining the generalized eigenvectors (read more for literature recommendations about generalized eigenvectors in the book) with the SciPy package first to discuss some possibilities. From the documentation of scipy.linalg.eig: *'Solve an ordinary or generalized eigenvalue problem of a square matrix.'*\n",
    "\n",
    "### NumPy/ SciPy approach"
   ]
  },
  {
   "cell_type": "code",
   "execution_count": 7,
   "metadata": {},
   "outputs": [],
   "source": [
    "# Right eigenvectors\n",
    "lambdas, eigv = spla.eig(A)\n",
    "\n",
    "# Left eigenvectors\n",
    "lambdas2, eigw = spla.eig(A.T)"
   ]
  },
  {
   "cell_type": "markdown",
   "metadata": {},
   "source": [
    "Due to numerical instabilities, the zero values are not reflected and it can be seen, how the expected eigenvalue of 1 is not precise. The zeros can be fixed with:"
   ]
  },
  {
   "cell_type": "code",
   "execution_count": 8,
   "metadata": {},
   "outputs": [
    {
     "name": "stdout",
     "output_type": "stream",
     "text": [
      "Right eigenvectors:\n",
      "|  -0.5  0.855025   0.555542          0  |\n",
      "|  -0.5  0.110013  -0.719612          0  |\n",
      "|  -0.5  -0.35835   0.294561  -0.707107  |\n",
      "|  -0.5  -0.35835   0.294561   0.707107  |\n",
      "\n",
      "\n",
      "Left eigenvectors:\n",
      "|  0.324443  -0.733894  -0.333766          0  |\n",
      "|  0.648886  -0.188856   0.864677          0  |\n",
      "|  0.486664   0.461375  -0.265456  -0.707107  |\n",
      "|  0.486664   0.461375  -0.265456   0.707107  |\n",
      "\n",
      "\n",
      "Eigenvalues (right):\n",
      "|          1+0j  |\n",
      "|   0.564333+0j  |\n",
      "|  -0.147667+0j  |\n",
      "|          0+0j  |\n",
      "\n",
      "\n",
      "Eigenvalues (left) for matching later:\n",
      "|          1+0j  |\n",
      "|   0.564333+0j  |\n",
      "|  -0.147667+0j  |\n",
      "|          0+0j  |\n"
     ]
    }
   ],
   "source": [
    "def correct_close_to_zero(M, tol=1e-12):\n",
    "    M.real[abs(M.real) < tol] = 0.0\n",
    "    if M.imag.any():\n",
    "        M.imag[abs(M.imag) < tol] = 0.0\n",
    "    return M\n",
    "\n",
    "eigv_cor = correct_close_to_zero(eigv)\n",
    "eigw_cor = correct_close_to_zero(eigw)\n",
    "lambdas_cor = correct_close_to_zero(lambdas)\n",
    "lambdas2_cor = correct_close_to_zero(lambdas2)\n",
    "\n",
    "print(\"Right eigenvectors:\")\n",
    "matprint(eigv_cor)\n",
    "print(\"\\n\")\n",
    "print(\"Left eigenvectors:\")\n",
    "matprint(eigw_cor)\n",
    "print(\"\\n\")\n",
    "print(\"Eigenvalues (right):\")\n",
    "matprint(lambdas_cor)\n",
    "print(\"\\n\")\n",
    "print(\"Eigenvalues (left) for matching later:\")\n",
    "matprint(lambdas2_cor)"
   ]
  },
  {
   "cell_type": "markdown",
   "metadata": {},
   "source": [
    "There are two options now for $T^{-1}$: Taking the inverse of the right eigenvectors (which contains again numerical instabilities) or building it from the left eigenvectors, what would include some sorting to match the eigenvalue order from the  right eigenvector (often it is the case, that they are already aligned since calling scipy.linalg.eig twice on a matrix with the same eigenvalues)."
   ]
  },
  {
   "cell_type": "code",
   "execution_count": 9,
   "metadata": {},
   "outputs": [],
   "source": [
    "T = eigv_cor.copy()\n",
    "# Sorting if necessary, remember to use transpose, since in T^-1 the rows represent the left eigenvectors.\n",
    "Tinv = eigw_cor.T.copy()"
   ]
  },
  {
   "cell_type": "markdown",
   "metadata": {},
   "source": [
    "Now we can simply compute J, when compared, is fairly close to the solution in the book, however, due to numerical intabilities not precise. Further on, the order of the eigenvalues might be different than the on from the book."
   ]
  },
  {
   "cell_type": "code",
   "execution_count": 13,
   "metadata": {},
   "outputs": [
    {
     "name": "stdout",
     "output_type": "stream",
     "text": [
      "Jordan Normal Form via SciPy/Numpy:\n",
      "|  -0.973329         0         0  0  |\n",
      "|          0  -0.55245         0  0  |\n",
      "|          0         0  0.142357  0  |\n",
      "|          0         0         0  0  |\n"
     ]
    }
   ],
   "source": [
    "J = correct_close_to_zero(Tinv@A@T)\n",
    "print(\"Jordan Normal Form via SciPy/Numpy:\")\n",
    "matprint(J)"
   ]
  },
  {
   "cell_type": "code",
   "execution_count": null,
   "metadata": {},
   "outputs": [],
   "source": []
  }
 ],
 "metadata": {
  "kernelspec": {
   "display_name": "Python 3 (ipykernel)",
   "language": "python",
   "name": "python3"
  },
  "language_info": {
   "codemirror_mode": {
    "name": "ipython",
    "version": 3
   },
   "file_extension": ".py",
   "mimetype": "text/x-python",
   "name": "python",
   "nbconvert_exporter": "python",
   "pygments_lexer": "ipython3",
   "version": "3.8.11"
  },
  "toc": {
   "base_numbering": 1,
   "nav_menu": {},
   "number_sections": false,
   "sideBar": true,
   "skip_h1_title": false,
   "title_cell": "Table of Contents",
   "title_sidebar": "Contents",
   "toc_cell": true,
   "toc_position": {},
   "toc_section_display": true,
   "toc_window_display": false
  }
 },
 "nbformat": 4,
 "nbformat_minor": 4
}
