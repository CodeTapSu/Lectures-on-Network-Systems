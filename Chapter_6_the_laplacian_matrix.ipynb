{
 "cells": [
  {
   "cell_type": "markdown",
   "id": "c8c6c8bb",
   "metadata": {
    "toc": true
   },
   "source": [
    "<h1>Table of Contents<span class=\"tocSkip\"></span></h1>\n",
    "<div class=\"toc\"><ul class=\"toc-item\"><li><span><a href=\"#Chapter-6---The-Laplacian-Matrix\" data-toc-modified-id=\"Chapter-6---The-Laplacian-Matrix-1\">Chapter 6 - The Laplacian Matrix</a></span><ul class=\"toc-item\"><li><span><a href=\"#6.1-The-Laplacian-Matrix-example\" data-toc-modified-id=\"6.1-The-Laplacian-Matrix-example-1.1\">6.1 The Laplacian Matrix example</a></span><ul class=\"toc-item\"><li><span><a href=\"#6.2.3-Spectrum-of-L\" data-toc-modified-id=\"6.2.3-Spectrum-of-L-1.1.1\">6.2.3 Spectrum of L</a></span></li></ul></li><li><span><a href=\"#Example-6.10:-Basic-Graphs-and-their-algebraic-connectivity-(and-spectrum)\" data-toc-modified-id=\"Example-6.10:-Basic-Graphs-and-their-algebraic-connectivity-(and-spectrum)-1.2\">Example 6.10: Basic Graphs and their algebraic connectivity (and spectrum)</a></span></li><li><span><a href=\"#6.4-Appendix:-Community-Detection-via-algebraic-connectivity\" data-toc-modified-id=\"6.4-Appendix:-Community-Detection-via-algebraic-connectivity-1.3\">6.4 Appendix: Community Detection via algebraic connectivity</a></span></li></ul></li></ul></div>"
   ]
  },
  {
   "cell_type": "code",
   "execution_count": null,
   "id": "50ac1eb2",
   "metadata": {},
   "outputs": [],
   "source": [
    "%matplotlib widget\n",
    "\n",
    "# Import packages\n",
    "import numpy as np\n",
    "import scipy.sparse.linalg as sla\n",
    "import matplotlib.pyplot as plt\n",
    "import networkx as nx\n",
    "\n",
    "# For interactive graphs\n",
    "import ipywidgets as widgets\n",
    "\n",
    "# Import self defined functions\n",
    "import lib  # General library\n",
    "\n",
    "# Settings\n",
    "custom_figsize= (6, 4) # Might need to change this value to fit the figures to your screen\n",
    "custom_figsize_square = (5, 5) "
   ]
  },
  {
   "cell_type": "markdown",
   "id": "e444bc32",
   "metadata": {},
   "source": [
    "# Chapter 6 - The Laplacian Matrix\n",
    "\n",
    "These Jupyter Notebook scripts contain some examples, visualization and supplements accompanying the book \"Lectures on Network Systems\" by Francesco Bullo http://motion.me.ucsb.edu/book-lns/. These scripts are published with the MIT license. **Make sure to run the first cell above to import all necessary packages and functions and adapt settings in case.** In this script it is necessary to execute cell by cell chronologically due to reocurring examples (Tip: Use the shortcut Shift+Enter to execute each cell). Most of the functions are kept in separate files to keep this script neat."
   ]
  },
  {
   "cell_type": "markdown",
   "id": "6476113b",
   "metadata": {},
   "source": [
    "## 6.1 The Laplacian Matrix example\n",
    "\n",
    "\n",
    "In this section we repeat the example from the book. The adjacancy Matrix $A$ is shown and how we retrieve the the Laplacian Matrix $L$ \n",
    "\n",
    "Note: This example occurred first in Chapter 3.5\n",
    "Note: The adjacency Matrix can be determined via networkx as below and shown in Chapter 4.1. However, the Laplacian Matrix must be calculated via $L = D_{out} - A$, since there is no built in function for directed graphs in networkx yet."
   ]
  },
  {
   "cell_type": "code",
   "execution_count": null,
   "id": "8459e967",
   "metadata": {},
   "outputs": [],
   "source": [
    "# Digraph Example from section 3.5 with weights, self_loops etc.\n",
    "G_di = nx.DiGraph()\n",
    "edges = [(1,2), (2,1), (2,4), (1,3), (3,5), (5,1), (5,5), (3,4), (5,4)]\n",
    "weights = [3.7, 8.9, 1.2, 2.6, 2.3, 4.4, 4.4, 1.9, 2.7]\n",
    "for edge, weight in zip(edges, weights):\n",
    "    G_di.add_edge(*edge, weight=weight)\n",
    "pos_di = {1:[0.1,0.2],2:[.4,.5],3:[.5,.2],4:[.8,.5], 5:[.9,.2]}  # Define position of nodes in digraph plot\n",
    "\n",
    "# Plot first digraph again with weights visualization from section 3.5\n",
    "fig, ax61 = plt.subplots(figsize=custom_figsize)\n",
    "nx.draw_networkx(G_di, node_size=100, ax=ax61, pos=pos_di, connectionstyle='arc3, rad = 0.1')\n",
    "labels = nx.get_edge_attributes(G_di,'weight')\n",
    "nx.draw_networkx_edge_labels(G_di,pos=pos_di,edge_labels=labels, label_pos=0.2)\n",
    "\n",
    "# Determining the adjacancy matrix via networkx\n",
    "# This will always result in a sparse matrix, nodelist argument important to keep order of nodes\n",
    "A_di = nx.linalg.graphmatrix.adjacency_matrix(G_di, nodelist=range(1, G_di.number_of_nodes()+1)).toarray()\n",
    "print(\"Adjacency Matrix determined by Networkx:\")\n",
    "lib.matprint(A_di)\n",
    "\n",
    "# Determining the Laplacian Matrix via the adjacency matrix from previous step\n",
    "# This calculates the outdegree with the weights via networkx, convert it outdegrees to a diagonal array matrix\n",
    "# Remember, the alternative way is to take the row sums\n",
    "D_out_dict = dict(G_di.out_degree(range(1, G_di.number_of_nodes()+1), weight='weight'))  # Keeping the order of the nodes\n",
    "D_out = np.diag(list(D_out_dict.values()))  # Note: Could also just take the rowsums of A, but working with networkx is shown here\n",
    "L_di = D_out - A_di\n",
    "\n",
    "print(\"\\nLaplacian Matrix:\")\n",
    "lib.matprint(L_di)"
   ]
  },
  {
   "cell_type": "markdown",
   "id": "aa768fc8",
   "metadata": {},
   "source": [
    "### 6.2.3 Spectrum of L\n",
    "\n",
    "As reviewied in the book, we can also look at the spectrum of $L$ and visualize the result with the Geršgorin Disks Theorem. Given a weighted digraph $G$ with Laplacian $L$, the eigenvalues of $L$ different from 0 have strictly-positive real part. "
   ]
  },
  {
   "cell_type": "code",
   "execution_count": null,
   "id": "898d1bb4",
   "metadata": {},
   "outputs": [],
   "source": [
    "fig, ax623 = plt.subplots(figsize=custom_figsize_square)\n",
    "lib.plot_gersgorin_disks(L_di, ax623, patch_spectrum=False)"
   ]
  },
  {
   "cell_type": "markdown",
   "id": "7ec23835",
   "metadata": {},
   "source": [
    "## Example 6.10: Basic Graphs and their algebraic connectivity (and spectrum)\n",
    "\n",
    "Similar to the basic graphs, their adjacency matrices and spectra from (Table 4.1), we present the algebraic connectivity and the Laplacian Matrix spectrum. Note that the algebraic connectivity value is presented in the legend of the second column subplots! "
   ]
  },
  {
   "cell_type": "code",
   "execution_count": null,
   "id": "342e1d8b",
   "metadata": {},
   "outputs": [],
   "source": [
    "n_m = 6  # Can change this value\n",
    "# Path Graph\n",
    "G_path = nx.path_graph(n_m)\n",
    "# Cycle Graph\n",
    "G_cycle = nx.cycle_graph(n_m)\n",
    "# Star Graph\n",
    "G_star = nx.star_graph(n_m-1)\n",
    "# Complete Graph\n",
    "G_complete = nx.complete_graph(n_m)\n",
    "# Complete bipartite Graph\n",
    "G_bipartite = nx.complete_bipartite_graph(n_m//2, n_m//2)\n",
    "\n",
    "all_basic_graphs = {\n",
    "    \"Path Graph\": G_path,\n",
    "    \"Cycle Graph\": G_cycle,\n",
    "    \"Star Graph\":G_star,\n",
    "    \"Complete Graph\": G_complete,\n",
    "    \"Complete bipartite Graph\": G_bipartite,\n",
    "    }\n",
    "spectrums = [\n",
    "    \"$\\{0\\} \\cup \\{2(1-cos(\\pi i / n))  | i ∈ \\{1, . . . , n-1\\}\\}$\",\n",
    "    \"$\\{0\\} \\cup \\{2(1-cos(2\\pi i/n)) | i ∈ \\{1, . . . , n-1\\}\\}$\",\n",
    "    \"$\\{ 0,1,...,1,n \\}$\",\n",
    "    \"$\\{0,n,...,n\\}$\",\n",
    "    \"$\\{0, m, ... , m, n, ..., n, m+n\\}$\"\n",
    "]\n",
    "\n",
    "alg_conn = [\n",
    "    \"$2(1-cos(\\pi/n)) $\",\n",
    "    \"$2(1-cos(2\\pi/n)) $\",\n",
    "    \"$1$\",\n",
    "    \"$n$\",\n",
    "    \"$min(n, m)$\"\n",
    "]\n",
    "\n",
    "# Storing executable equations in a ord list:\n",
    "alg_conn_func = {\n",
    "      \"Path Graph\":  (lambda n, m: 2*(1-np.cos(np.pi/n))),\n",
    "      \"Cycle Graph\":   (lambda n, m: 2*(1-np.cos(2*np.pi/n))),\n",
    "      \"Star Graph\":  (lambda n, m: 1),\n",
    "      \"Complete Graph\": (lambda n, m: n),\n",
    "      \"Complete bipartite Graph\": (lambda n, m: min(m,n))\n",
    "}"
   ]
  },
  {
   "cell_type": "code",
   "execution_count": null,
   "id": "ce9f2224",
   "metadata": {},
   "outputs": [],
   "source": [
    "# Plotting the graph itself and its spectrum, with additionally visualizing the algebraic connectivity \n",
    "fig, axs610 = plt.subplots(len(all_basic_graphs), 2, figsize=(custom_figsize[0]*1.0, custom_figsize[1]*4))\n",
    "for count, (key, graph) in enumerate(all_basic_graphs.items()):\n",
    "    # First subplot\n",
    "    if key == \"Complete bipartite Graph\":\n",
    "        nx.draw_networkx(graph, node_size=100, ax=axs610[count, 0], pos=nx.drawing.layout.bipartite_layout(graph, list(range(0, n_m//2))))\n",
    "    else:\n",
    "        nx.draw_networkx(graph, node_size=100, ax=axs610[count, 0], connectionstyle='arc3, rad = 0.1')\n",
    "    axs610[count, 0].set_xlabel(key)\n",
    "    # Plotting spectrum of L\n",
    "    A_tmp = nx.linalg.graphmatrix.adjacency_matrix(graph, nodelist=range(0, graph.number_of_nodes())).toarray()\n",
    "    D_out_dict_tmp = dict(graph.degree(range(0, graph.number_of_nodes())))  # Keeping the order of the nodes\n",
    "    D_out_tmp = np.diag(list(D_out_dict_tmp.values()))\n",
    "    L = D_out_tmp - A_tmp\n",
    "    lib.plot_spectrum(L, axs610[count, 1]);\n",
    "    axs610[count, 1].set(title=spectrums[count])\n",
    "    # Algebraic connectivity\n",
    "    alg_conn_value = alg_conn_func[key](n_m, n_m)\n",
    "    axs610[count, 1].plot(alg_conn_value, 0, 'r.', ms=15, label = \"Alg. connectivity:\\n\" + alg_conn[count] + \" = \" + \"%.4g\" % alg_conn_value)\n",
    "    axs610[count, 1].legend()\n",
    "    \n",
    "    #axs610[count, 1].set_xlabel(\"Alg. conn: \" + alg_conn[count] + \" = \" + \"%.4g\" % alg_conn_value)\n",
    "fig.subplots_adjust(hspace=0.4)"
   ]
  },
  {
   "cell_type": "markdown",
   "id": "bdf4e460",
   "metadata": {},
   "source": [
    "## 6.4 Appendix: Community Detection via algebraic connectivity\n",
    "\n",
    "In this section the Matlab Code example is implemented in Python below. Remember, that we are looking for the \"bottleneck\" of the graph by optimizing the size of the cut's minima. From the book:\n",
    "\n",
    "To illustrate these concepts, we borrow an example problem with the corresponding Matlab code from (Gleich, 2006). We construct a randomly generated graph as follows. First, we partition $n$ = 1000 nodes in two groups $V_1$ and $V_2$ of sizes 450 and 550 nodes, respectively. Second, we connect any pair of nodes in the set $V_1$ (respectively $V2$) with probability 0.3 (respectively 0.2). Third and finally, any two nodes in distinct groups, $i ∈ V_1$ and $j ∈ V_2$, are connected with a probability of 0.1. The sparsity pattern of the associated adjacency matrix is shown in the left panel of Figure 6.6. No obvious partition is visible at first glance since the indices are not necessarily sorted, that is, $V_1$ is not necessarily {1, . . . , 450}. The second panel displays the sorted entries of the eigenvector $V_2$ showing a sharp transition between positive and negative entries. Finally, the third panel displays the correspondingly sorted adjacency matrix\n",
    "Figure 6.6 is in the Table 6.2 below. "
   ]
  },
  {
   "cell_type": "code",
   "execution_count": null,
   "id": "75d0aaca",
   "metadata": {},
   "outputs": [],
   "source": [
    "# for a given graph size, randomly assign the nodes to two groups\n",
    "n = 1000\n",
    "group_size = 450;\n",
    "A = np.zeros([1000, 1000])\n",
    "x = np.random.permutation(n) - 1  # Random permutation of indices for groups\n",
    "group1 = x[0:group_size]\n",
    "group2 = x[group_size:];\n",
    "\n",
    "# assign probabilities of connecting nodes\n",
    "# Note: a little bit adapted for better visualization\n",
    "p_group1 = 0.4\n",
    "p_group2 = 0.3\n",
    "p_between_groups = 0.2\n",
    "\n",
    "#construct adjacency matrix\n",
    "A[np.ix_(group1,group1)] = (np.random.rand(group_size, group_size) < p_group1) * 1  # Ensure cast to integer\n",
    "A[np.ix_(group2,group2)] = (np.random.rand(n-group_size,n-group_size) < p_group2) * 1\n",
    "A[np.ix_(group1,group2)] = (np.random.rand(group_size, n-group_size) < p_between_groups) * 1\n",
    "# Ensure symmetry by copying the just created upper triangle part\n",
    "A = np.triu(A,1)\n",
    "A = A + A.T\n",
    "\n",
    "# construct Laplacian and its spectrum\n",
    "L = np.diag(np.sum(A, 1)) - A;\n",
    "\n",
    "# Retrieve both 2nd smallest eigenvalues\n",
    "D, V = sla.eigs(L, 2, which='SM')\n",
    "\n",
    "# Get indices for sorting the eigenvector of the corresponding fiedler eigenvalue\n",
    "V_sort_ind = np.argsort(V[:, 1])\n",
    "\n",
    "# Init plot\n",
    "fig, axs64 = plt.subplots(3, 1, figsize=(custom_figsize[0]*1.2, custom_figsize[1]*3))\n",
    "\n",
    "# Plot binary matrix\n",
    "lib.plot_matrix_binary(A, axs64[0])\n",
    "axs64[0].set_xlabel(\"$A$\")\n",
    "\n",
    "# Plot the eigenvector values sorted by magnitude\n",
    "axs64[1].plot(np.sort(V[:, 1]))\n",
    "axs64[1].set_aspect(1 / axs64[1].get_data_ratio())  # Workaround to make it square without equal axis ticks\n",
    "axs64[1].set_xlabel(r\"$\\tilde{v}_2$\")\n",
    "\n",
    "# Plot the adjacency matrix sorted by the eigenvector\n",
    "lib.plot_matrix_binary(A[np.ix_(V_sort_ind,V_sort_ind)], axs64[2])\n",
    "axs64[2].set_xlabel(r\"$\\widetilde{A}$\");"
   ]
  },
  {
   "cell_type": "code",
   "execution_count": null,
   "id": "cd529553",
   "metadata": {},
   "outputs": [],
   "source": []
  }
 ],
 "metadata": {
  "kernelspec": {
   "display_name": "Python 3 (ipykernel)",
   "language": "python",
   "name": "python3"
  },
  "language_info": {
   "codemirror_mode": {
    "name": "ipython",
    "version": 3
   },
   "file_extension": ".py",
   "mimetype": "text/x-python",
   "name": "python",
   "nbconvert_exporter": "python",
   "pygments_lexer": "ipython3",
   "version": "3.8.11"
  },
  "toc": {
   "base_numbering": 1,
   "nav_menu": {},
   "number_sections": false,
   "sideBar": true,
   "skip_h1_title": false,
   "title_cell": "Table of Contents",
   "title_sidebar": "Contents",
   "toc_cell": true,
   "toc_position": {},
   "toc_section_display": true,
   "toc_window_display": false
  }
 },
 "nbformat": 4,
 "nbformat_minor": 5
}
