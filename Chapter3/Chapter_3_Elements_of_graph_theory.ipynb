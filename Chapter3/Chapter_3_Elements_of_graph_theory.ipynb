{
 "cells": [
  {
   "cell_type": "markdown",
   "id": "e36f992f",
   "metadata": {
    "toc": true
   },
   "source": [
    "<h1>Table of Contents<span class=\"tocSkip\"></span></h1>\n",
    "<div class=\"toc\"><ul class=\"toc-item\"><li><span><a href=\"#Chapter-3---Elements-of-Graph-Theory\" data-toc-modified-id=\"Chapter-3---Elements-of-Graph-Theory-1\">Chapter 3 - Elements of Graph Theory</a></span><ul class=\"toc-item\"><li><span><a href=\"#3.1-Graphs-and-Digraphs\" data-toc-modified-id=\"3.1-Graphs-and-Digraphs-1.1\">3.1 Graphs and Digraphs</a></span></li><li><span><a href=\"#3.2-Neighbours\" data-toc-modified-id=\"3.2-Neighbours-1.2\">3.2 Neighbours</a></span></li><li><span><a href=\"#3.4-Paths-and-Connectivity-in-Digraphs\" data-toc-modified-id=\"3.4-Paths-and-Connectivity-in-Digraphs-1.3\">3.4 Paths and Connectivity in Digraphs</a></span><ul class=\"toc-item\"><li><span><a href=\"#3.4.3-Condensation-Digraphs\" data-toc-modified-id=\"3.4.3-Condensation-Digraphs-1.3.1\">3.4.3 Condensation Digraphs</a></span></li></ul></li><li><span><a href=\"#3.5-Weighted-Digraphs\" data-toc-modified-id=\"3.5-Weighted-Digraphs-1.4\">3.5 Weighted Digraphs</a></span></li></ul></li></ul></div>"
   ]
  },
  {
   "cell_type": "code",
   "execution_count": 4,
   "id": "239dc9b9",
   "metadata": {},
   "outputs": [],
   "source": [
    "%matplotlib widget\n",
    "\n",
    "# Import packages\n",
    "import numpy as np\n",
    "import matplotlib.pyplot as plt\n",
    "import networkx as nx\n",
    "import sys, os\n",
    "# For interactive graphs\n",
    "import ipywidgets as widgets\n",
    "\n",
    "# Import self defined functions\n",
    "#import ch1_lib  # Chapter 1 specific library\n",
    "sys.path.insert(1, os.path.join(sys.path[0], '..'))  # Need to call this for importing library from parent folder\n",
    "import lib  # General library\n",
    "\n",
    "# Settings\n",
    "custom_figsize= (6, 4) # Might need to change this value to fit the figures to your screen\n",
    "custom_figsize_square = (5, 5) "
   ]
  },
  {
   "cell_type": "markdown",
   "id": "956024aa",
   "metadata": {},
   "source": [
    "# Chapter 3 - Elements of Graph Theory\n",
    "These Jupyter Notebook scripts contain some examples, visualization and supplements accompanying the book \"Lectures on Network Systems\" by Francesco Bullo http://motion.me.ucsb.edu/book-lns/. These scripts are published with the MIT license. **Make sure to run the first cell above to import all necessary packages and functions and adapt settings in case.** In this script it is necessary to execute cell by cell chronologically due to reocurring examples (Tip: Use the shortcut Shift+Enter to execute each cell). Most of the functions are kept in separate files to keep this script neat."
   ]
  },
  {
   "cell_type": "markdown",
   "id": "628ad019",
   "metadata": {},
   "source": [
    "## 3.1 Graphs and Digraphs\n",
    "\n",
    "In this section the basic graphs are loaded and displayed with the package Networkx https://networkx.org/, which are presented in the book.\n",
    "\n",
    "Please note, without precise node positioning, Networkx will automatically chose a feasible and random node position for visualization purpose."
   ]
  },
  {
   "cell_type": "code",
   "execution_count": 5,
   "id": "c8b044bd",
   "metadata": {},
   "outputs": [],
   "source": [
    "n = 6\n",
    "# Path Graph\n",
    "G_path = nx.path_graph(n)\n",
    "# Cycle Graph\n",
    "G_cycle = nx.cycle_graph(n)\n",
    "# Star Graph\n",
    "G_star = nx.star_graph(n-1)\n",
    "# Complete Graph\n",
    "G_complete = nx.complete_graph(n)\n",
    "# Complete bipartite Graph\n",
    "G_bipartite = nx.complete_bipartite_graph(n//2, n//2)\n",
    "# Two dimensional grid graph\n",
    "G_grid = nx.generators.lattice.grid_2d_graph(n//2, n//2)\n",
    "# Petersen graph\n",
    "G_petersen = nx.petersen_graph()\n",
    "\n",
    "# Digraph Example from section 3.5 with weights, self_loops etc.\n",
    "G_di = nx.DiGraph()\n",
    "edges = [(1,2), (2,1), (2,4), (1,3), (3,5), (5,1), (5,5), (3,4), (5,4)]\n",
    "weights = [3.7, 8.9, 1.2, 2.6, 2.3, 4.4, 4.4, 1.9, 2.7]\n",
    "for edge, weight in zip(edges, weights):\n",
    "    G_di.add_edge(*edge, weight=weight)\n",
    "pos_di = {1:[0.1,0.2],2:[.4,.5],3:[.5,.2],4:[.8,.5], 5:[.9,.2]}  # Define position of nodes in digraph plot\n",
    "\n",
    "# Balanced Tree Graph\n",
    "G_tree = nx.balanced_tree(2, 2)\n",
    "\n",
    "all_graphs = {\"Path Graph\": G_path,\n",
    "              \"Cycle Graph\": G_cycle,\n",
    "              \"Star Graph\":G_star,\n",
    "              \"Complete Graph\": G_complete,\n",
    "              \"Complete bipartite Graph\": G_bipartite,\n",
    "              \"Two-dim grid Graph\": G_grid,\n",
    "              \"Petersen Graph\":G_petersen,\n",
    "              \"Digraph Example\": G_di,\n",
    "              \"Balanced Tree Graph\": G_tree\n",
    "             }"
   ]
  },
  {
   "cell_type": "code",
   "execution_count": 6,
   "id": "22efae94",
   "metadata": {},
   "outputs": [
    {
     "data": {
      "application/vnd.jupyter.widget-view+json": {
       "model_id": "ed445639d70b49d7b9a8404c13f36f2c",
       "version_major": 2,
       "version_minor": 0
      },
      "text/plain": [
       "Canvas(toolbar=Toolbar(toolitems=[('Home', 'Reset original view', 'home', 'home'), ('Back', 'Back to previous …"
      ]
     },
     "metadata": {},
     "output_type": "display_data"
    }
   ],
   "source": [
    "fig, axs = plt.subplots(3, 3, figsize=custom_figsize)\n",
    "for count, (key, graph) in enumerate(all_graphs.items()):\n",
    "    axis = axs[count//3, count%3]\n",
    "    # Here for example we make sure to visualize the bipartite graph or DiGraph nicely.\n",
    "    if key == \"Complete bipartite Graph\":\n",
    "        nx.draw_networkx(graph, node_size=100, ax=axis, pos=nx.drawing.layout.bipartite_layout(graph, list(range(0, n//2))))\n",
    "    elif key == \"Digraph Example\":\n",
    "        nx.draw_networkx(graph, node_size=100, ax=axis, pos=pos_di)\n",
    "    else:\n",
    "        nx.draw_networkx(graph, node_size=100, ax=axis)\n",
    "    axis.set_xlabel(key)"
   ]
  },
  {
   "cell_type": "markdown",
   "id": "0a0ba8d2",
   "metadata": {},
   "source": [
    "## 3.2 Neighbours\n",
    "In this section it is shown hot to access the neighbors and in and out degree of a specific node of a graph. Note that the given functions are different for undirected and directed graph.\n",
    "\n",
    "**Undirected Graph**"
   ]
  },
  {
   "cell_type": "code",
   "execution_count": 7,
   "id": "d2d6ac3a",
   "metadata": {},
   "outputs": [
    {
     "name": "stdout",
     "output_type": "stream",
     "text": [
      "Node labels of neighbors for node 0 in star graph: \n",
      " 1 2 3 4 5 \n",
      " Total number: \n",
      " 5\n",
      "Node labels of neighbors for node 0 in bipartite graph: \n",
      " 3 4 5 \n",
      " Total number: \n",
      " 3\n"
     ]
    }
   ],
   "source": [
    "# Numbers of neighbors for node 0 in cycle graph or in star graph\n",
    "print(\"Node labels of neighbors for node 0 in star graph: \\n\", *G_star.neighbors(0), \"\\n Total number: \\n\", len(list(G_star.neighbors(0))))\n",
    "print(\"Node labels of neighbors for node 0 in bipartite graph: \\n\", *G_bipartite.neighbors(0), \"\\n Total number: \\n\", len(list(G_bipartite.neighbors(0))))"
   ]
  },
  {
   "cell_type": "markdown",
   "id": "69fb8df5",
   "metadata": {},
   "source": [
    "**Directed Graph**"
   ]
  },
  {
   "cell_type": "code",
   "execution_count": 8,
   "id": "631d47f2",
   "metadata": {},
   "outputs": [
    {
     "name": "stdout",
     "output_type": "stream",
     "text": [
      "Out-degree of DiGraph Example without weights in Format (Node, out-degree): \n",
      " [(1, 2), (2, 2), (4, 0), (3, 2), (5, 3)]\n",
      "\n",
      " In-degree of DiGraph Example without weights in Format (Node, in-degree): \n",
      " [(1, 2), (2, 1), (4, 3), (3, 1), (5, 2)]\n"
     ]
    }
   ],
   "source": [
    "# out- and in-degree functions returns for all nodes!\n",
    "print(\"Out-degree of DiGraph Example without weights in Format (Node, out-degree): \\n\" , G_di.out_degree())\n",
    "print(\"\\n In-degree of DiGraph Example without weights in Format (Node, in-degree): \\n\" , G_di.in_degree())"
   ]
  },
  {
   "cell_type": "markdown",
   "id": "0592a057",
   "metadata": {},
   "source": [
    "## 3.4 Paths and Connectivity in Digraphs \n",
    "\n",
    "This section shows the determination of whether a graph is strongly connected and if yes, whether it is aperiodic or not. We use hereby another example as in section 3.4.1. Further useful resources: https://networkx.org/documentation/stable/reference/algorithms/component.html\n"
   ]
  },
  {
   "cell_type": "code",
   "execution_count": 10,
   "id": "5850bc27",
   "metadata": {},
   "outputs": [
    {
     "data": {
      "application/vnd.jupyter.widget-view+json": {
       "model_id": "2ddb889866524a17ac9baa3bb4e15374",
       "version_major": 2,
       "version_minor": 0
      },
      "text/plain": [
       "Canvas(toolbar=Toolbar(toolitems=[('Home', 'Reset original view', 'home', 'home'), ('Back', 'Back to previous …"
      ]
     },
     "metadata": {},
     "output_type": "display_data"
    },
    {
     "name": "stdout",
     "output_type": "stream",
     "text": [
      "The weighted Digraph2 example is strongly connected:  True\n",
      "The weighted Digraph2 example is periodic:  False\n"
     ]
    }
   ],
   "source": [
    "fig, ax34 = plt.subplots(figsize=custom_figsize)\n",
    "G_di2 = nx.DiGraph()\n",
    "edges2 = [(2,1), (2,3), (3,4), (4,3), (4,5), (5,4), (5,6), (1,6), (5,2), (6,2)]\n",
    "pos_di2 = {1:[0.3,0.2],2:[.2,.5],3:[.3,.8],4:[.7,.8], 5:[.8,.5], 6:[0.7,0.2]}  # Define position of nodes in digraph plot\n",
    "G_di2.add_edges_from(edges2)\n",
    "nx.draw_networkx(G_di2, node_size=100, ax=ax34, pos=pos_di2, connectionstyle='arc3, rad = 0.1')\n",
    "ax34.set_title(\"2nd Digraph example\")\n",
    "print(\"The weighted Digraph2 example is strongly connected: \", nx.is_strongly_connected(G_di2))\n",
    "\n",
    "# Using self defined function, available at lib\n",
    "print(\"The weighted Digraph2 example is periodic: \", lib.is_periodic(G_di2))"
   ]
  },
  {
   "cell_type": "markdown",
   "id": "2771fd49",
   "metadata": {},
   "source": [
    "### 3.4.3 Condensation Digraphs\n",
    "\n",
    "In this section a randomly generated digraph is displayed, its strongly connected component and its condensation digraph. "
   ]
  },
  {
   "cell_type": "code",
   "execution_count": 18,
   "id": "b5ce5ba8",
   "metadata": {},
   "outputs": [
    {
     "data": {
      "application/vnd.jupyter.widget-view+json": {
       "model_id": "5eaa6aade09b46128828ad5e2f288181",
       "version_major": 2,
       "version_minor": 0
      },
      "text/plain": [
       "Canvas(toolbar=Toolbar(toolitems=[('Home', 'Reset original view', 'home', 'home'), ('Back', 'Back to previous …"
      ]
     },
     "metadata": {},
     "output_type": "display_data"
    }
   ],
   "source": [
    "# Play with the following parameters to generate a random graph:\n",
    "G_random = nx.random_k_out_graph(10, 2, 2)\n",
    "\n",
    "# From here visualization\n",
    "fig, axs343 = plt.subplots(1, 3, figsize=(custom_figsize[0]*1.2, custom_figsize[1]))\n",
    "pos_rand = nx.spring_layout(G_random)  #setting the positions with respect to G, not k.\n",
    "nx.draw_networkx(G_random, pos=pos_rand, node_size=40, ax=axs343[0], connectionstyle='arc3, rad = 0.2', with_labels=False)\n",
    "\n",
    "# Algorithm to find the condensed graph:\n",
    "G_conden = nx.algorithms.components.condensation(G_random)\n",
    "\n",
    "all_col = []\n",
    "# We do the following for coloring scheme and saving that coloring scheme for the condensated graph\n",
    "for u, node in G_conden.nodes(data=True):\n",
    "    sg = node['members']  # This contains a set of nodes from previous graph, that belongs to the condensated node\n",
    "    co = np.random.rand(1,3)\n",
    "    all_col.append(co)\n",
    "    nx.draw_networkx_nodes(G_random.subgraph(sg),pos=pos_rand, node_size=40, node_color = co, ax=axs343[1])\n",
    "    nx.draw_networkx_edges(G_random, pos=pos_rand, edgelist=G_random.edges(sg), edge_color=co, ax=axs343[1], connectionstyle='arc3, rad = 0.2')\n",
    "\n",
    "nx.draw_networkx(G_conden, node_size=40, ax=axs343[2], node_color=all_col, connectionstyle='arc3, rad = 0.2', with_labels=False)\n",
    "axs343[0].set_xlabel(\"Random digraph\")\n",
    "axs343[1].set_xlabel(\"Strongly connected components\")\n",
    "axs343[2].set_xlabel(\"Condensation\");"
   ]
  },
  {
   "cell_type": "markdown",
   "id": "dbf73b51",
   "metadata": {},
   "source": [
    "## 3.5 Weighted Digraphs\n",
    "\n",
    "Note here: Networkx does not support in this package version a good representation of the weight labeling, for visulization another tool like graphviz is recommended, please refer to the book."
   ]
  },
  {
   "cell_type": "code",
   "execution_count": 19,
   "id": "44496a08",
   "metadata": {},
   "outputs": [
    {
     "data": {
      "application/vnd.jupyter.widget-view+json": {
       "model_id": "532938ae5fac4270952a51c56336b0d4",
       "version_major": 2,
       "version_minor": 0
      },
      "text/plain": [
       "Canvas(toolbar=Toolbar(toolitems=[('Home', 'Reset original view', 'home', 'home'), ('Back', 'Back to previous …"
      ]
     },
     "metadata": {},
     "output_type": "display_data"
    },
    {
     "name": "stdout",
     "output_type": "stream",
     "text": [
      "\n",
      " Out-degree of DiGraph Example with weights in Format (Node, out-degree): \n",
      " [(1, 6.300000000000001), (2, 10.1), (4, 0), (3, 4.199999999999999), (5, 11.5)]\n",
      "\n",
      " In-degree of DiGraph Example with weights in Format (Node, in-degree): \n",
      " [(1, 13.3), (2, 3.7), (4, 5.8), (3, 2.6), (5, 6.7)]\n"
     ]
    }
   ],
   "source": [
    "# Plot first digraph again with weights visualization from section 3.5\n",
    "fig, ax35 = plt.subplots(figsize=custom_figsize)\n",
    "nx.draw_networkx(G_di, node_size=100, ax=ax35, pos=pos_di, connectionstyle='arc3, rad = 0.1')\n",
    "labels = nx.get_edge_attributes(G_di,'weight')\n",
    "nx.draw_networkx_edge_labels(G_di,pos=pos_di,edge_labels=labels, label_pos=0.2)\n",
    "\n",
    "print(\"\\n Out-degree of DiGraph Example with weights in Format (Node, out-degree): \\n\" , G_di.out_degree(weight = \"weight\"))\n",
    "print(\"\\n In-degree of DiGraph Example with weights in Format (Node, in-degree): \\n\" , G_di.in_degree(weight = \"weight\"))"
   ]
  },
  {
   "cell_type": "code",
   "execution_count": null,
   "id": "dd237487",
   "metadata": {},
   "outputs": [],
   "source": []
  }
 ],
 "metadata": {
  "kernelspec": {
   "display_name": "Python 3 (ipykernel)",
   "language": "python",
   "name": "python3"
  },
  "language_info": {
   "codemirror_mode": {
    "name": "ipython",
    "version": 3
   },
   "file_extension": ".py",
   "mimetype": "text/x-python",
   "name": "python",
   "nbconvert_exporter": "python",
   "pygments_lexer": "ipython3",
   "version": "3.8.11"
  },
  "toc": {
   "base_numbering": 1,
   "nav_menu": {},
   "number_sections": false,
   "sideBar": true,
   "skip_h1_title": false,
   "title_cell": "Table of Contents",
   "title_sidebar": "Contents",
   "toc_cell": true,
   "toc_position": {
    "height": "calc(100% - 180px)",
    "left": "10px",
    "top": "150px",
    "width": "165px"
   },
   "toc_section_display": true,
   "toc_window_display": false
  }
 },
 "nbformat": 4,
 "nbformat_minor": 5
}
