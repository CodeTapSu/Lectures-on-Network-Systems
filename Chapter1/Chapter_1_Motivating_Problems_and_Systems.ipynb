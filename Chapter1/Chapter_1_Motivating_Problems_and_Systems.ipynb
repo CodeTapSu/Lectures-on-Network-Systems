{
 "cells": [
  {
   "cell_type": "markdown",
   "metadata": {
    "toc": true
   },
   "source": [
    "<h1>Table of Contents<span class=\"tocSkip\"></span></h1>\n",
    "<div class=\"toc\"><ul class=\"toc-item\"><li><span><a href=\"#Chapter-1---Motivating-Problems-and-Systems\" data-toc-modified-id=\"Chapter-1---Motivating-Problems-and-Systems-1\">Chapter 1 - Motivating Problems and Systems</a></span><ul class=\"toc-item\"><li><span><a href=\"#1.2-Averaging-algorithms-in-wireless-sensor-networks\" data-toc-modified-id=\"1.2-Averaging-algorithms-in-wireless-sensor-networks-1.1\">1.2 Averaging algorithms in wireless sensor networks</a></span><ul class=\"toc-item\"><li><span><a href=\"#Create-the-Graph-in-networkx-and-define-$A$\" data-toc-modified-id=\"Create-the-Graph-in-networkx-and-define-$A$-1.1.1\">Create the Graph in networkx and define $A$</a></span></li><li><span><a href=\"#Simulate-and-visualize-Process\" data-toc-modified-id=\"Simulate-and-visualize-Process-1.1.2\">Simulate and visualize Process</a></span></li><li><span><a href=\"#Interactive-network-presentation\" data-toc-modified-id=\"Interactive-network-presentation-1.1.3\">Interactive network presentation</a></span></li></ul></li><li><span><a href=\"#Exercise-1.4-Simulating-the-averaging-dynamics\" data-toc-modified-id=\"Exercise-1.4-Simulating-the-averaging-dynamics-1.2\">Exercise 1.4 Simulating the averaging dynamics</a></span></li><li><span><a href=\"#Exercise-1.5-(Section-1.6-ff.)-Bugs-Dynamic\" data-toc-modified-id=\"Exercise-1.5-(Section-1.6-ff.)-Bugs-Dynamic-1.3\">Exercise 1.5 (Section 1.6 ff.) Bugs Dynamic</a></span><ul class=\"toc-item\"><li><span><a href=\"#Cyclic-Pursuit\" data-toc-modified-id=\"Cyclic-Pursuit-1.3.1\">Cyclic Pursuit</a></span></li><li><span><a href=\"#Cyclic-Balancing\" data-toc-modified-id=\"Cyclic-Balancing-1.3.2\">Cyclic Balancing</a></span></li></ul></li><li><span><a href=\"#Exercise-1.6-Robotic-coordination\" data-toc-modified-id=\"Exercise-1.6-Robotic-coordination-1.4\">Exercise 1.6 Robotic coordination</a></span></li></ul></li></ul></div>"
   ]
  },
  {
   "cell_type": "markdown",
   "metadata": {},
   "source": [
    "**TO-DO:**\n",
    "\n",
    "- 1.3 continuous-time averaging system: Flocking Dynamics Example\n",
    "- 1.4 Discrete and continuous time flowing system example"
   ]
  },
  {
   "cell_type": "code",
   "execution_count": 1,
   "metadata": {},
   "outputs": [],
   "source": [
    "%matplotlib widget\n",
    "\n",
    "# Import packages\n",
    "import numpy as np\n",
    "import matplotlib.pyplot as plt\n",
    "import matplotlib as mpl\n",
    "import networkx as nx\n",
    "import sys, os\n",
    "\n",
    "# Import self defined functions\n",
    "import ch1_lib  # Chapter 1 specific library\n",
    "sys.path.insert(1, os.path.join(sys.path[0], '..'))  # Need to call this for importing library from parent folder\n",
    "import lib  # General library\n",
    "\n",
    "# For interactive graphs\n",
    "import ipywidgets as widgets\n",
    "\n",
    "# Settings\n",
    "custom_figsize= (6, 4) # Might need to change this value to fit the figures to your screen\n",
    "custom_figsize_square = (5, 5)  "
   ]
  },
  {
   "cell_type": "markdown",
   "metadata": {},
   "source": [
    "# Chapter 1 - Motivating Problems and Systems\n",
    "These Jupyter Notebook scripts contain some examples, visualization and supplements accompanying the book \"Lectures on Network Systems\" by Francesco Bullo http://motion.me.ucsb.edu/book-lns/. These scripts are published with the MIT license. **Make sure to run the first cell above to import all necessary packages and functions and adapt settings in case.** After that, you can jump to each example and follow the description there to execute cell by cell (Tip: Use the shortcut Shift+Enter to execute each cell). Most of the functions are kept in separate files to keep this script neat.\n",
    "\n",
    "## 1.2 Averaging algorithms in wireless sensor networks\n",
    "\n",
    "This example is based on first work of Sean Jaffe. It contains the example from Chapter 1.2 for discrete averaging network dynamics with wireless sensor network, enhanced examples and discussion will occur in Chapter 5, this is an introductory visulization. \n",
    "\n",
    "\n",
    "### Create the Graph in networkx and define $A$\n",
    "\n",
    "Execute next cell to create the example graph and define the matrix $A_{wsn}$.\n",
    "\n",
    "Note: In Chapter 5 we will introduce an elegant algorithm do define the weights as in this example, the equal-neighbour-model."
   ]
  },
  {
   "cell_type": "code",
   "execution_count": 2,
   "metadata": {},
   "outputs": [
    {
     "data": {
      "application/vnd.jupyter.widget-view+json": {
       "model_id": "d491b3c41f794196ba788deed106a31b",
       "version_major": 2,
       "version_minor": 0
      },
      "text/plain": [
       "Canvas(toolbar=Toolbar(toolitems=[('Home', 'Reset original view', 'home', 'home'), ('Back', 'Back to previous …"
      ]
     },
     "metadata": {},
     "output_type": "display_data"
    },
    {
     "name": "stdout",
     "output_type": "stream",
     "text": [
      "A matrix: \n",
      " [[0.5        0.5        0.         0.        ]\n",
      " [0.25       0.25       0.25       0.25      ]\n",
      " [0.         0.33333333 0.33333333 0.33333333]\n",
      " [0.         0.33333333 0.33333333 0.33333333]]\n"
     ]
    }
   ],
   "source": [
    "# Creating the Network System example as in Chapter 1.2\n",
    "G = nx.DiGraph()\n",
    "G.add_edges_from([(0,1), (1,0), (1,2), (2,1), (2,3), (3,2), (1,3), (3,1)])\n",
    "\n",
    "# Define position of nodes in graph plot\n",
    "pos = {0:[0.2,0.2],1:[.4,.2],2:[.4,.6],3:[.7,.6]}\n",
    "\n",
    "# Define the adjacency matrix A\n",
    "A = np.array([[0.5,0.5, 0., 0.],\n",
    "              [1/4, 1/4, 1/4, 1/4],\n",
    "              [0., 1/3, 1/3, 1/3],\n",
    "              [0., 1/3, 1/3, 1/3]\n",
    "])\n",
    "\n",
    "fig, ax1 = plt.subplots(figsize = custom_figsize)  # Init figure\n",
    "nx.draw_networkx(G, pos, node_size=200, ax = ax1)  # Draw network\n",
    "ax1.margins(0.05) # Zooming out for better visualization\n",
    "\n",
    "print(\"A matrix: \\n\", A)"
   ]
  },
  {
   "cell_type": "markdown",
   "metadata": {},
   "source": [
    "### Simulate and visualize Process\n",
    "Choose the initial state vector x (randomized or chosen) and the number to time steps to simulate.\n",
    "\n",
    "We plot our simulation with the initial average as dashed-line to show, that we do not reach average-consensus (more on that in Chapter 5)\n",
    "\n",
    "Note: Discrete-time linear system $x(k+1) = A x(k)$, $x(0)=x_0$ or, equivalently $x(k) = A^k x_0$"
   ]
  },
  {
   "cell_type": "code",
   "execution_count": 3,
   "metadata": {},
   "outputs": [
    {
     "data": {
      "application/vnd.jupyter.widget-view+json": {
       "model_id": "5d20d6aef51c477984b803a5e25b4f89",
       "version_major": 2,
       "version_minor": 0
      },
      "text/plain": [
       "Canvas(toolbar=Toolbar(toolitems=[('Home', 'Reset original view', 'home', 'home'), ('Back', 'Back to previous …"
      ]
     },
     "metadata": {},
     "output_type": "display_data"
    }
   ],
   "source": [
    "# Initialize random state vector or define your own one\n",
    "x_0 = np.random.rand(4)\n",
    "#x_0 = np.array([0.2, 0.4, 0.6, 0.8])\n",
    "# Choosing the range of time step\n",
    "t = 15\n",
    "\n",
    "# Initialize figure\n",
    "fig, ax2 = plt.subplots(figsize=custom_figsize)\n",
    "\n",
    "states = lib.simulate_network(A,x_0, t)  # Simulate network and save states for each time step in a t*n np.array\n",
    "lib.plot_node_val_2D(states, x_0, t, ax2)  # Visualize states in a 2D Graph"
   ]
  },
  {
   "cell_type": "markdown",
   "metadata": {},
   "source": [
    "### Interactive network presentation\n",
    "Below you can find an interactive network simulation and different visualization, where you can use the slide bar to visualize all values at each node for each time step."
   ]
  },
  {
   "cell_type": "code",
   "execution_count": 4,
   "metadata": {
    "scrolled": false
   },
   "outputs": [
    {
     "data": {
      "application/vnd.jupyter.widget-view+json": {
       "model_id": "45eb225d1cbb4b1089613e5d2c0f8186",
       "version_major": 2,
       "version_minor": 0
      },
      "text/plain": [
       "Canvas(toolbar=Toolbar(toolitems=[('Home', 'Reset original view', 'home', 'home'), ('Back', 'Back to previous …"
      ]
     },
     "metadata": {},
     "output_type": "display_data"
    },
    {
     "data": {
      "application/vnd.jupyter.widget-view+json": {
       "model_id": "79c34928cd1645b387da37ea2521d8d7",
       "version_major": 2,
       "version_minor": 0
      },
      "text/plain": [
       "VBox(children=(Play(value=0, interval=1000, max=14), IntSlider(value=0, max=14)))"
      ]
     },
     "metadata": {},
     "output_type": "display_data"
    }
   ],
   "source": [
    "fig, ax3 = plt.subplots(figsize=custom_figsize)\n",
    "fig, v_bound, pos = lib.init_network_sim_plot(G, states, fig, pos=pos)\n",
    "\n",
    "def inter(timestep):\n",
    "    lib.update_network(timestep['new'], G=G, states_m=states, ax=ax3, vbound=v_bound, pos=pos)\n",
    "    #ax3.margins(0.20) # Zooming out for better visualization\n",
    "    return None\n",
    "\n",
    "# Plot initial configuration\n",
    "lib.update_network(0, G=G, states_m=states, ax=ax3, vbound=v_bound, pos=pos)\n",
    "\n",
    "\n",
    "# Widget\n",
    "# If this cell is executed twice we are making sure in the following, that the previous widget instances are all closed\n",
    "try:\n",
    "    [c.close() for c in widget12.children]  # Note: close_all() does also affect plot, thus list compr.\n",
    "except NameError:  # Only want to except not defined variable error\n",
    "    pass\n",
    "\n",
    "widget12 = lib.create_widgets_play_slider(fnc=inter, minv=0, maxv=t-1, step=1, play_speed=1000)\n",
    "\n",
    "display(widget12)"
   ]
  },
  {
   "cell_type": "markdown",
   "metadata": {},
   "source": [
    "## Exercise 1.4 Simulating the averaging dynamics\n",
    "\n",
    "In this chapter the results for exercise 1.4 are presented for comparison and discussing the averaging dynamics of these different systems."
   ]
  },
  {
   "cell_type": "code",
   "execution_count": 5,
   "metadata": {},
   "outputs": [],
   "source": [
    "# Define x_0\n",
    "xinitial = np.array([-2., -1., 0., +1., +2.])\n",
    "\n",
    "# Defining the 3 different systems.\n",
    "# Complete graph\n",
    "Acomplete = np.ones((5,5)) / 5\n",
    "\n",
    "# Cycle graph\n",
    "Acycle = np.array([\n",
    "    [1/3, 1/3, 0, 0, 1/3],\n",
    "    [1/3, 1/3, 1/3, 0, 0],\n",
    "    [0, 1/3, 1/3, 1/3, 0],\n",
    "    [0, 0, 1/3, 1/3, 1/3],\n",
    "    [1/3, 0, 0, 1/3,  1/3] ]  )\n",
    "\n",
    "\n",
    "# Star topology. center = node 1\n",
    "Astar = np.array([\n",
    "    [1/5, 1/5, 1/5, 1/5, 1/5],\n",
    "    [1/2, 1/2, 0, 0, 0], \n",
    "    [1/2, 0, 1/2, 0, 0],\n",
    "    [1/2, 0, 0, 1/2, 0],\n",
    "    [1/2, 0, 0, 0, 1/2]   ])\n",
    "\n",
    "# Defining simulation time\n",
    "ts = 10"
   ]
  },
  {
   "cell_type": "markdown",
   "metadata": {},
   "source": [
    "**Complete Graph Simulation**"
   ]
  },
  {
   "cell_type": "code",
   "execution_count": 6,
   "metadata": {},
   "outputs": [
    {
     "data": {
      "application/vnd.jupyter.widget-view+json": {
       "model_id": "959f1066ac454be5a082969b7abd328e",
       "version_major": 2,
       "version_minor": 0
      },
      "text/plain": [
       "Canvas(toolbar=Toolbar(toolitems=[('Home', 'Reset original view', 'home', 'home'), ('Back', 'Back to previous …"
      ]
     },
     "metadata": {},
     "output_type": "display_data"
    }
   ],
   "source": [
    "# Initialize figure\n",
    "fig, ax141 = plt.subplots(figsize=custom_figsize)\n",
    "\n",
    "states_complete = lib.simulate_network(Acomplete,xinitial, ts)  # Simulate network and save states for each time step in a t*n np.array\n",
    "lib.plot_node_val_2D(states_complete, xinitial, ts, ax141)  # Visualize states in a 2D Graph"
   ]
  },
  {
   "cell_type": "markdown",
   "metadata": {},
   "source": [
    "**Cycle graph Simulation**"
   ]
  },
  {
   "cell_type": "code",
   "execution_count": 7,
   "metadata": {},
   "outputs": [
    {
     "data": {
      "application/vnd.jupyter.widget-view+json": {
       "model_id": "398ed709cefb430488e9b338799d0752",
       "version_major": 2,
       "version_minor": 0
      },
      "text/plain": [
       "Canvas(toolbar=Toolbar(toolitems=[('Home', 'Reset original view', 'home', 'home'), ('Back', 'Back to previous …"
      ]
     },
     "metadata": {},
     "output_type": "display_data"
    }
   ],
   "source": [
    "# Initialize figure\n",
    "fig, ax142 = plt.subplots(figsize=custom_figsize)\n",
    "\n",
    "states_cycle = lib.simulate_network(Acycle,xinitial, ts)  # Simulate network and save states for each time step in a t*n np.array\n",
    "lib.plot_node_val_2D(states_cycle, xinitial, ts, ax142)  # Visualize states in a 2D Graph"
   ]
  },
  {
   "cell_type": "markdown",
   "metadata": {},
   "source": [
    "**Star Graph Simulation**"
   ]
  },
  {
   "cell_type": "code",
   "execution_count": 8,
   "metadata": {},
   "outputs": [
    {
     "data": {
      "application/vnd.jupyter.widget-view+json": {
       "model_id": "2d84e0f700324c368dc28970c9e2a65d",
       "version_major": 2,
       "version_minor": 0
      },
      "text/plain": [
       "Canvas(toolbar=Toolbar(toolitems=[('Home', 'Reset original view', 'home', 'home'), ('Back', 'Back to previous …"
      ]
     },
     "metadata": {},
     "output_type": "display_data"
    }
   ],
   "source": [
    "# Initialize figure\n",
    "fig, ax143 = plt.subplots(figsize=custom_figsize)\n",
    "\n",
    "states_star = lib.simulate_network(Astar,xinitial, ts)  # Simulate network and save states for each time step in a t*n np.array\n",
    "lib.plot_node_val_2D(states_star, xinitial, ts, ax143)  # Visualize states in a 2D Graph"
   ]
  },
  {
   "cell_type": "code",
   "execution_count": 7,
   "metadata": {},
   "outputs": [
    {
     "name": "stdout",
     "output_type": "stream",
     "text": [
      "Dominant eigenvector:  [0.38461538 0.15384615 0.15384615 0.15384615 0.15384615]\n",
      "Final values : [-0.46153846 -0.46153846 -0.46153846 -0.46153846 -0.46153846]\n"
     ]
    }
   ],
   "source": [
    "# Verfying the results (this will be discussed in more detail in Chapter 5)\n",
    "eigval, eigvec = np.linalg.eig( Astar.transpose() )\n",
    "dom_eigvec = eigvec[0:5,1]/eigvec[0:5,1].sum()\n",
    "print(\"Dominant eigenvector: \", dom_eigvec)\n",
    "print(\"Final values :\", xinitial@dom_eigvec*np.ones(5))"
   ]
  },
  {
   "cell_type": "markdown",
   "metadata": {},
   "source": [
    "## Exercise 1.5 (Section 1.6 ff.) Bugs Dynamic\n",
    "In this example the bugs dynamics as in exercise 1.5 are visualized for the cyclic pursuit or the cyclic balancing case.\n",
    "### Cyclic Pursuit\n",
    "Initialize and simulate the bugs results. If wanted, change some of the parameters."
   ]
  },
  {
   "cell_type": "code",
   "execution_count": 9,
   "metadata": {},
   "outputs": [],
   "source": [
    "radius = 1.0  # Circle radius\n",
    "n_bugs = 6 # Number of bugs\n",
    "n_steps = 50  # Number of simulation steps (states)\n",
    "gain = 0.1  # Gain kappa\n",
    "\n",
    "# Initialize the bugs\n",
    "bugs_init, states_bugs_init = ch1_lib.init_bugs(radius, n_bugs, n_steps)\n",
    "# Simulate the bugs\n",
    "states_bugs = ch1_lib.simulate_bugs_cyclic_pursuit(radius, n_bugs, n_steps, gain, bugs_init, states_bugs_init)"
   ]
  },
  {
   "cell_type": "markdown",
   "metadata": {},
   "source": [
    "Below you find an interactive visulization of the bugs dynamics for cyclic pursuit."
   ]
  },
  {
   "cell_type": "code",
   "execution_count": 11,
   "metadata": {
    "scrolled": false
   },
   "outputs": [
    {
     "data": {
      "application/vnd.jupyter.widget-view+json": {
       "model_id": "f0e33295c1bd40ca84f8ceab555cb1cf",
       "version_major": 2,
       "version_minor": 0
      },
      "text/plain": [
       "Canvas(toolbar=Toolbar(toolitems=[('Home', 'Reset original view', 'home', 'home'), ('Back', 'Back to previous …"
      ]
     },
     "metadata": {},
     "output_type": "display_data"
    },
    {
     "data": {
      "application/vnd.jupyter.widget-view+json": {
       "model_id": "cdff54f069c046c1b13b1f947f27f860",
       "version_major": 2,
       "version_minor": 0
      },
      "text/plain": [
       "VBox(children=(Play(value=0, interval=500, max=49), IntSlider(value=0, max=49)))"
      ]
     },
     "metadata": {},
     "output_type": "display_data"
    }
   ],
   "source": [
    "fig, ax151 = plt.subplots(figsize=custom_figsize)\n",
    "\n",
    "def interactive_bugs(timestep):\n",
    "    ax151.clear()\n",
    "    ch1_lib.plot_circle_and_bugs(ax151, radius, states_bugs[timestep['new']])  # Take the new value received from the slider dict\n",
    "    return None\n",
    "\n",
    "# Plot initial configuration\n",
    "ch1_lib.plot_circle_and_bugs(ax151, radius, states_bugs[0])\n",
    "\n",
    "# Widget\n",
    "# If this cell is executed twice we are making sure in the following, that the previous widget instances are all closed\n",
    "try:\n",
    "    [c.close() for c in widget151.children]  # Note: close_all() does also affect plot, thus list compr.\n",
    "except NameError:  # Only want to except not defined variable error\n",
    "    pass\n",
    "\n",
    "widget151 = lib.create_widgets_play_slider(fnc=interactive_bugs, minv=0, maxv=n_steps-1, step=1, play_speed=500)\n",
    "\n",
    "display(widget151)"
   ]
  },
  {
   "cell_type": "markdown",
   "metadata": {},
   "source": [
    "### Cyclic Balancing\n",
    "\n",
    "Using some of the previous defined values, showing cycling balancing dynamics."
   ]
  },
  {
   "cell_type": "code",
   "execution_count": 12,
   "metadata": {},
   "outputs": [
    {
     "data": {
      "application/vnd.jupyter.widget-view+json": {
       "model_id": "0e1e2a1de1ae4c3989c2cbdefda56134",
       "version_major": 2,
       "version_minor": 0
      },
      "text/plain": [
       "Canvas(toolbar=Toolbar(toolitems=[('Home', 'Reset original view', 'home', 'home'), ('Back', 'Back to previous …"
      ]
     },
     "metadata": {},
     "output_type": "display_data"
    },
    {
     "data": {
      "application/vnd.jupyter.widget-view+json": {
       "model_id": "bcfbd3ef82fc48c3bb2a0bfc7b5bf9f8",
       "version_major": 2,
       "version_minor": 0
      },
      "text/plain": [
       "VBox(children=(Play(value=0, interval=500, max=49), IntSlider(value=0, max=49)))"
      ]
     },
     "metadata": {},
     "output_type": "display_data"
    }
   ],
   "source": [
    "# Initialize the bugs\n",
    "bugs_init2, states_bugs_init2 = ch1_lib.init_bugs(radius, n_bugs, n_steps)\n",
    "# Simulate the bugs\n",
    "states_bugs2 = ch1_lib.simulate_bugs_cyclic_balancing(radius, n_bugs, n_steps, gain, bugs_init2, states_bugs_init2)\n",
    "\n",
    "fig, ax152 = plt.subplots(figsize=custom_figsize)\n",
    "\n",
    "def interactive_bugs2(timestep):\n",
    "    ax152.clear()\n",
    "    ch1_lib.plot_circle_and_bugs(ax152, radius, states_bugs2[timestep['new']])  # Take the new value received from the slider dict\n",
    "    return None\n",
    "\n",
    "# Plot initial configuration\n",
    "ch1_lib.plot_circle_and_bugs(ax152, radius, states_bugs2[0])\n",
    "\n",
    "# Widget\n",
    "# If this cell is executed twice we are making sure in the following, that the previous widget instances are all closed\n",
    "try:\n",
    "    [c.close() for c in widget152.children]  # Note: close_all() does also affect plot, thus list compr.\n",
    "except NameError:  # Only want to except not defined variable error\n",
    "    pass\n",
    "\n",
    "widget152 = lib.create_widgets_play_slider(fnc=interactive_bugs2, minv=0, maxv=n_steps-1, step=1, play_speed=500)\n",
    "\n",
    "display(widget152)"
   ]
  },
  {
   "cell_type": "markdown",
   "metadata": {},
   "source": [
    "## Exercise 1.6 Robotic coordination\n",
    "\n",
    "Choose the initial position below and run the cell to visualize the rendezvous coordination. As to be proven in exercise 1.6, if the robots start in a square position, they will stay in a square position.\n",
    "\n",
    "First, setting up and running the simulation for the results."
   ]
  },
  {
   "cell_type": "code",
   "execution_count": 13,
   "metadata": {},
   "outputs": [],
   "source": [
    "# Set up initial position matrix\n",
    "initial_positions = 2*np.random.random((4,2))-1\n",
    "\n",
    "# If you want to use square matrix\n",
    "#initial_positions = np.array([[.9, .9], [-.9, .9], [-.9, -.9], [.9, -.9]], dtype=float)\n",
    "\n",
    "# Number of timesteps and dt\n",
    "n_dt = 200\n",
    "dt = 0.02\n",
    "\n",
    "current_positions = initial_positions.copy()\n",
    "\n",
    "all_positions = np.zeros((n_dt, 4, 2))\n",
    "all_positions[0] = initial_positions.copy()\n",
    "\n",
    "# Simulate the robotic coordination dynamics and save the values\n",
    "for ii in range(1, n_dt):\n",
    "    neighbor_position = np.array([1, 2, 3, 0])\n",
    "    current_velocities = np.zeros((4, 2))\n",
    "    \n",
    "    current_velocities = current_positions[neighbor_position] - current_positions\n",
    "    current_positions = current_positions  + current_velocities*dt  # Implicit Euler Integration sufficient here\n",
    "    all_positions[ii] = current_positions\n"
   ]
  },
  {
   "cell_type": "markdown",
   "metadata": {},
   "source": [
    "In this cell the interactive plot for the path visualization of the robots is called."
   ]
  },
  {
   "cell_type": "code",
   "execution_count": 15,
   "metadata": {},
   "outputs": [
    {
     "data": {
      "application/vnd.jupyter.widget-view+json": {
       "model_id": "97c3943886bf486aad507b820015c1e7",
       "version_major": 2,
       "version_minor": 0
      },
      "text/plain": [
       "Canvas(toolbar=Toolbar(toolitems=[('Home', 'Reset original view', 'home', 'home'), ('Back', 'Back to previous …"
      ]
     },
     "metadata": {},
     "output_type": "display_data"
    },
    {
     "data": {
      "application/vnd.jupyter.widget-view+json": {
       "model_id": "4ee4b6723edc4a83900a144a7227bd7d",
       "version_major": 2,
       "version_minor": 0
      },
      "text/plain": [
       "VBox(children=(Play(value=0, interval=500, max=199), IntSlider(value=0, max=199)))"
      ]
     },
     "metadata": {},
     "output_type": "display_data"
    }
   ],
   "source": [
    "fig, ax16 = plt.subplots(figsize=custom_figsize_square)\n",
    "line, = ax16.plot([], [])\n",
    "ax16.set_xlim(( -1, 1))\n",
    "ax16.set_ylim((-1, 1))\n",
    "\n",
    "# Setup interactive plot function\n",
    "def interactive_robots(timestep):\n",
    "    # Only reset when set back to zero\n",
    "    if timestep['new'] == 0:\n",
    "        ax16.clear()\n",
    "        ax16.set_xlim(( -1, 1))\n",
    "        ax16.set_ylim((-1, 1))\n",
    "    line, = ax16.plot(all_positions[timestep['new'],0:4,0], all_positions[timestep['new'],0:4,1], 'b.', markersize=2)\n",
    "    return None\n",
    "\n",
    "# Widget\n",
    "# If this cell is executed twice we are making sure in the following, that the previous widget instances are all closed\n",
    "try:\n",
    "    [c.close() for c in widget16.children]  # Note: close_all() does also affect plot, thus list compr.\n",
    "except NameError:  # Only want to except not defined variable error\n",
    "    pass\n",
    "widget16 = lib.create_widgets_play_slider(fnc=interactive_robots, minv=0, maxv=n_dt-1, step=1, play_speed=500)\n",
    "\n",
    "display(widget16)"
   ]
  },
  {
   "cell_type": "code",
   "execution_count": null,
   "metadata": {},
   "outputs": [],
   "source": []
  }
 ],
 "metadata": {
  "kernelspec": {
   "display_name": "Python 3 (ipykernel)",
   "language": "python",
   "name": "python3"
  },
  "language_info": {
   "codemirror_mode": {
    "name": "ipython",
    "version": 3
   },
   "file_extension": ".py",
   "mimetype": "text/x-python",
   "name": "python",
   "nbconvert_exporter": "python",
   "pygments_lexer": "ipython3",
   "version": "3.8.11"
  },
  "toc": {
   "base_numbering": 1,
   "nav_menu": {},
   "number_sections": false,
   "sideBar": true,
   "skip_h1_title": false,
   "title_cell": "Table of Contents",
   "title_sidebar": "Contents",
   "toc_cell": true,
   "toc_position": {
    "height": "calc(100% - 180px)",
    "left": "10px",
    "top": "150px",
    "width": "216.594px"
   },
   "toc_section_display": true,
   "toc_window_display": false
  },
  "widgets": {
   "application/vnd.jupyter.widget-state+json": {
    "state": {
     "02121bef571d4f7f9ab0acc635935746": {
      "model_module": "@jupyter-widgets/base",
      "model_module_version": "1.2.0",
      "model_name": "LayoutModel",
      "state": {}
     },
     "03ef88295e5741f6a1a04ce029bca410": {
      "model_module": "@jupyter-widgets/controls",
      "model_module_version": "1.5.0",
      "model_name": "SliderStyleModel",
      "state": {
       "description_width": ""
      }
     },
     "045c7730e401413c8f5bad5335b8aeb9": {
      "model_module": "@jupyter-widgets/controls",
      "model_module_version": "1.5.0",
      "model_name": "VBoxModel",
      "state": {
       "children": [
        "IPY_MODEL_9c8121a5398b4e4597c03e1456723c55",
        "IPY_MODEL_fa95b56b0fd44b3e824addaf8f818743"
       ],
       "layout": "IPY_MODEL_7361cc0455754df4ade6bba8325ddfa6"
      }
     },
     "06151703772e4174a36ff5f72c400d08": {
      "model_module": "@jupyter-widgets/controls",
      "model_module_version": "1.5.0",
      "model_name": "VBoxModel",
      "state": {
       "children": [
        "IPY_MODEL_6700248decd14e06a21b7b224b3e73f7",
        "IPY_MODEL_ccf091fdcfc64566832baf6a16fb315f"
       ],
       "layout": "IPY_MODEL_93614acf6d404dac87f624047f6e0359"
      }
     },
     "068025a3e59b40cfb7c38806fd0828cd": {
      "model_module": "@jupyter-widgets/base",
      "model_module_version": "1.2.0",
      "model_name": "LayoutModel",
      "state": {}
     },
     "06e8ae5d085f47c18a006dc7d92b113d": {
      "model_module": "@jupyter-widgets/controls",
      "model_module_version": "1.5.0",
      "model_name": "IntSliderModel",
      "state": {
       "description": "timestep",
       "layout": "IPY_MODEL_f7c499e22cd9462a9c11a9c8404b1efd",
       "max": 49,
       "style": "IPY_MODEL_c43fc1a4739340c2874d37a292574a7c"
      }
     },
     "0b107b92953b43c1ba749e35db9df80d": {
      "model_module": "@jupyter-widgets/controls",
      "model_module_version": "1.5.0",
      "model_name": "VBoxModel",
      "state": {
       "children": [
        "IPY_MODEL_2bef745b3aee4ccab345966ace7d915a",
        "IPY_MODEL_103970cfd00b4fec84d9af844cfbe914"
       ],
       "layout": "IPY_MODEL_f53067e7b1ca439f864a73f269ea8ae0"
      }
     },
     "0f816e67dfad494a9917ebc40d91b93f": {
      "model_module": "@jupyter-widgets/controls",
      "model_module_version": "1.5.0",
      "model_name": "VBoxModel",
      "state": {
       "children": [
        "IPY_MODEL_9c8121a5398b4e4597c03e1456723c55",
        "IPY_MODEL_fa95b56b0fd44b3e824addaf8f818743"
       ],
       "layout": "IPY_MODEL_950a07a98b5d40cfb944ea9e8315a448"
      }
     },
     "0f83cd7ca5c74014b791f65f595cd170": {
      "model_module": "@jupyter-widgets/controls",
      "model_module_version": "1.5.0",
      "model_name": "VBoxModel",
      "state": {
       "children": [
        "IPY_MODEL_427217b5d78c4fb384266cc363f14ad6",
        "IPY_MODEL_3ca6e897af0d44fc8aeff15784fb5048"
       ],
       "layout": "IPY_MODEL_13946dadbfc44ebb8fe4224bc051967c"
      }
     },
     "0ff9089ee50d469c82a3834535b0119b": {
      "model_module": "@jupyter-widgets/controls",
      "model_module_version": "1.5.0",
      "model_name": "VBoxModel",
      "state": {
       "children": [
        "IPY_MODEL_667ebb20982543dda4a9c01446b50767",
        "IPY_MODEL_8a95318deca84f4b9d6323a85947a163"
       ],
       "layout": "IPY_MODEL_a3ecae38db0e4212b517c09cc99fc435"
      }
     },
     "103970cfd00b4fec84d9af844cfbe914": {
      "model_module": "@jupyter-widgets/controls",
      "model_module_version": "1.5.0",
      "model_name": "IntSliderModel",
      "state": {
       "layout": "IPY_MODEL_6edd9f1443584ec6ac3f3d32e7eb3078",
       "max": 49,
       "min": 1,
       "style": "IPY_MODEL_d84b849a8de5415bbccbcd40878e0e51",
       "value": 100
      }
     },
     "12a763f92a0d4497a142d57b6919b67c": {
      "model_module": "@jupyter-widgets/controls",
      "model_module_version": "1.5.0",
      "model_name": "IntSliderModel",
      "state": {
       "layout": "IPY_MODEL_8d82cc9619ec46aabbc8abcf50022f91",
       "max": 49,
       "min": 1,
       "style": "IPY_MODEL_184edeee36114b459cdb745a49081665",
       "value": 100
      }
     },
     "12f775ec25bd47a78d5e0af100a6c648": {
      "model_module": "@jupyter-widgets/controls",
      "model_module_version": "1.5.0",
      "model_name": "VBoxModel",
      "state": {
       "_dom_classes": [
        "widget-interact"
       ],
       "children": [
        "IPY_MODEL_ec331978ce9b4f4c9a0f00578b7a4ef7",
        "IPY_MODEL_6b62c56b687b42a3816972ac64aeb4cf"
       ],
       "layout": "IPY_MODEL_f19ae5f338ae4e2fa7925f6745488878"
      }
     },
     "13946dadbfc44ebb8fe4224bc051967c": {
      "model_module": "@jupyter-widgets/base",
      "model_module_version": "1.2.0",
      "model_name": "LayoutModel",
      "state": {}
     },
     "141ae15175be4e79b4a78a02b62b3a54": {
      "model_module": "@jupyter-widgets/controls",
      "model_module_version": "1.5.0",
      "model_name": "SliderStyleModel",
      "state": {
       "description_width": ""
      }
     },
     "15fc20cf216542739f628e4612fc623e": {
      "model_module": "@jupyter-widgets/controls",
      "model_module_version": "1.5.0",
      "model_name": "DescriptionStyleModel",
      "state": {
       "description_width": ""
      }
     },
     "167104bfe3af4bfb882bdcef8a6b33df": {
      "model_module": "@jupyter-widgets/controls",
      "model_module_version": "1.5.0",
      "model_name": "DescriptionStyleModel",
      "state": {
       "description_width": ""
      }
     },
     "16a59263c5e04a39a9b9c919ed17b77a": {
      "model_module": "@jupyter-widgets/base",
      "model_module_version": "1.2.0",
      "model_name": "LayoutModel",
      "state": {}
     },
     "17c12b8c568d435a939ae29c06429066": {
      "model_module": "@jupyter-widgets/base",
      "model_module_version": "1.2.0",
      "model_name": "LayoutModel",
      "state": {}
     },
     "184edeee36114b459cdb745a49081665": {
      "model_module": "@jupyter-widgets/controls",
      "model_module_version": "1.5.0",
      "model_name": "SliderStyleModel",
      "state": {
       "description_width": ""
      }
     },
     "19c7075413ee4ea5a695552d6aea214a": {
      "model_module": "@jupyter-widgets/controls",
      "model_module_version": "1.5.0",
      "model_name": "SliderStyleModel",
      "state": {
       "description_width": ""
      }
     },
     "1b7e931fe23045c385e1713b98f6b02c": {
      "model_module": "@jupyter-widgets/controls",
      "model_module_version": "1.5.0",
      "model_name": "DescriptionStyleModel",
      "state": {
       "description_width": ""
      }
     },
     "1bd87a02e14c4f30858fda5aa273fef4": {
      "model_module": "@jupyter-widgets/base",
      "model_module_version": "1.2.0",
      "model_name": "LayoutModel",
      "state": {}
     },
     "1d0e6f7851b440a38216ba404f1d3947": {
      "model_module": "@jupyter-widgets/controls",
      "model_module_version": "1.5.0",
      "model_name": "VBoxModel",
      "state": {
       "children": [
        "IPY_MODEL_6700248decd14e06a21b7b224b3e73f7",
        "IPY_MODEL_ccf091fdcfc64566832baf6a16fb315f"
       ],
       "layout": "IPY_MODEL_cdd6ad3dacdb4adbae85a83f5617f305"
      }
     },
     "1dbd7e6b9a3b449f9cb85e1f4edd3925": {
      "model_module": "@jupyter-widgets/controls",
      "model_module_version": "1.5.0",
      "model_name": "SliderStyleModel",
      "state": {
       "description_width": ""
      }
     },
     "1e89ae55debb4883af3c801621bdb40d": {
      "model_module": "@jupyter-widgets/controls",
      "model_module_version": "1.5.0",
      "model_name": "LinkModel",
      "state": {
       "source": [
        "IPY_MODEL_90a05fc2c083438ab03437482b6cd390",
        "value"
       ],
       "target": [
        "IPY_MODEL_4300d005e9854e9c9f36e64469bb7e11",
        "value"
       ]
      }
     },
     "1e9eb89a4759436cb7471709f8f202bd": {
      "model_module": "@jupyter-widgets/base",
      "model_module_version": "1.2.0",
      "model_name": "LayoutModel",
      "state": {}
     },
     "203eb09e10a94e649b2db810695e52f4": {
      "model_module": "@jupyter-widgets/controls",
      "model_module_version": "1.5.0",
      "model_name": "IntSliderModel",
      "state": {
       "layout": "IPY_MODEL_a0a444805e164a2a95b989bec7773833",
       "max": 14,
       "min": 1,
       "style": "IPY_MODEL_d5590832e7ee4ecdac5e08ee239b1e06",
       "value": 18
      }
     },
     "21ecb99c79d5431c81b986020b98c5ae": {
      "model_module": "@jupyter-widgets/controls",
      "model_module_version": "1.5.0",
      "model_name": "PlayModel",
      "state": {
       "interval": 500,
       "layout": "IPY_MODEL_afb77d4fe5544a23a257d27ef31d2225",
       "min": 1,
       "style": "IPY_MODEL_6b6622b276394a4d8fb95df28235b4e9",
       "value": 1
      }
     },
     "22c0f9d8e8aa4b44bf58133e2519e9f4": {
      "model_module": "@jupyter-widgets/controls",
      "model_module_version": "1.5.0",
      "model_name": "DescriptionStyleModel",
      "state": {
       "description_width": ""
      }
     },
     "22fbdf4a146f432e8ed6f2d2f2b47623": {
      "model_module": "@jupyter-widgets/controls",
      "model_module_version": "1.5.0",
      "model_name": "VBoxModel",
      "state": {
       "children": [
        "IPY_MODEL_d725c694d5c0448f8366761bd4a6f225",
        "IPY_MODEL_203eb09e10a94e649b2db810695e52f4"
       ],
       "layout": "IPY_MODEL_7e6a8015328b4cae8dd3b2e236ba711a"
      }
     },
     "233daea90d564f278c2d3730af426524": {
      "model_module": "@jupyter-widgets/base",
      "model_module_version": "1.2.0",
      "model_name": "LayoutModel",
      "state": {}
     },
     "2608cf66a19442a58042bda6c4bfaa2f": {
      "model_module": "@jupyter-widgets/base",
      "model_module_version": "1.2.0",
      "model_name": "LayoutModel",
      "state": {}
     },
     "26b5b85a1d67469cabd8c02aff573354": {
      "model_module": "@jupyter-widgets/controls",
      "model_module_version": "1.5.0",
      "model_name": "DescriptionStyleModel",
      "state": {
       "description_width": ""
      }
     },
     "26de9692ef7046dbb933f0fb8cf81fc4": {
      "model_module": "@jupyter-widgets/base",
      "model_module_version": "1.2.0",
      "model_name": "LayoutModel",
      "state": {}
     },
     "27503e5d3b8e446091c7e5554a0ff40a": {
      "model_module": "@jupyter-widgets/controls",
      "model_module_version": "1.5.0",
      "model_name": "VBoxModel",
      "state": {
       "children": [
        "IPY_MODEL_851f861e11dc4f5aa8c7da29a7f1458d",
        "IPY_MODEL_c554c48bdf014edcb2930035ca2b0601"
       ],
       "layout": "IPY_MODEL_4310c342c432485a94c0ce1448a883c6"
      }
     },
     "27b3bfbcd87d4d9fb00b16c205aded4e": {
      "model_module": "@jupyter-widgets/controls",
      "model_module_version": "1.5.0",
      "model_name": "LinkModel",
      "state": {
       "source": [
        "IPY_MODEL_667ebb20982543dda4a9c01446b50767",
        "value"
       ],
       "target": [
        "IPY_MODEL_8a95318deca84f4b9d6323a85947a163",
        "value"
       ]
      }
     },
     "282dee2ecb554bd1a354e4849acfb5c2": {
      "model_module": "@jupyter-widgets/controls",
      "model_module_version": "1.5.0",
      "model_name": "VBoxModel",
      "state": {
       "children": [
        "IPY_MODEL_90a05fc2c083438ab03437482b6cd390",
        "IPY_MODEL_4300d005e9854e9c9f36e64469bb7e11"
       ],
       "layout": "IPY_MODEL_1bd87a02e14c4f30858fda5aa273fef4"
      }
     },
     "290e4105af4d4269a4dc24a7932e875c": {
      "model_module": "@jupyter-widgets/controls",
      "model_module_version": "1.5.0",
      "model_name": "VBoxModel",
      "state": {
       "children": [
        "IPY_MODEL_427217b5d78c4fb384266cc363f14ad6",
        "IPY_MODEL_3ca6e897af0d44fc8aeff15784fb5048"
       ],
       "layout": "IPY_MODEL_17c12b8c568d435a939ae29c06429066"
      }
     },
     "2bef745b3aee4ccab345966ace7d915a": {
      "model_module": "@jupyter-widgets/controls",
      "model_module_version": "1.5.0",
      "model_name": "PlayModel",
      "state": {
       "interval": 500,
       "layout": "IPY_MODEL_c38b76a7a5a749e4ab08610a621c5467",
       "min": 1,
       "style": "IPY_MODEL_167104bfe3af4bfb882bdcef8a6b33df",
       "value": 100
      }
     },
     "2e458c8cd0de4ace9d38b7db7955fb8d": {
      "model_module": "@jupyter-widgets/controls",
      "model_module_version": "1.5.0",
      "model_name": "VBoxModel",
      "state": {
       "children": [
        "IPY_MODEL_5ebb17b54836406288bda29694194d41",
        "IPY_MODEL_cc6e3ce1e1ee40cfbe3cc0c29b28f2d4"
       ],
       "layout": "IPY_MODEL_f1787ab740f345d19f568d7ac5fdb432"
      }
     },
     "2f50e5d4751f4361be0daf3846627ca6": {
      "model_module": "@jupyter-widgets/controls",
      "model_module_version": "1.5.0",
      "model_name": "DescriptionStyleModel",
      "state": {
       "description_width": ""
      }
     },
     "304d9c4ed2464c9cb9f29bc0f24046d4": {
      "model_module": "@jupyter-widgets/controls",
      "model_module_version": "1.5.0",
      "model_name": "VBoxModel",
      "state": {
       "children": [
        "IPY_MODEL_2bef745b3aee4ccab345966ace7d915a",
        "IPY_MODEL_103970cfd00b4fec84d9af844cfbe914"
       ],
       "layout": "IPY_MODEL_a8369add432f40799ef45a0674bdc91a"
      }
     },
     "307782a04e72463bb42115181b2a31b1": {
      "model_module": "@jupyter-widgets/base",
      "model_module_version": "1.2.0",
      "model_name": "LayoutModel",
      "state": {}
     },
     "311429386125447c94374694795cade9": {
      "model_module": "@jupyter-widgets/output",
      "model_module_version": "1.0.0",
      "model_name": "OutputModel",
      "state": {
       "layout": "IPY_MODEL_c6c5d281b57a49bbbf8828c204062eb3"
      }
     },
     "344d20e788ee46c99d560f7a296519c5": {
      "model_module": "@jupyter-widgets/controls",
      "model_module_version": "1.5.0",
      "model_name": "LinkModel",
      "state": {
       "source": [
        "IPY_MODEL_c00642c3bdda4a8e907371b822f87d27",
        "value"
       ],
       "target": [
        "IPY_MODEL_867a76f01d024c2696c98a2a2a27b95e",
        "value"
       ]
      }
     },
     "34ab7cfa385e4cddbfd6d923309c4b6c": {
      "model_module": "@jupyter-widgets/controls",
      "model_module_version": "1.5.0",
      "model_name": "LinkModel",
      "state": {
       "source": [
        "IPY_MODEL_b9f1f86df304477296d6b798cf50aa02",
        "value"
       ],
       "target": [
        "IPY_MODEL_35d7209a6a654d95996f859fbcd79675",
        "value"
       ]
      }
     },
     "35d7209a6a654d95996f859fbcd79675": {
      "model_module": "@jupyter-widgets/controls",
      "model_module_version": "1.5.0",
      "model_name": "IntSliderModel",
      "state": {
       "layout": "IPY_MODEL_d2472da3b0f9497fb556e473e03a404a",
       "max": 14,
       "min": 1,
       "style": "IPY_MODEL_622c22f17bd143988265909fee0b8f76",
       "value": 100
      }
     },
     "36b73045608e43cfa67cef869d764404": {
      "model_module": "@jupyter-widgets/controls",
      "model_module_version": "1.5.0",
      "model_name": "SliderStyleModel",
      "state": {
       "description_width": ""
      }
     },
     "36d5799c6aed468fa996960aaa7c7493": {
      "model_module": "@jupyter-widgets/controls",
      "model_module_version": "1.5.0",
      "model_name": "PlayModel",
      "state": {
       "interval": 2000,
       "layout": "IPY_MODEL_4dc172ba08444e7899e368dac99600fc",
       "min": 1,
       "style": "IPY_MODEL_49200a9bcc8b4f2991e36b2cc16775ce",
       "value": 1
      }
     },
     "3a46882bf81640528f95ed7a4f6b5af8": {
      "model_module": "@jupyter-widgets/controls",
      "model_module_version": "1.5.0",
      "model_name": "VBoxModel",
      "state": {
       "children": [
        "IPY_MODEL_b9f1f86df304477296d6b798cf50aa02",
        "IPY_MODEL_35d7209a6a654d95996f859fbcd79675"
       ],
       "layout": "IPY_MODEL_1e9eb89a4759436cb7471709f8f202bd"
      }
     },
     "3aa8448a80c642f28a688e3ad9db3192": {
      "model_module": "@jupyter-widgets/controls",
      "model_module_version": "1.5.0",
      "model_name": "IntSliderModel",
      "state": {
       "layout": "IPY_MODEL_f5557fedda1c41a59c6db82bfc5f7ea4",
       "max": 14,
       "min": 1,
       "style": "IPY_MODEL_9653825182d74a84b405c8a35645121c",
       "value": 1
      }
     },
     "3ca6e897af0d44fc8aeff15784fb5048": {
      "model_module": "@jupyter-widgets/controls",
      "model_module_version": "1.5.0",
      "model_name": "IntSliderModel",
      "state": {
       "layout": "IPY_MODEL_f75e937f05a44d13b1bc95852a1f990b",
       "max": 14,
       "min": 1,
       "style": "IPY_MODEL_141ae15175be4e79b4a78a02b62b3a54",
       "value": 6
      }
     },
     "40c4a86eca9c4225900b431fb01c531e": {
      "model_module": "@jupyter-widgets/base",
      "model_module_version": "1.2.0",
      "model_name": "LayoutModel",
      "state": {}
     },
     "427217b5d78c4fb384266cc363f14ad6": {
      "model_module": "@jupyter-widgets/controls",
      "model_module_version": "1.5.0",
      "model_name": "PlayModel",
      "state": {
       "interval": 1000,
       "layout": "IPY_MODEL_7bdf3f11632b4214bbb5130ed78a8544",
       "min": 1,
       "style": "IPY_MODEL_4f3bfafdad1f41d591d0a59558c07f64",
       "value": 6
      }
     },
     "42f40d1570454ce3ac8d1327f15eebea": {
      "model_module": "@jupyter-widgets/controls",
      "model_module_version": "1.5.0",
      "model_name": "IntSliderModel",
      "state": {
       "layout": "IPY_MODEL_4deede4126ba43239617279cb8730aeb",
       "min": 1,
       "style": "IPY_MODEL_d168d280cda94e9da7198d98c30ef6e1",
       "value": 1
      }
     },
     "4300d005e9854e9c9f36e64469bb7e11": {
      "model_module": "@jupyter-widgets/controls",
      "model_module_version": "1.5.0",
      "model_name": "IntSliderModel",
      "state": {
       "layout": "IPY_MODEL_8c1fe06f34674d80bf243eeb0b58692c",
       "max": 49,
       "min": 1,
       "style": "IPY_MODEL_1dbd7e6b9a3b449f9cb85e1f4edd3925",
       "value": 9
      }
     },
     "4310c342c432485a94c0ce1448a883c6": {
      "model_module": "@jupyter-widgets/base",
      "model_module_version": "1.2.0",
      "model_name": "LayoutModel",
      "state": {}
     },
     "439d0a85dbfd480a826512277908dd1d": {
      "model_module": "@jupyter-widgets/controls",
      "model_module_version": "1.5.0",
      "model_name": "VBoxModel",
      "state": {
       "_dom_classes": [
        "widget-interact"
       ],
       "children": [
        "IPY_MODEL_06e8ae5d085f47c18a006dc7d92b113d",
        "IPY_MODEL_83e1fcb083694700b5da0d2fb35c57d5"
       ],
       "layout": "IPY_MODEL_9fd0bbf009e04b8ea046b4a95d33e2ee"
      }
     },
     "47a6440af436474a8b99d53d8fc736db": {
      "model_module": "@jupyter-widgets/controls",
      "model_module_version": "1.5.0",
      "model_name": "LinkModel",
      "state": {
       "source": [
        "IPY_MODEL_74bfcbf937ec4008884662d73c9073fa",
        "value"
       ],
       "target": [
        "IPY_MODEL_a32c562f1f4a443e9494c6e851d757a3",
        "value"
       ]
      }
     },
     "4804809a56dc4725bbc93e8848a14bc3": {
      "model_module": "@jupyter-widgets/controls",
      "model_module_version": "1.5.0",
      "model_name": "VBoxModel",
      "state": {
       "children": [
        "IPY_MODEL_c00642c3bdda4a8e907371b822f87d27",
        "IPY_MODEL_867a76f01d024c2696c98a2a2a27b95e"
       ],
       "layout": "IPY_MODEL_c9bf513cb5ef4605af748b1f15b47fba"
      }
     },
     "49200a9bcc8b4f2991e36b2cc16775ce": {
      "model_module": "@jupyter-widgets/controls",
      "model_module_version": "1.5.0",
      "model_name": "DescriptionStyleModel",
      "state": {
       "description_width": ""
      }
     },
     "4a5dce6e78874aa0ac1f68e4d2ccbfde": {
      "model_module": "@jupyter-widgets/base",
      "model_module_version": "1.2.0",
      "model_name": "LayoutModel",
      "state": {}
     },
     "4b8bf88790054f6a884d11f339c63a40": {
      "model_module": "@jupyter-widgets/base",
      "model_module_version": "1.2.0",
      "model_name": "LayoutModel",
      "state": {}
     },
     "4dc172ba08444e7899e368dac99600fc": {
      "model_module": "@jupyter-widgets/base",
      "model_module_version": "1.2.0",
      "model_name": "LayoutModel",
      "state": {}
     },
     "4deede4126ba43239617279cb8730aeb": {
      "model_module": "@jupyter-widgets/base",
      "model_module_version": "1.2.0",
      "model_name": "LayoutModel",
      "state": {}
     },
     "4ea0a0aef3b84f73b575b2be36c405f5": {
      "model_module": "@jupyter-widgets/controls",
      "model_module_version": "1.5.0",
      "model_name": "SliderStyleModel",
      "state": {
       "description_width": ""
      }
     },
     "4f3bfafdad1f41d591d0a59558c07f64": {
      "model_module": "@jupyter-widgets/controls",
      "model_module_version": "1.5.0",
      "model_name": "DescriptionStyleModel",
      "state": {
       "description_width": ""
      }
     },
     "501caf2c6da94a3391a53306e82e7ab4": {
      "model_module": "@jupyter-widgets/controls",
      "model_module_version": "1.5.0",
      "model_name": "SliderStyleModel",
      "state": {
       "description_width": ""
      }
     },
     "502691d1993c4475a9fc7fd435b6bb36": {
      "model_module": "@jupyter-widgets/controls",
      "model_module_version": "1.5.0",
      "model_name": "DescriptionStyleModel",
      "state": {
       "description_width": ""
      }
     },
     "51380319e5634a94b65d8d708dd6e284": {
      "model_module": "@jupyter-widgets/controls",
      "model_module_version": "1.5.0",
      "model_name": "VBoxModel",
      "state": {
       "_dom_classes": [
        "widget-interact"
       ],
       "children": [
        "IPY_MODEL_a69c205ab0f2434daea9ed20c25bbbcf",
        "IPY_MODEL_311429386125447c94374694795cade9"
       ],
       "layout": "IPY_MODEL_b8ace946840a44929e21f9aa15b7cdc0"
      }
     },
     "54b89a7b641c436bb2617f1a6278b314": {
      "model_module": "@jupyter-widgets/controls",
      "model_module_version": "1.5.0",
      "model_name": "DescriptionStyleModel",
      "state": {
       "description_width": ""
      }
     },
     "56c87032b19f4f65873fa3f5b2265e6a": {
      "model_module": "@jupyter-widgets/base",
      "model_module_version": "1.2.0",
      "model_name": "LayoutModel",
      "state": {}
     },
     "5928e8ae503540868d12d94fedd71dda": {
      "model_module": "@jupyter-widgets/base",
      "model_module_version": "1.2.0",
      "model_name": "LayoutModel",
      "state": {}
     },
     "5a1ae91e11004d5c913ee2aee34225dc": {
      "model_module": "@jupyter-widgets/base",
      "model_module_version": "1.2.0",
      "model_name": "LayoutModel",
      "state": {}
     },
     "5a2ec4c5856946479694ca27f75b98c2": {
      "model_module": "@jupyter-widgets/base",
      "model_module_version": "1.2.0",
      "model_name": "LayoutModel",
      "state": {}
     },
     "5a5ab206c5e44ccc9bb66edee98c1169": {
      "model_module": "@jupyter-widgets/controls",
      "model_module_version": "1.5.0",
      "model_name": "SliderStyleModel",
      "state": {
       "description_width": ""
      }
     },
     "5abe6261e6f24057ae741ec67143c215": {
      "model_module": "@jupyter-widgets/base",
      "model_module_version": "1.2.0",
      "model_name": "LayoutModel",
      "state": {}
     },
     "5ae2e02dc8e0433cac881948dbe65b01": {
      "model_module": "@jupyter-widgets/base",
      "model_module_version": "1.2.0",
      "model_name": "LayoutModel",
      "state": {}
     },
     "5b0a068a7e0d4fdfb9822006d4782d4b": {
      "model_module": "@jupyter-widgets/controls",
      "model_module_version": "1.5.0",
      "model_name": "LinkModel",
      "state": {
       "source": [
        "IPY_MODEL_427217b5d78c4fb384266cc363f14ad6",
        "value"
       ],
       "target": [
        "IPY_MODEL_3ca6e897af0d44fc8aeff15784fb5048",
        "value"
       ]
      }
     },
     "5cd80f4b81bf4cf5a78d708d202f163a": {
      "model_module": "@jupyter-widgets/controls",
      "model_module_version": "1.5.0",
      "model_name": "DescriptionStyleModel",
      "state": {
       "description_width": ""
      }
     },
     "5ebb17b54836406288bda29694194d41": {
      "model_module": "@jupyter-widgets/controls",
      "model_module_version": "1.5.0",
      "model_name": "PlayModel",
      "state": {
       "interval": 500,
       "layout": "IPY_MODEL_8d58ed4f8add41cb9bba8301e406c487",
       "min": 1,
       "style": "IPY_MODEL_9ffde5664969422a96f31bcd82f6ca4d",
       "value": 1
      }
     },
     "60379ec4e7a047e38284df72a4874b42": {
      "model_module": "@jupyter-widgets/base",
      "model_module_version": "1.2.0",
      "model_name": "LayoutModel",
      "state": {}
     },
     "622c22f17bd143988265909fee0b8f76": {
      "model_module": "@jupyter-widgets/controls",
      "model_module_version": "1.5.0",
      "model_name": "SliderStyleModel",
      "state": {
       "description_width": ""
      }
     },
     "646c9e9396c7447082a3d977864c5776": {
      "model_module": "@jupyter-widgets/controls",
      "model_module_version": "1.5.0",
      "model_name": "LinkModel",
      "state": {
       "source": [
        "IPY_MODEL_2bef745b3aee4ccab345966ace7d915a",
        "value"
       ],
       "target": [
        "IPY_MODEL_103970cfd00b4fec84d9af844cfbe914",
        "value"
       ]
      }
     },
     "64c4e1853978468eaea15d70b2a4c8bf": {
      "model_module": "@jupyter-widgets/controls",
      "model_module_version": "1.5.0",
      "model_name": "IntSliderModel",
      "state": {
       "layout": "IPY_MODEL_56c87032b19f4f65873fa3f5b2265e6a",
       "max": 49,
       "min": 1,
       "style": "IPY_MODEL_501caf2c6da94a3391a53306e82e7ab4",
       "value": 1
      }
     },
     "651a568f9cf5497a947403580244ba47": {
      "model_module": "@jupyter-widgets/controls",
      "model_module_version": "1.5.0",
      "model_name": "IntSliderModel",
      "state": {
       "layout": "IPY_MODEL_7a72ff23762b4e76953d9a0d1b07348b",
       "max": 49,
       "min": 1,
       "style": "IPY_MODEL_4ea0a0aef3b84f73b575b2be36c405f5",
       "value": 5
      }
     },
     "667ebb20982543dda4a9c01446b50767": {
      "model_module": "@jupyter-widgets/controls",
      "model_module_version": "1.5.0",
      "model_name": "PlayModel",
      "state": {
       "interval": 49,
       "layout": "IPY_MODEL_6f871cdab1da4df3a7a0354259ed7e97",
       "min": 1,
       "style": "IPY_MODEL_67d99c6f95664024a76bae80d4bfe18a",
       "value": 6
      }
     },
     "6700248decd14e06a21b7b224b3e73f7": {
      "model_module": "@jupyter-widgets/controls",
      "model_module_version": "1.5.0",
      "model_name": "PlayModel",
      "state": {
       "interval": 500,
       "layout": "IPY_MODEL_b478e1091a7c4c1ba5cfbcda34bce80d",
       "min": 1,
       "style": "IPY_MODEL_71977aa35c6544c1b17a88f0ec205028",
       "value": 14
      }
     },
     "6731ef4edcad49b4873c321b63349c72": {
      "model_module": "@jupyter-widgets/controls",
      "model_module_version": "1.5.0",
      "model_name": "VBoxModel",
      "state": {
       "children": [
        "IPY_MODEL_b9f1f86df304477296d6b798cf50aa02",
        "IPY_MODEL_35d7209a6a654d95996f859fbcd79675"
       ],
       "layout": "IPY_MODEL_cf511e1b1cd448ccb440810e7da13bcc"
      }
     },
     "67d99c6f95664024a76bae80d4bfe18a": {
      "model_module": "@jupyter-widgets/controls",
      "model_module_version": "1.5.0",
      "model_name": "DescriptionStyleModel",
      "state": {
       "description_width": ""
      }
     },
     "69ea8f19d79c428fa1dcd2e01fd478c5": {
      "model_module": "@jupyter-widgets/controls",
      "model_module_version": "1.5.0",
      "model_name": "PlayModel",
      "state": {
       "interval": 500,
       "layout": "IPY_MODEL_da194ba0933b48529f5be949ca406377",
       "min": 1,
       "style": "IPY_MODEL_22c0f9d8e8aa4b44bf58133e2519e9f4",
       "value": 1
      }
     },
     "6a89089153c24c8687faa720f2d84b93": {
      "model_module": "@jupyter-widgets/base",
      "model_module_version": "1.2.0",
      "model_name": "LayoutModel",
      "state": {}
     },
     "6b62c56b687b42a3816972ac64aeb4cf": {
      "model_module": "@jupyter-widgets/output",
      "model_module_version": "1.0.0",
      "model_name": "OutputModel",
      "state": {
       "layout": "IPY_MODEL_cdbccef4e1e14fea9d836a2c13bea84f"
      }
     },
     "6b6622b276394a4d8fb95df28235b4e9": {
      "model_module": "@jupyter-widgets/controls",
      "model_module_version": "1.5.0",
      "model_name": "DescriptionStyleModel",
      "state": {
       "description_width": ""
      }
     },
     "6ca60fed3e8548cfadb18875da255bb3": {
      "model_module": "@jupyter-widgets/controls",
      "model_module_version": "1.5.0",
      "model_name": "PlayModel",
      "state": {
       "interval": 500,
       "layout": "IPY_MODEL_c159d03f63624620957122f77213309d",
       "min": 1,
       "style": "IPY_MODEL_96c0b055b4c0452db8913426f0a47ba4",
       "value": 17
      }
     },
     "6cda058abdd34538b4b254bbbc7c82a0": {
      "model_module": "@jupyter-widgets/controls",
      "model_module_version": "1.5.0",
      "model_name": "SliderStyleModel",
      "state": {
       "description_width": ""
      }
     },
     "6edd9f1443584ec6ac3f3d32e7eb3078": {
      "model_module": "@jupyter-widgets/base",
      "model_module_version": "1.2.0",
      "model_name": "LayoutModel",
      "state": {}
     },
     "6f871cdab1da4df3a7a0354259ed7e97": {
      "model_module": "@jupyter-widgets/base",
      "model_module_version": "1.2.0",
      "model_name": "LayoutModel",
      "state": {}
     },
     "707bcc001d8f4c6c8f8893768c11ece7": {
      "model_module": "@jupyter-widgets/controls",
      "model_module_version": "1.5.0",
      "model_name": "LinkModel",
      "state": {
       "source": [
        "IPY_MODEL_36d5799c6aed468fa996960aaa7c7493",
        "value"
       ],
       "target": [
        "IPY_MODEL_42f40d1570454ce3ac8d1327f15eebea",
        "value"
       ]
      }
     },
     "71977aa35c6544c1b17a88f0ec205028": {
      "model_module": "@jupyter-widgets/controls",
      "model_module_version": "1.5.0",
      "model_name": "DescriptionStyleModel",
      "state": {
       "description_width": ""
      }
     },
     "7361cc0455754df4ade6bba8325ddfa6": {
      "model_module": "@jupyter-widgets/base",
      "model_module_version": "1.2.0",
      "model_name": "LayoutModel",
      "state": {}
     },
     "738781321d7b4de0b8f69d8a94471d77": {
      "model_module": "@jupyter-widgets/controls",
      "model_module_version": "1.5.0",
      "model_name": "VBoxModel",
      "state": {
       "children": [
        "IPY_MODEL_f90ddba3f7404005aa1f43e3ba31f21b",
        "IPY_MODEL_9cc1625077584709a88770648f8e2335"
       ],
       "layout": "IPY_MODEL_f4c053ae387a4777accfcb3ca72a2bab"
      }
     },
     "74bfcbf937ec4008884662d73c9073fa": {
      "model_module": "@jupyter-widgets/controls",
      "model_module_version": "1.5.0",
      "model_name": "PlayModel",
      "state": {
       "interval": 500,
       "layout": "IPY_MODEL_fd5e5a4ca31e410bb0d3cb46473306ce",
       "min": 1,
       "style": "IPY_MODEL_f2e87c45ddfa4aaabcd8d4e1e623b500",
       "value": 1
      }
     },
     "75a4851cbe7a4f4e97c526e46ef913f1": {
      "model_module": "@jupyter-widgets/base",
      "model_module_version": "1.2.0",
      "model_name": "LayoutModel",
      "state": {}
     },
     "75fb258a84f545e7949c271c8655e957": {
      "model_module": "@jupyter-widgets/base",
      "model_module_version": "1.2.0",
      "model_name": "LayoutModel",
      "state": {}
     },
     "772c60f851674776bdf21204aed3ba25": {
      "model_module": "@jupyter-widgets/controls",
      "model_module_version": "1.5.0",
      "model_name": "VBoxModel",
      "state": {
       "children": [
        "IPY_MODEL_b46a869eb8864d708eab11957f3deae6",
        "IPY_MODEL_88d5181e5a014d8c9817d1aa061b97a1"
       ],
       "layout": "IPY_MODEL_ee36997568954e41885387cabbe29d6a"
      }
     },
     "7a72ff23762b4e76953d9a0d1b07348b": {
      "model_module": "@jupyter-widgets/base",
      "model_module_version": "1.2.0",
      "model_name": "LayoutModel",
      "state": {}
     },
     "7bdf3f11632b4214bbb5130ed78a8544": {
      "model_module": "@jupyter-widgets/base",
      "model_module_version": "1.2.0",
      "model_name": "LayoutModel",
      "state": {}
     },
     "7e6a8015328b4cae8dd3b2e236ba711a": {
      "model_module": "@jupyter-widgets/base",
      "model_module_version": "1.2.0",
      "model_name": "LayoutModel",
      "state": {}
     },
     "7ea9d8f6b9f2404488df9cbb4929a7c8": {
      "model_module": "@jupyter-widgets/controls",
      "model_module_version": "1.5.0",
      "model_name": "IntSliderModel",
      "state": {
       "layout": "IPY_MODEL_8f8540b787b34bda920ba242361735a1",
       "max": 49,
       "min": 1,
       "style": "IPY_MODEL_dfe94442f7284d8a8edabc32aa688c57",
       "value": 1
      }
     },
     "82c5aa8c6bd141fb8451abdd39bb7256": {
      "model_module": "@jupyter-widgets/controls",
      "model_module_version": "1.5.0",
      "model_name": "LinkModel",
      "state": {
       "source": [
        "IPY_MODEL_851f861e11dc4f5aa8c7da29a7f1458d",
        "value"
       ],
       "target": [
        "IPY_MODEL_c554c48bdf014edcb2930035ca2b0601",
        "value"
       ]
      }
     },
     "83e1fcb083694700b5da0d2fb35c57d5": {
      "model_module": "@jupyter-widgets/output",
      "model_module_version": "1.0.0",
      "model_name": "OutputModel",
      "state": {
       "layout": "IPY_MODEL_9e6c1af01f4d423b86b824752f7d7a74"
      }
     },
     "84447aeff6bb4fe4a2622d474d354b2a": {
      "model_module": "@jupyter-widgets/base",
      "model_module_version": "1.2.0",
      "model_name": "LayoutModel",
      "state": {}
     },
     "847c5b67b961413f93102cf5bef9cdf5": {
      "model_module": "@jupyter-widgets/base",
      "model_module_version": "1.2.0",
      "model_name": "LayoutModel",
      "state": {}
     },
     "851f861e11dc4f5aa8c7da29a7f1458d": {
      "model_module": "@jupyter-widgets/controls",
      "model_module_version": "1.5.0",
      "model_name": "PlayModel",
      "state": {
       "interval": 300,
       "layout": "IPY_MODEL_4a5dce6e78874aa0ac1f68e4d2ccbfde",
       "min": 1,
       "style": "IPY_MODEL_502691d1993c4475a9fc7fd435b6bb36",
       "value": 100
      }
     },
     "867a76f01d024c2696c98a2a2a27b95e": {
      "model_module": "@jupyter-widgets/controls",
      "model_module_version": "1.5.0",
      "model_name": "IntSliderModel",
      "state": {
       "layout": "IPY_MODEL_16a59263c5e04a39a9b9c919ed17b77a",
       "max": 14,
       "min": 1,
       "style": "IPY_MODEL_d413792c29254e94bd8010d580e36bbf",
       "value": 1
      }
     },
     "88d5181e5a014d8c9817d1aa061b97a1": {
      "model_module": "@jupyter-widgets/controls",
      "model_module_version": "1.5.0",
      "model_name": "IntSliderModel",
      "state": {
       "layout": "IPY_MODEL_40c4a86eca9c4225900b431fb01c531e",
       "max": 49,
       "min": 1,
       "style": "IPY_MODEL_eee4ba0a606f4d919477b41c220df12f",
       "value": 100
      }
     },
     "88e41cac65b945d2bb7d221e29784c7d": {
      "model_module": "@jupyter-widgets/controls",
      "model_module_version": "1.5.0",
      "model_name": "PlayModel",
      "state": {
       "interval": 300,
       "layout": "IPY_MODEL_2608cf66a19442a58042bda6c4bfaa2f",
       "min": 1,
       "style": "IPY_MODEL_26b5b85a1d67469cabd8c02aff573354",
       "value": 1
      }
     },
     "8a95318deca84f4b9d6323a85947a163": {
      "model_module": "@jupyter-widgets/controls",
      "model_module_version": "1.5.0",
      "model_name": "IntSliderModel",
      "state": {
       "layout": "IPY_MODEL_02121bef571d4f7f9ab0acc635935746",
       "max": 49,
       "min": 1,
       "style": "IPY_MODEL_d6cbc6a88ba94fde830221ea8b6cba5a",
       "value": 6
      }
     },
     "8b70f6762bb841a3819c6c4d38ebdbbf": {
      "model_module": "@jupyter-widgets/controls",
      "model_module_version": "1.5.0",
      "model_name": "LinkModel",
      "state": {
       "source": [
        "IPY_MODEL_69ea8f19d79c428fa1dcd2e01fd478c5",
        "value"
       ],
       "target": [
        "IPY_MODEL_7ea9d8f6b9f2404488df9cbb4929a7c8",
        "value"
       ]
      }
     },
     "8c1fe06f34674d80bf243eeb0b58692c": {
      "model_module": "@jupyter-widgets/base",
      "model_module_version": "1.2.0",
      "model_name": "LayoutModel",
      "state": {}
     },
     "8c4a6c08eecb476a9b9fa5076a94c5cd": {
      "model_module": "@jupyter-widgets/controls",
      "model_module_version": "1.5.0",
      "model_name": "IntSliderModel",
      "state": {
       "layout": "IPY_MODEL_26de9692ef7046dbb933f0fb8cf81fc4",
       "max": 49,
       "min": 1,
       "style": "IPY_MODEL_6cda058abdd34538b4b254bbbc7c82a0",
       "value": 17
      }
     },
     "8d58ed4f8add41cb9bba8301e406c487": {
      "model_module": "@jupyter-widgets/base",
      "model_module_version": "1.2.0",
      "model_name": "LayoutModel",
      "state": {}
     },
     "8d82cc9619ec46aabbc8abcf50022f91": {
      "model_module": "@jupyter-widgets/base",
      "model_module_version": "1.2.0",
      "model_name": "LayoutModel",
      "state": {}
     },
     "8dc3d00c2cd54e218b4bf6fd8ad1b488": {
      "model_module": "@jupyter-widgets/controls",
      "model_module_version": "1.5.0",
      "model_name": "DescriptionStyleModel",
      "state": {
       "description_width": ""
      }
     },
     "8f8540b787b34bda920ba242361735a1": {
      "model_module": "@jupyter-widgets/base",
      "model_module_version": "1.2.0",
      "model_name": "LayoutModel",
      "state": {}
     },
     "8fa7cd03684b413187ea3bb3cbfe75a7": {
      "model_module": "@jupyter-widgets/controls",
      "model_module_version": "1.5.0",
      "model_name": "SliderStyleModel",
      "state": {
       "description_width": ""
      }
     },
     "8fb4b405ac9740eda43e96e28565057f": {
      "model_module": "@jupyter-widgets/controls",
      "model_module_version": "1.5.0",
      "model_name": "LinkModel",
      "state": {
       "source": [
        "IPY_MODEL_d725c694d5c0448f8366761bd4a6f225",
        "value"
       ],
       "target": [
        "IPY_MODEL_203eb09e10a94e649b2db810695e52f4",
        "value"
       ]
      }
     },
     "9009b319cb7b4d59be4a1e362eb07f1a": {
      "model_module": "@jupyter-widgets/base",
      "model_module_version": "1.2.0",
      "model_name": "LayoutModel",
      "state": {}
     },
     "90a05fc2c083438ab03437482b6cd390": {
      "model_module": "@jupyter-widgets/controls",
      "model_module_version": "1.5.0",
      "model_name": "PlayModel",
      "state": {
       "interval": 500,
       "layout": "IPY_MODEL_a949fcfe3777441d94461f287c22be9b",
       "min": 1,
       "style": "IPY_MODEL_e2ed718b0ca24bb8876338c61275874e",
       "value": 9
      }
     },
     "90ce32ee0c8a41b3a151df3e1969ceab": {
      "model_module": "@jupyter-widgets/controls",
      "model_module_version": "1.5.0",
      "model_name": "VBoxModel",
      "state": {
       "children": [
        "IPY_MODEL_b46a869eb8864d708eab11957f3deae6",
        "IPY_MODEL_88d5181e5a014d8c9817d1aa061b97a1"
       ],
       "layout": "IPY_MODEL_9009b319cb7b4d59be4a1e362eb07f1a"
      }
     },
     "93614acf6d404dac87f624047f6e0359": {
      "model_module": "@jupyter-widgets/base",
      "model_module_version": "1.2.0",
      "model_name": "LayoutModel",
      "state": {}
     },
     "950a07a98b5d40cfb944ea9e8315a448": {
      "model_module": "@jupyter-widgets/base",
      "model_module_version": "1.2.0",
      "model_name": "LayoutModel",
      "state": {}
     },
     "957cd71d281544f6ad89a3e0ea855930": {
      "model_module": "@jupyter-widgets/controls",
      "model_module_version": "1.5.0",
      "model_name": "LinkModel",
      "state": {
       "source": [
        "IPY_MODEL_c0aa7d49770a4c5dbd58af0c5d419737",
        "value"
       ],
       "target": [
        "IPY_MODEL_12a763f92a0d4497a142d57b6919b67c",
        "value"
       ]
      }
     },
     "9653825182d74a84b405c8a35645121c": {
      "model_module": "@jupyter-widgets/controls",
      "model_module_version": "1.5.0",
      "model_name": "SliderStyleModel",
      "state": {
       "description_width": ""
      }
     },
     "96c0b055b4c0452db8913426f0a47ba4": {
      "model_module": "@jupyter-widgets/controls",
      "model_module_version": "1.5.0",
      "model_name": "DescriptionStyleModel",
      "state": {
       "description_width": ""
      }
     },
     "99b805c2a0144d31849fce4d65746d10": {
      "model_module": "@jupyter-widgets/base",
      "model_module_version": "1.2.0",
      "model_name": "LayoutModel",
      "state": {}
     },
     "9b21503505d04c768f9003ca9573d8a9": {
      "model_module": "@jupyter-widgets/base",
      "model_module_version": "1.2.0",
      "model_name": "LayoutModel",
      "state": {}
     },
     "9b57be62cf14469caec7cafd168f8ed7": {
      "model_module": "@jupyter-widgets/controls",
      "model_module_version": "1.5.0",
      "model_name": "DescriptionStyleModel",
      "state": {
       "description_width": ""
      }
     },
     "9bfc7fc2b6d6489a94b86a71ea4e39dd": {
      "model_module": "@jupyter-widgets/base",
      "model_module_version": "1.2.0",
      "model_name": "LayoutModel",
      "state": {}
     },
     "9c8121a5398b4e4597c03e1456723c55": {
      "model_module": "@jupyter-widgets/controls",
      "model_module_version": "1.5.0",
      "model_name": "PlayModel",
      "state": {
       "interval": 500,
       "layout": "IPY_MODEL_e88e93e19ec04c87865f802688097090",
       "min": 1,
       "style": "IPY_MODEL_2f50e5d4751f4361be0daf3846627ca6",
       "value": 8
      }
     },
     "9cc1625077584709a88770648f8e2335": {
      "model_module": "@jupyter-widgets/controls",
      "model_module_version": "1.5.0",
      "model_name": "IntSliderModel",
      "state": {
       "layout": "IPY_MODEL_60379ec4e7a047e38284df72a4874b42",
       "max": 49,
       "min": 1,
       "style": "IPY_MODEL_a1d62a20f70a46e1ad10750a4de7c9ab",
       "value": 1
      }
     },
     "9e6c1af01f4d423b86b824752f7d7a74": {
      "model_module": "@jupyter-widgets/base",
      "model_module_version": "1.2.0",
      "model_name": "LayoutModel",
      "state": {}
     },
     "9eaff4325dce41bdbdb08dc460c98b00": {
      "model_module": "@jupyter-widgets/base",
      "model_module_version": "1.2.0",
      "model_name": "LayoutModel",
      "state": {}
     },
     "9fd0bbf009e04b8ea046b4a95d33e2ee": {
      "model_module": "@jupyter-widgets/base",
      "model_module_version": "1.2.0",
      "model_name": "LayoutModel",
      "state": {}
     },
     "9ffde5664969422a96f31bcd82f6ca4d": {
      "model_module": "@jupyter-widgets/controls",
      "model_module_version": "1.5.0",
      "model_name": "DescriptionStyleModel",
      "state": {
       "description_width": ""
      }
     },
     "a0a444805e164a2a95b989bec7773833": {
      "model_module": "@jupyter-widgets/base",
      "model_module_version": "1.2.0",
      "model_name": "LayoutModel",
      "state": {}
     },
     "a116c27efb5a4d888f7981cffa478a0f": {
      "model_module": "@jupyter-widgets/base",
      "model_module_version": "1.2.0",
      "model_name": "LayoutModel",
      "state": {}
     },
     "a11a50af04f84a24b40850d9979ae74a": {
      "model_module": "@jupyter-widgets/base",
      "model_module_version": "1.2.0",
      "model_name": "LayoutModel",
      "state": {}
     },
     "a1d62a20f70a46e1ad10750a4de7c9ab": {
      "model_module": "@jupyter-widgets/controls",
      "model_module_version": "1.5.0",
      "model_name": "SliderStyleModel",
      "state": {
       "description_width": ""
      }
     },
     "a32c562f1f4a443e9494c6e851d757a3": {
      "model_module": "@jupyter-widgets/controls",
      "model_module_version": "1.5.0",
      "model_name": "IntSliderModel",
      "state": {
       "layout": "IPY_MODEL_9b21503505d04c768f9003ca9573d8a9",
       "max": 49,
       "min": 1,
       "style": "IPY_MODEL_be5463885f8940f7b9d6bd0664aedc3d",
       "value": 1
      }
     },
     "a36799c4e8e744dd86093a17e8c1eafd": {
      "model_module": "@jupyter-widgets/controls",
      "model_module_version": "1.5.0",
      "model_name": "VBoxModel",
      "state": {
       "children": [
        "IPY_MODEL_5ebb17b54836406288bda29694194d41",
        "IPY_MODEL_cc6e3ce1e1ee40cfbe3cc0c29b28f2d4"
       ],
       "layout": "IPY_MODEL_5a1ae91e11004d5c913ee2aee34225dc"
      }
     },
     "a3ecae38db0e4212b517c09cc99fc435": {
      "model_module": "@jupyter-widgets/base",
      "model_module_version": "1.2.0",
      "model_name": "LayoutModel",
      "state": {}
     },
     "a3f58def97504071a45e81d5c41f72d6": {
      "model_module": "@jupyter-widgets/controls",
      "model_module_version": "1.5.0",
      "model_name": "LinkModel",
      "state": {
       "source": [
        "IPY_MODEL_b46a869eb8864d708eab11957f3deae6",
        "value"
       ],
       "target": [
        "IPY_MODEL_88d5181e5a014d8c9817d1aa061b97a1",
        "value"
       ]
      }
     },
     "a61fd02ee2c54be1b3cbd79df9ef92d6": {
      "model_module": "@jupyter-widgets/base",
      "model_module_version": "1.2.0",
      "model_name": "LayoutModel",
      "state": {}
     },
     "a69c205ab0f2434daea9ed20c25bbbcf": {
      "model_module": "@jupyter-widgets/controls",
      "model_module_version": "1.5.0",
      "model_name": "IntSliderModel",
      "state": {
       "description": "timestep",
       "layout": "IPY_MODEL_5ae2e02dc8e0433cac881948dbe65b01",
       "max": 14,
       "style": "IPY_MODEL_d4fbba9350c241fd8da9d1b0683c717a",
       "value": 7
      }
     },
     "a82eccdf86644326a3bf785aec6a2bb0": {
      "model_module": "@jupyter-widgets/controls",
      "model_module_version": "1.5.0",
      "model_name": "VBoxModel",
      "state": {
       "children": [
        "IPY_MODEL_69ea8f19d79c428fa1dcd2e01fd478c5",
        "IPY_MODEL_7ea9d8f6b9f2404488df9cbb4929a7c8"
       ],
       "layout": "IPY_MODEL_84447aeff6bb4fe4a2622d474d354b2a"
      }
     },
     "a8369add432f40799ef45a0674bdc91a": {
      "model_module": "@jupyter-widgets/base",
      "model_module_version": "1.2.0",
      "model_name": "LayoutModel",
      "state": {}
     },
     "a87ded50208e4a31b28b44bfed23f06b": {
      "model_module": "@jupyter-widgets/controls",
      "model_module_version": "1.5.0",
      "model_name": "VBoxModel",
      "state": {
       "children": [
        "IPY_MODEL_c00642c3bdda4a8e907371b822f87d27",
        "IPY_MODEL_867a76f01d024c2696c98a2a2a27b95e"
       ],
       "layout": "IPY_MODEL_feb176aad55d46498da4ee0b3dc5865f"
      }
     },
     "a949fcfe3777441d94461f287c22be9b": {
      "model_module": "@jupyter-widgets/base",
      "model_module_version": "1.2.0",
      "model_name": "LayoutModel",
      "state": {}
     },
     "ad5721c4d53a4cac8077fd33cb7f5e4d": {
      "model_module": "@jupyter-widgets/controls",
      "model_module_version": "1.5.0",
      "model_name": "LinkModel",
      "state": {
       "source": [
        "IPY_MODEL_6ca60fed3e8548cfadb18875da255bb3",
        "value"
       ],
       "target": [
        "IPY_MODEL_8c4a6c08eecb476a9b9fa5076a94c5cd",
        "value"
       ]
      }
     },
     "afb77d4fe5544a23a257d27ef31d2225": {
      "model_module": "@jupyter-widgets/base",
      "model_module_version": "1.2.0",
      "model_name": "LayoutModel",
      "state": {}
     },
     "b46a869eb8864d708eab11957f3deae6": {
      "model_module": "@jupyter-widgets/controls",
      "model_module_version": "1.5.0",
      "model_name": "PlayModel",
      "state": {
       "interval": 500,
       "layout": "IPY_MODEL_cb56c52903974e10ac0b06c719ef0216",
       "min": 1,
       "style": "IPY_MODEL_15fc20cf216542739f628e4612fc623e",
       "value": 100
      }
     },
     "b478e1091a7c4c1ba5cfbcda34bce80d": {
      "model_module": "@jupyter-widgets/base",
      "model_module_version": "1.2.0",
      "model_name": "LayoutModel",
      "state": {}
     },
     "b5a6465e220d4bca9d14609c857056ec": {
      "model_module": "@jupyter-widgets/controls",
      "model_module_version": "1.5.0",
      "model_name": "LinkModel",
      "state": {
       "source": [
        "IPY_MODEL_f90ddba3f7404005aa1f43e3ba31f21b",
        "value"
       ],
       "target": [
        "IPY_MODEL_9cc1625077584709a88770648f8e2335",
        "value"
       ]
      }
     },
     "b85d0e804aae4a258fcc0f8a70224e11": {
      "model_module": "@jupyter-widgets/output",
      "model_module_version": "1.0.0",
      "model_name": "OutputModel",
      "state": {
       "layout": "IPY_MODEL_5a2ec4c5856946479694ca27f75b98c2"
      }
     },
     "b8ace946840a44929e21f9aa15b7cdc0": {
      "model_module": "@jupyter-widgets/base",
      "model_module_version": "1.2.0",
      "model_name": "LayoutModel",
      "state": {}
     },
     "b9f1f86df304477296d6b798cf50aa02": {
      "model_module": "@jupyter-widgets/controls",
      "model_module_version": "1.5.0",
      "model_name": "PlayModel",
      "state": {
       "interval": 300,
       "layout": "IPY_MODEL_9eaff4325dce41bdbdb08dc460c98b00",
       "min": 1,
       "style": "IPY_MODEL_8dc3d00c2cd54e218b4bf6fd8ad1b488",
       "value": 100
      }
     },
     "bbc5e8a3b65d4b29879cd859b3ed55bb": {
      "model_module": "@jupyter-widgets/controls",
      "model_module_version": "1.5.0",
      "model_name": "VBoxModel",
      "state": {
       "children": [
        "IPY_MODEL_74bfcbf937ec4008884662d73c9073fa",
        "IPY_MODEL_a32c562f1f4a443e9494c6e851d757a3"
       ],
       "layout": "IPY_MODEL_4b8bf88790054f6a884d11f339c63a40"
      }
     },
     "bcc064ba20594a9c8d88b254777fdd46": {
      "model_module": "@jupyter-widgets/base",
      "model_module_version": "1.2.0",
      "model_name": "LayoutModel",
      "state": {}
     },
     "be2073f00ff84da99f73bddc0fab78f3": {
      "model_module": "@jupyter-widgets/base",
      "model_module_version": "1.2.0",
      "model_name": "LayoutModel",
      "state": {}
     },
     "be5463885f8940f7b9d6bd0664aedc3d": {
      "model_module": "@jupyter-widgets/controls",
      "model_module_version": "1.5.0",
      "model_name": "SliderStyleModel",
      "state": {
       "description_width": ""
      }
     },
     "c00642c3bdda4a8e907371b822f87d27": {
      "model_module": "@jupyter-widgets/controls",
      "model_module_version": "1.5.0",
      "model_name": "PlayModel",
      "state": {
       "interval": 1000,
       "layout": "IPY_MODEL_5abe6261e6f24057ae741ec67143c215",
       "min": 1,
       "style": "IPY_MODEL_5cd80f4b81bf4cf5a78d708d202f163a",
       "value": 1
      }
     },
     "c0aa7d49770a4c5dbd58af0c5d419737": {
      "model_module": "@jupyter-widgets/controls",
      "model_module_version": "1.5.0",
      "model_name": "PlayModel",
      "state": {
       "interval": 500,
       "layout": "IPY_MODEL_a11a50af04f84a24b40850d9979ae74a",
       "min": 1,
       "style": "IPY_MODEL_9b57be62cf14469caec7cafd168f8ed7",
       "value": 100
      }
     },
     "c159d03f63624620957122f77213309d": {
      "model_module": "@jupyter-widgets/base",
      "model_module_version": "1.2.0",
      "model_name": "LayoutModel",
      "state": {}
     },
     "c38b76a7a5a749e4ab08610a621c5467": {
      "model_module": "@jupyter-widgets/base",
      "model_module_version": "1.2.0",
      "model_name": "LayoutModel",
      "state": {}
     },
     "c3afe4a448fc452495a8e1b6e1b2dbb6": {
      "model_module": "@jupyter-widgets/controls",
      "model_module_version": "1.5.0",
      "model_name": "DescriptionStyleModel",
      "state": {
       "description_width": ""
      }
     },
     "c40f5e7444534af1ae2aba4d8f73a9ee": {
      "model_module": "@jupyter-widgets/controls",
      "model_module_version": "1.5.0",
      "model_name": "PlayModel",
      "state": {
       "interval": 49,
       "layout": "IPY_MODEL_307782a04e72463bb42115181b2a31b1",
       "min": 1,
       "style": "IPY_MODEL_1b7e931fe23045c385e1713b98f6b02c",
       "value": 5
      }
     },
     "c43fc1a4739340c2874d37a292574a7c": {
      "model_module": "@jupyter-widgets/controls",
      "model_module_version": "1.5.0",
      "model_name": "SliderStyleModel",
      "state": {
       "description_width": ""
      }
     },
     "c554c48bdf014edcb2930035ca2b0601": {
      "model_module": "@jupyter-widgets/controls",
      "model_module_version": "1.5.0",
      "model_name": "IntSliderModel",
      "state": {
       "layout": "IPY_MODEL_068025a3e59b40cfb7c38806fd0828cd",
       "max": 14,
       "min": 1,
       "style": "IPY_MODEL_d5f57217e7fb46d7b4ede486f980e8a2",
       "value": 100
      }
     },
     "c6c5d281b57a49bbbf8828c204062eb3": {
      "model_module": "@jupyter-widgets/base",
      "model_module_version": "1.2.0",
      "model_name": "LayoutModel",
      "state": {}
     },
     "c9bf513cb5ef4605af748b1f15b47fba": {
      "model_module": "@jupyter-widgets/base",
      "model_module_version": "1.2.0",
      "model_name": "LayoutModel",
      "state": {}
     },
     "cb56c52903974e10ac0b06c719ef0216": {
      "model_module": "@jupyter-widgets/base",
      "model_module_version": "1.2.0",
      "model_name": "LayoutModel",
      "state": {}
     },
     "cba32987459441a8948ec3715e7aaf16": {
      "model_module": "@jupyter-widgets/base",
      "model_module_version": "1.2.0",
      "model_name": "LayoutModel",
      "state": {}
     },
     "cc6e3ce1e1ee40cfbe3cc0c29b28f2d4": {
      "model_module": "@jupyter-widgets/controls",
      "model_module_version": "1.5.0",
      "model_name": "IntSliderModel",
      "state": {
       "layout": "IPY_MODEL_847c5b67b961413f93102cf5bef9cdf5",
       "max": 49,
       "min": 1,
       "style": "IPY_MODEL_19c7075413ee4ea5a695552d6aea214a",
       "value": 1
      }
     },
     "ccf091fdcfc64566832baf6a16fb315f": {
      "model_module": "@jupyter-widgets/controls",
      "model_module_version": "1.5.0",
      "model_name": "IntSliderModel",
      "state": {
       "layout": "IPY_MODEL_be2073f00ff84da99f73bddc0fab78f3",
       "max": 49,
       "min": 1,
       "style": "IPY_MODEL_36b73045608e43cfa67cef869d764404",
       "value": 14
      }
     },
     "cdbccef4e1e14fea9d836a2c13bea84f": {
      "model_module": "@jupyter-widgets/base",
      "model_module_version": "1.2.0",
      "model_name": "LayoutModel",
      "state": {}
     },
     "cdd6ad3dacdb4adbae85a83f5617f305": {
      "model_module": "@jupyter-widgets/base",
      "model_module_version": "1.2.0",
      "model_name": "LayoutModel",
      "state": {}
     },
     "ceff27309e054284b8dcc1e602892ed0": {
      "model_module": "@jupyter-widgets/controls",
      "model_module_version": "1.5.0",
      "model_name": "VBoxModel",
      "state": {
       "children": [
        "IPY_MODEL_c40f5e7444534af1ae2aba4d8f73a9ee",
        "IPY_MODEL_651a568f9cf5497a947403580244ba47"
       ],
       "layout": "IPY_MODEL_233daea90d564f278c2d3730af426524"
      }
     },
     "cf3dd02fd4e94079a9f49daeb893d064": {
      "model_module": "@jupyter-widgets/controls",
      "model_module_version": "1.5.0",
      "model_name": "VBoxModel",
      "state": {
       "children": [
        "IPY_MODEL_851f861e11dc4f5aa8c7da29a7f1458d",
        "IPY_MODEL_c554c48bdf014edcb2930035ca2b0601"
       ],
       "layout": "IPY_MODEL_a116c27efb5a4d888f7981cffa478a0f"
      }
     },
     "cf511e1b1cd448ccb440810e7da13bcc": {
      "model_module": "@jupyter-widgets/base",
      "model_module_version": "1.2.0",
      "model_name": "LayoutModel",
      "state": {}
     },
     "d168d280cda94e9da7198d98c30ef6e1": {
      "model_module": "@jupyter-widgets/controls",
      "model_module_version": "1.5.0",
      "model_name": "SliderStyleModel",
      "state": {
       "description_width": ""
      }
     },
     "d1e3aef6acbe453899d61b720e5a92d6": {
      "model_module": "@jupyter-widgets/base",
      "model_module_version": "1.2.0",
      "model_name": "LayoutModel",
      "state": {}
     },
     "d2472da3b0f9497fb556e473e03a404a": {
      "model_module": "@jupyter-widgets/base",
      "model_module_version": "1.2.0",
      "model_name": "LayoutModel",
      "state": {}
     },
     "d413792c29254e94bd8010d580e36bbf": {
      "model_module": "@jupyter-widgets/controls",
      "model_module_version": "1.5.0",
      "model_name": "SliderStyleModel",
      "state": {
       "description_width": ""
      }
     },
     "d4365af283684eb4a8ffd0bad8992c39": {
      "model_module": "@jupyter-widgets/controls",
      "model_module_version": "1.5.0",
      "model_name": "VBoxModel",
      "state": {
       "children": [
        "IPY_MODEL_d725c694d5c0448f8366761bd4a6f225",
        "IPY_MODEL_203eb09e10a94e649b2db810695e52f4"
       ],
       "layout": "IPY_MODEL_9bfc7fc2b6d6489a94b86a71ea4e39dd"
      }
     },
     "d4609d8834e04ab2ab48479e88e55a58": {
      "model_module": "@jupyter-widgets/base",
      "model_module_version": "1.2.0",
      "model_name": "LayoutModel",
      "state": {}
     },
     "d4fbba9350c241fd8da9d1b0683c717a": {
      "model_module": "@jupyter-widgets/controls",
      "model_module_version": "1.5.0",
      "model_name": "SliderStyleModel",
      "state": {
       "description_width": ""
      }
     },
     "d5590832e7ee4ecdac5e08ee239b1e06": {
      "model_module": "@jupyter-widgets/controls",
      "model_module_version": "1.5.0",
      "model_name": "SliderStyleModel",
      "state": {
       "description_width": ""
      }
     },
     "d5f57217e7fb46d7b4ede486f980e8a2": {
      "model_module": "@jupyter-widgets/controls",
      "model_module_version": "1.5.0",
      "model_name": "SliderStyleModel",
      "state": {
       "description_width": ""
      }
     },
     "d66cc8c2add04244aca2c60999302369": {
      "model_module": "@jupyter-widgets/controls",
      "model_module_version": "1.5.0",
      "model_name": "VBoxModel",
      "state": {
       "children": [
        "IPY_MODEL_36d5799c6aed468fa996960aaa7c7493",
        "IPY_MODEL_42f40d1570454ce3ac8d1327f15eebea"
       ],
       "layout": "IPY_MODEL_6a89089153c24c8687faa720f2d84b93"
      }
     },
     "d6cbc6a88ba94fde830221ea8b6cba5a": {
      "model_module": "@jupyter-widgets/controls",
      "model_module_version": "1.5.0",
      "model_name": "SliderStyleModel",
      "state": {
       "description_width": ""
      }
     },
     "d725c694d5c0448f8366761bd4a6f225": {
      "model_module": "@jupyter-widgets/controls",
      "model_module_version": "1.5.0",
      "model_name": "PlayModel",
      "state": {
       "interval": 1000,
       "layout": "IPY_MODEL_5928e8ae503540868d12d94fedd71dda",
       "min": 1,
       "style": "IPY_MODEL_c3afe4a448fc452495a8e1b6e1b2dbb6",
       "value": 18
      }
     },
     "d84b849a8de5415bbccbcd40878e0e51": {
      "model_module": "@jupyter-widgets/controls",
      "model_module_version": "1.5.0",
      "model_name": "SliderStyleModel",
      "state": {
       "description_width": ""
      }
     },
     "da194ba0933b48529f5be949ca406377": {
      "model_module": "@jupyter-widgets/base",
      "model_module_version": "1.2.0",
      "model_name": "LayoutModel",
      "state": {}
     },
     "dfe94442f7284d8a8edabc32aa688c57": {
      "model_module": "@jupyter-widgets/controls",
      "model_module_version": "1.5.0",
      "model_name": "SliderStyleModel",
      "state": {
       "description_width": ""
      }
     },
     "e0ad4dceb76449c4b5363fc0dc71950c": {
      "model_module": "@jupyter-widgets/controls",
      "model_module_version": "1.5.0",
      "model_name": "LinkModel",
      "state": {
       "source": [
        "IPY_MODEL_6700248decd14e06a21b7b224b3e73f7",
        "value"
       ],
       "target": [
        "IPY_MODEL_ccf091fdcfc64566832baf6a16fb315f",
        "value"
       ]
      }
     },
     "e2ed718b0ca24bb8876338c61275874e": {
      "model_module": "@jupyter-widgets/controls",
      "model_module_version": "1.5.0",
      "model_name": "DescriptionStyleModel",
      "state": {
       "description_width": ""
      }
     },
     "e3ddd647b1704639b33f0931c2710a4e": {
      "model_module": "@jupyter-widgets/controls",
      "model_module_version": "1.5.0",
      "model_name": "VBoxModel",
      "state": {
       "children": [
        "IPY_MODEL_90a05fc2c083438ab03437482b6cd390",
        "IPY_MODEL_4300d005e9854e9c9f36e64469bb7e11"
       ],
       "layout": "IPY_MODEL_d4609d8834e04ab2ab48479e88e55a58"
      }
     },
     "e51b297e19b243d4a56431fe70c0690f": {
      "model_module": "@jupyter-widgets/controls",
      "model_module_version": "1.5.0",
      "model_name": "VBoxModel",
      "state": {
       "children": [
        "IPY_MODEL_6ca60fed3e8548cfadb18875da255bb3",
        "IPY_MODEL_8c4a6c08eecb476a9b9fa5076a94c5cd"
       ],
       "layout": "IPY_MODEL_a61fd02ee2c54be1b3cbd79df9ef92d6"
      }
     },
     "e541c9408b364de9b8ca466cbae8aee0": {
      "model_module": "@jupyter-widgets/controls",
      "model_module_version": "1.5.0",
      "model_name": "VBoxModel",
      "state": {
       "children": [
        "IPY_MODEL_f90ddba3f7404005aa1f43e3ba31f21b",
        "IPY_MODEL_9cc1625077584709a88770648f8e2335"
       ],
       "layout": "IPY_MODEL_f4258931adfa4977b00ff504ceb4eb0f"
      }
     },
     "e88e93e19ec04c87865f802688097090": {
      "model_module": "@jupyter-widgets/base",
      "model_module_version": "1.2.0",
      "model_name": "LayoutModel",
      "state": {}
     },
     "ec331978ce9b4f4c9a0f00578b7a4ef7": {
      "model_module": "@jupyter-widgets/controls",
      "model_module_version": "1.5.0",
      "model_name": "IntSliderModel",
      "state": {
       "description": "timestep",
       "layout": "IPY_MODEL_d1e3aef6acbe453899d61b720e5a92d6",
       "max": 14,
       "style": "IPY_MODEL_8fa7cd03684b413187ea3bb3cbfe75a7",
       "value": 7
      }
     },
     "ee36997568954e41885387cabbe29d6a": {
      "model_module": "@jupyter-widgets/base",
      "model_module_version": "1.2.0",
      "model_name": "LayoutModel",
      "state": {}
     },
     "eee4ba0a606f4d919477b41c220df12f": {
      "model_module": "@jupyter-widgets/controls",
      "model_module_version": "1.5.0",
      "model_name": "SliderStyleModel",
      "state": {
       "description_width": ""
      }
     },
     "ef1f8c53f21c4b7c97df157b419994b9": {
      "model_module": "@jupyter-widgets/controls",
      "model_module_version": "1.5.0",
      "model_name": "LinkModel",
      "state": {
       "source": [
        "IPY_MODEL_9c8121a5398b4e4597c03e1456723c55",
        "value"
       ],
       "target": [
        "IPY_MODEL_fa95b56b0fd44b3e824addaf8f818743",
        "value"
       ]
      }
     },
     "f1787ab740f345d19f568d7ac5fdb432": {
      "model_module": "@jupyter-widgets/base",
      "model_module_version": "1.2.0",
      "model_name": "LayoutModel",
      "state": {}
     },
     "f19ae5f338ae4e2fa7925f6745488878": {
      "model_module": "@jupyter-widgets/base",
      "model_module_version": "1.2.0",
      "model_name": "LayoutModel",
      "state": {}
     },
     "f2e87c45ddfa4aaabcd8d4e1e623b500": {
      "model_module": "@jupyter-widgets/controls",
      "model_module_version": "1.5.0",
      "model_name": "DescriptionStyleModel",
      "state": {
       "description_width": ""
      }
     },
     "f4258931adfa4977b00ff504ceb4eb0f": {
      "model_module": "@jupyter-widgets/base",
      "model_module_version": "1.2.0",
      "model_name": "LayoutModel",
      "state": {}
     },
     "f44dcaf5ef894b7c9e1ababd1a1bfabc": {
      "model_module": "@jupyter-widgets/controls",
      "model_module_version": "1.5.0",
      "model_name": "IntSliderModel",
      "state": {
       "description": "timestep",
       "layout": "IPY_MODEL_cba32987459441a8948ec3715e7aaf16",
       "max": 49,
       "style": "IPY_MODEL_5a5ab206c5e44ccc9bb66edee98c1169"
      }
     },
     "f4c053ae387a4777accfcb3ca72a2bab": {
      "model_module": "@jupyter-widgets/base",
      "model_module_version": "1.2.0",
      "model_name": "LayoutModel",
      "state": {}
     },
     "f53067e7b1ca439f864a73f269ea8ae0": {
      "model_module": "@jupyter-widgets/base",
      "model_module_version": "1.2.0",
      "model_name": "LayoutModel",
      "state": {}
     },
     "f5557fedda1c41a59c6db82bfc5f7ea4": {
      "model_module": "@jupyter-widgets/base",
      "model_module_version": "1.2.0",
      "model_name": "LayoutModel",
      "state": {}
     },
     "f6665cdb7150447cbcb39773a101b19c": {
      "model_module": "@jupyter-widgets/controls",
      "model_module_version": "1.5.0",
      "model_name": "LinkModel",
      "state": {
       "source": [
        "IPY_MODEL_c40f5e7444534af1ae2aba4d8f73a9ee",
        "value"
       ],
       "target": [
        "IPY_MODEL_651a568f9cf5497a947403580244ba47",
        "value"
       ]
      }
     },
     "f75e937f05a44d13b1bc95852a1f990b": {
      "model_module": "@jupyter-widgets/base",
      "model_module_version": "1.2.0",
      "model_name": "LayoutModel",
      "state": {}
     },
     "f7c499e22cd9462a9c11a9c8404b1efd": {
      "model_module": "@jupyter-widgets/base",
      "model_module_version": "1.2.0",
      "model_name": "LayoutModel",
      "state": {}
     },
     "f846270746204e8abe73c686d131d894": {
      "model_module": "@jupyter-widgets/controls",
      "model_module_version": "1.5.0",
      "model_name": "VBoxModel",
      "state": {
       "children": [
        "IPY_MODEL_c0aa7d49770a4c5dbd58af0c5d419737",
        "IPY_MODEL_12a763f92a0d4497a142d57b6919b67c"
       ],
       "layout": "IPY_MODEL_75fb258a84f545e7949c271c8655e957"
      }
     },
     "f90ddba3f7404005aa1f43e3ba31f21b": {
      "model_module": "@jupyter-widgets/controls",
      "model_module_version": "1.5.0",
      "model_name": "PlayModel",
      "state": {
       "interval": 500,
       "layout": "IPY_MODEL_99b805c2a0144d31849fce4d65746d10",
       "min": 1,
       "style": "IPY_MODEL_54b89a7b641c436bb2617f1a6278b314",
       "value": 1
      }
     },
     "f9dd6140df4d408ea0cd6310875c793b": {
      "model_module": "@jupyter-widgets/controls",
      "model_module_version": "1.5.0",
      "model_name": "LinkModel",
      "state": {
       "source": [
        "IPY_MODEL_5ebb17b54836406288bda29694194d41",
        "value"
       ],
       "target": [
        "IPY_MODEL_cc6e3ce1e1ee40cfbe3cc0c29b28f2d4",
        "value"
       ]
      }
     },
     "fa28aeb9fb9949d2ad4dc3bcecf42da1": {
      "model_module": "@jupyter-widgets/controls",
      "model_module_version": "1.5.0",
      "model_name": "VBoxModel",
      "state": {
       "_dom_classes": [
        "widget-interact"
       ],
       "children": [
        "IPY_MODEL_f44dcaf5ef894b7c9e1ababd1a1bfabc",
        "IPY_MODEL_b85d0e804aae4a258fcc0f8a70224e11"
       ],
       "layout": "IPY_MODEL_75a4851cbe7a4f4e97c526e46ef913f1"
      }
     },
     "fa95b56b0fd44b3e824addaf8f818743": {
      "model_module": "@jupyter-widgets/controls",
      "model_module_version": "1.5.0",
      "model_name": "IntSliderModel",
      "state": {
       "layout": "IPY_MODEL_bcc064ba20594a9c8d88b254777fdd46",
       "max": 49,
       "min": 1,
       "style": "IPY_MODEL_03ef88295e5741f6a1a04ce029bca410",
       "value": 8
      }
     },
     "fd5e5a4ca31e410bb0d3cb46473306ce": {
      "model_module": "@jupyter-widgets/base",
      "model_module_version": "1.2.0",
      "model_name": "LayoutModel",
      "state": {}
     },
     "feb176aad55d46498da4ee0b3dc5865f": {
      "model_module": "@jupyter-widgets/base",
      "model_module_version": "1.2.0",
      "model_name": "LayoutModel",
      "state": {}
     }
    },
    "version_major": 2,
    "version_minor": 0
   }
  }
 },
 "nbformat": 4,
 "nbformat_minor": 4
}
