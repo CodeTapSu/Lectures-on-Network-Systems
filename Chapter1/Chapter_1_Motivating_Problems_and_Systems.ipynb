{
 "cells": [
  {
   "cell_type": "markdown",
   "metadata": {
    "toc": true
   },
   "source": [
    "<h1>Table of Contents<span class=\"tocSkip\"></span></h1>\n",
    "<div class=\"toc\"><ul class=\"toc-item\"><li><span><a href=\"#Chapter-1---Motivating-Problems-and-Systems\" data-toc-modified-id=\"Chapter-1---Motivating-Problems-and-Systems-1\">Chapter 1 - Motivating Problems and Systems</a></span><ul class=\"toc-item\"><li><span><a href=\"#1.2-Averaging-algorithms-in-wireless-sensor-networks\" data-toc-modified-id=\"1.2-Averaging-algorithms-in-wireless-sensor-networks-1.1\">1.2 Averaging algorithms in wireless sensor networks</a></span><ul class=\"toc-item\"><li><span><a href=\"#Create-the-Graph-in-networkx-and-define-$A$\" data-toc-modified-id=\"Create-the-Graph-in-networkx-and-define-$A$-1.1.1\">Create the Graph in networkx and define $A$</a></span></li><li><span><a href=\"#Simulate-and-visualize-Process\" data-toc-modified-id=\"Simulate-and-visualize-Process-1.1.2\">Simulate and visualize Process</a></span></li><li><span><a href=\"#Interactive-network-presentation\" data-toc-modified-id=\"Interactive-network-presentation-1.1.3\">Interactive network presentation</a></span></li></ul></li><li><span><a href=\"#Exercise-1.4-Simulating-the-averaging-dynamics\" data-toc-modified-id=\"Exercise-1.4-Simulating-the-averaging-dynamics-1.2\">Exercise 1.4 Simulating the averaging dynamics</a></span></li><li><span><a href=\"#Exercise-1.5-(Section-1.6-ff.)-Bugs-Dynamic\" data-toc-modified-id=\"Exercise-1.5-(Section-1.6-ff.)-Bugs-Dynamic-1.3\">Exercise 1.5 (Section 1.6 ff.) Bugs Dynamic</a></span><ul class=\"toc-item\"><li><span><a href=\"#Cyclic-Pursuit\" data-toc-modified-id=\"Cyclic-Pursuit-1.3.1\">Cyclic Pursuit</a></span></li><li><span><a href=\"#Cyclic-Balancing\" data-toc-modified-id=\"Cyclic-Balancing-1.3.2\">Cyclic Balancing</a></span></li></ul></li></ul></li></ul></div>"
   ]
  },
  {
   "cell_type": "markdown",
   "metadata": {},
   "source": [
    "**TO-DO:**\n",
    "\n",
    "- 1.3 continuous-time averaging system: Flocking Dynamics Example\n",
    "- 1.4 Discrete and continuous time flowing system example\n",
    "\n",
    "- robot dynamics in E1.6 --> Take a look at what Allan did!\n"
   ]
  },
  {
   "cell_type": "code",
   "execution_count": 1,
   "metadata": {},
   "outputs": [],
   "source": [
    "# Import packages\n",
    "import numpy as np\n",
    "import matplotlib.pyplot as plt\n",
    "import matplotlib as mpl\n",
    "import networkx as nx\n",
    "\n",
    "# Import self defined functions\n",
    "import ch1_lib\n",
    "\n",
    "# For interactive graphs\n",
    "%matplotlib notebook\n",
    "import ipywidgets as widgets\n",
    "\n",
    "# Settings\n",
    "custom_figsize = (6, 4)  # Might need to change this value to fit the figures to your screen"
   ]
  },
  {
   "cell_type": "markdown",
   "metadata": {},
   "source": [
    "# Chapter 1 - Motivating Problems and Systems\n",
    "These Jupyter Notebook scripts contain some examples, visualization and supplements accompanying the book \"Lectures on Network Systems\" by Francesco Bullo http://motion.me.ucsb.edu/book-lns/. These scripts are published with the MIT license. **Make sure to run the first cell above to import all necessary packages and functions and adapt settings in case.** After that, you can jump to each example and follow the description there to execute cell by cell. Most of the functions are kept in a separate file to keep this script neat. \n",
    "\n",
    "## 1.2 Averaging algorithms in wireless sensor networks\n",
    "\n",
    "This example is based on first work of Sean Jaffe. It contains the example from Chapter 1.2 for discrete averaging network dynamics with wireless sensor network, enhanced examples and discussion will occur in Chapter 5, this is an introductory visulization. \n",
    "\n",
    "\n",
    "### Create the Graph in networkx and define $A$\n",
    "\n",
    "Execute next cell to create the example graph and define the matrix $A_{wsn}$.\n",
    "\n",
    "Note: In Chapter 5 we will introduce an elegant algorithm do define the weights as in this example, the equal-neighbour-model."
   ]
  },
  {
   "cell_type": "code",
   "execution_count": null,
   "metadata": {},
   "outputs": [],
   "source": [
    "# Creating the Network System example as in Chapter 1.2\n",
    "G = nx.DiGraph()\n",
    "G.add_edges_from([(1,2), (2,1), (2,3), (3,2), (3,4), (4,3), (2,4), (4,2)])\n",
    "\n",
    "# Define position of nodes in graph plot\n",
    "pos = {1:[0.2,0.2],2:[.4,.2],3:[.4,.6],4:[.7,.6]}\n",
    "\n",
    "# Define the adjacency matrix A\n",
    "A = np.array([[0.5,0.5, 0., 0.],\n",
    "              [1/4, 1/4, 1/4, 1/4],\n",
    "              [0., 1/3, 1/3, 1/3],\n",
    "              [0., 1/3, 1/3, 1/3]\n",
    "])\n",
    "\n",
    "fig, ax1 = plt.subplots(figsize = custom_figsize)  # Init figure\n",
    "nx.draw_networkx(G, pos, node_size=200, ax = ax1)  # Draw network\n",
    "ax1.margins(0.05) # Zooming out for better visualization\n",
    "\n",
    "print(\"A matrix: \\n\", A)"
   ]
  },
  {
   "cell_type": "markdown",
   "metadata": {},
   "source": [
    "### Simulate and visualize Process\n",
    "Choose the initial state vector x (randomized or chosen) and the number to time steps to simulate.\n",
    "\n",
    "We plot our simulation with the initial average as dashed-line to show, that we do not reach average-consensus (more on that in Chapter 5)\n",
    "\n",
    "Note: Discrete-time linear system $x(k+1) = A x(k)$, $x(0)=x_0$ or, equivalently $x(k) = A^k x_0$"
   ]
  },
  {
   "cell_type": "code",
   "execution_count": null,
   "metadata": {},
   "outputs": [],
   "source": [
    "# Initialize random state vector or define your own one\n",
    "x_0 = np.random.rand(4)\n",
    "#x_0 = np.array([0.2, 0.4, 0.6, 0.8])\n",
    "# Choosing the range of time step\n",
    "t = 15\n",
    "\n",
    "# Initialize figure\n",
    "fig, ax2 = plt.subplots(figsize=custom_figsize)\n",
    "\n",
    "states = ch1_lib.simulate_network(A,x_0, t)  # Simulate network and save states for each time step in a t*n np.array\n",
    "ch1_lib.plot_node_val_2D(states, x_0, t, ax2)  # Visualize states in a 2D Graph"
   ]
  },
  {
   "cell_type": "markdown",
   "metadata": {},
   "source": [
    "### Interactive network presentation\n",
    "Below you can find an interactive network simulation and different visualization, where you can use the slide bar to visualize all values at each node for each time step.\n",
    "\n",
    "*Note: Executing this cell twice can lead to an error depending on your system, restart Kernel if necessary*"
   ]
  },
  {
   "cell_type": "code",
   "execution_count": null,
   "metadata": {
    "scrolled": false
   },
   "outputs": [],
   "source": [
    "fig, ax3 = plt.subplots(figsize=custom_figsize)\n",
    "fig, v_bound, pos = ch1_lib.init_network_sim_plot(G, states, fig, pos=pos)\n",
    "\n",
    "def inter(timestep):\n",
    "    ch1_lib.update_network(timestep['new'], G=G, states_m=states, ax=ax3, vbound=v_bound, pos=pos)\n",
    "    #ax3.margins(0.20) # Zooming out for better visualization\n",
    "    return None\n",
    "\n",
    "# Plot initial configuration\n",
    "ch1_lib.update_network(0, G=G, states_m=states, ax=ax3, vbound=v_bound, pos=pos)\n",
    "# Call widgets\n",
    "ch1_lib.create_widgets_play_slider(fnc=inter, minv=1, maxv=t-1, step=1, play_speed=1000)"
   ]
  },
  {
   "cell_type": "markdown",
   "metadata": {},
   "source": [
    "## Exercise 1.4 Simulating the averaging dynamics\n",
    "\n",
    "In this chapter the results for exercise 1.4 are presented for comparison and discussing the averaging dynamics of these different systems."
   ]
  },
  {
   "cell_type": "code",
   "execution_count": null,
   "metadata": {},
   "outputs": [],
   "source": [
    "# Define x_0\n",
    "xinitial = np.array([-2., -1., 0., +1., +2.])\n",
    "\n",
    "# Defining the 3 different systems.\n",
    "# Complete graph\n",
    "Acomplete = np.ones((5,5)) / 5\n",
    "\n",
    "# Cycle graph\n",
    "Acycle = np.array([\n",
    "    [1/3, 1/3, 0, 0, 1/3],\n",
    "    [1/3, 1/3, 1/3, 0, 0],\n",
    "    [0, 1/3, 1/3, 1/3, 0],\n",
    "    [0, 0, 1/3, 1/3, 1/3],\n",
    "    [1/3, 0, 0, 1/3,  1/3] ]  )\n",
    "\n",
    "# Star topology. center = node 1\n",
    "Astar = np.array([\n",
    "    [1/5, 1/5, 1/5, 1/5, 1/5],\n",
    "    [1/2, 1/2, 0, 0, 0], \n",
    "    [1/2, 0, 1/2, 0, 0],\n",
    "    [1/2, 0, 0, 1/2, 0],\n",
    "    [1/2, 0, 0, 0, 1/2]   ])\n",
    "\n",
    "# Defining simulation time\n",
    "ts = 10"
   ]
  },
  {
   "cell_type": "markdown",
   "metadata": {},
   "source": [
    "**Complete Graph Simulation**"
   ]
  },
  {
   "cell_type": "code",
   "execution_count": null,
   "metadata": {},
   "outputs": [],
   "source": [
    "# Initialize figure\n",
    "fig, ax141 = plt.subplots(figsize=custom_figsize)\n",
    "\n",
    "states_complete = ch1_lib.simulate_network(Acomplete,xinitial, ts)  # Simulate network and save states for each time step in a t*n np.array\n",
    "ch1_lib.plot_node_val_2D(states_complete, xinitial, ts, ax141)  # Visualize states in a 2D Graph"
   ]
  },
  {
   "cell_type": "markdown",
   "metadata": {},
   "source": [
    "**Star Graph Simulation**"
   ]
  },
  {
   "cell_type": "code",
   "execution_count": null,
   "metadata": {},
   "outputs": [],
   "source": [
    "# Initialize figure\n",
    "fig, ax142 = plt.subplots(figsize=custom_figsize)\n",
    "\n",
    "states_cycle = ch1_lib.simulate_network(Acycle,xinitial, ts)  # Simulate network and save states for each time step in a t*n np.array\n",
    "ch1_lib.plot_node_val_2D(states_cycle, xinitial, ts, ax142)  # Visualize states in a 2D Graph"
   ]
  },
  {
   "cell_type": "code",
   "execution_count": null,
   "metadata": {},
   "outputs": [],
   "source": [
    "# Initialize figure\n",
    "fig, ax143 = plt.subplots(figsize=custom_figsize)\n",
    "\n",
    "states_star = ch1_lib.simulate_network(Astar,xinitial, ts)  # Simulate network and save states for each time step in a t*n np.array\n",
    "ch1_lib.plot_node_val_2D(states_star, xinitial, ts, ax143)  # Visualize states in a 2D Graph"
   ]
  },
  {
   "cell_type": "code",
   "execution_count": null,
   "metadata": {},
   "outputs": [],
   "source": [
    "# Verfying the results\n",
    "eigval, eigvec = np.linalg.eig( Astar.transpose() )\n",
    "dom_eigvec = eigvec[0:5,1]/eigvec[0:5,1].sum()\n",
    "print(\"Dominant eigenvector: \", dom_eigvec)\n",
    "print(\"Final values :\", xinitial@dom_eigvec*np.ones(5))"
   ]
  },
  {
   "cell_type": "markdown",
   "metadata": {},
   "source": [
    "## Exercise 1.5 (Section 1.6 ff.) Bugs Dynamic\n",
    "In this example the bugs dynamics as in exercise 1.5 are visualized for the cyclic pursuit or the cyclic balancing case.\n",
    "### Cyclic Pursuit\n",
    "Initialize and simulate the bugs results."
   ]
  },
  {
   "cell_type": "code",
   "execution_count": 6,
   "metadata": {},
   "outputs": [],
   "source": [
    "radius = 1.0  # Circle radius\n",
    "n_bugs = 6  # Number of bugs\n",
    "n_steps = 50  # Number of simulation steps (states)\n",
    "gain = 0.1  # Gain kappa\n",
    "\n",
    "# Initialize the bugs\n",
    "bugs_init, states_bugs_init = ch1_lib.init_bugs(radius, n_bugs, n_steps)\n",
    "# Simulate the bugs\n",
    "states_bugs = ch1_lib.simulate_bugs_cyclic_pursuit(radius, n_bugs, n_steps, gain, bugs_init, states_bugs_init)"
   ]
  },
  {
   "cell_type": "markdown",
   "metadata": {},
   "source": [
    "Below you find an interactive visulization of the bugs dynamics for cyclic pursuit."
   ]
  },
  {
   "cell_type": "code",
   "execution_count": 7,
   "metadata": {
    "scrolled": false
   },
   "outputs": [
    {
     "data": {
      "application/javascript": [
       "/* Put everything inside the global mpl namespace */\n",
       "/* global mpl */\n",
       "window.mpl = {};\n",
       "\n",
       "mpl.get_websocket_type = function () {\n",
       "    if (typeof WebSocket !== 'undefined') {\n",
       "        return WebSocket;\n",
       "    } else if (typeof MozWebSocket !== 'undefined') {\n",
       "        return MozWebSocket;\n",
       "    } else {\n",
       "        alert(\n",
       "            'Your browser does not have WebSocket support. ' +\n",
       "                'Please try Chrome, Safari or Firefox ≥ 6. ' +\n",
       "                'Firefox 4 and 5 are also supported but you ' +\n",
       "                'have to enable WebSockets in about:config.'\n",
       "        );\n",
       "    }\n",
       "};\n",
       "\n",
       "mpl.figure = function (figure_id, websocket, ondownload, parent_element) {\n",
       "    this.id = figure_id;\n",
       "\n",
       "    this.ws = websocket;\n",
       "\n",
       "    this.supports_binary = this.ws.binaryType !== undefined;\n",
       "\n",
       "    if (!this.supports_binary) {\n",
       "        var warnings = document.getElementById('mpl-warnings');\n",
       "        if (warnings) {\n",
       "            warnings.style.display = 'block';\n",
       "            warnings.textContent =\n",
       "                'This browser does not support binary websocket messages. ' +\n",
       "                'Performance may be slow.';\n",
       "        }\n",
       "    }\n",
       "\n",
       "    this.imageObj = new Image();\n",
       "\n",
       "    this.context = undefined;\n",
       "    this.message = undefined;\n",
       "    this.canvas = undefined;\n",
       "    this.rubberband_canvas = undefined;\n",
       "    this.rubberband_context = undefined;\n",
       "    this.format_dropdown = undefined;\n",
       "\n",
       "    this.image_mode = 'full';\n",
       "\n",
       "    this.root = document.createElement('div');\n",
       "    this.root.setAttribute('style', 'display: inline-block');\n",
       "    this._root_extra_style(this.root);\n",
       "\n",
       "    parent_element.appendChild(this.root);\n",
       "\n",
       "    this._init_header(this);\n",
       "    this._init_canvas(this);\n",
       "    this._init_toolbar(this);\n",
       "\n",
       "    var fig = this;\n",
       "\n",
       "    this.waiting = false;\n",
       "\n",
       "    this.ws.onopen = function () {\n",
       "        fig.send_message('supports_binary', { value: fig.supports_binary });\n",
       "        fig.send_message('send_image_mode', {});\n",
       "        if (fig.ratio !== 1) {\n",
       "            fig.send_message('set_dpi_ratio', { dpi_ratio: fig.ratio });\n",
       "        }\n",
       "        fig.send_message('refresh', {});\n",
       "    };\n",
       "\n",
       "    this.imageObj.onload = function () {\n",
       "        if (fig.image_mode === 'full') {\n",
       "            // Full images could contain transparency (where diff images\n",
       "            // almost always do), so we need to clear the canvas so that\n",
       "            // there is no ghosting.\n",
       "            fig.context.clearRect(0, 0, fig.canvas.width, fig.canvas.height);\n",
       "        }\n",
       "        fig.context.drawImage(fig.imageObj, 0, 0);\n",
       "    };\n",
       "\n",
       "    this.imageObj.onunload = function () {\n",
       "        fig.ws.close();\n",
       "    };\n",
       "\n",
       "    this.ws.onmessage = this._make_on_message_function(this);\n",
       "\n",
       "    this.ondownload = ondownload;\n",
       "};\n",
       "\n",
       "mpl.figure.prototype._init_header = function () {\n",
       "    var titlebar = document.createElement('div');\n",
       "    titlebar.classList =\n",
       "        'ui-dialog-titlebar ui-widget-header ui-corner-all ui-helper-clearfix';\n",
       "    var titletext = document.createElement('div');\n",
       "    titletext.classList = 'ui-dialog-title';\n",
       "    titletext.setAttribute(\n",
       "        'style',\n",
       "        'width: 100%; text-align: center; padding: 3px;'\n",
       "    );\n",
       "    titlebar.appendChild(titletext);\n",
       "    this.root.appendChild(titlebar);\n",
       "    this.header = titletext;\n",
       "};\n",
       "\n",
       "mpl.figure.prototype._canvas_extra_style = function (_canvas_div) {};\n",
       "\n",
       "mpl.figure.prototype._root_extra_style = function (_canvas_div) {};\n",
       "\n",
       "mpl.figure.prototype._init_canvas = function () {\n",
       "    var fig = this;\n",
       "\n",
       "    var canvas_div = (this.canvas_div = document.createElement('div'));\n",
       "    canvas_div.setAttribute(\n",
       "        'style',\n",
       "        'border: 1px solid #ddd;' +\n",
       "            'box-sizing: content-box;' +\n",
       "            'clear: both;' +\n",
       "            'min-height: 1px;' +\n",
       "            'min-width: 1px;' +\n",
       "            'outline: 0;' +\n",
       "            'overflow: hidden;' +\n",
       "            'position: relative;' +\n",
       "            'resize: both;'\n",
       "    );\n",
       "\n",
       "    function on_keyboard_event_closure(name) {\n",
       "        return function (event) {\n",
       "            return fig.key_event(event, name);\n",
       "        };\n",
       "    }\n",
       "\n",
       "    canvas_div.addEventListener(\n",
       "        'keydown',\n",
       "        on_keyboard_event_closure('key_press')\n",
       "    );\n",
       "    canvas_div.addEventListener(\n",
       "        'keyup',\n",
       "        on_keyboard_event_closure('key_release')\n",
       "    );\n",
       "\n",
       "    this._canvas_extra_style(canvas_div);\n",
       "    this.root.appendChild(canvas_div);\n",
       "\n",
       "    var canvas = (this.canvas = document.createElement('canvas'));\n",
       "    canvas.classList.add('mpl-canvas');\n",
       "    canvas.setAttribute('style', 'box-sizing: content-box;');\n",
       "\n",
       "    this.context = canvas.getContext('2d');\n",
       "\n",
       "    var backingStore =\n",
       "        this.context.backingStorePixelRatio ||\n",
       "        this.context.webkitBackingStorePixelRatio ||\n",
       "        this.context.mozBackingStorePixelRatio ||\n",
       "        this.context.msBackingStorePixelRatio ||\n",
       "        this.context.oBackingStorePixelRatio ||\n",
       "        this.context.backingStorePixelRatio ||\n",
       "        1;\n",
       "\n",
       "    this.ratio = (window.devicePixelRatio || 1) / backingStore;\n",
       "\n",
       "    var rubberband_canvas = (this.rubberband_canvas = document.createElement(\n",
       "        'canvas'\n",
       "    ));\n",
       "    rubberband_canvas.setAttribute(\n",
       "        'style',\n",
       "        'box-sizing: content-box; position: absolute; left: 0; top: 0; z-index: 1;'\n",
       "    );\n",
       "\n",
       "    // Apply a ponyfill if ResizeObserver is not implemented by browser.\n",
       "    if (this.ResizeObserver === undefined) {\n",
       "        if (window.ResizeObserver !== undefined) {\n",
       "            this.ResizeObserver = window.ResizeObserver;\n",
       "        } else {\n",
       "            var obs = _JSXTOOLS_RESIZE_OBSERVER({});\n",
       "            this.ResizeObserver = obs.ResizeObserver;\n",
       "        }\n",
       "    }\n",
       "\n",
       "    this.resizeObserverInstance = new this.ResizeObserver(function (entries) {\n",
       "        var nentries = entries.length;\n",
       "        for (var i = 0; i < nentries; i++) {\n",
       "            var entry = entries[i];\n",
       "            var width, height;\n",
       "            if (entry.contentBoxSize) {\n",
       "                if (entry.contentBoxSize instanceof Array) {\n",
       "                    // Chrome 84 implements new version of spec.\n",
       "                    width = entry.contentBoxSize[0].inlineSize;\n",
       "                    height = entry.contentBoxSize[0].blockSize;\n",
       "                } else {\n",
       "                    // Firefox implements old version of spec.\n",
       "                    width = entry.contentBoxSize.inlineSize;\n",
       "                    height = entry.contentBoxSize.blockSize;\n",
       "                }\n",
       "            } else {\n",
       "                // Chrome <84 implements even older version of spec.\n",
       "                width = entry.contentRect.width;\n",
       "                height = entry.contentRect.height;\n",
       "            }\n",
       "\n",
       "            // Keep the size of the canvas and rubber band canvas in sync with\n",
       "            // the canvas container.\n",
       "            if (entry.devicePixelContentBoxSize) {\n",
       "                // Chrome 84 implements new version of spec.\n",
       "                canvas.setAttribute(\n",
       "                    'width',\n",
       "                    entry.devicePixelContentBoxSize[0].inlineSize\n",
       "                );\n",
       "                canvas.setAttribute(\n",
       "                    'height',\n",
       "                    entry.devicePixelContentBoxSize[0].blockSize\n",
       "                );\n",
       "            } else {\n",
       "                canvas.setAttribute('width', width * fig.ratio);\n",
       "                canvas.setAttribute('height', height * fig.ratio);\n",
       "            }\n",
       "            canvas.setAttribute(\n",
       "                'style',\n",
       "                'width: ' + width + 'px; height: ' + height + 'px;'\n",
       "            );\n",
       "\n",
       "            rubberband_canvas.setAttribute('width', width);\n",
       "            rubberband_canvas.setAttribute('height', height);\n",
       "\n",
       "            // And update the size in Python. We ignore the initial 0/0 size\n",
       "            // that occurs as the element is placed into the DOM, which should\n",
       "            // otherwise not happen due to the minimum size styling.\n",
       "            if (fig.ws.readyState == 1 && width != 0 && height != 0) {\n",
       "                fig.request_resize(width, height);\n",
       "            }\n",
       "        }\n",
       "    });\n",
       "    this.resizeObserverInstance.observe(canvas_div);\n",
       "\n",
       "    function on_mouse_event_closure(name) {\n",
       "        return function (event) {\n",
       "            return fig.mouse_event(event, name);\n",
       "        };\n",
       "    }\n",
       "\n",
       "    rubberband_canvas.addEventListener(\n",
       "        'mousedown',\n",
       "        on_mouse_event_closure('button_press')\n",
       "    );\n",
       "    rubberband_canvas.addEventListener(\n",
       "        'mouseup',\n",
       "        on_mouse_event_closure('button_release')\n",
       "    );\n",
       "    rubberband_canvas.addEventListener(\n",
       "        'dblclick',\n",
       "        on_mouse_event_closure('dblclick')\n",
       "    );\n",
       "    // Throttle sequential mouse events to 1 every 20ms.\n",
       "    rubberband_canvas.addEventListener(\n",
       "        'mousemove',\n",
       "        on_mouse_event_closure('motion_notify')\n",
       "    );\n",
       "\n",
       "    rubberband_canvas.addEventListener(\n",
       "        'mouseenter',\n",
       "        on_mouse_event_closure('figure_enter')\n",
       "    );\n",
       "    rubberband_canvas.addEventListener(\n",
       "        'mouseleave',\n",
       "        on_mouse_event_closure('figure_leave')\n",
       "    );\n",
       "\n",
       "    canvas_div.addEventListener('wheel', function (event) {\n",
       "        if (event.deltaY < 0) {\n",
       "            event.step = 1;\n",
       "        } else {\n",
       "            event.step = -1;\n",
       "        }\n",
       "        on_mouse_event_closure('scroll')(event);\n",
       "    });\n",
       "\n",
       "    canvas_div.appendChild(canvas);\n",
       "    canvas_div.appendChild(rubberband_canvas);\n",
       "\n",
       "    this.rubberband_context = rubberband_canvas.getContext('2d');\n",
       "    this.rubberband_context.strokeStyle = '#000000';\n",
       "\n",
       "    this._resize_canvas = function (width, height, forward) {\n",
       "        if (forward) {\n",
       "            canvas_div.style.width = width + 'px';\n",
       "            canvas_div.style.height = height + 'px';\n",
       "        }\n",
       "    };\n",
       "\n",
       "    // Disable right mouse context menu.\n",
       "    this.rubberband_canvas.addEventListener('contextmenu', function (_e) {\n",
       "        event.preventDefault();\n",
       "        return false;\n",
       "    });\n",
       "\n",
       "    function set_focus() {\n",
       "        canvas.focus();\n",
       "        canvas_div.focus();\n",
       "    }\n",
       "\n",
       "    window.setTimeout(set_focus, 100);\n",
       "};\n",
       "\n",
       "mpl.figure.prototype._init_toolbar = function () {\n",
       "    var fig = this;\n",
       "\n",
       "    var toolbar = document.createElement('div');\n",
       "    toolbar.classList = 'mpl-toolbar';\n",
       "    this.root.appendChild(toolbar);\n",
       "\n",
       "    function on_click_closure(name) {\n",
       "        return function (_event) {\n",
       "            return fig.toolbar_button_onclick(name);\n",
       "        };\n",
       "    }\n",
       "\n",
       "    function on_mouseover_closure(tooltip) {\n",
       "        return function (event) {\n",
       "            if (!event.currentTarget.disabled) {\n",
       "                return fig.toolbar_button_onmouseover(tooltip);\n",
       "            }\n",
       "        };\n",
       "    }\n",
       "\n",
       "    fig.buttons = {};\n",
       "    var buttonGroup = document.createElement('div');\n",
       "    buttonGroup.classList = 'mpl-button-group';\n",
       "    for (var toolbar_ind in mpl.toolbar_items) {\n",
       "        var name = mpl.toolbar_items[toolbar_ind][0];\n",
       "        var tooltip = mpl.toolbar_items[toolbar_ind][1];\n",
       "        var image = mpl.toolbar_items[toolbar_ind][2];\n",
       "        var method_name = mpl.toolbar_items[toolbar_ind][3];\n",
       "\n",
       "        if (!name) {\n",
       "            /* Instead of a spacer, we start a new button group. */\n",
       "            if (buttonGroup.hasChildNodes()) {\n",
       "                toolbar.appendChild(buttonGroup);\n",
       "            }\n",
       "            buttonGroup = document.createElement('div');\n",
       "            buttonGroup.classList = 'mpl-button-group';\n",
       "            continue;\n",
       "        }\n",
       "\n",
       "        var button = (fig.buttons[name] = document.createElement('button'));\n",
       "        button.classList = 'mpl-widget';\n",
       "        button.setAttribute('role', 'button');\n",
       "        button.setAttribute('aria-disabled', 'false');\n",
       "        button.addEventListener('click', on_click_closure(method_name));\n",
       "        button.addEventListener('mouseover', on_mouseover_closure(tooltip));\n",
       "\n",
       "        var icon_img = document.createElement('img');\n",
       "        icon_img.src = '_images/' + image + '.png';\n",
       "        icon_img.srcset = '_images/' + image + '_large.png 2x';\n",
       "        icon_img.alt = tooltip;\n",
       "        button.appendChild(icon_img);\n",
       "\n",
       "        buttonGroup.appendChild(button);\n",
       "    }\n",
       "\n",
       "    if (buttonGroup.hasChildNodes()) {\n",
       "        toolbar.appendChild(buttonGroup);\n",
       "    }\n",
       "\n",
       "    var fmt_picker = document.createElement('select');\n",
       "    fmt_picker.classList = 'mpl-widget';\n",
       "    toolbar.appendChild(fmt_picker);\n",
       "    this.format_dropdown = fmt_picker;\n",
       "\n",
       "    for (var ind in mpl.extensions) {\n",
       "        var fmt = mpl.extensions[ind];\n",
       "        var option = document.createElement('option');\n",
       "        option.selected = fmt === mpl.default_extension;\n",
       "        option.innerHTML = fmt;\n",
       "        fmt_picker.appendChild(option);\n",
       "    }\n",
       "\n",
       "    var status_bar = document.createElement('span');\n",
       "    status_bar.classList = 'mpl-message';\n",
       "    toolbar.appendChild(status_bar);\n",
       "    this.message = status_bar;\n",
       "};\n",
       "\n",
       "mpl.figure.prototype.request_resize = function (x_pixels, y_pixels) {\n",
       "    // Request matplotlib to resize the figure. Matplotlib will then trigger a resize in the client,\n",
       "    // which will in turn request a refresh of the image.\n",
       "    this.send_message('resize', { width: x_pixels, height: y_pixels });\n",
       "};\n",
       "\n",
       "mpl.figure.prototype.send_message = function (type, properties) {\n",
       "    properties['type'] = type;\n",
       "    properties['figure_id'] = this.id;\n",
       "    this.ws.send(JSON.stringify(properties));\n",
       "};\n",
       "\n",
       "mpl.figure.prototype.send_draw_message = function () {\n",
       "    if (!this.waiting) {\n",
       "        this.waiting = true;\n",
       "        this.ws.send(JSON.stringify({ type: 'draw', figure_id: this.id }));\n",
       "    }\n",
       "};\n",
       "\n",
       "mpl.figure.prototype.handle_save = function (fig, _msg) {\n",
       "    var format_dropdown = fig.format_dropdown;\n",
       "    var format = format_dropdown.options[format_dropdown.selectedIndex].value;\n",
       "    fig.ondownload(fig, format);\n",
       "};\n",
       "\n",
       "mpl.figure.prototype.handle_resize = function (fig, msg) {\n",
       "    var size = msg['size'];\n",
       "    if (size[0] !== fig.canvas.width || size[1] !== fig.canvas.height) {\n",
       "        fig._resize_canvas(size[0], size[1], msg['forward']);\n",
       "        fig.send_message('refresh', {});\n",
       "    }\n",
       "};\n",
       "\n",
       "mpl.figure.prototype.handle_rubberband = function (fig, msg) {\n",
       "    var x0 = msg['x0'] / fig.ratio;\n",
       "    var y0 = (fig.canvas.height - msg['y0']) / fig.ratio;\n",
       "    var x1 = msg['x1'] / fig.ratio;\n",
       "    var y1 = (fig.canvas.height - msg['y1']) / fig.ratio;\n",
       "    x0 = Math.floor(x0) + 0.5;\n",
       "    y0 = Math.floor(y0) + 0.5;\n",
       "    x1 = Math.floor(x1) + 0.5;\n",
       "    y1 = Math.floor(y1) + 0.5;\n",
       "    var min_x = Math.min(x0, x1);\n",
       "    var min_y = Math.min(y0, y1);\n",
       "    var width = Math.abs(x1 - x0);\n",
       "    var height = Math.abs(y1 - y0);\n",
       "\n",
       "    fig.rubberband_context.clearRect(\n",
       "        0,\n",
       "        0,\n",
       "        fig.canvas.width / fig.ratio,\n",
       "        fig.canvas.height / fig.ratio\n",
       "    );\n",
       "\n",
       "    fig.rubberband_context.strokeRect(min_x, min_y, width, height);\n",
       "};\n",
       "\n",
       "mpl.figure.prototype.handle_figure_label = function (fig, msg) {\n",
       "    // Updates the figure title.\n",
       "    fig.header.textContent = msg['label'];\n",
       "};\n",
       "\n",
       "mpl.figure.prototype.handle_cursor = function (fig, msg) {\n",
       "    var cursor = msg['cursor'];\n",
       "    switch (cursor) {\n",
       "        case 0:\n",
       "            cursor = 'pointer';\n",
       "            break;\n",
       "        case 1:\n",
       "            cursor = 'default';\n",
       "            break;\n",
       "        case 2:\n",
       "            cursor = 'crosshair';\n",
       "            break;\n",
       "        case 3:\n",
       "            cursor = 'move';\n",
       "            break;\n",
       "    }\n",
       "    fig.rubberband_canvas.style.cursor = cursor;\n",
       "};\n",
       "\n",
       "mpl.figure.prototype.handle_message = function (fig, msg) {\n",
       "    fig.message.textContent = msg['message'];\n",
       "};\n",
       "\n",
       "mpl.figure.prototype.handle_draw = function (fig, _msg) {\n",
       "    // Request the server to send over a new figure.\n",
       "    fig.send_draw_message();\n",
       "};\n",
       "\n",
       "mpl.figure.prototype.handle_image_mode = function (fig, msg) {\n",
       "    fig.image_mode = msg['mode'];\n",
       "};\n",
       "\n",
       "mpl.figure.prototype.handle_history_buttons = function (fig, msg) {\n",
       "    for (var key in msg) {\n",
       "        if (!(key in fig.buttons)) {\n",
       "            continue;\n",
       "        }\n",
       "        fig.buttons[key].disabled = !msg[key];\n",
       "        fig.buttons[key].setAttribute('aria-disabled', !msg[key]);\n",
       "    }\n",
       "};\n",
       "\n",
       "mpl.figure.prototype.handle_navigate_mode = function (fig, msg) {\n",
       "    if (msg['mode'] === 'PAN') {\n",
       "        fig.buttons['Pan'].classList.add('active');\n",
       "        fig.buttons['Zoom'].classList.remove('active');\n",
       "    } else if (msg['mode'] === 'ZOOM') {\n",
       "        fig.buttons['Pan'].classList.remove('active');\n",
       "        fig.buttons['Zoom'].classList.add('active');\n",
       "    } else {\n",
       "        fig.buttons['Pan'].classList.remove('active');\n",
       "        fig.buttons['Zoom'].classList.remove('active');\n",
       "    }\n",
       "};\n",
       "\n",
       "mpl.figure.prototype.updated_canvas_event = function () {\n",
       "    // Called whenever the canvas gets updated.\n",
       "    this.send_message('ack', {});\n",
       "};\n",
       "\n",
       "// A function to construct a web socket function for onmessage handling.\n",
       "// Called in the figure constructor.\n",
       "mpl.figure.prototype._make_on_message_function = function (fig) {\n",
       "    return function socket_on_message(evt) {\n",
       "        if (evt.data instanceof Blob) {\n",
       "            var img = evt.data;\n",
       "            if (img.type !== 'image/png') {\n",
       "                /* FIXME: We get \"Resource interpreted as Image but\n",
       "                 * transferred with MIME type text/plain:\" errors on\n",
       "                 * Chrome.  But how to set the MIME type?  It doesn't seem\n",
       "                 * to be part of the websocket stream */\n",
       "                img.type = 'image/png';\n",
       "            }\n",
       "\n",
       "            /* Free the memory for the previous frames */\n",
       "            if (fig.imageObj.src) {\n",
       "                (window.URL || window.webkitURL).revokeObjectURL(\n",
       "                    fig.imageObj.src\n",
       "                );\n",
       "            }\n",
       "\n",
       "            fig.imageObj.src = (window.URL || window.webkitURL).createObjectURL(\n",
       "                img\n",
       "            );\n",
       "            fig.updated_canvas_event();\n",
       "            fig.waiting = false;\n",
       "            return;\n",
       "        } else if (\n",
       "            typeof evt.data === 'string' &&\n",
       "            evt.data.slice(0, 21) === 'data:image/png;base64'\n",
       "        ) {\n",
       "            fig.imageObj.src = evt.data;\n",
       "            fig.updated_canvas_event();\n",
       "            fig.waiting = false;\n",
       "            return;\n",
       "        }\n",
       "\n",
       "        var msg = JSON.parse(evt.data);\n",
       "        var msg_type = msg['type'];\n",
       "\n",
       "        // Call the  \"handle_{type}\" callback, which takes\n",
       "        // the figure and JSON message as its only arguments.\n",
       "        try {\n",
       "            var callback = fig['handle_' + msg_type];\n",
       "        } catch (e) {\n",
       "            console.log(\n",
       "                \"No handler for the '\" + msg_type + \"' message type: \",\n",
       "                msg\n",
       "            );\n",
       "            return;\n",
       "        }\n",
       "\n",
       "        if (callback) {\n",
       "            try {\n",
       "                // console.log(\"Handling '\" + msg_type + \"' message: \", msg);\n",
       "                callback(fig, msg);\n",
       "            } catch (e) {\n",
       "                console.log(\n",
       "                    \"Exception inside the 'handler_\" + msg_type + \"' callback:\",\n",
       "                    e,\n",
       "                    e.stack,\n",
       "                    msg\n",
       "                );\n",
       "            }\n",
       "        }\n",
       "    };\n",
       "};\n",
       "\n",
       "// from http://stackoverflow.com/questions/1114465/getting-mouse-location-in-canvas\n",
       "mpl.findpos = function (e) {\n",
       "    //this section is from http://www.quirksmode.org/js/events_properties.html\n",
       "    var targ;\n",
       "    if (!e) {\n",
       "        e = window.event;\n",
       "    }\n",
       "    if (e.target) {\n",
       "        targ = e.target;\n",
       "    } else if (e.srcElement) {\n",
       "        targ = e.srcElement;\n",
       "    }\n",
       "    if (targ.nodeType === 3) {\n",
       "        // defeat Safari bug\n",
       "        targ = targ.parentNode;\n",
       "    }\n",
       "\n",
       "    // pageX,Y are the mouse positions relative to the document\n",
       "    var boundingRect = targ.getBoundingClientRect();\n",
       "    var x = e.pageX - (boundingRect.left + document.body.scrollLeft);\n",
       "    var y = e.pageY - (boundingRect.top + document.body.scrollTop);\n",
       "\n",
       "    return { x: x, y: y };\n",
       "};\n",
       "\n",
       "/*\n",
       " * return a copy of an object with only non-object keys\n",
       " * we need this to avoid circular references\n",
       " * http://stackoverflow.com/a/24161582/3208463\n",
       " */\n",
       "function simpleKeys(original) {\n",
       "    return Object.keys(original).reduce(function (obj, key) {\n",
       "        if (typeof original[key] !== 'object') {\n",
       "            obj[key] = original[key];\n",
       "        }\n",
       "        return obj;\n",
       "    }, {});\n",
       "}\n",
       "\n",
       "mpl.figure.prototype.mouse_event = function (event, name) {\n",
       "    var canvas_pos = mpl.findpos(event);\n",
       "\n",
       "    if (name === 'button_press') {\n",
       "        this.canvas.focus();\n",
       "        this.canvas_div.focus();\n",
       "    }\n",
       "\n",
       "    var x = canvas_pos.x * this.ratio;\n",
       "    var y = canvas_pos.y * this.ratio;\n",
       "\n",
       "    this.send_message(name, {\n",
       "        x: x,\n",
       "        y: y,\n",
       "        button: event.button,\n",
       "        step: event.step,\n",
       "        guiEvent: simpleKeys(event),\n",
       "    });\n",
       "\n",
       "    /* This prevents the web browser from automatically changing to\n",
       "     * the text insertion cursor when the button is pressed.  We want\n",
       "     * to control all of the cursor setting manually through the\n",
       "     * 'cursor' event from matplotlib */\n",
       "    event.preventDefault();\n",
       "    return false;\n",
       "};\n",
       "\n",
       "mpl.figure.prototype._key_event_extra = function (_event, _name) {\n",
       "    // Handle any extra behaviour associated with a key event\n",
       "};\n",
       "\n",
       "mpl.figure.prototype.key_event = function (event, name) {\n",
       "    // Prevent repeat events\n",
       "    if (name === 'key_press') {\n",
       "        if (event.key === this._key) {\n",
       "            return;\n",
       "        } else {\n",
       "            this._key = event.key;\n",
       "        }\n",
       "    }\n",
       "    if (name === 'key_release') {\n",
       "        this._key = null;\n",
       "    }\n",
       "\n",
       "    var value = '';\n",
       "    if (event.ctrlKey && event.key !== 'Control') {\n",
       "        value += 'ctrl+';\n",
       "    }\n",
       "    else if (event.altKey && event.key !== 'Alt') {\n",
       "        value += 'alt+';\n",
       "    }\n",
       "    else if (event.shiftKey && event.key !== 'Shift') {\n",
       "        value += 'shift+';\n",
       "    }\n",
       "\n",
       "    value += 'k' + event.key;\n",
       "\n",
       "    this._key_event_extra(event, name);\n",
       "\n",
       "    this.send_message(name, { key: value, guiEvent: simpleKeys(event) });\n",
       "    return false;\n",
       "};\n",
       "\n",
       "mpl.figure.prototype.toolbar_button_onclick = function (name) {\n",
       "    if (name === 'download') {\n",
       "        this.handle_save(this, null);\n",
       "    } else {\n",
       "        this.send_message('toolbar_button', { name: name });\n",
       "    }\n",
       "};\n",
       "\n",
       "mpl.figure.prototype.toolbar_button_onmouseover = function (tooltip) {\n",
       "    this.message.textContent = tooltip;\n",
       "};\n",
       "\n",
       "///////////////// REMAINING CONTENT GENERATED BY embed_js.py /////////////////\n",
       "// prettier-ignore\n",
       "var _JSXTOOLS_RESIZE_OBSERVER=function(A){var t,i=new WeakMap,n=new WeakMap,a=new WeakMap,r=new WeakMap,o=new Set;function s(e){if(!(this instanceof s))throw new TypeError(\"Constructor requires 'new' operator\");i.set(this,e)}function h(){throw new TypeError(\"Function is not a constructor\")}function c(e,t,i,n){e=0 in arguments?Number(arguments[0]):0,t=1 in arguments?Number(arguments[1]):0,i=2 in arguments?Number(arguments[2]):0,n=3 in arguments?Number(arguments[3]):0,this.right=(this.x=this.left=e)+(this.width=i),this.bottom=(this.y=this.top=t)+(this.height=n),Object.freeze(this)}function d(){t=requestAnimationFrame(d);var s=new WeakMap,p=new Set;o.forEach((function(t){r.get(t).forEach((function(i){var r=t instanceof window.SVGElement,o=a.get(t),d=r?0:parseFloat(o.paddingTop),f=r?0:parseFloat(o.paddingRight),l=r?0:parseFloat(o.paddingBottom),u=r?0:parseFloat(o.paddingLeft),g=r?0:parseFloat(o.borderTopWidth),m=r?0:parseFloat(o.borderRightWidth),w=r?0:parseFloat(o.borderBottomWidth),b=u+f,F=d+l,v=(r?0:parseFloat(o.borderLeftWidth))+m,W=g+w,y=r?0:t.offsetHeight-W-t.clientHeight,E=r?0:t.offsetWidth-v-t.clientWidth,R=b+v,z=F+W,M=r?t.width:parseFloat(o.width)-R-E,O=r?t.height:parseFloat(o.height)-z-y;if(n.has(t)){var k=n.get(t);if(k[0]===M&&k[1]===O)return}n.set(t,[M,O]);var S=Object.create(h.prototype);S.target=t,S.contentRect=new c(u,d,M,O),s.has(i)||(s.set(i,[]),p.add(i)),s.get(i).push(S)}))})),p.forEach((function(e){i.get(e).call(e,s.get(e),e)}))}return s.prototype.observe=function(i){if(i instanceof window.Element){r.has(i)||(r.set(i,new Set),o.add(i),a.set(i,window.getComputedStyle(i)));var n=r.get(i);n.has(this)||n.add(this),cancelAnimationFrame(t),t=requestAnimationFrame(d)}},s.prototype.unobserve=function(i){if(i instanceof window.Element&&r.has(i)){var n=r.get(i);n.has(this)&&(n.delete(this),n.size||(r.delete(i),o.delete(i))),n.size||r.delete(i),o.size||cancelAnimationFrame(t)}},A.DOMRectReadOnly=c,A.ResizeObserver=s,A.ResizeObserverEntry=h,A}; // eslint-disable-line\n",
       "mpl.toolbar_items = [[\"Home\", \"Reset original view\", \"fa fa-home icon-home\", \"home\"], [\"Back\", \"Back to previous view\", \"fa fa-arrow-left icon-arrow-left\", \"back\"], [\"Forward\", \"Forward to next view\", \"fa fa-arrow-right icon-arrow-right\", \"forward\"], [\"\", \"\", \"\", \"\"], [\"Pan\", \"Left button pans, Right button zooms\\nx/y fixes axis, CTRL fixes aspect\", \"fa fa-arrows icon-move\", \"pan\"], [\"Zoom\", \"Zoom to rectangle\\nx/y fixes axis, CTRL fixes aspect\", \"fa fa-square-o icon-check-empty\", \"zoom\"], [\"\", \"\", \"\", \"\"], [\"Download\", \"Download plot\", \"fa fa-floppy-o icon-save\", \"download\"]];\n",
       "\n",
       "mpl.extensions = [\"eps\", \"jpeg\", \"pgf\", \"pdf\", \"png\", \"ps\", \"raw\", \"svg\", \"tif\"];\n",
       "\n",
       "mpl.default_extension = \"png\";/* global mpl */\n",
       "\n",
       "var comm_websocket_adapter = function (comm) {\n",
       "    // Create a \"websocket\"-like object which calls the given IPython comm\n",
       "    // object with the appropriate methods. Currently this is a non binary\n",
       "    // socket, so there is still some room for performance tuning.\n",
       "    var ws = {};\n",
       "\n",
       "    ws.binaryType = comm.kernel.ws.binaryType;\n",
       "    ws.readyState = comm.kernel.ws.readyState;\n",
       "    function updateReadyState(_event) {\n",
       "        if (comm.kernel.ws) {\n",
       "            ws.readyState = comm.kernel.ws.readyState;\n",
       "        } else {\n",
       "            ws.readyState = 3; // Closed state.\n",
       "        }\n",
       "    }\n",
       "    comm.kernel.ws.addEventListener('open', updateReadyState);\n",
       "    comm.kernel.ws.addEventListener('close', updateReadyState);\n",
       "    comm.kernel.ws.addEventListener('error', updateReadyState);\n",
       "\n",
       "    ws.close = function () {\n",
       "        comm.close();\n",
       "    };\n",
       "    ws.send = function (m) {\n",
       "        //console.log('sending', m);\n",
       "        comm.send(m);\n",
       "    };\n",
       "    // Register the callback with on_msg.\n",
       "    comm.on_msg(function (msg) {\n",
       "        //console.log('receiving', msg['content']['data'], msg);\n",
       "        var data = msg['content']['data'];\n",
       "        if (data['blob'] !== undefined) {\n",
       "            data = {\n",
       "                data: new Blob(msg['buffers'], { type: data['blob'] }),\n",
       "            };\n",
       "        }\n",
       "        // Pass the mpl event to the overridden (by mpl) onmessage function.\n",
       "        ws.onmessage(data);\n",
       "    });\n",
       "    return ws;\n",
       "};\n",
       "\n",
       "mpl.mpl_figure_comm = function (comm, msg) {\n",
       "    // This is the function which gets called when the mpl process\n",
       "    // starts-up an IPython Comm through the \"matplotlib\" channel.\n",
       "\n",
       "    var id = msg.content.data.id;\n",
       "    // Get hold of the div created by the display call when the Comm\n",
       "    // socket was opened in Python.\n",
       "    var element = document.getElementById(id);\n",
       "    var ws_proxy = comm_websocket_adapter(comm);\n",
       "\n",
       "    function ondownload(figure, _format) {\n",
       "        window.open(figure.canvas.toDataURL());\n",
       "    }\n",
       "\n",
       "    var fig = new mpl.figure(id, ws_proxy, ondownload, element);\n",
       "\n",
       "    // Call onopen now - mpl needs it, as it is assuming we've passed it a real\n",
       "    // web socket which is closed, not our websocket->open comm proxy.\n",
       "    ws_proxy.onopen();\n",
       "\n",
       "    fig.parent_element = element;\n",
       "    fig.cell_info = mpl.find_output_cell(\"<div id='\" + id + \"'></div>\");\n",
       "    if (!fig.cell_info) {\n",
       "        console.error('Failed to find cell for figure', id, fig);\n",
       "        return;\n",
       "    }\n",
       "    fig.cell_info[0].output_area.element.on(\n",
       "        'cleared',\n",
       "        { fig: fig },\n",
       "        fig._remove_fig_handler\n",
       "    );\n",
       "};\n",
       "\n",
       "mpl.figure.prototype.handle_close = function (fig, msg) {\n",
       "    var width = fig.canvas.width / fig.ratio;\n",
       "    fig.cell_info[0].output_area.element.off(\n",
       "        'cleared',\n",
       "        fig._remove_fig_handler\n",
       "    );\n",
       "    fig.resizeObserverInstance.unobserve(fig.canvas_div);\n",
       "\n",
       "    // Update the output cell to use the data from the current canvas.\n",
       "    fig.push_to_output();\n",
       "    var dataURL = fig.canvas.toDataURL();\n",
       "    // Re-enable the keyboard manager in IPython - without this line, in FF,\n",
       "    // the notebook keyboard shortcuts fail.\n",
       "    IPython.keyboard_manager.enable();\n",
       "    fig.parent_element.innerHTML =\n",
       "        '<img src=\"' + dataURL + '\" width=\"' + width + '\">';\n",
       "    fig.close_ws(fig, msg);\n",
       "};\n",
       "\n",
       "mpl.figure.prototype.close_ws = function (fig, msg) {\n",
       "    fig.send_message('closing', msg);\n",
       "    // fig.ws.close()\n",
       "};\n",
       "\n",
       "mpl.figure.prototype.push_to_output = function (_remove_interactive) {\n",
       "    // Turn the data on the canvas into data in the output cell.\n",
       "    var width = this.canvas.width / this.ratio;\n",
       "    var dataURL = this.canvas.toDataURL();\n",
       "    this.cell_info[1]['text/html'] =\n",
       "        '<img src=\"' + dataURL + '\" width=\"' + width + '\">';\n",
       "};\n",
       "\n",
       "mpl.figure.prototype.updated_canvas_event = function () {\n",
       "    // Tell IPython that the notebook contents must change.\n",
       "    IPython.notebook.set_dirty(true);\n",
       "    this.send_message('ack', {});\n",
       "    var fig = this;\n",
       "    // Wait a second, then push the new image to the DOM so\n",
       "    // that it is saved nicely (might be nice to debounce this).\n",
       "    setTimeout(function () {\n",
       "        fig.push_to_output();\n",
       "    }, 1000);\n",
       "};\n",
       "\n",
       "mpl.figure.prototype._init_toolbar = function () {\n",
       "    var fig = this;\n",
       "\n",
       "    var toolbar = document.createElement('div');\n",
       "    toolbar.classList = 'btn-toolbar';\n",
       "    this.root.appendChild(toolbar);\n",
       "\n",
       "    function on_click_closure(name) {\n",
       "        return function (_event) {\n",
       "            return fig.toolbar_button_onclick(name);\n",
       "        };\n",
       "    }\n",
       "\n",
       "    function on_mouseover_closure(tooltip) {\n",
       "        return function (event) {\n",
       "            if (!event.currentTarget.disabled) {\n",
       "                return fig.toolbar_button_onmouseover(tooltip);\n",
       "            }\n",
       "        };\n",
       "    }\n",
       "\n",
       "    fig.buttons = {};\n",
       "    var buttonGroup = document.createElement('div');\n",
       "    buttonGroup.classList = 'btn-group';\n",
       "    var button;\n",
       "    for (var toolbar_ind in mpl.toolbar_items) {\n",
       "        var name = mpl.toolbar_items[toolbar_ind][0];\n",
       "        var tooltip = mpl.toolbar_items[toolbar_ind][1];\n",
       "        var image = mpl.toolbar_items[toolbar_ind][2];\n",
       "        var method_name = mpl.toolbar_items[toolbar_ind][3];\n",
       "\n",
       "        if (!name) {\n",
       "            /* Instead of a spacer, we start a new button group. */\n",
       "            if (buttonGroup.hasChildNodes()) {\n",
       "                toolbar.appendChild(buttonGroup);\n",
       "            }\n",
       "            buttonGroup = document.createElement('div');\n",
       "            buttonGroup.classList = 'btn-group';\n",
       "            continue;\n",
       "        }\n",
       "\n",
       "        button = fig.buttons[name] = document.createElement('button');\n",
       "        button.classList = 'btn btn-default';\n",
       "        button.href = '#';\n",
       "        button.title = name;\n",
       "        button.innerHTML = '<i class=\"fa ' + image + ' fa-lg\"></i>';\n",
       "        button.addEventListener('click', on_click_closure(method_name));\n",
       "        button.addEventListener('mouseover', on_mouseover_closure(tooltip));\n",
       "        buttonGroup.appendChild(button);\n",
       "    }\n",
       "\n",
       "    if (buttonGroup.hasChildNodes()) {\n",
       "        toolbar.appendChild(buttonGroup);\n",
       "    }\n",
       "\n",
       "    // Add the status bar.\n",
       "    var status_bar = document.createElement('span');\n",
       "    status_bar.classList = 'mpl-message pull-right';\n",
       "    toolbar.appendChild(status_bar);\n",
       "    this.message = status_bar;\n",
       "\n",
       "    // Add the close button to the window.\n",
       "    var buttongrp = document.createElement('div');\n",
       "    buttongrp.classList = 'btn-group inline pull-right';\n",
       "    button = document.createElement('button');\n",
       "    button.classList = 'btn btn-mini btn-primary';\n",
       "    button.href = '#';\n",
       "    button.title = 'Stop Interaction';\n",
       "    button.innerHTML = '<i class=\"fa fa-power-off icon-remove icon-large\"></i>';\n",
       "    button.addEventListener('click', function (_evt) {\n",
       "        fig.handle_close(fig, {});\n",
       "    });\n",
       "    button.addEventListener(\n",
       "        'mouseover',\n",
       "        on_mouseover_closure('Stop Interaction')\n",
       "    );\n",
       "    buttongrp.appendChild(button);\n",
       "    var titlebar = this.root.querySelector('.ui-dialog-titlebar');\n",
       "    titlebar.insertBefore(buttongrp, titlebar.firstChild);\n",
       "};\n",
       "\n",
       "mpl.figure.prototype._remove_fig_handler = function (event) {\n",
       "    var fig = event.data.fig;\n",
       "    if (event.target !== this) {\n",
       "        // Ignore bubbled events from children.\n",
       "        return;\n",
       "    }\n",
       "    fig.close_ws(fig, {});\n",
       "};\n",
       "\n",
       "mpl.figure.prototype._root_extra_style = function (el) {\n",
       "    el.style.boxSizing = 'content-box'; // override notebook setting of border-box.\n",
       "};\n",
       "\n",
       "mpl.figure.prototype._canvas_extra_style = function (el) {\n",
       "    // this is important to make the div 'focusable\n",
       "    el.setAttribute('tabindex', 0);\n",
       "    // reach out to IPython and tell the keyboard manager to turn it's self\n",
       "    // off when our div gets focus\n",
       "\n",
       "    // location in version 3\n",
       "    if (IPython.notebook.keyboard_manager) {\n",
       "        IPython.notebook.keyboard_manager.register_events(el);\n",
       "    } else {\n",
       "        // location in version 2\n",
       "        IPython.keyboard_manager.register_events(el);\n",
       "    }\n",
       "};\n",
       "\n",
       "mpl.figure.prototype._key_event_extra = function (event, _name) {\n",
       "    var manager = IPython.notebook.keyboard_manager;\n",
       "    if (!manager) {\n",
       "        manager = IPython.keyboard_manager;\n",
       "    }\n",
       "\n",
       "    // Check for shift+enter\n",
       "    if (event.shiftKey && event.which === 13) {\n",
       "        this.canvas_div.blur();\n",
       "        // select the cell after this one\n",
       "        var index = IPython.notebook.find_cell_index(this.cell_info[0]);\n",
       "        IPython.notebook.select(index + 1);\n",
       "    }\n",
       "};\n",
       "\n",
       "mpl.figure.prototype.handle_save = function (fig, _msg) {\n",
       "    fig.ondownload(fig, null);\n",
       "};\n",
       "\n",
       "mpl.find_output_cell = function (html_output) {\n",
       "    // Return the cell and output element which can be found *uniquely* in the notebook.\n",
       "    // Note - this is a bit hacky, but it is done because the \"notebook_saving.Notebook\"\n",
       "    // IPython event is triggered only after the cells have been serialised, which for\n",
       "    // our purposes (turning an active figure into a static one), is too late.\n",
       "    var cells = IPython.notebook.get_cells();\n",
       "    var ncells = cells.length;\n",
       "    for (var i = 0; i < ncells; i++) {\n",
       "        var cell = cells[i];\n",
       "        if (cell.cell_type === 'code') {\n",
       "            for (var j = 0; j < cell.output_area.outputs.length; j++) {\n",
       "                var data = cell.output_area.outputs[j];\n",
       "                if (data.data) {\n",
       "                    // IPython >= 3 moved mimebundle to data attribute of output\n",
       "                    data = data.data;\n",
       "                }\n",
       "                if (data['text/html'] === html_output) {\n",
       "                    return [cell, data, j];\n",
       "                }\n",
       "            }\n",
       "        }\n",
       "    }\n",
       "};\n",
       "\n",
       "// Register the function which deals with the matplotlib target/channel.\n",
       "// The kernel may be null if the page has been refreshed.\n",
       "if (IPython.notebook.kernel !== null) {\n",
       "    IPython.notebook.kernel.comm_manager.register_target(\n",
       "        'matplotlib',\n",
       "        mpl.mpl_figure_comm\n",
       "    );\n",
       "}\n"
      ],
      "text/plain": [
       "<IPython.core.display.Javascript object>"
      ]
     },
     "metadata": {},
     "output_type": "display_data"
    },
    {
     "data": {
      "text/html": [
       "<img src=\"data:image/png;base64,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\" width=\"600\">"
      ],
      "text/plain": [
       "<IPython.core.display.HTML object>"
      ]
     },
     "metadata": {},
     "output_type": "display_data"
    },
    {
     "data": {
      "application/vnd.jupyter.widget-view+json": {
       "model_id": "f35f6966072344b49a5bd1f86d6bec71",
       "version_major": 2,
       "version_minor": 0
      },
      "text/plain": [
       "VBox(children=(Play(value=0, interval=500), IntSlider(value=0, max=49)))"
      ]
     },
     "metadata": {},
     "output_type": "display_data"
    }
   ],
   "source": [
    "fig, ax151 = plt.subplots(figsize=custom_figsize)\n",
    "\n",
    "def interactive_bugs(timestep):\n",
    "    ax151.clear()\n",
    "    ch1_lib.plot_circle_and_bugs(ax151, radius, states_bugs[timestep['new']])  # Take the new value received from the slider dict\n",
    "    return None\n",
    "\n",
    "# Plot initial configuration\n",
    "ch1_lib.plot_circle_and_bugs(ax151, radius, states_bugs[0])\n",
    "# Execute widgets\n",
    "ch1_lib.create_widgets_play_slider(fnc=interactive_bugs, minv=0, maxv=n_steps-1, step=1, play_speed=500)"
   ]
  },
  {
   "cell_type": "markdown",
   "metadata": {},
   "source": [
    "### Cyclic Balancing\n",
    "\n",
    "Using some of the previous defined values, showing cycling balancing dynamics."
   ]
  },
  {
   "cell_type": "code",
   "execution_count": 10,
   "metadata": {},
   "outputs": [
    {
     "data": {
      "application/javascript": [
       "/* Put everything inside the global mpl namespace */\n",
       "/* global mpl */\n",
       "window.mpl = {};\n",
       "\n",
       "mpl.get_websocket_type = function () {\n",
       "    if (typeof WebSocket !== 'undefined') {\n",
       "        return WebSocket;\n",
       "    } else if (typeof MozWebSocket !== 'undefined') {\n",
       "        return MozWebSocket;\n",
       "    } else {\n",
       "        alert(\n",
       "            'Your browser does not have WebSocket support. ' +\n",
       "                'Please try Chrome, Safari or Firefox ≥ 6. ' +\n",
       "                'Firefox 4 and 5 are also supported but you ' +\n",
       "                'have to enable WebSockets in about:config.'\n",
       "        );\n",
       "    }\n",
       "};\n",
       "\n",
       "mpl.figure = function (figure_id, websocket, ondownload, parent_element) {\n",
       "    this.id = figure_id;\n",
       "\n",
       "    this.ws = websocket;\n",
       "\n",
       "    this.supports_binary = this.ws.binaryType !== undefined;\n",
       "\n",
       "    if (!this.supports_binary) {\n",
       "        var warnings = document.getElementById('mpl-warnings');\n",
       "        if (warnings) {\n",
       "            warnings.style.display = 'block';\n",
       "            warnings.textContent =\n",
       "                'This browser does not support binary websocket messages. ' +\n",
       "                'Performance may be slow.';\n",
       "        }\n",
       "    }\n",
       "\n",
       "    this.imageObj = new Image();\n",
       "\n",
       "    this.context = undefined;\n",
       "    this.message = undefined;\n",
       "    this.canvas = undefined;\n",
       "    this.rubberband_canvas = undefined;\n",
       "    this.rubberband_context = undefined;\n",
       "    this.format_dropdown = undefined;\n",
       "\n",
       "    this.image_mode = 'full';\n",
       "\n",
       "    this.root = document.createElement('div');\n",
       "    this.root.setAttribute('style', 'display: inline-block');\n",
       "    this._root_extra_style(this.root);\n",
       "\n",
       "    parent_element.appendChild(this.root);\n",
       "\n",
       "    this._init_header(this);\n",
       "    this._init_canvas(this);\n",
       "    this._init_toolbar(this);\n",
       "\n",
       "    var fig = this;\n",
       "\n",
       "    this.waiting = false;\n",
       "\n",
       "    this.ws.onopen = function () {\n",
       "        fig.send_message('supports_binary', { value: fig.supports_binary });\n",
       "        fig.send_message('send_image_mode', {});\n",
       "        if (fig.ratio !== 1) {\n",
       "            fig.send_message('set_dpi_ratio', { dpi_ratio: fig.ratio });\n",
       "        }\n",
       "        fig.send_message('refresh', {});\n",
       "    };\n",
       "\n",
       "    this.imageObj.onload = function () {\n",
       "        if (fig.image_mode === 'full') {\n",
       "            // Full images could contain transparency (where diff images\n",
       "            // almost always do), so we need to clear the canvas so that\n",
       "            // there is no ghosting.\n",
       "            fig.context.clearRect(0, 0, fig.canvas.width, fig.canvas.height);\n",
       "        }\n",
       "        fig.context.drawImage(fig.imageObj, 0, 0);\n",
       "    };\n",
       "\n",
       "    this.imageObj.onunload = function () {\n",
       "        fig.ws.close();\n",
       "    };\n",
       "\n",
       "    this.ws.onmessage = this._make_on_message_function(this);\n",
       "\n",
       "    this.ondownload = ondownload;\n",
       "};\n",
       "\n",
       "mpl.figure.prototype._init_header = function () {\n",
       "    var titlebar = document.createElement('div');\n",
       "    titlebar.classList =\n",
       "        'ui-dialog-titlebar ui-widget-header ui-corner-all ui-helper-clearfix';\n",
       "    var titletext = document.createElement('div');\n",
       "    titletext.classList = 'ui-dialog-title';\n",
       "    titletext.setAttribute(\n",
       "        'style',\n",
       "        'width: 100%; text-align: center; padding: 3px;'\n",
       "    );\n",
       "    titlebar.appendChild(titletext);\n",
       "    this.root.appendChild(titlebar);\n",
       "    this.header = titletext;\n",
       "};\n",
       "\n",
       "mpl.figure.prototype._canvas_extra_style = function (_canvas_div) {};\n",
       "\n",
       "mpl.figure.prototype._root_extra_style = function (_canvas_div) {};\n",
       "\n",
       "mpl.figure.prototype._init_canvas = function () {\n",
       "    var fig = this;\n",
       "\n",
       "    var canvas_div = (this.canvas_div = document.createElement('div'));\n",
       "    canvas_div.setAttribute(\n",
       "        'style',\n",
       "        'border: 1px solid #ddd;' +\n",
       "            'box-sizing: content-box;' +\n",
       "            'clear: both;' +\n",
       "            'min-height: 1px;' +\n",
       "            'min-width: 1px;' +\n",
       "            'outline: 0;' +\n",
       "            'overflow: hidden;' +\n",
       "            'position: relative;' +\n",
       "            'resize: both;'\n",
       "    );\n",
       "\n",
       "    function on_keyboard_event_closure(name) {\n",
       "        return function (event) {\n",
       "            return fig.key_event(event, name);\n",
       "        };\n",
       "    }\n",
       "\n",
       "    canvas_div.addEventListener(\n",
       "        'keydown',\n",
       "        on_keyboard_event_closure('key_press')\n",
       "    );\n",
       "    canvas_div.addEventListener(\n",
       "        'keyup',\n",
       "        on_keyboard_event_closure('key_release')\n",
       "    );\n",
       "\n",
       "    this._canvas_extra_style(canvas_div);\n",
       "    this.root.appendChild(canvas_div);\n",
       "\n",
       "    var canvas = (this.canvas = document.createElement('canvas'));\n",
       "    canvas.classList.add('mpl-canvas');\n",
       "    canvas.setAttribute('style', 'box-sizing: content-box;');\n",
       "\n",
       "    this.context = canvas.getContext('2d');\n",
       "\n",
       "    var backingStore =\n",
       "        this.context.backingStorePixelRatio ||\n",
       "        this.context.webkitBackingStorePixelRatio ||\n",
       "        this.context.mozBackingStorePixelRatio ||\n",
       "        this.context.msBackingStorePixelRatio ||\n",
       "        this.context.oBackingStorePixelRatio ||\n",
       "        this.context.backingStorePixelRatio ||\n",
       "        1;\n",
       "\n",
       "    this.ratio = (window.devicePixelRatio || 1) / backingStore;\n",
       "\n",
       "    var rubberband_canvas = (this.rubberband_canvas = document.createElement(\n",
       "        'canvas'\n",
       "    ));\n",
       "    rubberband_canvas.setAttribute(\n",
       "        'style',\n",
       "        'box-sizing: content-box; position: absolute; left: 0; top: 0; z-index: 1;'\n",
       "    );\n",
       "\n",
       "    // Apply a ponyfill if ResizeObserver is not implemented by browser.\n",
       "    if (this.ResizeObserver === undefined) {\n",
       "        if (window.ResizeObserver !== undefined) {\n",
       "            this.ResizeObserver = window.ResizeObserver;\n",
       "        } else {\n",
       "            var obs = _JSXTOOLS_RESIZE_OBSERVER({});\n",
       "            this.ResizeObserver = obs.ResizeObserver;\n",
       "        }\n",
       "    }\n",
       "\n",
       "    this.resizeObserverInstance = new this.ResizeObserver(function (entries) {\n",
       "        var nentries = entries.length;\n",
       "        for (var i = 0; i < nentries; i++) {\n",
       "            var entry = entries[i];\n",
       "            var width, height;\n",
       "            if (entry.contentBoxSize) {\n",
       "                if (entry.contentBoxSize instanceof Array) {\n",
       "                    // Chrome 84 implements new version of spec.\n",
       "                    width = entry.contentBoxSize[0].inlineSize;\n",
       "                    height = entry.contentBoxSize[0].blockSize;\n",
       "                } else {\n",
       "                    // Firefox implements old version of spec.\n",
       "                    width = entry.contentBoxSize.inlineSize;\n",
       "                    height = entry.contentBoxSize.blockSize;\n",
       "                }\n",
       "            } else {\n",
       "                // Chrome <84 implements even older version of spec.\n",
       "                width = entry.contentRect.width;\n",
       "                height = entry.contentRect.height;\n",
       "            }\n",
       "\n",
       "            // Keep the size of the canvas and rubber band canvas in sync with\n",
       "            // the canvas container.\n",
       "            if (entry.devicePixelContentBoxSize) {\n",
       "                // Chrome 84 implements new version of spec.\n",
       "                canvas.setAttribute(\n",
       "                    'width',\n",
       "                    entry.devicePixelContentBoxSize[0].inlineSize\n",
       "                );\n",
       "                canvas.setAttribute(\n",
       "                    'height',\n",
       "                    entry.devicePixelContentBoxSize[0].blockSize\n",
       "                );\n",
       "            } else {\n",
       "                canvas.setAttribute('width', width * fig.ratio);\n",
       "                canvas.setAttribute('height', height * fig.ratio);\n",
       "            }\n",
       "            canvas.setAttribute(\n",
       "                'style',\n",
       "                'width: ' + width + 'px; height: ' + height + 'px;'\n",
       "            );\n",
       "\n",
       "            rubberband_canvas.setAttribute('width', width);\n",
       "            rubberband_canvas.setAttribute('height', height);\n",
       "\n",
       "            // And update the size in Python. We ignore the initial 0/0 size\n",
       "            // that occurs as the element is placed into the DOM, which should\n",
       "            // otherwise not happen due to the minimum size styling.\n",
       "            if (fig.ws.readyState == 1 && width != 0 && height != 0) {\n",
       "                fig.request_resize(width, height);\n",
       "            }\n",
       "        }\n",
       "    });\n",
       "    this.resizeObserverInstance.observe(canvas_div);\n",
       "\n",
       "    function on_mouse_event_closure(name) {\n",
       "        return function (event) {\n",
       "            return fig.mouse_event(event, name);\n",
       "        };\n",
       "    }\n",
       "\n",
       "    rubberband_canvas.addEventListener(\n",
       "        'mousedown',\n",
       "        on_mouse_event_closure('button_press')\n",
       "    );\n",
       "    rubberband_canvas.addEventListener(\n",
       "        'mouseup',\n",
       "        on_mouse_event_closure('button_release')\n",
       "    );\n",
       "    rubberband_canvas.addEventListener(\n",
       "        'dblclick',\n",
       "        on_mouse_event_closure('dblclick')\n",
       "    );\n",
       "    // Throttle sequential mouse events to 1 every 20ms.\n",
       "    rubberband_canvas.addEventListener(\n",
       "        'mousemove',\n",
       "        on_mouse_event_closure('motion_notify')\n",
       "    );\n",
       "\n",
       "    rubberband_canvas.addEventListener(\n",
       "        'mouseenter',\n",
       "        on_mouse_event_closure('figure_enter')\n",
       "    );\n",
       "    rubberband_canvas.addEventListener(\n",
       "        'mouseleave',\n",
       "        on_mouse_event_closure('figure_leave')\n",
       "    );\n",
       "\n",
       "    canvas_div.addEventListener('wheel', function (event) {\n",
       "        if (event.deltaY < 0) {\n",
       "            event.step = 1;\n",
       "        } else {\n",
       "            event.step = -1;\n",
       "        }\n",
       "        on_mouse_event_closure('scroll')(event);\n",
       "    });\n",
       "\n",
       "    canvas_div.appendChild(canvas);\n",
       "    canvas_div.appendChild(rubberband_canvas);\n",
       "\n",
       "    this.rubberband_context = rubberband_canvas.getContext('2d');\n",
       "    this.rubberband_context.strokeStyle = '#000000';\n",
       "\n",
       "    this._resize_canvas = function (width, height, forward) {\n",
       "        if (forward) {\n",
       "            canvas_div.style.width = width + 'px';\n",
       "            canvas_div.style.height = height + 'px';\n",
       "        }\n",
       "    };\n",
       "\n",
       "    // Disable right mouse context menu.\n",
       "    this.rubberband_canvas.addEventListener('contextmenu', function (_e) {\n",
       "        event.preventDefault();\n",
       "        return false;\n",
       "    });\n",
       "\n",
       "    function set_focus() {\n",
       "        canvas.focus();\n",
       "        canvas_div.focus();\n",
       "    }\n",
       "\n",
       "    window.setTimeout(set_focus, 100);\n",
       "};\n",
       "\n",
       "mpl.figure.prototype._init_toolbar = function () {\n",
       "    var fig = this;\n",
       "\n",
       "    var toolbar = document.createElement('div');\n",
       "    toolbar.classList = 'mpl-toolbar';\n",
       "    this.root.appendChild(toolbar);\n",
       "\n",
       "    function on_click_closure(name) {\n",
       "        return function (_event) {\n",
       "            return fig.toolbar_button_onclick(name);\n",
       "        };\n",
       "    }\n",
       "\n",
       "    function on_mouseover_closure(tooltip) {\n",
       "        return function (event) {\n",
       "            if (!event.currentTarget.disabled) {\n",
       "                return fig.toolbar_button_onmouseover(tooltip);\n",
       "            }\n",
       "        };\n",
       "    }\n",
       "\n",
       "    fig.buttons = {};\n",
       "    var buttonGroup = document.createElement('div');\n",
       "    buttonGroup.classList = 'mpl-button-group';\n",
       "    for (var toolbar_ind in mpl.toolbar_items) {\n",
       "        var name = mpl.toolbar_items[toolbar_ind][0];\n",
       "        var tooltip = mpl.toolbar_items[toolbar_ind][1];\n",
       "        var image = mpl.toolbar_items[toolbar_ind][2];\n",
       "        var method_name = mpl.toolbar_items[toolbar_ind][3];\n",
       "\n",
       "        if (!name) {\n",
       "            /* Instead of a spacer, we start a new button group. */\n",
       "            if (buttonGroup.hasChildNodes()) {\n",
       "                toolbar.appendChild(buttonGroup);\n",
       "            }\n",
       "            buttonGroup = document.createElement('div');\n",
       "            buttonGroup.classList = 'mpl-button-group';\n",
       "            continue;\n",
       "        }\n",
       "\n",
       "        var button = (fig.buttons[name] = document.createElement('button'));\n",
       "        button.classList = 'mpl-widget';\n",
       "        button.setAttribute('role', 'button');\n",
       "        button.setAttribute('aria-disabled', 'false');\n",
       "        button.addEventListener('click', on_click_closure(method_name));\n",
       "        button.addEventListener('mouseover', on_mouseover_closure(tooltip));\n",
       "\n",
       "        var icon_img = document.createElement('img');\n",
       "        icon_img.src = '_images/' + image + '.png';\n",
       "        icon_img.srcset = '_images/' + image + '_large.png 2x';\n",
       "        icon_img.alt = tooltip;\n",
       "        button.appendChild(icon_img);\n",
       "\n",
       "        buttonGroup.appendChild(button);\n",
       "    }\n",
       "\n",
       "    if (buttonGroup.hasChildNodes()) {\n",
       "        toolbar.appendChild(buttonGroup);\n",
       "    }\n",
       "\n",
       "    var fmt_picker = document.createElement('select');\n",
       "    fmt_picker.classList = 'mpl-widget';\n",
       "    toolbar.appendChild(fmt_picker);\n",
       "    this.format_dropdown = fmt_picker;\n",
       "\n",
       "    for (var ind in mpl.extensions) {\n",
       "        var fmt = mpl.extensions[ind];\n",
       "        var option = document.createElement('option');\n",
       "        option.selected = fmt === mpl.default_extension;\n",
       "        option.innerHTML = fmt;\n",
       "        fmt_picker.appendChild(option);\n",
       "    }\n",
       "\n",
       "    var status_bar = document.createElement('span');\n",
       "    status_bar.classList = 'mpl-message';\n",
       "    toolbar.appendChild(status_bar);\n",
       "    this.message = status_bar;\n",
       "};\n",
       "\n",
       "mpl.figure.prototype.request_resize = function (x_pixels, y_pixels) {\n",
       "    // Request matplotlib to resize the figure. Matplotlib will then trigger a resize in the client,\n",
       "    // which will in turn request a refresh of the image.\n",
       "    this.send_message('resize', { width: x_pixels, height: y_pixels });\n",
       "};\n",
       "\n",
       "mpl.figure.prototype.send_message = function (type, properties) {\n",
       "    properties['type'] = type;\n",
       "    properties['figure_id'] = this.id;\n",
       "    this.ws.send(JSON.stringify(properties));\n",
       "};\n",
       "\n",
       "mpl.figure.prototype.send_draw_message = function () {\n",
       "    if (!this.waiting) {\n",
       "        this.waiting = true;\n",
       "        this.ws.send(JSON.stringify({ type: 'draw', figure_id: this.id }));\n",
       "    }\n",
       "};\n",
       "\n",
       "mpl.figure.prototype.handle_save = function (fig, _msg) {\n",
       "    var format_dropdown = fig.format_dropdown;\n",
       "    var format = format_dropdown.options[format_dropdown.selectedIndex].value;\n",
       "    fig.ondownload(fig, format);\n",
       "};\n",
       "\n",
       "mpl.figure.prototype.handle_resize = function (fig, msg) {\n",
       "    var size = msg['size'];\n",
       "    if (size[0] !== fig.canvas.width || size[1] !== fig.canvas.height) {\n",
       "        fig._resize_canvas(size[0], size[1], msg['forward']);\n",
       "        fig.send_message('refresh', {});\n",
       "    }\n",
       "};\n",
       "\n",
       "mpl.figure.prototype.handle_rubberband = function (fig, msg) {\n",
       "    var x0 = msg['x0'] / fig.ratio;\n",
       "    var y0 = (fig.canvas.height - msg['y0']) / fig.ratio;\n",
       "    var x1 = msg['x1'] / fig.ratio;\n",
       "    var y1 = (fig.canvas.height - msg['y1']) / fig.ratio;\n",
       "    x0 = Math.floor(x0) + 0.5;\n",
       "    y0 = Math.floor(y0) + 0.5;\n",
       "    x1 = Math.floor(x1) + 0.5;\n",
       "    y1 = Math.floor(y1) + 0.5;\n",
       "    var min_x = Math.min(x0, x1);\n",
       "    var min_y = Math.min(y0, y1);\n",
       "    var width = Math.abs(x1 - x0);\n",
       "    var height = Math.abs(y1 - y0);\n",
       "\n",
       "    fig.rubberband_context.clearRect(\n",
       "        0,\n",
       "        0,\n",
       "        fig.canvas.width / fig.ratio,\n",
       "        fig.canvas.height / fig.ratio\n",
       "    );\n",
       "\n",
       "    fig.rubberband_context.strokeRect(min_x, min_y, width, height);\n",
       "};\n",
       "\n",
       "mpl.figure.prototype.handle_figure_label = function (fig, msg) {\n",
       "    // Updates the figure title.\n",
       "    fig.header.textContent = msg['label'];\n",
       "};\n",
       "\n",
       "mpl.figure.prototype.handle_cursor = function (fig, msg) {\n",
       "    var cursor = msg['cursor'];\n",
       "    switch (cursor) {\n",
       "        case 0:\n",
       "            cursor = 'pointer';\n",
       "            break;\n",
       "        case 1:\n",
       "            cursor = 'default';\n",
       "            break;\n",
       "        case 2:\n",
       "            cursor = 'crosshair';\n",
       "            break;\n",
       "        case 3:\n",
       "            cursor = 'move';\n",
       "            break;\n",
       "    }\n",
       "    fig.rubberband_canvas.style.cursor = cursor;\n",
       "};\n",
       "\n",
       "mpl.figure.prototype.handle_message = function (fig, msg) {\n",
       "    fig.message.textContent = msg['message'];\n",
       "};\n",
       "\n",
       "mpl.figure.prototype.handle_draw = function (fig, _msg) {\n",
       "    // Request the server to send over a new figure.\n",
       "    fig.send_draw_message();\n",
       "};\n",
       "\n",
       "mpl.figure.prototype.handle_image_mode = function (fig, msg) {\n",
       "    fig.image_mode = msg['mode'];\n",
       "};\n",
       "\n",
       "mpl.figure.prototype.handle_history_buttons = function (fig, msg) {\n",
       "    for (var key in msg) {\n",
       "        if (!(key in fig.buttons)) {\n",
       "            continue;\n",
       "        }\n",
       "        fig.buttons[key].disabled = !msg[key];\n",
       "        fig.buttons[key].setAttribute('aria-disabled', !msg[key]);\n",
       "    }\n",
       "};\n",
       "\n",
       "mpl.figure.prototype.handle_navigate_mode = function (fig, msg) {\n",
       "    if (msg['mode'] === 'PAN') {\n",
       "        fig.buttons['Pan'].classList.add('active');\n",
       "        fig.buttons['Zoom'].classList.remove('active');\n",
       "    } else if (msg['mode'] === 'ZOOM') {\n",
       "        fig.buttons['Pan'].classList.remove('active');\n",
       "        fig.buttons['Zoom'].classList.add('active');\n",
       "    } else {\n",
       "        fig.buttons['Pan'].classList.remove('active');\n",
       "        fig.buttons['Zoom'].classList.remove('active');\n",
       "    }\n",
       "};\n",
       "\n",
       "mpl.figure.prototype.updated_canvas_event = function () {\n",
       "    // Called whenever the canvas gets updated.\n",
       "    this.send_message('ack', {});\n",
       "};\n",
       "\n",
       "// A function to construct a web socket function for onmessage handling.\n",
       "// Called in the figure constructor.\n",
       "mpl.figure.prototype._make_on_message_function = function (fig) {\n",
       "    return function socket_on_message(evt) {\n",
       "        if (evt.data instanceof Blob) {\n",
       "            var img = evt.data;\n",
       "            if (img.type !== 'image/png') {\n",
       "                /* FIXME: We get \"Resource interpreted as Image but\n",
       "                 * transferred with MIME type text/plain:\" errors on\n",
       "                 * Chrome.  But how to set the MIME type?  It doesn't seem\n",
       "                 * to be part of the websocket stream */\n",
       "                img.type = 'image/png';\n",
       "            }\n",
       "\n",
       "            /* Free the memory for the previous frames */\n",
       "            if (fig.imageObj.src) {\n",
       "                (window.URL || window.webkitURL).revokeObjectURL(\n",
       "                    fig.imageObj.src\n",
       "                );\n",
       "            }\n",
       "\n",
       "            fig.imageObj.src = (window.URL || window.webkitURL).createObjectURL(\n",
       "                img\n",
       "            );\n",
       "            fig.updated_canvas_event();\n",
       "            fig.waiting = false;\n",
       "            return;\n",
       "        } else if (\n",
       "            typeof evt.data === 'string' &&\n",
       "            evt.data.slice(0, 21) === 'data:image/png;base64'\n",
       "        ) {\n",
       "            fig.imageObj.src = evt.data;\n",
       "            fig.updated_canvas_event();\n",
       "            fig.waiting = false;\n",
       "            return;\n",
       "        }\n",
       "\n",
       "        var msg = JSON.parse(evt.data);\n",
       "        var msg_type = msg['type'];\n",
       "\n",
       "        // Call the  \"handle_{type}\" callback, which takes\n",
       "        // the figure and JSON message as its only arguments.\n",
       "        try {\n",
       "            var callback = fig['handle_' + msg_type];\n",
       "        } catch (e) {\n",
       "            console.log(\n",
       "                \"No handler for the '\" + msg_type + \"' message type: \",\n",
       "                msg\n",
       "            );\n",
       "            return;\n",
       "        }\n",
       "\n",
       "        if (callback) {\n",
       "            try {\n",
       "                // console.log(\"Handling '\" + msg_type + \"' message: \", msg);\n",
       "                callback(fig, msg);\n",
       "            } catch (e) {\n",
       "                console.log(\n",
       "                    \"Exception inside the 'handler_\" + msg_type + \"' callback:\",\n",
       "                    e,\n",
       "                    e.stack,\n",
       "                    msg\n",
       "                );\n",
       "            }\n",
       "        }\n",
       "    };\n",
       "};\n",
       "\n",
       "// from http://stackoverflow.com/questions/1114465/getting-mouse-location-in-canvas\n",
       "mpl.findpos = function (e) {\n",
       "    //this section is from http://www.quirksmode.org/js/events_properties.html\n",
       "    var targ;\n",
       "    if (!e) {\n",
       "        e = window.event;\n",
       "    }\n",
       "    if (e.target) {\n",
       "        targ = e.target;\n",
       "    } else if (e.srcElement) {\n",
       "        targ = e.srcElement;\n",
       "    }\n",
       "    if (targ.nodeType === 3) {\n",
       "        // defeat Safari bug\n",
       "        targ = targ.parentNode;\n",
       "    }\n",
       "\n",
       "    // pageX,Y are the mouse positions relative to the document\n",
       "    var boundingRect = targ.getBoundingClientRect();\n",
       "    var x = e.pageX - (boundingRect.left + document.body.scrollLeft);\n",
       "    var y = e.pageY - (boundingRect.top + document.body.scrollTop);\n",
       "\n",
       "    return { x: x, y: y };\n",
       "};\n",
       "\n",
       "/*\n",
       " * return a copy of an object with only non-object keys\n",
       " * we need this to avoid circular references\n",
       " * http://stackoverflow.com/a/24161582/3208463\n",
       " */\n",
       "function simpleKeys(original) {\n",
       "    return Object.keys(original).reduce(function (obj, key) {\n",
       "        if (typeof original[key] !== 'object') {\n",
       "            obj[key] = original[key];\n",
       "        }\n",
       "        return obj;\n",
       "    }, {});\n",
       "}\n",
       "\n",
       "mpl.figure.prototype.mouse_event = function (event, name) {\n",
       "    var canvas_pos = mpl.findpos(event);\n",
       "\n",
       "    if (name === 'button_press') {\n",
       "        this.canvas.focus();\n",
       "        this.canvas_div.focus();\n",
       "    }\n",
       "\n",
       "    var x = canvas_pos.x * this.ratio;\n",
       "    var y = canvas_pos.y * this.ratio;\n",
       "\n",
       "    this.send_message(name, {\n",
       "        x: x,\n",
       "        y: y,\n",
       "        button: event.button,\n",
       "        step: event.step,\n",
       "        guiEvent: simpleKeys(event),\n",
       "    });\n",
       "\n",
       "    /* This prevents the web browser from automatically changing to\n",
       "     * the text insertion cursor when the button is pressed.  We want\n",
       "     * to control all of the cursor setting manually through the\n",
       "     * 'cursor' event from matplotlib */\n",
       "    event.preventDefault();\n",
       "    return false;\n",
       "};\n",
       "\n",
       "mpl.figure.prototype._key_event_extra = function (_event, _name) {\n",
       "    // Handle any extra behaviour associated with a key event\n",
       "};\n",
       "\n",
       "mpl.figure.prototype.key_event = function (event, name) {\n",
       "    // Prevent repeat events\n",
       "    if (name === 'key_press') {\n",
       "        if (event.key === this._key) {\n",
       "            return;\n",
       "        } else {\n",
       "            this._key = event.key;\n",
       "        }\n",
       "    }\n",
       "    if (name === 'key_release') {\n",
       "        this._key = null;\n",
       "    }\n",
       "\n",
       "    var value = '';\n",
       "    if (event.ctrlKey && event.key !== 'Control') {\n",
       "        value += 'ctrl+';\n",
       "    }\n",
       "    else if (event.altKey && event.key !== 'Alt') {\n",
       "        value += 'alt+';\n",
       "    }\n",
       "    else if (event.shiftKey && event.key !== 'Shift') {\n",
       "        value += 'shift+';\n",
       "    }\n",
       "\n",
       "    value += 'k' + event.key;\n",
       "\n",
       "    this._key_event_extra(event, name);\n",
       "\n",
       "    this.send_message(name, { key: value, guiEvent: simpleKeys(event) });\n",
       "    return false;\n",
       "};\n",
       "\n",
       "mpl.figure.prototype.toolbar_button_onclick = function (name) {\n",
       "    if (name === 'download') {\n",
       "        this.handle_save(this, null);\n",
       "    } else {\n",
       "        this.send_message('toolbar_button', { name: name });\n",
       "    }\n",
       "};\n",
       "\n",
       "mpl.figure.prototype.toolbar_button_onmouseover = function (tooltip) {\n",
       "    this.message.textContent = tooltip;\n",
       "};\n",
       "\n",
       "///////////////// REMAINING CONTENT GENERATED BY embed_js.py /////////////////\n",
       "// prettier-ignore\n",
       "var _JSXTOOLS_RESIZE_OBSERVER=function(A){var t,i=new WeakMap,n=new WeakMap,a=new WeakMap,r=new WeakMap,o=new Set;function s(e){if(!(this instanceof s))throw new TypeError(\"Constructor requires 'new' operator\");i.set(this,e)}function h(){throw new TypeError(\"Function is not a constructor\")}function c(e,t,i,n){e=0 in arguments?Number(arguments[0]):0,t=1 in arguments?Number(arguments[1]):0,i=2 in arguments?Number(arguments[2]):0,n=3 in arguments?Number(arguments[3]):0,this.right=(this.x=this.left=e)+(this.width=i),this.bottom=(this.y=this.top=t)+(this.height=n),Object.freeze(this)}function d(){t=requestAnimationFrame(d);var s=new WeakMap,p=new Set;o.forEach((function(t){r.get(t).forEach((function(i){var r=t instanceof window.SVGElement,o=a.get(t),d=r?0:parseFloat(o.paddingTop),f=r?0:parseFloat(o.paddingRight),l=r?0:parseFloat(o.paddingBottom),u=r?0:parseFloat(o.paddingLeft),g=r?0:parseFloat(o.borderTopWidth),m=r?0:parseFloat(o.borderRightWidth),w=r?0:parseFloat(o.borderBottomWidth),b=u+f,F=d+l,v=(r?0:parseFloat(o.borderLeftWidth))+m,W=g+w,y=r?0:t.offsetHeight-W-t.clientHeight,E=r?0:t.offsetWidth-v-t.clientWidth,R=b+v,z=F+W,M=r?t.width:parseFloat(o.width)-R-E,O=r?t.height:parseFloat(o.height)-z-y;if(n.has(t)){var k=n.get(t);if(k[0]===M&&k[1]===O)return}n.set(t,[M,O]);var S=Object.create(h.prototype);S.target=t,S.contentRect=new c(u,d,M,O),s.has(i)||(s.set(i,[]),p.add(i)),s.get(i).push(S)}))})),p.forEach((function(e){i.get(e).call(e,s.get(e),e)}))}return s.prototype.observe=function(i){if(i instanceof window.Element){r.has(i)||(r.set(i,new Set),o.add(i),a.set(i,window.getComputedStyle(i)));var n=r.get(i);n.has(this)||n.add(this),cancelAnimationFrame(t),t=requestAnimationFrame(d)}},s.prototype.unobserve=function(i){if(i instanceof window.Element&&r.has(i)){var n=r.get(i);n.has(this)&&(n.delete(this),n.size||(r.delete(i),o.delete(i))),n.size||r.delete(i),o.size||cancelAnimationFrame(t)}},A.DOMRectReadOnly=c,A.ResizeObserver=s,A.ResizeObserverEntry=h,A}; // eslint-disable-line\n",
       "mpl.toolbar_items = [[\"Home\", \"Reset original view\", \"fa fa-home icon-home\", \"home\"], [\"Back\", \"Back to previous view\", \"fa fa-arrow-left icon-arrow-left\", \"back\"], [\"Forward\", \"Forward to next view\", \"fa fa-arrow-right icon-arrow-right\", \"forward\"], [\"\", \"\", \"\", \"\"], [\"Pan\", \"Left button pans, Right button zooms\\nx/y fixes axis, CTRL fixes aspect\", \"fa fa-arrows icon-move\", \"pan\"], [\"Zoom\", \"Zoom to rectangle\\nx/y fixes axis, CTRL fixes aspect\", \"fa fa-square-o icon-check-empty\", \"zoom\"], [\"\", \"\", \"\", \"\"], [\"Download\", \"Download plot\", \"fa fa-floppy-o icon-save\", \"download\"]];\n",
       "\n",
       "mpl.extensions = [\"eps\", \"jpeg\", \"pgf\", \"pdf\", \"png\", \"ps\", \"raw\", \"svg\", \"tif\"];\n",
       "\n",
       "mpl.default_extension = \"png\";/* global mpl */\n",
       "\n",
       "var comm_websocket_adapter = function (comm) {\n",
       "    // Create a \"websocket\"-like object which calls the given IPython comm\n",
       "    // object with the appropriate methods. Currently this is a non binary\n",
       "    // socket, so there is still some room for performance tuning.\n",
       "    var ws = {};\n",
       "\n",
       "    ws.binaryType = comm.kernel.ws.binaryType;\n",
       "    ws.readyState = comm.kernel.ws.readyState;\n",
       "    function updateReadyState(_event) {\n",
       "        if (comm.kernel.ws) {\n",
       "            ws.readyState = comm.kernel.ws.readyState;\n",
       "        } else {\n",
       "            ws.readyState = 3; // Closed state.\n",
       "        }\n",
       "    }\n",
       "    comm.kernel.ws.addEventListener('open', updateReadyState);\n",
       "    comm.kernel.ws.addEventListener('close', updateReadyState);\n",
       "    comm.kernel.ws.addEventListener('error', updateReadyState);\n",
       "\n",
       "    ws.close = function () {\n",
       "        comm.close();\n",
       "    };\n",
       "    ws.send = function (m) {\n",
       "        //console.log('sending', m);\n",
       "        comm.send(m);\n",
       "    };\n",
       "    // Register the callback with on_msg.\n",
       "    comm.on_msg(function (msg) {\n",
       "        //console.log('receiving', msg['content']['data'], msg);\n",
       "        var data = msg['content']['data'];\n",
       "        if (data['blob'] !== undefined) {\n",
       "            data = {\n",
       "                data: new Blob(msg['buffers'], { type: data['blob'] }),\n",
       "            };\n",
       "        }\n",
       "        // Pass the mpl event to the overridden (by mpl) onmessage function.\n",
       "        ws.onmessage(data);\n",
       "    });\n",
       "    return ws;\n",
       "};\n",
       "\n",
       "mpl.mpl_figure_comm = function (comm, msg) {\n",
       "    // This is the function which gets called when the mpl process\n",
       "    // starts-up an IPython Comm through the \"matplotlib\" channel.\n",
       "\n",
       "    var id = msg.content.data.id;\n",
       "    // Get hold of the div created by the display call when the Comm\n",
       "    // socket was opened in Python.\n",
       "    var element = document.getElementById(id);\n",
       "    var ws_proxy = comm_websocket_adapter(comm);\n",
       "\n",
       "    function ondownload(figure, _format) {\n",
       "        window.open(figure.canvas.toDataURL());\n",
       "    }\n",
       "\n",
       "    var fig = new mpl.figure(id, ws_proxy, ondownload, element);\n",
       "\n",
       "    // Call onopen now - mpl needs it, as it is assuming we've passed it a real\n",
       "    // web socket which is closed, not our websocket->open comm proxy.\n",
       "    ws_proxy.onopen();\n",
       "\n",
       "    fig.parent_element = element;\n",
       "    fig.cell_info = mpl.find_output_cell(\"<div id='\" + id + \"'></div>\");\n",
       "    if (!fig.cell_info) {\n",
       "        console.error('Failed to find cell for figure', id, fig);\n",
       "        return;\n",
       "    }\n",
       "    fig.cell_info[0].output_area.element.on(\n",
       "        'cleared',\n",
       "        { fig: fig },\n",
       "        fig._remove_fig_handler\n",
       "    );\n",
       "};\n",
       "\n",
       "mpl.figure.prototype.handle_close = function (fig, msg) {\n",
       "    var width = fig.canvas.width / fig.ratio;\n",
       "    fig.cell_info[0].output_area.element.off(\n",
       "        'cleared',\n",
       "        fig._remove_fig_handler\n",
       "    );\n",
       "    fig.resizeObserverInstance.unobserve(fig.canvas_div);\n",
       "\n",
       "    // Update the output cell to use the data from the current canvas.\n",
       "    fig.push_to_output();\n",
       "    var dataURL = fig.canvas.toDataURL();\n",
       "    // Re-enable the keyboard manager in IPython - without this line, in FF,\n",
       "    // the notebook keyboard shortcuts fail.\n",
       "    IPython.keyboard_manager.enable();\n",
       "    fig.parent_element.innerHTML =\n",
       "        '<img src=\"' + dataURL + '\" width=\"' + width + '\">';\n",
       "    fig.close_ws(fig, msg);\n",
       "};\n",
       "\n",
       "mpl.figure.prototype.close_ws = function (fig, msg) {\n",
       "    fig.send_message('closing', msg);\n",
       "    // fig.ws.close()\n",
       "};\n",
       "\n",
       "mpl.figure.prototype.push_to_output = function (_remove_interactive) {\n",
       "    // Turn the data on the canvas into data in the output cell.\n",
       "    var width = this.canvas.width / this.ratio;\n",
       "    var dataURL = this.canvas.toDataURL();\n",
       "    this.cell_info[1]['text/html'] =\n",
       "        '<img src=\"' + dataURL + '\" width=\"' + width + '\">';\n",
       "};\n",
       "\n",
       "mpl.figure.prototype.updated_canvas_event = function () {\n",
       "    // Tell IPython that the notebook contents must change.\n",
       "    IPython.notebook.set_dirty(true);\n",
       "    this.send_message('ack', {});\n",
       "    var fig = this;\n",
       "    // Wait a second, then push the new image to the DOM so\n",
       "    // that it is saved nicely (might be nice to debounce this).\n",
       "    setTimeout(function () {\n",
       "        fig.push_to_output();\n",
       "    }, 1000);\n",
       "};\n",
       "\n",
       "mpl.figure.prototype._init_toolbar = function () {\n",
       "    var fig = this;\n",
       "\n",
       "    var toolbar = document.createElement('div');\n",
       "    toolbar.classList = 'btn-toolbar';\n",
       "    this.root.appendChild(toolbar);\n",
       "\n",
       "    function on_click_closure(name) {\n",
       "        return function (_event) {\n",
       "            return fig.toolbar_button_onclick(name);\n",
       "        };\n",
       "    }\n",
       "\n",
       "    function on_mouseover_closure(tooltip) {\n",
       "        return function (event) {\n",
       "            if (!event.currentTarget.disabled) {\n",
       "                return fig.toolbar_button_onmouseover(tooltip);\n",
       "            }\n",
       "        };\n",
       "    }\n",
       "\n",
       "    fig.buttons = {};\n",
       "    var buttonGroup = document.createElement('div');\n",
       "    buttonGroup.classList = 'btn-group';\n",
       "    var button;\n",
       "    for (var toolbar_ind in mpl.toolbar_items) {\n",
       "        var name = mpl.toolbar_items[toolbar_ind][0];\n",
       "        var tooltip = mpl.toolbar_items[toolbar_ind][1];\n",
       "        var image = mpl.toolbar_items[toolbar_ind][2];\n",
       "        var method_name = mpl.toolbar_items[toolbar_ind][3];\n",
       "\n",
       "        if (!name) {\n",
       "            /* Instead of a spacer, we start a new button group. */\n",
       "            if (buttonGroup.hasChildNodes()) {\n",
       "                toolbar.appendChild(buttonGroup);\n",
       "            }\n",
       "            buttonGroup = document.createElement('div');\n",
       "            buttonGroup.classList = 'btn-group';\n",
       "            continue;\n",
       "        }\n",
       "\n",
       "        button = fig.buttons[name] = document.createElement('button');\n",
       "        button.classList = 'btn btn-default';\n",
       "        button.href = '#';\n",
       "        button.title = name;\n",
       "        button.innerHTML = '<i class=\"fa ' + image + ' fa-lg\"></i>';\n",
       "        button.addEventListener('click', on_click_closure(method_name));\n",
       "        button.addEventListener('mouseover', on_mouseover_closure(tooltip));\n",
       "        buttonGroup.appendChild(button);\n",
       "    }\n",
       "\n",
       "    if (buttonGroup.hasChildNodes()) {\n",
       "        toolbar.appendChild(buttonGroup);\n",
       "    }\n",
       "\n",
       "    // Add the status bar.\n",
       "    var status_bar = document.createElement('span');\n",
       "    status_bar.classList = 'mpl-message pull-right';\n",
       "    toolbar.appendChild(status_bar);\n",
       "    this.message = status_bar;\n",
       "\n",
       "    // Add the close button to the window.\n",
       "    var buttongrp = document.createElement('div');\n",
       "    buttongrp.classList = 'btn-group inline pull-right';\n",
       "    button = document.createElement('button');\n",
       "    button.classList = 'btn btn-mini btn-primary';\n",
       "    button.href = '#';\n",
       "    button.title = 'Stop Interaction';\n",
       "    button.innerHTML = '<i class=\"fa fa-power-off icon-remove icon-large\"></i>';\n",
       "    button.addEventListener('click', function (_evt) {\n",
       "        fig.handle_close(fig, {});\n",
       "    });\n",
       "    button.addEventListener(\n",
       "        'mouseover',\n",
       "        on_mouseover_closure('Stop Interaction')\n",
       "    );\n",
       "    buttongrp.appendChild(button);\n",
       "    var titlebar = this.root.querySelector('.ui-dialog-titlebar');\n",
       "    titlebar.insertBefore(buttongrp, titlebar.firstChild);\n",
       "};\n",
       "\n",
       "mpl.figure.prototype._remove_fig_handler = function (event) {\n",
       "    var fig = event.data.fig;\n",
       "    if (event.target !== this) {\n",
       "        // Ignore bubbled events from children.\n",
       "        return;\n",
       "    }\n",
       "    fig.close_ws(fig, {});\n",
       "};\n",
       "\n",
       "mpl.figure.prototype._root_extra_style = function (el) {\n",
       "    el.style.boxSizing = 'content-box'; // override notebook setting of border-box.\n",
       "};\n",
       "\n",
       "mpl.figure.prototype._canvas_extra_style = function (el) {\n",
       "    // this is important to make the div 'focusable\n",
       "    el.setAttribute('tabindex', 0);\n",
       "    // reach out to IPython and tell the keyboard manager to turn it's self\n",
       "    // off when our div gets focus\n",
       "\n",
       "    // location in version 3\n",
       "    if (IPython.notebook.keyboard_manager) {\n",
       "        IPython.notebook.keyboard_manager.register_events(el);\n",
       "    } else {\n",
       "        // location in version 2\n",
       "        IPython.keyboard_manager.register_events(el);\n",
       "    }\n",
       "};\n",
       "\n",
       "mpl.figure.prototype._key_event_extra = function (event, _name) {\n",
       "    var manager = IPython.notebook.keyboard_manager;\n",
       "    if (!manager) {\n",
       "        manager = IPython.keyboard_manager;\n",
       "    }\n",
       "\n",
       "    // Check for shift+enter\n",
       "    if (event.shiftKey && event.which === 13) {\n",
       "        this.canvas_div.blur();\n",
       "        // select the cell after this one\n",
       "        var index = IPython.notebook.find_cell_index(this.cell_info[0]);\n",
       "        IPython.notebook.select(index + 1);\n",
       "    }\n",
       "};\n",
       "\n",
       "mpl.figure.prototype.handle_save = function (fig, _msg) {\n",
       "    fig.ondownload(fig, null);\n",
       "};\n",
       "\n",
       "mpl.find_output_cell = function (html_output) {\n",
       "    // Return the cell and output element which can be found *uniquely* in the notebook.\n",
       "    // Note - this is a bit hacky, but it is done because the \"notebook_saving.Notebook\"\n",
       "    // IPython event is triggered only after the cells have been serialised, which for\n",
       "    // our purposes (turning an active figure into a static one), is too late.\n",
       "    var cells = IPython.notebook.get_cells();\n",
       "    var ncells = cells.length;\n",
       "    for (var i = 0; i < ncells; i++) {\n",
       "        var cell = cells[i];\n",
       "        if (cell.cell_type === 'code') {\n",
       "            for (var j = 0; j < cell.output_area.outputs.length; j++) {\n",
       "                var data = cell.output_area.outputs[j];\n",
       "                if (data.data) {\n",
       "                    // IPython >= 3 moved mimebundle to data attribute of output\n",
       "                    data = data.data;\n",
       "                }\n",
       "                if (data['text/html'] === html_output) {\n",
       "                    return [cell, data, j];\n",
       "                }\n",
       "            }\n",
       "        }\n",
       "    }\n",
       "};\n",
       "\n",
       "// Register the function which deals with the matplotlib target/channel.\n",
       "// The kernel may be null if the page has been refreshed.\n",
       "if (IPython.notebook.kernel !== null) {\n",
       "    IPython.notebook.kernel.comm_manager.register_target(\n",
       "        'matplotlib',\n",
       "        mpl.mpl_figure_comm\n",
       "    );\n",
       "}\n"
      ],
      "text/plain": [
       "<IPython.core.display.Javascript object>"
      ]
     },
     "metadata": {},
     "output_type": "display_data"
    },
    {
     "data": {
      "text/html": [
       "<img src=\"data:image/png;base64,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\" width=\"600\">"
      ],
      "text/plain": [
       "<IPython.core.display.HTML object>"
      ]
     },
     "metadata": {},
     "output_type": "display_data"
    },
    {
     "data": {
      "application/vnd.jupyter.widget-view+json": {
       "model_id": "b0b61b7563c64347877f146d2d70a428",
       "version_major": 2,
       "version_minor": 0
      },
      "text/plain": [
       "VBox(children=(Play(value=0, interval=500), IntSlider(value=0, max=49)))"
      ]
     },
     "metadata": {},
     "output_type": "display_data"
    }
   ],
   "source": [
    "# Initialize the bugs\n",
    "bugs_init2, states_bugs_init2 = ch1_lib.init_bugs(radius, n_bugs, n_steps)\n",
    "# Simulate the bugs\n",
    "states_bugs2 = ch1_lib.simulate_bugs_cyclic_balancing(radius, n_bugs, n_steps, gain, bugs_init2, states_bugs_init2)\n",
    "\n",
    "fig, ax152 = plt.subplots(figsize=custom_figsize)\n",
    "\n",
    "def interactive_bugs2(timestep):\n",
    "    ax152.clear()\n",
    "    ch1_lib.plot_circle_and_bugs(ax152, radius, states_bugs2[timestep['new']])  # Take the new value received from the slider dict\n",
    "    return None\n",
    "\n",
    "# Plot initial configuration\n",
    "ch1_lib.plot_circle_and_bugs(ax152, radius, states_bugs2[0])\n",
    "# Execute widgets\n",
    "ch1_lib.create_widgets_play_slider(fnc=interactive_bugs2, minv=0, maxv=n_steps-1, step=1, play_speed=500)"
   ]
  },
  {
   "cell_type": "code",
   "execution_count": null,
   "metadata": {},
   "outputs": [],
   "source": [
    "states_bugs2"
   ]
  }
 ],
 "metadata": {
  "kernelspec": {
   "display_name": "Python 3 (ipykernel)",
   "language": "python",
   "name": "python3"
  },
  "language_info": {
   "codemirror_mode": {
    "name": "ipython",
    "version": 3
   },
   "file_extension": ".py",
   "mimetype": "text/x-python",
   "name": "python",
   "nbconvert_exporter": "python",
   "pygments_lexer": "ipython3",
   "version": "3.8.11"
  },
  "toc": {
   "base_numbering": 1,
   "nav_menu": {},
   "number_sections": false,
   "sideBar": true,
   "skip_h1_title": false,
   "title_cell": "Table of Contents",
   "title_sidebar": "Contents",
   "toc_cell": true,
   "toc_position": {
    "height": "calc(100% - 180px)",
    "left": "10px",
    "top": "150px",
    "width": "216.594px"
   },
   "toc_section_display": true,
   "toc_window_display": false
  },
  "widgets": {
   "application/vnd.jupyter.widget-state+json": {
    "state": {
     "02121bef571d4f7f9ab0acc635935746": {
      "model_module": "@jupyter-widgets/base",
      "model_module_version": "1.2.0",
      "model_name": "LayoutModel",
      "state": {}
     },
     "03ef88295e5741f6a1a04ce029bca410": {
      "model_module": "@jupyter-widgets/controls",
      "model_module_version": "1.5.0",
      "model_name": "SliderStyleModel",
      "state": {
       "description_width": ""
      }
     },
     "045c7730e401413c8f5bad5335b8aeb9": {
      "model_module": "@jupyter-widgets/controls",
      "model_module_version": "1.5.0",
      "model_name": "VBoxModel",
      "state": {
       "children": [
        "IPY_MODEL_9c8121a5398b4e4597c03e1456723c55",
        "IPY_MODEL_fa95b56b0fd44b3e824addaf8f818743"
       ],
       "layout": "IPY_MODEL_7361cc0455754df4ade6bba8325ddfa6"
      }
     },
     "06151703772e4174a36ff5f72c400d08": {
      "model_module": "@jupyter-widgets/controls",
      "model_module_version": "1.5.0",
      "model_name": "VBoxModel",
      "state": {
       "children": [
        "IPY_MODEL_6700248decd14e06a21b7b224b3e73f7",
        "IPY_MODEL_ccf091fdcfc64566832baf6a16fb315f"
       ],
       "layout": "IPY_MODEL_93614acf6d404dac87f624047f6e0359"
      }
     },
     "068025a3e59b40cfb7c38806fd0828cd": {
      "model_module": "@jupyter-widgets/base",
      "model_module_version": "1.2.0",
      "model_name": "LayoutModel",
      "state": {}
     },
     "06e8ae5d085f47c18a006dc7d92b113d": {
      "model_module": "@jupyter-widgets/controls",
      "model_module_version": "1.5.0",
      "model_name": "IntSliderModel",
      "state": {
       "description": "timestep",
       "layout": "IPY_MODEL_f7c499e22cd9462a9c11a9c8404b1efd",
       "max": 49,
       "style": "IPY_MODEL_c43fc1a4739340c2874d37a292574a7c"
      }
     },
     "0b107b92953b43c1ba749e35db9df80d": {
      "model_module": "@jupyter-widgets/controls",
      "model_module_version": "1.5.0",
      "model_name": "VBoxModel",
      "state": {
       "children": [
        "IPY_MODEL_2bef745b3aee4ccab345966ace7d915a",
        "IPY_MODEL_103970cfd00b4fec84d9af844cfbe914"
       ],
       "layout": "IPY_MODEL_f53067e7b1ca439f864a73f269ea8ae0"
      }
     },
     "0f816e67dfad494a9917ebc40d91b93f": {
      "model_module": "@jupyter-widgets/controls",
      "model_module_version": "1.5.0",
      "model_name": "VBoxModel",
      "state": {
       "children": [
        "IPY_MODEL_9c8121a5398b4e4597c03e1456723c55",
        "IPY_MODEL_fa95b56b0fd44b3e824addaf8f818743"
       ],
       "layout": "IPY_MODEL_950a07a98b5d40cfb944ea9e8315a448"
      }
     },
     "0f83cd7ca5c74014b791f65f595cd170": {
      "model_module": "@jupyter-widgets/controls",
      "model_module_version": "1.5.0",
      "model_name": "VBoxModel",
      "state": {
       "children": [
        "IPY_MODEL_427217b5d78c4fb384266cc363f14ad6",
        "IPY_MODEL_3ca6e897af0d44fc8aeff15784fb5048"
       ],
       "layout": "IPY_MODEL_13946dadbfc44ebb8fe4224bc051967c"
      }
     },
     "0ff9089ee50d469c82a3834535b0119b": {
      "model_module": "@jupyter-widgets/controls",
      "model_module_version": "1.5.0",
      "model_name": "VBoxModel",
      "state": {
       "children": [
        "IPY_MODEL_667ebb20982543dda4a9c01446b50767",
        "IPY_MODEL_8a95318deca84f4b9d6323a85947a163"
       ],
       "layout": "IPY_MODEL_a3ecae38db0e4212b517c09cc99fc435"
      }
     },
     "103970cfd00b4fec84d9af844cfbe914": {
      "model_module": "@jupyter-widgets/controls",
      "model_module_version": "1.5.0",
      "model_name": "IntSliderModel",
      "state": {
       "layout": "IPY_MODEL_6edd9f1443584ec6ac3f3d32e7eb3078",
       "max": 49,
       "min": 1,
       "style": "IPY_MODEL_d84b849a8de5415bbccbcd40878e0e51",
       "value": 100
      }
     },
     "12a763f92a0d4497a142d57b6919b67c": {
      "model_module": "@jupyter-widgets/controls",
      "model_module_version": "1.5.0",
      "model_name": "IntSliderModel",
      "state": {
       "layout": "IPY_MODEL_8d82cc9619ec46aabbc8abcf50022f91",
       "max": 49,
       "min": 1,
       "style": "IPY_MODEL_184edeee36114b459cdb745a49081665",
       "value": 100
      }
     },
     "12f775ec25bd47a78d5e0af100a6c648": {
      "model_module": "@jupyter-widgets/controls",
      "model_module_version": "1.5.0",
      "model_name": "VBoxModel",
      "state": {
       "_dom_classes": [
        "widget-interact"
       ],
       "children": [
        "IPY_MODEL_ec331978ce9b4f4c9a0f00578b7a4ef7",
        "IPY_MODEL_6b62c56b687b42a3816972ac64aeb4cf"
       ],
       "layout": "IPY_MODEL_f19ae5f338ae4e2fa7925f6745488878"
      }
     },
     "13946dadbfc44ebb8fe4224bc051967c": {
      "model_module": "@jupyter-widgets/base",
      "model_module_version": "1.2.0",
      "model_name": "LayoutModel",
      "state": {}
     },
     "141ae15175be4e79b4a78a02b62b3a54": {
      "model_module": "@jupyter-widgets/controls",
      "model_module_version": "1.5.0",
      "model_name": "SliderStyleModel",
      "state": {
       "description_width": ""
      }
     },
     "15fc20cf216542739f628e4612fc623e": {
      "model_module": "@jupyter-widgets/controls",
      "model_module_version": "1.5.0",
      "model_name": "DescriptionStyleModel",
      "state": {
       "description_width": ""
      }
     },
     "167104bfe3af4bfb882bdcef8a6b33df": {
      "model_module": "@jupyter-widgets/controls",
      "model_module_version": "1.5.0",
      "model_name": "DescriptionStyleModel",
      "state": {
       "description_width": ""
      }
     },
     "16a59263c5e04a39a9b9c919ed17b77a": {
      "model_module": "@jupyter-widgets/base",
      "model_module_version": "1.2.0",
      "model_name": "LayoutModel",
      "state": {}
     },
     "17c12b8c568d435a939ae29c06429066": {
      "model_module": "@jupyter-widgets/base",
      "model_module_version": "1.2.0",
      "model_name": "LayoutModel",
      "state": {}
     },
     "184edeee36114b459cdb745a49081665": {
      "model_module": "@jupyter-widgets/controls",
      "model_module_version": "1.5.0",
      "model_name": "SliderStyleModel",
      "state": {
       "description_width": ""
      }
     },
     "19c7075413ee4ea5a695552d6aea214a": {
      "model_module": "@jupyter-widgets/controls",
      "model_module_version": "1.5.0",
      "model_name": "SliderStyleModel",
      "state": {
       "description_width": ""
      }
     },
     "1b7e931fe23045c385e1713b98f6b02c": {
      "model_module": "@jupyter-widgets/controls",
      "model_module_version": "1.5.0",
      "model_name": "DescriptionStyleModel",
      "state": {
       "description_width": ""
      }
     },
     "1bd87a02e14c4f30858fda5aa273fef4": {
      "model_module": "@jupyter-widgets/base",
      "model_module_version": "1.2.0",
      "model_name": "LayoutModel",
      "state": {}
     },
     "1d0e6f7851b440a38216ba404f1d3947": {
      "model_module": "@jupyter-widgets/controls",
      "model_module_version": "1.5.0",
      "model_name": "VBoxModel",
      "state": {
       "children": [
        "IPY_MODEL_6700248decd14e06a21b7b224b3e73f7",
        "IPY_MODEL_ccf091fdcfc64566832baf6a16fb315f"
       ],
       "layout": "IPY_MODEL_cdd6ad3dacdb4adbae85a83f5617f305"
      }
     },
     "1dbd7e6b9a3b449f9cb85e1f4edd3925": {
      "model_module": "@jupyter-widgets/controls",
      "model_module_version": "1.5.0",
      "model_name": "SliderStyleModel",
      "state": {
       "description_width": ""
      }
     },
     "1e89ae55debb4883af3c801621bdb40d": {
      "model_module": "@jupyter-widgets/controls",
      "model_module_version": "1.5.0",
      "model_name": "LinkModel",
      "state": {
       "source": [
        "IPY_MODEL_90a05fc2c083438ab03437482b6cd390",
        "value"
       ],
       "target": [
        "IPY_MODEL_4300d005e9854e9c9f36e64469bb7e11",
        "value"
       ]
      }
     },
     "1e9eb89a4759436cb7471709f8f202bd": {
      "model_module": "@jupyter-widgets/base",
      "model_module_version": "1.2.0",
      "model_name": "LayoutModel",
      "state": {}
     },
     "203eb09e10a94e649b2db810695e52f4": {
      "model_module": "@jupyter-widgets/controls",
      "model_module_version": "1.5.0",
      "model_name": "IntSliderModel",
      "state": {
       "layout": "IPY_MODEL_a0a444805e164a2a95b989bec7773833",
       "max": 14,
       "min": 1,
       "style": "IPY_MODEL_d5590832e7ee4ecdac5e08ee239b1e06",
       "value": 18
      }
     },
     "21ecb99c79d5431c81b986020b98c5ae": {
      "model_module": "@jupyter-widgets/controls",
      "model_module_version": "1.5.0",
      "model_name": "PlayModel",
      "state": {
       "interval": 500,
       "layout": "IPY_MODEL_afb77d4fe5544a23a257d27ef31d2225",
       "min": 1,
       "style": "IPY_MODEL_6b6622b276394a4d8fb95df28235b4e9",
       "value": 1
      }
     },
     "22c0f9d8e8aa4b44bf58133e2519e9f4": {
      "model_module": "@jupyter-widgets/controls",
      "model_module_version": "1.5.0",
      "model_name": "DescriptionStyleModel",
      "state": {
       "description_width": ""
      }
     },
     "22fbdf4a146f432e8ed6f2d2f2b47623": {
      "model_module": "@jupyter-widgets/controls",
      "model_module_version": "1.5.0",
      "model_name": "VBoxModel",
      "state": {
       "children": [
        "IPY_MODEL_d725c694d5c0448f8366761bd4a6f225",
        "IPY_MODEL_203eb09e10a94e649b2db810695e52f4"
       ],
       "layout": "IPY_MODEL_7e6a8015328b4cae8dd3b2e236ba711a"
      }
     },
     "233daea90d564f278c2d3730af426524": {
      "model_module": "@jupyter-widgets/base",
      "model_module_version": "1.2.0",
      "model_name": "LayoutModel",
      "state": {}
     },
     "2608cf66a19442a58042bda6c4bfaa2f": {
      "model_module": "@jupyter-widgets/base",
      "model_module_version": "1.2.0",
      "model_name": "LayoutModel",
      "state": {}
     },
     "26b5b85a1d67469cabd8c02aff573354": {
      "model_module": "@jupyter-widgets/controls",
      "model_module_version": "1.5.0",
      "model_name": "DescriptionStyleModel",
      "state": {
       "description_width": ""
      }
     },
     "26de9692ef7046dbb933f0fb8cf81fc4": {
      "model_module": "@jupyter-widgets/base",
      "model_module_version": "1.2.0",
      "model_name": "LayoutModel",
      "state": {}
     },
     "27503e5d3b8e446091c7e5554a0ff40a": {
      "model_module": "@jupyter-widgets/controls",
      "model_module_version": "1.5.0",
      "model_name": "VBoxModel",
      "state": {
       "children": [
        "IPY_MODEL_851f861e11dc4f5aa8c7da29a7f1458d",
        "IPY_MODEL_c554c48bdf014edcb2930035ca2b0601"
       ],
       "layout": "IPY_MODEL_4310c342c432485a94c0ce1448a883c6"
      }
     },
     "27b3bfbcd87d4d9fb00b16c205aded4e": {
      "model_module": "@jupyter-widgets/controls",
      "model_module_version": "1.5.0",
      "model_name": "LinkModel",
      "state": {
       "source": [
        "IPY_MODEL_667ebb20982543dda4a9c01446b50767",
        "value"
       ],
       "target": [
        "IPY_MODEL_8a95318deca84f4b9d6323a85947a163",
        "value"
       ]
      }
     },
     "282dee2ecb554bd1a354e4849acfb5c2": {
      "model_module": "@jupyter-widgets/controls",
      "model_module_version": "1.5.0",
      "model_name": "VBoxModel",
      "state": {
       "children": [
        "IPY_MODEL_90a05fc2c083438ab03437482b6cd390",
        "IPY_MODEL_4300d005e9854e9c9f36e64469bb7e11"
       ],
       "layout": "IPY_MODEL_1bd87a02e14c4f30858fda5aa273fef4"
      }
     },
     "290e4105af4d4269a4dc24a7932e875c": {
      "model_module": "@jupyter-widgets/controls",
      "model_module_version": "1.5.0",
      "model_name": "VBoxModel",
      "state": {
       "children": [
        "IPY_MODEL_427217b5d78c4fb384266cc363f14ad6",
        "IPY_MODEL_3ca6e897af0d44fc8aeff15784fb5048"
       ],
       "layout": "IPY_MODEL_17c12b8c568d435a939ae29c06429066"
      }
     },
     "2bef745b3aee4ccab345966ace7d915a": {
      "model_module": "@jupyter-widgets/controls",
      "model_module_version": "1.5.0",
      "model_name": "PlayModel",
      "state": {
       "interval": 500,
       "layout": "IPY_MODEL_c38b76a7a5a749e4ab08610a621c5467",
       "min": 1,
       "style": "IPY_MODEL_167104bfe3af4bfb882bdcef8a6b33df",
       "value": 100
      }
     },
     "2e458c8cd0de4ace9d38b7db7955fb8d": {
      "model_module": "@jupyter-widgets/controls",
      "model_module_version": "1.5.0",
      "model_name": "VBoxModel",
      "state": {
       "children": [
        "IPY_MODEL_5ebb17b54836406288bda29694194d41",
        "IPY_MODEL_cc6e3ce1e1ee40cfbe3cc0c29b28f2d4"
       ],
       "layout": "IPY_MODEL_f1787ab740f345d19f568d7ac5fdb432"
      }
     },
     "2f50e5d4751f4361be0daf3846627ca6": {
      "model_module": "@jupyter-widgets/controls",
      "model_module_version": "1.5.0",
      "model_name": "DescriptionStyleModel",
      "state": {
       "description_width": ""
      }
     },
     "304d9c4ed2464c9cb9f29bc0f24046d4": {
      "model_module": "@jupyter-widgets/controls",
      "model_module_version": "1.5.0",
      "model_name": "VBoxModel",
      "state": {
       "children": [
        "IPY_MODEL_2bef745b3aee4ccab345966ace7d915a",
        "IPY_MODEL_103970cfd00b4fec84d9af844cfbe914"
       ],
       "layout": "IPY_MODEL_a8369add432f40799ef45a0674bdc91a"
      }
     },
     "307782a04e72463bb42115181b2a31b1": {
      "model_module": "@jupyter-widgets/base",
      "model_module_version": "1.2.0",
      "model_name": "LayoutModel",
      "state": {}
     },
     "311429386125447c94374694795cade9": {
      "model_module": "@jupyter-widgets/output",
      "model_module_version": "1.0.0",
      "model_name": "OutputModel",
      "state": {
       "layout": "IPY_MODEL_c6c5d281b57a49bbbf8828c204062eb3"
      }
     },
     "344d20e788ee46c99d560f7a296519c5": {
      "model_module": "@jupyter-widgets/controls",
      "model_module_version": "1.5.0",
      "model_name": "LinkModel",
      "state": {
       "source": [
        "IPY_MODEL_c00642c3bdda4a8e907371b822f87d27",
        "value"
       ],
       "target": [
        "IPY_MODEL_867a76f01d024c2696c98a2a2a27b95e",
        "value"
       ]
      }
     },
     "34ab7cfa385e4cddbfd6d923309c4b6c": {
      "model_module": "@jupyter-widgets/controls",
      "model_module_version": "1.5.0",
      "model_name": "LinkModel",
      "state": {
       "source": [
        "IPY_MODEL_b9f1f86df304477296d6b798cf50aa02",
        "value"
       ],
       "target": [
        "IPY_MODEL_35d7209a6a654d95996f859fbcd79675",
        "value"
       ]
      }
     },
     "35d7209a6a654d95996f859fbcd79675": {
      "model_module": "@jupyter-widgets/controls",
      "model_module_version": "1.5.0",
      "model_name": "IntSliderModel",
      "state": {
       "layout": "IPY_MODEL_d2472da3b0f9497fb556e473e03a404a",
       "max": 14,
       "min": 1,
       "style": "IPY_MODEL_622c22f17bd143988265909fee0b8f76",
       "value": 100
      }
     },
     "36b73045608e43cfa67cef869d764404": {
      "model_module": "@jupyter-widgets/controls",
      "model_module_version": "1.5.0",
      "model_name": "SliderStyleModel",
      "state": {
       "description_width": ""
      }
     },
     "36d5799c6aed468fa996960aaa7c7493": {
      "model_module": "@jupyter-widgets/controls",
      "model_module_version": "1.5.0",
      "model_name": "PlayModel",
      "state": {
       "interval": 2000,
       "layout": "IPY_MODEL_4dc172ba08444e7899e368dac99600fc",
       "min": 1,
       "style": "IPY_MODEL_49200a9bcc8b4f2991e36b2cc16775ce",
       "value": 1
      }
     },
     "3a46882bf81640528f95ed7a4f6b5af8": {
      "model_module": "@jupyter-widgets/controls",
      "model_module_version": "1.5.0",
      "model_name": "VBoxModel",
      "state": {
       "children": [
        "IPY_MODEL_b9f1f86df304477296d6b798cf50aa02",
        "IPY_MODEL_35d7209a6a654d95996f859fbcd79675"
       ],
       "layout": "IPY_MODEL_1e9eb89a4759436cb7471709f8f202bd"
      }
     },
     "3aa8448a80c642f28a688e3ad9db3192": {
      "model_module": "@jupyter-widgets/controls",
      "model_module_version": "1.5.0",
      "model_name": "IntSliderModel",
      "state": {
       "layout": "IPY_MODEL_f5557fedda1c41a59c6db82bfc5f7ea4",
       "max": 14,
       "min": 1,
       "style": "IPY_MODEL_9653825182d74a84b405c8a35645121c",
       "value": 1
      }
     },
     "3ca6e897af0d44fc8aeff15784fb5048": {
      "model_module": "@jupyter-widgets/controls",
      "model_module_version": "1.5.0",
      "model_name": "IntSliderModel",
      "state": {
       "layout": "IPY_MODEL_f75e937f05a44d13b1bc95852a1f990b",
       "max": 14,
       "min": 1,
       "style": "IPY_MODEL_141ae15175be4e79b4a78a02b62b3a54",
       "value": 6
      }
     },
     "40c4a86eca9c4225900b431fb01c531e": {
      "model_module": "@jupyter-widgets/base",
      "model_module_version": "1.2.0",
      "model_name": "LayoutModel",
      "state": {}
     },
     "427217b5d78c4fb384266cc363f14ad6": {
      "model_module": "@jupyter-widgets/controls",
      "model_module_version": "1.5.0",
      "model_name": "PlayModel",
      "state": {
       "interval": 1000,
       "layout": "IPY_MODEL_7bdf3f11632b4214bbb5130ed78a8544",
       "min": 1,
       "style": "IPY_MODEL_4f3bfafdad1f41d591d0a59558c07f64",
       "value": 6
      }
     },
     "42f40d1570454ce3ac8d1327f15eebea": {
      "model_module": "@jupyter-widgets/controls",
      "model_module_version": "1.5.0",
      "model_name": "IntSliderModel",
      "state": {
       "layout": "IPY_MODEL_4deede4126ba43239617279cb8730aeb",
       "min": 1,
       "style": "IPY_MODEL_d168d280cda94e9da7198d98c30ef6e1",
       "value": 1
      }
     },
     "4300d005e9854e9c9f36e64469bb7e11": {
      "model_module": "@jupyter-widgets/controls",
      "model_module_version": "1.5.0",
      "model_name": "IntSliderModel",
      "state": {
       "layout": "IPY_MODEL_8c1fe06f34674d80bf243eeb0b58692c",
       "max": 49,
       "min": 1,
       "style": "IPY_MODEL_1dbd7e6b9a3b449f9cb85e1f4edd3925",
       "value": 9
      }
     },
     "4310c342c432485a94c0ce1448a883c6": {
      "model_module": "@jupyter-widgets/base",
      "model_module_version": "1.2.0",
      "model_name": "LayoutModel",
      "state": {}
     },
     "439d0a85dbfd480a826512277908dd1d": {
      "model_module": "@jupyter-widgets/controls",
      "model_module_version": "1.5.0",
      "model_name": "VBoxModel",
      "state": {
       "_dom_classes": [
        "widget-interact"
       ],
       "children": [
        "IPY_MODEL_06e8ae5d085f47c18a006dc7d92b113d",
        "IPY_MODEL_83e1fcb083694700b5da0d2fb35c57d5"
       ],
       "layout": "IPY_MODEL_9fd0bbf009e04b8ea046b4a95d33e2ee"
      }
     },
     "47a6440af436474a8b99d53d8fc736db": {
      "model_module": "@jupyter-widgets/controls",
      "model_module_version": "1.5.0",
      "model_name": "LinkModel",
      "state": {
       "source": [
        "IPY_MODEL_74bfcbf937ec4008884662d73c9073fa",
        "value"
       ],
       "target": [
        "IPY_MODEL_a32c562f1f4a443e9494c6e851d757a3",
        "value"
       ]
      }
     },
     "4804809a56dc4725bbc93e8848a14bc3": {
      "model_module": "@jupyter-widgets/controls",
      "model_module_version": "1.5.0",
      "model_name": "VBoxModel",
      "state": {
       "children": [
        "IPY_MODEL_c00642c3bdda4a8e907371b822f87d27",
        "IPY_MODEL_867a76f01d024c2696c98a2a2a27b95e"
       ],
       "layout": "IPY_MODEL_c9bf513cb5ef4605af748b1f15b47fba"
      }
     },
     "49200a9bcc8b4f2991e36b2cc16775ce": {
      "model_module": "@jupyter-widgets/controls",
      "model_module_version": "1.5.0",
      "model_name": "DescriptionStyleModel",
      "state": {
       "description_width": ""
      }
     },
     "4a5dce6e78874aa0ac1f68e4d2ccbfde": {
      "model_module": "@jupyter-widgets/base",
      "model_module_version": "1.2.0",
      "model_name": "LayoutModel",
      "state": {}
     },
     "4b8bf88790054f6a884d11f339c63a40": {
      "model_module": "@jupyter-widgets/base",
      "model_module_version": "1.2.0",
      "model_name": "LayoutModel",
      "state": {}
     },
     "4dc172ba08444e7899e368dac99600fc": {
      "model_module": "@jupyter-widgets/base",
      "model_module_version": "1.2.0",
      "model_name": "LayoutModel",
      "state": {}
     },
     "4deede4126ba43239617279cb8730aeb": {
      "model_module": "@jupyter-widgets/base",
      "model_module_version": "1.2.0",
      "model_name": "LayoutModel",
      "state": {}
     },
     "4ea0a0aef3b84f73b575b2be36c405f5": {
      "model_module": "@jupyter-widgets/controls",
      "model_module_version": "1.5.0",
      "model_name": "SliderStyleModel",
      "state": {
       "description_width": ""
      }
     },
     "4f3bfafdad1f41d591d0a59558c07f64": {
      "model_module": "@jupyter-widgets/controls",
      "model_module_version": "1.5.0",
      "model_name": "DescriptionStyleModel",
      "state": {
       "description_width": ""
      }
     },
     "501caf2c6da94a3391a53306e82e7ab4": {
      "model_module": "@jupyter-widgets/controls",
      "model_module_version": "1.5.0",
      "model_name": "SliderStyleModel",
      "state": {
       "description_width": ""
      }
     },
     "502691d1993c4475a9fc7fd435b6bb36": {
      "model_module": "@jupyter-widgets/controls",
      "model_module_version": "1.5.0",
      "model_name": "DescriptionStyleModel",
      "state": {
       "description_width": ""
      }
     },
     "51380319e5634a94b65d8d708dd6e284": {
      "model_module": "@jupyter-widgets/controls",
      "model_module_version": "1.5.0",
      "model_name": "VBoxModel",
      "state": {
       "_dom_classes": [
        "widget-interact"
       ],
       "children": [
        "IPY_MODEL_a69c205ab0f2434daea9ed20c25bbbcf",
        "IPY_MODEL_311429386125447c94374694795cade9"
       ],
       "layout": "IPY_MODEL_b8ace946840a44929e21f9aa15b7cdc0"
      }
     },
     "54b89a7b641c436bb2617f1a6278b314": {
      "model_module": "@jupyter-widgets/controls",
      "model_module_version": "1.5.0",
      "model_name": "DescriptionStyleModel",
      "state": {
       "description_width": ""
      }
     },
     "56c87032b19f4f65873fa3f5b2265e6a": {
      "model_module": "@jupyter-widgets/base",
      "model_module_version": "1.2.0",
      "model_name": "LayoutModel",
      "state": {}
     },
     "5928e8ae503540868d12d94fedd71dda": {
      "model_module": "@jupyter-widgets/base",
      "model_module_version": "1.2.0",
      "model_name": "LayoutModel",
      "state": {}
     },
     "5a1ae91e11004d5c913ee2aee34225dc": {
      "model_module": "@jupyter-widgets/base",
      "model_module_version": "1.2.0",
      "model_name": "LayoutModel",
      "state": {}
     },
     "5a2ec4c5856946479694ca27f75b98c2": {
      "model_module": "@jupyter-widgets/base",
      "model_module_version": "1.2.0",
      "model_name": "LayoutModel",
      "state": {}
     },
     "5a5ab206c5e44ccc9bb66edee98c1169": {
      "model_module": "@jupyter-widgets/controls",
      "model_module_version": "1.5.0",
      "model_name": "SliderStyleModel",
      "state": {
       "description_width": ""
      }
     },
     "5abe6261e6f24057ae741ec67143c215": {
      "model_module": "@jupyter-widgets/base",
      "model_module_version": "1.2.0",
      "model_name": "LayoutModel",
      "state": {}
     },
     "5ae2e02dc8e0433cac881948dbe65b01": {
      "model_module": "@jupyter-widgets/base",
      "model_module_version": "1.2.0",
      "model_name": "LayoutModel",
      "state": {}
     },
     "5b0a068a7e0d4fdfb9822006d4782d4b": {
      "model_module": "@jupyter-widgets/controls",
      "model_module_version": "1.5.0",
      "model_name": "LinkModel",
      "state": {
       "source": [
        "IPY_MODEL_427217b5d78c4fb384266cc363f14ad6",
        "value"
       ],
       "target": [
        "IPY_MODEL_3ca6e897af0d44fc8aeff15784fb5048",
        "value"
       ]
      }
     },
     "5cd80f4b81bf4cf5a78d708d202f163a": {
      "model_module": "@jupyter-widgets/controls",
      "model_module_version": "1.5.0",
      "model_name": "DescriptionStyleModel",
      "state": {
       "description_width": ""
      }
     },
     "5ebb17b54836406288bda29694194d41": {
      "model_module": "@jupyter-widgets/controls",
      "model_module_version": "1.5.0",
      "model_name": "PlayModel",
      "state": {
       "interval": 500,
       "layout": "IPY_MODEL_8d58ed4f8add41cb9bba8301e406c487",
       "min": 1,
       "style": "IPY_MODEL_9ffde5664969422a96f31bcd82f6ca4d",
       "value": 1
      }
     },
     "60379ec4e7a047e38284df72a4874b42": {
      "model_module": "@jupyter-widgets/base",
      "model_module_version": "1.2.0",
      "model_name": "LayoutModel",
      "state": {}
     },
     "622c22f17bd143988265909fee0b8f76": {
      "model_module": "@jupyter-widgets/controls",
      "model_module_version": "1.5.0",
      "model_name": "SliderStyleModel",
      "state": {
       "description_width": ""
      }
     },
     "646c9e9396c7447082a3d977864c5776": {
      "model_module": "@jupyter-widgets/controls",
      "model_module_version": "1.5.0",
      "model_name": "LinkModel",
      "state": {
       "source": [
        "IPY_MODEL_2bef745b3aee4ccab345966ace7d915a",
        "value"
       ],
       "target": [
        "IPY_MODEL_103970cfd00b4fec84d9af844cfbe914",
        "value"
       ]
      }
     },
     "64c4e1853978468eaea15d70b2a4c8bf": {
      "model_module": "@jupyter-widgets/controls",
      "model_module_version": "1.5.0",
      "model_name": "IntSliderModel",
      "state": {
       "layout": "IPY_MODEL_56c87032b19f4f65873fa3f5b2265e6a",
       "max": 49,
       "min": 1,
       "style": "IPY_MODEL_501caf2c6da94a3391a53306e82e7ab4",
       "value": 1
      }
     },
     "651a568f9cf5497a947403580244ba47": {
      "model_module": "@jupyter-widgets/controls",
      "model_module_version": "1.5.0",
      "model_name": "IntSliderModel",
      "state": {
       "layout": "IPY_MODEL_7a72ff23762b4e76953d9a0d1b07348b",
       "max": 49,
       "min": 1,
       "style": "IPY_MODEL_4ea0a0aef3b84f73b575b2be36c405f5",
       "value": 5
      }
     },
     "667ebb20982543dda4a9c01446b50767": {
      "model_module": "@jupyter-widgets/controls",
      "model_module_version": "1.5.0",
      "model_name": "PlayModel",
      "state": {
       "interval": 49,
       "layout": "IPY_MODEL_6f871cdab1da4df3a7a0354259ed7e97",
       "min": 1,
       "style": "IPY_MODEL_67d99c6f95664024a76bae80d4bfe18a",
       "value": 6
      }
     },
     "6700248decd14e06a21b7b224b3e73f7": {
      "model_module": "@jupyter-widgets/controls",
      "model_module_version": "1.5.0",
      "model_name": "PlayModel",
      "state": {
       "interval": 500,
       "layout": "IPY_MODEL_b478e1091a7c4c1ba5cfbcda34bce80d",
       "min": 1,
       "style": "IPY_MODEL_71977aa35c6544c1b17a88f0ec205028",
       "value": 14
      }
     },
     "6731ef4edcad49b4873c321b63349c72": {
      "model_module": "@jupyter-widgets/controls",
      "model_module_version": "1.5.0",
      "model_name": "VBoxModel",
      "state": {
       "children": [
        "IPY_MODEL_b9f1f86df304477296d6b798cf50aa02",
        "IPY_MODEL_35d7209a6a654d95996f859fbcd79675"
       ],
       "layout": "IPY_MODEL_cf511e1b1cd448ccb440810e7da13bcc"
      }
     },
     "67d99c6f95664024a76bae80d4bfe18a": {
      "model_module": "@jupyter-widgets/controls",
      "model_module_version": "1.5.0",
      "model_name": "DescriptionStyleModel",
      "state": {
       "description_width": ""
      }
     },
     "69ea8f19d79c428fa1dcd2e01fd478c5": {
      "model_module": "@jupyter-widgets/controls",
      "model_module_version": "1.5.0",
      "model_name": "PlayModel",
      "state": {
       "interval": 500,
       "layout": "IPY_MODEL_da194ba0933b48529f5be949ca406377",
       "min": 1,
       "style": "IPY_MODEL_22c0f9d8e8aa4b44bf58133e2519e9f4",
       "value": 1
      }
     },
     "6a89089153c24c8687faa720f2d84b93": {
      "model_module": "@jupyter-widgets/base",
      "model_module_version": "1.2.0",
      "model_name": "LayoutModel",
      "state": {}
     },
     "6b62c56b687b42a3816972ac64aeb4cf": {
      "model_module": "@jupyter-widgets/output",
      "model_module_version": "1.0.0",
      "model_name": "OutputModel",
      "state": {
       "layout": "IPY_MODEL_cdbccef4e1e14fea9d836a2c13bea84f"
      }
     },
     "6b6622b276394a4d8fb95df28235b4e9": {
      "model_module": "@jupyter-widgets/controls",
      "model_module_version": "1.5.0",
      "model_name": "DescriptionStyleModel",
      "state": {
       "description_width": ""
      }
     },
     "6ca60fed3e8548cfadb18875da255bb3": {
      "model_module": "@jupyter-widgets/controls",
      "model_module_version": "1.5.0",
      "model_name": "PlayModel",
      "state": {
       "interval": 500,
       "layout": "IPY_MODEL_c159d03f63624620957122f77213309d",
       "min": 1,
       "style": "IPY_MODEL_96c0b055b4c0452db8913426f0a47ba4",
       "value": 17
      }
     },
     "6cda058abdd34538b4b254bbbc7c82a0": {
      "model_module": "@jupyter-widgets/controls",
      "model_module_version": "1.5.0",
      "model_name": "SliderStyleModel",
      "state": {
       "description_width": ""
      }
     },
     "6edd9f1443584ec6ac3f3d32e7eb3078": {
      "model_module": "@jupyter-widgets/base",
      "model_module_version": "1.2.0",
      "model_name": "LayoutModel",
      "state": {}
     },
     "6f871cdab1da4df3a7a0354259ed7e97": {
      "model_module": "@jupyter-widgets/base",
      "model_module_version": "1.2.0",
      "model_name": "LayoutModel",
      "state": {}
     },
     "707bcc001d8f4c6c8f8893768c11ece7": {
      "model_module": "@jupyter-widgets/controls",
      "model_module_version": "1.5.0",
      "model_name": "LinkModel",
      "state": {
       "source": [
        "IPY_MODEL_36d5799c6aed468fa996960aaa7c7493",
        "value"
       ],
       "target": [
        "IPY_MODEL_42f40d1570454ce3ac8d1327f15eebea",
        "value"
       ]
      }
     },
     "71977aa35c6544c1b17a88f0ec205028": {
      "model_module": "@jupyter-widgets/controls",
      "model_module_version": "1.5.0",
      "model_name": "DescriptionStyleModel",
      "state": {
       "description_width": ""
      }
     },
     "7361cc0455754df4ade6bba8325ddfa6": {
      "model_module": "@jupyter-widgets/base",
      "model_module_version": "1.2.0",
      "model_name": "LayoutModel",
      "state": {}
     },
     "738781321d7b4de0b8f69d8a94471d77": {
      "model_module": "@jupyter-widgets/controls",
      "model_module_version": "1.5.0",
      "model_name": "VBoxModel",
      "state": {
       "children": [
        "IPY_MODEL_f90ddba3f7404005aa1f43e3ba31f21b",
        "IPY_MODEL_9cc1625077584709a88770648f8e2335"
       ],
       "layout": "IPY_MODEL_f4c053ae387a4777accfcb3ca72a2bab"
      }
     },
     "74bfcbf937ec4008884662d73c9073fa": {
      "model_module": "@jupyter-widgets/controls",
      "model_module_version": "1.5.0",
      "model_name": "PlayModel",
      "state": {
       "interval": 500,
       "layout": "IPY_MODEL_fd5e5a4ca31e410bb0d3cb46473306ce",
       "min": 1,
       "style": "IPY_MODEL_f2e87c45ddfa4aaabcd8d4e1e623b500",
       "value": 1
      }
     },
     "75a4851cbe7a4f4e97c526e46ef913f1": {
      "model_module": "@jupyter-widgets/base",
      "model_module_version": "1.2.0",
      "model_name": "LayoutModel",
      "state": {}
     },
     "75fb258a84f545e7949c271c8655e957": {
      "model_module": "@jupyter-widgets/base",
      "model_module_version": "1.2.0",
      "model_name": "LayoutModel",
      "state": {}
     },
     "772c60f851674776bdf21204aed3ba25": {
      "model_module": "@jupyter-widgets/controls",
      "model_module_version": "1.5.0",
      "model_name": "VBoxModel",
      "state": {
       "children": [
        "IPY_MODEL_b46a869eb8864d708eab11957f3deae6",
        "IPY_MODEL_88d5181e5a014d8c9817d1aa061b97a1"
       ],
       "layout": "IPY_MODEL_ee36997568954e41885387cabbe29d6a"
      }
     },
     "7a72ff23762b4e76953d9a0d1b07348b": {
      "model_module": "@jupyter-widgets/base",
      "model_module_version": "1.2.0",
      "model_name": "LayoutModel",
      "state": {}
     },
     "7bdf3f11632b4214bbb5130ed78a8544": {
      "model_module": "@jupyter-widgets/base",
      "model_module_version": "1.2.0",
      "model_name": "LayoutModel",
      "state": {}
     },
     "7e6a8015328b4cae8dd3b2e236ba711a": {
      "model_module": "@jupyter-widgets/base",
      "model_module_version": "1.2.0",
      "model_name": "LayoutModel",
      "state": {}
     },
     "7ea9d8f6b9f2404488df9cbb4929a7c8": {
      "model_module": "@jupyter-widgets/controls",
      "model_module_version": "1.5.0",
      "model_name": "IntSliderModel",
      "state": {
       "layout": "IPY_MODEL_8f8540b787b34bda920ba242361735a1",
       "max": 49,
       "min": 1,
       "style": "IPY_MODEL_dfe94442f7284d8a8edabc32aa688c57",
       "value": 1
      }
     },
     "82c5aa8c6bd141fb8451abdd39bb7256": {
      "model_module": "@jupyter-widgets/controls",
      "model_module_version": "1.5.0",
      "model_name": "LinkModel",
      "state": {
       "source": [
        "IPY_MODEL_851f861e11dc4f5aa8c7da29a7f1458d",
        "value"
       ],
       "target": [
        "IPY_MODEL_c554c48bdf014edcb2930035ca2b0601",
        "value"
       ]
      }
     },
     "83e1fcb083694700b5da0d2fb35c57d5": {
      "model_module": "@jupyter-widgets/output",
      "model_module_version": "1.0.0",
      "model_name": "OutputModel",
      "state": {
       "layout": "IPY_MODEL_9e6c1af01f4d423b86b824752f7d7a74"
      }
     },
     "84447aeff6bb4fe4a2622d474d354b2a": {
      "model_module": "@jupyter-widgets/base",
      "model_module_version": "1.2.0",
      "model_name": "LayoutModel",
      "state": {}
     },
     "847c5b67b961413f93102cf5bef9cdf5": {
      "model_module": "@jupyter-widgets/base",
      "model_module_version": "1.2.0",
      "model_name": "LayoutModel",
      "state": {}
     },
     "851f861e11dc4f5aa8c7da29a7f1458d": {
      "model_module": "@jupyter-widgets/controls",
      "model_module_version": "1.5.0",
      "model_name": "PlayModel",
      "state": {
       "interval": 300,
       "layout": "IPY_MODEL_4a5dce6e78874aa0ac1f68e4d2ccbfde",
       "min": 1,
       "style": "IPY_MODEL_502691d1993c4475a9fc7fd435b6bb36",
       "value": 100
      }
     },
     "867a76f01d024c2696c98a2a2a27b95e": {
      "model_module": "@jupyter-widgets/controls",
      "model_module_version": "1.5.0",
      "model_name": "IntSliderModel",
      "state": {
       "layout": "IPY_MODEL_16a59263c5e04a39a9b9c919ed17b77a",
       "max": 14,
       "min": 1,
       "style": "IPY_MODEL_d413792c29254e94bd8010d580e36bbf",
       "value": 1
      }
     },
     "88d5181e5a014d8c9817d1aa061b97a1": {
      "model_module": "@jupyter-widgets/controls",
      "model_module_version": "1.5.0",
      "model_name": "IntSliderModel",
      "state": {
       "layout": "IPY_MODEL_40c4a86eca9c4225900b431fb01c531e",
       "max": 49,
       "min": 1,
       "style": "IPY_MODEL_eee4ba0a606f4d919477b41c220df12f",
       "value": 100
      }
     },
     "88e41cac65b945d2bb7d221e29784c7d": {
      "model_module": "@jupyter-widgets/controls",
      "model_module_version": "1.5.0",
      "model_name": "PlayModel",
      "state": {
       "interval": 300,
       "layout": "IPY_MODEL_2608cf66a19442a58042bda6c4bfaa2f",
       "min": 1,
       "style": "IPY_MODEL_26b5b85a1d67469cabd8c02aff573354",
       "value": 1
      }
     },
     "8a95318deca84f4b9d6323a85947a163": {
      "model_module": "@jupyter-widgets/controls",
      "model_module_version": "1.5.0",
      "model_name": "IntSliderModel",
      "state": {
       "layout": "IPY_MODEL_02121bef571d4f7f9ab0acc635935746",
       "max": 49,
       "min": 1,
       "style": "IPY_MODEL_d6cbc6a88ba94fde830221ea8b6cba5a",
       "value": 6
      }
     },
     "8b70f6762bb841a3819c6c4d38ebdbbf": {
      "model_module": "@jupyter-widgets/controls",
      "model_module_version": "1.5.0",
      "model_name": "LinkModel",
      "state": {
       "source": [
        "IPY_MODEL_69ea8f19d79c428fa1dcd2e01fd478c5",
        "value"
       ],
       "target": [
        "IPY_MODEL_7ea9d8f6b9f2404488df9cbb4929a7c8",
        "value"
       ]
      }
     },
     "8c1fe06f34674d80bf243eeb0b58692c": {
      "model_module": "@jupyter-widgets/base",
      "model_module_version": "1.2.0",
      "model_name": "LayoutModel",
      "state": {}
     },
     "8c4a6c08eecb476a9b9fa5076a94c5cd": {
      "model_module": "@jupyter-widgets/controls",
      "model_module_version": "1.5.0",
      "model_name": "IntSliderModel",
      "state": {
       "layout": "IPY_MODEL_26de9692ef7046dbb933f0fb8cf81fc4",
       "max": 49,
       "min": 1,
       "style": "IPY_MODEL_6cda058abdd34538b4b254bbbc7c82a0",
       "value": 17
      }
     },
     "8d58ed4f8add41cb9bba8301e406c487": {
      "model_module": "@jupyter-widgets/base",
      "model_module_version": "1.2.0",
      "model_name": "LayoutModel",
      "state": {}
     },
     "8d82cc9619ec46aabbc8abcf50022f91": {
      "model_module": "@jupyter-widgets/base",
      "model_module_version": "1.2.0",
      "model_name": "LayoutModel",
      "state": {}
     },
     "8dc3d00c2cd54e218b4bf6fd8ad1b488": {
      "model_module": "@jupyter-widgets/controls",
      "model_module_version": "1.5.0",
      "model_name": "DescriptionStyleModel",
      "state": {
       "description_width": ""
      }
     },
     "8f8540b787b34bda920ba242361735a1": {
      "model_module": "@jupyter-widgets/base",
      "model_module_version": "1.2.0",
      "model_name": "LayoutModel",
      "state": {}
     },
     "8fa7cd03684b413187ea3bb3cbfe75a7": {
      "model_module": "@jupyter-widgets/controls",
      "model_module_version": "1.5.0",
      "model_name": "SliderStyleModel",
      "state": {
       "description_width": ""
      }
     },
     "8fb4b405ac9740eda43e96e28565057f": {
      "model_module": "@jupyter-widgets/controls",
      "model_module_version": "1.5.0",
      "model_name": "LinkModel",
      "state": {
       "source": [
        "IPY_MODEL_d725c694d5c0448f8366761bd4a6f225",
        "value"
       ],
       "target": [
        "IPY_MODEL_203eb09e10a94e649b2db810695e52f4",
        "value"
       ]
      }
     },
     "9009b319cb7b4d59be4a1e362eb07f1a": {
      "model_module": "@jupyter-widgets/base",
      "model_module_version": "1.2.0",
      "model_name": "LayoutModel",
      "state": {}
     },
     "90a05fc2c083438ab03437482b6cd390": {
      "model_module": "@jupyter-widgets/controls",
      "model_module_version": "1.5.0",
      "model_name": "PlayModel",
      "state": {
       "interval": 500,
       "layout": "IPY_MODEL_a949fcfe3777441d94461f287c22be9b",
       "min": 1,
       "style": "IPY_MODEL_e2ed718b0ca24bb8876338c61275874e",
       "value": 9
      }
     },
     "90ce32ee0c8a41b3a151df3e1969ceab": {
      "model_module": "@jupyter-widgets/controls",
      "model_module_version": "1.5.0",
      "model_name": "VBoxModel",
      "state": {
       "children": [
        "IPY_MODEL_b46a869eb8864d708eab11957f3deae6",
        "IPY_MODEL_88d5181e5a014d8c9817d1aa061b97a1"
       ],
       "layout": "IPY_MODEL_9009b319cb7b4d59be4a1e362eb07f1a"
      }
     },
     "93614acf6d404dac87f624047f6e0359": {
      "model_module": "@jupyter-widgets/base",
      "model_module_version": "1.2.0",
      "model_name": "LayoutModel",
      "state": {}
     },
     "950a07a98b5d40cfb944ea9e8315a448": {
      "model_module": "@jupyter-widgets/base",
      "model_module_version": "1.2.0",
      "model_name": "LayoutModel",
      "state": {}
     },
     "957cd71d281544f6ad89a3e0ea855930": {
      "model_module": "@jupyter-widgets/controls",
      "model_module_version": "1.5.0",
      "model_name": "LinkModel",
      "state": {
       "source": [
        "IPY_MODEL_c0aa7d49770a4c5dbd58af0c5d419737",
        "value"
       ],
       "target": [
        "IPY_MODEL_12a763f92a0d4497a142d57b6919b67c",
        "value"
       ]
      }
     },
     "9653825182d74a84b405c8a35645121c": {
      "model_module": "@jupyter-widgets/controls",
      "model_module_version": "1.5.0",
      "model_name": "SliderStyleModel",
      "state": {
       "description_width": ""
      }
     },
     "96c0b055b4c0452db8913426f0a47ba4": {
      "model_module": "@jupyter-widgets/controls",
      "model_module_version": "1.5.0",
      "model_name": "DescriptionStyleModel",
      "state": {
       "description_width": ""
      }
     },
     "99b805c2a0144d31849fce4d65746d10": {
      "model_module": "@jupyter-widgets/base",
      "model_module_version": "1.2.0",
      "model_name": "LayoutModel",
      "state": {}
     },
     "9b21503505d04c768f9003ca9573d8a9": {
      "model_module": "@jupyter-widgets/base",
      "model_module_version": "1.2.0",
      "model_name": "LayoutModel",
      "state": {}
     },
     "9b57be62cf14469caec7cafd168f8ed7": {
      "model_module": "@jupyter-widgets/controls",
      "model_module_version": "1.5.0",
      "model_name": "DescriptionStyleModel",
      "state": {
       "description_width": ""
      }
     },
     "9bfc7fc2b6d6489a94b86a71ea4e39dd": {
      "model_module": "@jupyter-widgets/base",
      "model_module_version": "1.2.0",
      "model_name": "LayoutModel",
      "state": {}
     },
     "9c8121a5398b4e4597c03e1456723c55": {
      "model_module": "@jupyter-widgets/controls",
      "model_module_version": "1.5.0",
      "model_name": "PlayModel",
      "state": {
       "interval": 500,
       "layout": "IPY_MODEL_e88e93e19ec04c87865f802688097090",
       "min": 1,
       "style": "IPY_MODEL_2f50e5d4751f4361be0daf3846627ca6",
       "value": 8
      }
     },
     "9cc1625077584709a88770648f8e2335": {
      "model_module": "@jupyter-widgets/controls",
      "model_module_version": "1.5.0",
      "model_name": "IntSliderModel",
      "state": {
       "layout": "IPY_MODEL_60379ec4e7a047e38284df72a4874b42",
       "max": 49,
       "min": 1,
       "style": "IPY_MODEL_a1d62a20f70a46e1ad10750a4de7c9ab",
       "value": 1
      }
     },
     "9e6c1af01f4d423b86b824752f7d7a74": {
      "model_module": "@jupyter-widgets/base",
      "model_module_version": "1.2.0",
      "model_name": "LayoutModel",
      "state": {}
     },
     "9eaff4325dce41bdbdb08dc460c98b00": {
      "model_module": "@jupyter-widgets/base",
      "model_module_version": "1.2.0",
      "model_name": "LayoutModel",
      "state": {}
     },
     "9fd0bbf009e04b8ea046b4a95d33e2ee": {
      "model_module": "@jupyter-widgets/base",
      "model_module_version": "1.2.0",
      "model_name": "LayoutModel",
      "state": {}
     },
     "9ffde5664969422a96f31bcd82f6ca4d": {
      "model_module": "@jupyter-widgets/controls",
      "model_module_version": "1.5.0",
      "model_name": "DescriptionStyleModel",
      "state": {
       "description_width": ""
      }
     },
     "a0a444805e164a2a95b989bec7773833": {
      "model_module": "@jupyter-widgets/base",
      "model_module_version": "1.2.0",
      "model_name": "LayoutModel",
      "state": {}
     },
     "a116c27efb5a4d888f7981cffa478a0f": {
      "model_module": "@jupyter-widgets/base",
      "model_module_version": "1.2.0",
      "model_name": "LayoutModel",
      "state": {}
     },
     "a11a50af04f84a24b40850d9979ae74a": {
      "model_module": "@jupyter-widgets/base",
      "model_module_version": "1.2.0",
      "model_name": "LayoutModel",
      "state": {}
     },
     "a1d62a20f70a46e1ad10750a4de7c9ab": {
      "model_module": "@jupyter-widgets/controls",
      "model_module_version": "1.5.0",
      "model_name": "SliderStyleModel",
      "state": {
       "description_width": ""
      }
     },
     "a32c562f1f4a443e9494c6e851d757a3": {
      "model_module": "@jupyter-widgets/controls",
      "model_module_version": "1.5.0",
      "model_name": "IntSliderModel",
      "state": {
       "layout": "IPY_MODEL_9b21503505d04c768f9003ca9573d8a9",
       "max": 49,
       "min": 1,
       "style": "IPY_MODEL_be5463885f8940f7b9d6bd0664aedc3d",
       "value": 1
      }
     },
     "a36799c4e8e744dd86093a17e8c1eafd": {
      "model_module": "@jupyter-widgets/controls",
      "model_module_version": "1.5.0",
      "model_name": "VBoxModel",
      "state": {
       "children": [
        "IPY_MODEL_5ebb17b54836406288bda29694194d41",
        "IPY_MODEL_cc6e3ce1e1ee40cfbe3cc0c29b28f2d4"
       ],
       "layout": "IPY_MODEL_5a1ae91e11004d5c913ee2aee34225dc"
      }
     },
     "a3ecae38db0e4212b517c09cc99fc435": {
      "model_module": "@jupyter-widgets/base",
      "model_module_version": "1.2.0",
      "model_name": "LayoutModel",
      "state": {}
     },
     "a3f58def97504071a45e81d5c41f72d6": {
      "model_module": "@jupyter-widgets/controls",
      "model_module_version": "1.5.0",
      "model_name": "LinkModel",
      "state": {
       "source": [
        "IPY_MODEL_b46a869eb8864d708eab11957f3deae6",
        "value"
       ],
       "target": [
        "IPY_MODEL_88d5181e5a014d8c9817d1aa061b97a1",
        "value"
       ]
      }
     },
     "a61fd02ee2c54be1b3cbd79df9ef92d6": {
      "model_module": "@jupyter-widgets/base",
      "model_module_version": "1.2.0",
      "model_name": "LayoutModel",
      "state": {}
     },
     "a69c205ab0f2434daea9ed20c25bbbcf": {
      "model_module": "@jupyter-widgets/controls",
      "model_module_version": "1.5.0",
      "model_name": "IntSliderModel",
      "state": {
       "description": "timestep",
       "layout": "IPY_MODEL_5ae2e02dc8e0433cac881948dbe65b01",
       "max": 14,
       "style": "IPY_MODEL_d4fbba9350c241fd8da9d1b0683c717a",
       "value": 7
      }
     },
     "a82eccdf86644326a3bf785aec6a2bb0": {
      "model_module": "@jupyter-widgets/controls",
      "model_module_version": "1.5.0",
      "model_name": "VBoxModel",
      "state": {
       "children": [
        "IPY_MODEL_69ea8f19d79c428fa1dcd2e01fd478c5",
        "IPY_MODEL_7ea9d8f6b9f2404488df9cbb4929a7c8"
       ],
       "layout": "IPY_MODEL_84447aeff6bb4fe4a2622d474d354b2a"
      }
     },
     "a8369add432f40799ef45a0674bdc91a": {
      "model_module": "@jupyter-widgets/base",
      "model_module_version": "1.2.0",
      "model_name": "LayoutModel",
      "state": {}
     },
     "a87ded50208e4a31b28b44bfed23f06b": {
      "model_module": "@jupyter-widgets/controls",
      "model_module_version": "1.5.0",
      "model_name": "VBoxModel",
      "state": {
       "children": [
        "IPY_MODEL_c00642c3bdda4a8e907371b822f87d27",
        "IPY_MODEL_867a76f01d024c2696c98a2a2a27b95e"
       ],
       "layout": "IPY_MODEL_feb176aad55d46498da4ee0b3dc5865f"
      }
     },
     "a949fcfe3777441d94461f287c22be9b": {
      "model_module": "@jupyter-widgets/base",
      "model_module_version": "1.2.0",
      "model_name": "LayoutModel",
      "state": {}
     },
     "ad5721c4d53a4cac8077fd33cb7f5e4d": {
      "model_module": "@jupyter-widgets/controls",
      "model_module_version": "1.5.0",
      "model_name": "LinkModel",
      "state": {
       "source": [
        "IPY_MODEL_6ca60fed3e8548cfadb18875da255bb3",
        "value"
       ],
       "target": [
        "IPY_MODEL_8c4a6c08eecb476a9b9fa5076a94c5cd",
        "value"
       ]
      }
     },
     "afb77d4fe5544a23a257d27ef31d2225": {
      "model_module": "@jupyter-widgets/base",
      "model_module_version": "1.2.0",
      "model_name": "LayoutModel",
      "state": {}
     },
     "b46a869eb8864d708eab11957f3deae6": {
      "model_module": "@jupyter-widgets/controls",
      "model_module_version": "1.5.0",
      "model_name": "PlayModel",
      "state": {
       "interval": 500,
       "layout": "IPY_MODEL_cb56c52903974e10ac0b06c719ef0216",
       "min": 1,
       "style": "IPY_MODEL_15fc20cf216542739f628e4612fc623e",
       "value": 100
      }
     },
     "b478e1091a7c4c1ba5cfbcda34bce80d": {
      "model_module": "@jupyter-widgets/base",
      "model_module_version": "1.2.0",
      "model_name": "LayoutModel",
      "state": {}
     },
     "b5a6465e220d4bca9d14609c857056ec": {
      "model_module": "@jupyter-widgets/controls",
      "model_module_version": "1.5.0",
      "model_name": "LinkModel",
      "state": {
       "source": [
        "IPY_MODEL_f90ddba3f7404005aa1f43e3ba31f21b",
        "value"
       ],
       "target": [
        "IPY_MODEL_9cc1625077584709a88770648f8e2335",
        "value"
       ]
      }
     },
     "b85d0e804aae4a258fcc0f8a70224e11": {
      "model_module": "@jupyter-widgets/output",
      "model_module_version": "1.0.0",
      "model_name": "OutputModel",
      "state": {
       "layout": "IPY_MODEL_5a2ec4c5856946479694ca27f75b98c2"
      }
     },
     "b8ace946840a44929e21f9aa15b7cdc0": {
      "model_module": "@jupyter-widgets/base",
      "model_module_version": "1.2.0",
      "model_name": "LayoutModel",
      "state": {}
     },
     "b9f1f86df304477296d6b798cf50aa02": {
      "model_module": "@jupyter-widgets/controls",
      "model_module_version": "1.5.0",
      "model_name": "PlayModel",
      "state": {
       "interval": 300,
       "layout": "IPY_MODEL_9eaff4325dce41bdbdb08dc460c98b00",
       "min": 1,
       "style": "IPY_MODEL_8dc3d00c2cd54e218b4bf6fd8ad1b488",
       "value": 100
      }
     },
     "bbc5e8a3b65d4b29879cd859b3ed55bb": {
      "model_module": "@jupyter-widgets/controls",
      "model_module_version": "1.5.0",
      "model_name": "VBoxModel",
      "state": {
       "children": [
        "IPY_MODEL_74bfcbf937ec4008884662d73c9073fa",
        "IPY_MODEL_a32c562f1f4a443e9494c6e851d757a3"
       ],
       "layout": "IPY_MODEL_4b8bf88790054f6a884d11f339c63a40"
      }
     },
     "bcc064ba20594a9c8d88b254777fdd46": {
      "model_module": "@jupyter-widgets/base",
      "model_module_version": "1.2.0",
      "model_name": "LayoutModel",
      "state": {}
     },
     "be2073f00ff84da99f73bddc0fab78f3": {
      "model_module": "@jupyter-widgets/base",
      "model_module_version": "1.2.0",
      "model_name": "LayoutModel",
      "state": {}
     },
     "be5463885f8940f7b9d6bd0664aedc3d": {
      "model_module": "@jupyter-widgets/controls",
      "model_module_version": "1.5.0",
      "model_name": "SliderStyleModel",
      "state": {
       "description_width": ""
      }
     },
     "c00642c3bdda4a8e907371b822f87d27": {
      "model_module": "@jupyter-widgets/controls",
      "model_module_version": "1.5.0",
      "model_name": "PlayModel",
      "state": {
       "interval": 1000,
       "layout": "IPY_MODEL_5abe6261e6f24057ae741ec67143c215",
       "min": 1,
       "style": "IPY_MODEL_5cd80f4b81bf4cf5a78d708d202f163a",
       "value": 1
      }
     },
     "c0aa7d49770a4c5dbd58af0c5d419737": {
      "model_module": "@jupyter-widgets/controls",
      "model_module_version": "1.5.0",
      "model_name": "PlayModel",
      "state": {
       "interval": 500,
       "layout": "IPY_MODEL_a11a50af04f84a24b40850d9979ae74a",
       "min": 1,
       "style": "IPY_MODEL_9b57be62cf14469caec7cafd168f8ed7",
       "value": 100
      }
     },
     "c159d03f63624620957122f77213309d": {
      "model_module": "@jupyter-widgets/base",
      "model_module_version": "1.2.0",
      "model_name": "LayoutModel",
      "state": {}
     },
     "c38b76a7a5a749e4ab08610a621c5467": {
      "model_module": "@jupyter-widgets/base",
      "model_module_version": "1.2.0",
      "model_name": "LayoutModel",
      "state": {}
     },
     "c3afe4a448fc452495a8e1b6e1b2dbb6": {
      "model_module": "@jupyter-widgets/controls",
      "model_module_version": "1.5.0",
      "model_name": "DescriptionStyleModel",
      "state": {
       "description_width": ""
      }
     },
     "c40f5e7444534af1ae2aba4d8f73a9ee": {
      "model_module": "@jupyter-widgets/controls",
      "model_module_version": "1.5.0",
      "model_name": "PlayModel",
      "state": {
       "interval": 49,
       "layout": "IPY_MODEL_307782a04e72463bb42115181b2a31b1",
       "min": 1,
       "style": "IPY_MODEL_1b7e931fe23045c385e1713b98f6b02c",
       "value": 5
      }
     },
     "c43fc1a4739340c2874d37a292574a7c": {
      "model_module": "@jupyter-widgets/controls",
      "model_module_version": "1.5.0",
      "model_name": "SliderStyleModel",
      "state": {
       "description_width": ""
      }
     },
     "c554c48bdf014edcb2930035ca2b0601": {
      "model_module": "@jupyter-widgets/controls",
      "model_module_version": "1.5.0",
      "model_name": "IntSliderModel",
      "state": {
       "layout": "IPY_MODEL_068025a3e59b40cfb7c38806fd0828cd",
       "max": 14,
       "min": 1,
       "style": "IPY_MODEL_d5f57217e7fb46d7b4ede486f980e8a2",
       "value": 100
      }
     },
     "c6c5d281b57a49bbbf8828c204062eb3": {
      "model_module": "@jupyter-widgets/base",
      "model_module_version": "1.2.0",
      "model_name": "LayoutModel",
      "state": {}
     },
     "c9bf513cb5ef4605af748b1f15b47fba": {
      "model_module": "@jupyter-widgets/base",
      "model_module_version": "1.2.0",
      "model_name": "LayoutModel",
      "state": {}
     },
     "cb56c52903974e10ac0b06c719ef0216": {
      "model_module": "@jupyter-widgets/base",
      "model_module_version": "1.2.0",
      "model_name": "LayoutModel",
      "state": {}
     },
     "cba32987459441a8948ec3715e7aaf16": {
      "model_module": "@jupyter-widgets/base",
      "model_module_version": "1.2.0",
      "model_name": "LayoutModel",
      "state": {}
     },
     "cc6e3ce1e1ee40cfbe3cc0c29b28f2d4": {
      "model_module": "@jupyter-widgets/controls",
      "model_module_version": "1.5.0",
      "model_name": "IntSliderModel",
      "state": {
       "layout": "IPY_MODEL_847c5b67b961413f93102cf5bef9cdf5",
       "max": 49,
       "min": 1,
       "style": "IPY_MODEL_19c7075413ee4ea5a695552d6aea214a",
       "value": 1
      }
     },
     "ccf091fdcfc64566832baf6a16fb315f": {
      "model_module": "@jupyter-widgets/controls",
      "model_module_version": "1.5.0",
      "model_name": "IntSliderModel",
      "state": {
       "layout": "IPY_MODEL_be2073f00ff84da99f73bddc0fab78f3",
       "max": 49,
       "min": 1,
       "style": "IPY_MODEL_36b73045608e43cfa67cef869d764404",
       "value": 14
      }
     },
     "cdbccef4e1e14fea9d836a2c13bea84f": {
      "model_module": "@jupyter-widgets/base",
      "model_module_version": "1.2.0",
      "model_name": "LayoutModel",
      "state": {}
     },
     "cdd6ad3dacdb4adbae85a83f5617f305": {
      "model_module": "@jupyter-widgets/base",
      "model_module_version": "1.2.0",
      "model_name": "LayoutModel",
      "state": {}
     },
     "ceff27309e054284b8dcc1e602892ed0": {
      "model_module": "@jupyter-widgets/controls",
      "model_module_version": "1.5.0",
      "model_name": "VBoxModel",
      "state": {
       "children": [
        "IPY_MODEL_c40f5e7444534af1ae2aba4d8f73a9ee",
        "IPY_MODEL_651a568f9cf5497a947403580244ba47"
       ],
       "layout": "IPY_MODEL_233daea90d564f278c2d3730af426524"
      }
     },
     "cf3dd02fd4e94079a9f49daeb893d064": {
      "model_module": "@jupyter-widgets/controls",
      "model_module_version": "1.5.0",
      "model_name": "VBoxModel",
      "state": {
       "children": [
        "IPY_MODEL_851f861e11dc4f5aa8c7da29a7f1458d",
        "IPY_MODEL_c554c48bdf014edcb2930035ca2b0601"
       ],
       "layout": "IPY_MODEL_a116c27efb5a4d888f7981cffa478a0f"
      }
     },
     "cf511e1b1cd448ccb440810e7da13bcc": {
      "model_module": "@jupyter-widgets/base",
      "model_module_version": "1.2.0",
      "model_name": "LayoutModel",
      "state": {}
     },
     "d168d280cda94e9da7198d98c30ef6e1": {
      "model_module": "@jupyter-widgets/controls",
      "model_module_version": "1.5.0",
      "model_name": "SliderStyleModel",
      "state": {
       "description_width": ""
      }
     },
     "d1e3aef6acbe453899d61b720e5a92d6": {
      "model_module": "@jupyter-widgets/base",
      "model_module_version": "1.2.0",
      "model_name": "LayoutModel",
      "state": {}
     },
     "d2472da3b0f9497fb556e473e03a404a": {
      "model_module": "@jupyter-widgets/base",
      "model_module_version": "1.2.0",
      "model_name": "LayoutModel",
      "state": {}
     },
     "d413792c29254e94bd8010d580e36bbf": {
      "model_module": "@jupyter-widgets/controls",
      "model_module_version": "1.5.0",
      "model_name": "SliderStyleModel",
      "state": {
       "description_width": ""
      }
     },
     "d4365af283684eb4a8ffd0bad8992c39": {
      "model_module": "@jupyter-widgets/controls",
      "model_module_version": "1.5.0",
      "model_name": "VBoxModel",
      "state": {
       "children": [
        "IPY_MODEL_d725c694d5c0448f8366761bd4a6f225",
        "IPY_MODEL_203eb09e10a94e649b2db810695e52f4"
       ],
       "layout": "IPY_MODEL_9bfc7fc2b6d6489a94b86a71ea4e39dd"
      }
     },
     "d4609d8834e04ab2ab48479e88e55a58": {
      "model_module": "@jupyter-widgets/base",
      "model_module_version": "1.2.0",
      "model_name": "LayoutModel",
      "state": {}
     },
     "d4fbba9350c241fd8da9d1b0683c717a": {
      "model_module": "@jupyter-widgets/controls",
      "model_module_version": "1.5.0",
      "model_name": "SliderStyleModel",
      "state": {
       "description_width": ""
      }
     },
     "d5590832e7ee4ecdac5e08ee239b1e06": {
      "model_module": "@jupyter-widgets/controls",
      "model_module_version": "1.5.0",
      "model_name": "SliderStyleModel",
      "state": {
       "description_width": ""
      }
     },
     "d5f57217e7fb46d7b4ede486f980e8a2": {
      "model_module": "@jupyter-widgets/controls",
      "model_module_version": "1.5.0",
      "model_name": "SliderStyleModel",
      "state": {
       "description_width": ""
      }
     },
     "d66cc8c2add04244aca2c60999302369": {
      "model_module": "@jupyter-widgets/controls",
      "model_module_version": "1.5.0",
      "model_name": "VBoxModel",
      "state": {
       "children": [
        "IPY_MODEL_36d5799c6aed468fa996960aaa7c7493",
        "IPY_MODEL_42f40d1570454ce3ac8d1327f15eebea"
       ],
       "layout": "IPY_MODEL_6a89089153c24c8687faa720f2d84b93"
      }
     },
     "d6cbc6a88ba94fde830221ea8b6cba5a": {
      "model_module": "@jupyter-widgets/controls",
      "model_module_version": "1.5.0",
      "model_name": "SliderStyleModel",
      "state": {
       "description_width": ""
      }
     },
     "d725c694d5c0448f8366761bd4a6f225": {
      "model_module": "@jupyter-widgets/controls",
      "model_module_version": "1.5.0",
      "model_name": "PlayModel",
      "state": {
       "interval": 1000,
       "layout": "IPY_MODEL_5928e8ae503540868d12d94fedd71dda",
       "min": 1,
       "style": "IPY_MODEL_c3afe4a448fc452495a8e1b6e1b2dbb6",
       "value": 18
      }
     },
     "d84b849a8de5415bbccbcd40878e0e51": {
      "model_module": "@jupyter-widgets/controls",
      "model_module_version": "1.5.0",
      "model_name": "SliderStyleModel",
      "state": {
       "description_width": ""
      }
     },
     "da194ba0933b48529f5be949ca406377": {
      "model_module": "@jupyter-widgets/base",
      "model_module_version": "1.2.0",
      "model_name": "LayoutModel",
      "state": {}
     },
     "dfe94442f7284d8a8edabc32aa688c57": {
      "model_module": "@jupyter-widgets/controls",
      "model_module_version": "1.5.0",
      "model_name": "SliderStyleModel",
      "state": {
       "description_width": ""
      }
     },
     "e0ad4dceb76449c4b5363fc0dc71950c": {
      "model_module": "@jupyter-widgets/controls",
      "model_module_version": "1.5.0",
      "model_name": "LinkModel",
      "state": {
       "source": [
        "IPY_MODEL_6700248decd14e06a21b7b224b3e73f7",
        "value"
       ],
       "target": [
        "IPY_MODEL_ccf091fdcfc64566832baf6a16fb315f",
        "value"
       ]
      }
     },
     "e2ed718b0ca24bb8876338c61275874e": {
      "model_module": "@jupyter-widgets/controls",
      "model_module_version": "1.5.0",
      "model_name": "DescriptionStyleModel",
      "state": {
       "description_width": ""
      }
     },
     "e3ddd647b1704639b33f0931c2710a4e": {
      "model_module": "@jupyter-widgets/controls",
      "model_module_version": "1.5.0",
      "model_name": "VBoxModel",
      "state": {
       "children": [
        "IPY_MODEL_90a05fc2c083438ab03437482b6cd390",
        "IPY_MODEL_4300d005e9854e9c9f36e64469bb7e11"
       ],
       "layout": "IPY_MODEL_d4609d8834e04ab2ab48479e88e55a58"
      }
     },
     "e51b297e19b243d4a56431fe70c0690f": {
      "model_module": "@jupyter-widgets/controls",
      "model_module_version": "1.5.0",
      "model_name": "VBoxModel",
      "state": {
       "children": [
        "IPY_MODEL_6ca60fed3e8548cfadb18875da255bb3",
        "IPY_MODEL_8c4a6c08eecb476a9b9fa5076a94c5cd"
       ],
       "layout": "IPY_MODEL_a61fd02ee2c54be1b3cbd79df9ef92d6"
      }
     },
     "e541c9408b364de9b8ca466cbae8aee0": {
      "model_module": "@jupyter-widgets/controls",
      "model_module_version": "1.5.0",
      "model_name": "VBoxModel",
      "state": {
       "children": [
        "IPY_MODEL_f90ddba3f7404005aa1f43e3ba31f21b",
        "IPY_MODEL_9cc1625077584709a88770648f8e2335"
       ],
       "layout": "IPY_MODEL_f4258931adfa4977b00ff504ceb4eb0f"
      }
     },
     "e88e93e19ec04c87865f802688097090": {
      "model_module": "@jupyter-widgets/base",
      "model_module_version": "1.2.0",
      "model_name": "LayoutModel",
      "state": {}
     },
     "ec331978ce9b4f4c9a0f00578b7a4ef7": {
      "model_module": "@jupyter-widgets/controls",
      "model_module_version": "1.5.0",
      "model_name": "IntSliderModel",
      "state": {
       "description": "timestep",
       "layout": "IPY_MODEL_d1e3aef6acbe453899d61b720e5a92d6",
       "max": 14,
       "style": "IPY_MODEL_8fa7cd03684b413187ea3bb3cbfe75a7",
       "value": 7
      }
     },
     "ee36997568954e41885387cabbe29d6a": {
      "model_module": "@jupyter-widgets/base",
      "model_module_version": "1.2.0",
      "model_name": "LayoutModel",
      "state": {}
     },
     "eee4ba0a606f4d919477b41c220df12f": {
      "model_module": "@jupyter-widgets/controls",
      "model_module_version": "1.5.0",
      "model_name": "SliderStyleModel",
      "state": {
       "description_width": ""
      }
     },
     "ef1f8c53f21c4b7c97df157b419994b9": {
      "model_module": "@jupyter-widgets/controls",
      "model_module_version": "1.5.0",
      "model_name": "LinkModel",
      "state": {
       "source": [
        "IPY_MODEL_9c8121a5398b4e4597c03e1456723c55",
        "value"
       ],
       "target": [
        "IPY_MODEL_fa95b56b0fd44b3e824addaf8f818743",
        "value"
       ]
      }
     },
     "f1787ab740f345d19f568d7ac5fdb432": {
      "model_module": "@jupyter-widgets/base",
      "model_module_version": "1.2.0",
      "model_name": "LayoutModel",
      "state": {}
     },
     "f19ae5f338ae4e2fa7925f6745488878": {
      "model_module": "@jupyter-widgets/base",
      "model_module_version": "1.2.0",
      "model_name": "LayoutModel",
      "state": {}
     },
     "f2e87c45ddfa4aaabcd8d4e1e623b500": {
      "model_module": "@jupyter-widgets/controls",
      "model_module_version": "1.5.0",
      "model_name": "DescriptionStyleModel",
      "state": {
       "description_width": ""
      }
     },
     "f4258931adfa4977b00ff504ceb4eb0f": {
      "model_module": "@jupyter-widgets/base",
      "model_module_version": "1.2.0",
      "model_name": "LayoutModel",
      "state": {}
     },
     "f44dcaf5ef894b7c9e1ababd1a1bfabc": {
      "model_module": "@jupyter-widgets/controls",
      "model_module_version": "1.5.0",
      "model_name": "IntSliderModel",
      "state": {
       "description": "timestep",
       "layout": "IPY_MODEL_cba32987459441a8948ec3715e7aaf16",
       "max": 49,
       "style": "IPY_MODEL_5a5ab206c5e44ccc9bb66edee98c1169"
      }
     },
     "f4c053ae387a4777accfcb3ca72a2bab": {
      "model_module": "@jupyter-widgets/base",
      "model_module_version": "1.2.0",
      "model_name": "LayoutModel",
      "state": {}
     },
     "f53067e7b1ca439f864a73f269ea8ae0": {
      "model_module": "@jupyter-widgets/base",
      "model_module_version": "1.2.0",
      "model_name": "LayoutModel",
      "state": {}
     },
     "f5557fedda1c41a59c6db82bfc5f7ea4": {
      "model_module": "@jupyter-widgets/base",
      "model_module_version": "1.2.0",
      "model_name": "LayoutModel",
      "state": {}
     },
     "f6665cdb7150447cbcb39773a101b19c": {
      "model_module": "@jupyter-widgets/controls",
      "model_module_version": "1.5.0",
      "model_name": "LinkModel",
      "state": {
       "source": [
        "IPY_MODEL_c40f5e7444534af1ae2aba4d8f73a9ee",
        "value"
       ],
       "target": [
        "IPY_MODEL_651a568f9cf5497a947403580244ba47",
        "value"
       ]
      }
     },
     "f75e937f05a44d13b1bc95852a1f990b": {
      "model_module": "@jupyter-widgets/base",
      "model_module_version": "1.2.0",
      "model_name": "LayoutModel",
      "state": {}
     },
     "f7c499e22cd9462a9c11a9c8404b1efd": {
      "model_module": "@jupyter-widgets/base",
      "model_module_version": "1.2.0",
      "model_name": "LayoutModel",
      "state": {}
     },
     "f846270746204e8abe73c686d131d894": {
      "model_module": "@jupyter-widgets/controls",
      "model_module_version": "1.5.0",
      "model_name": "VBoxModel",
      "state": {
       "children": [
        "IPY_MODEL_c0aa7d49770a4c5dbd58af0c5d419737",
        "IPY_MODEL_12a763f92a0d4497a142d57b6919b67c"
       ],
       "layout": "IPY_MODEL_75fb258a84f545e7949c271c8655e957"
      }
     },
     "f90ddba3f7404005aa1f43e3ba31f21b": {
      "model_module": "@jupyter-widgets/controls",
      "model_module_version": "1.5.0",
      "model_name": "PlayModel",
      "state": {
       "interval": 500,
       "layout": "IPY_MODEL_99b805c2a0144d31849fce4d65746d10",
       "min": 1,
       "style": "IPY_MODEL_54b89a7b641c436bb2617f1a6278b314",
       "value": 1
      }
     },
     "f9dd6140df4d408ea0cd6310875c793b": {
      "model_module": "@jupyter-widgets/controls",
      "model_module_version": "1.5.0",
      "model_name": "LinkModel",
      "state": {
       "source": [
        "IPY_MODEL_5ebb17b54836406288bda29694194d41",
        "value"
       ],
       "target": [
        "IPY_MODEL_cc6e3ce1e1ee40cfbe3cc0c29b28f2d4",
        "value"
       ]
      }
     },
     "fa28aeb9fb9949d2ad4dc3bcecf42da1": {
      "model_module": "@jupyter-widgets/controls",
      "model_module_version": "1.5.0",
      "model_name": "VBoxModel",
      "state": {
       "_dom_classes": [
        "widget-interact"
       ],
       "children": [
        "IPY_MODEL_f44dcaf5ef894b7c9e1ababd1a1bfabc",
        "IPY_MODEL_b85d0e804aae4a258fcc0f8a70224e11"
       ],
       "layout": "IPY_MODEL_75a4851cbe7a4f4e97c526e46ef913f1"
      }
     },
     "fa95b56b0fd44b3e824addaf8f818743": {
      "model_module": "@jupyter-widgets/controls",
      "model_module_version": "1.5.0",
      "model_name": "IntSliderModel",
      "state": {
       "layout": "IPY_MODEL_bcc064ba20594a9c8d88b254777fdd46",
       "max": 49,
       "min": 1,
       "style": "IPY_MODEL_03ef88295e5741f6a1a04ce029bca410",
       "value": 8
      }
     },
     "fd5e5a4ca31e410bb0d3cb46473306ce": {
      "model_module": "@jupyter-widgets/base",
      "model_module_version": "1.2.0",
      "model_name": "LayoutModel",
      "state": {}
     },
     "feb176aad55d46498da4ee0b3dc5865f": {
      "model_module": "@jupyter-widgets/base",
      "model_module_version": "1.2.0",
      "model_name": "LayoutModel",
      "state": {}
     }
    },
    "version_major": 2,
    "version_minor": 0
   }
  }
 },
 "nbformat": 4,
 "nbformat_minor": 4
}
